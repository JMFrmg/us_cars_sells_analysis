{
 "cells": [
  {
   "cell_type": "markdown",
   "metadata": {},
   "source": [
    "# EXERCONS NOUS SUR LE PRE-PROCESSING"
   ]
  },
  {
   "cell_type": "markdown",
   "metadata": {
    "id": "1ivPDcc7p8lD"
   },
   "source": [
    "# 1. Décrire son  jeu de données"
   ]
  },
  {
   "cell_type": "code",
   "execution_count": 78,
   "metadata": {
    "id": "4YdCraz8p_XF"
   },
   "outputs": [],
   "source": [
    "# importer les librairies numpy et pandas. \n",
    "import pandas as pd\n",
    "import numpy as np"
   ]
  },
  {
   "cell_type": "code",
   "execution_count": 79,
   "metadata": {
    "id": "jHc9-dmUqX48"
   },
   "outputs": [],
   "source": [
    "# Lire le fichier csv dans un dataframe \n",
    "df = pd.read_csv(\"C:/Users/barba/Desktop/client/CEFIM/analyse_de_donnée/code/données/valeurs_manquante_exo.csv\", encoding = \"ISO-8859-1\", delimiter = \";\")"
   ]
  },
  {
   "cell_type": "code",
   "execution_count": 80,
   "metadata": {
    "id": "jHc9-dmUqX48"
   },
   "outputs": [
    {
     "data": {
      "text/html": [
       "<div>\n",
       "<style scoped>\n",
       "    .dataframe tbody tr th:only-of-type {\n",
       "        vertical-align: middle;\n",
       "    }\n",
       "\n",
       "    .dataframe tbody tr th {\n",
       "        vertical-align: top;\n",
       "    }\n",
       "\n",
       "    .dataframe thead th {\n",
       "        text-align: right;\n",
       "    }\n",
       "</style>\n",
       "<table border=\"1\" class=\"dataframe\">\n",
       "  <thead>\n",
       "    <tr style=\"text-align: right;\">\n",
       "      <th></th>\n",
       "      <th>ID</th>\n",
       "      <th>numero_rue</th>\n",
       "      <th>adresse</th>\n",
       "      <th>code_postale</th>\n",
       "      <th>ville</th>\n",
       "      <th>occupation_des_locaux</th>\n",
       "      <th>nombre_de_piece</th>\n",
       "      <th>salle_deau</th>\n",
       "      <th>prix</th>\n",
       "    </tr>\n",
       "  </thead>\n",
       "  <tbody>\n",
       "    <tr>\n",
       "      <th>0</th>\n",
       "      <td>100001000.0</td>\n",
       "      <td>104.0</td>\n",
       "      <td>rue de la forêt noire</td>\n",
       "      <td>69000</td>\n",
       "      <td>LYON</td>\n",
       "      <td>Y</td>\n",
       "      <td>3</td>\n",
       "      <td>1</td>\n",
       "      <td>1000</td>\n",
       "    </tr>\n",
       "    <tr>\n",
       "      <th>1</th>\n",
       "      <td>100002000.0</td>\n",
       "      <td>197.0</td>\n",
       "      <td>rue de bonnel</td>\n",
       "      <td>69350</td>\n",
       "      <td>VILLEURBANNE</td>\n",
       "      <td>N</td>\n",
       "      <td>3</td>\n",
       "      <td>1.5</td>\n",
       "      <td>--</td>\n",
       "    </tr>\n",
       "    <tr>\n",
       "      <th>2</th>\n",
       "      <td>100003000.0</td>\n",
       "      <td>NaN</td>\n",
       "      <td>rue de la guillotière</td>\n",
       "      <td>69210</td>\n",
       "      <td>VENISSIEUX</td>\n",
       "      <td>N</td>\n",
       "      <td>NaN</td>\n",
       "      <td>1</td>\n",
       "      <td>850</td>\n",
       "    </tr>\n",
       "    <tr>\n",
       "      <th>3</th>\n",
       "      <td>100004000.0</td>\n",
       "      <td>201.0</td>\n",
       "      <td>impasse auguste rodin</td>\n",
       "      <td>69350</td>\n",
       "      <td>VILLEURBANNE</td>\n",
       "      <td>12</td>\n",
       "      <td>1</td>\n",
       "      <td>NaN</td>\n",
       "      <td>700</td>\n",
       "    </tr>\n",
       "    <tr>\n",
       "      <th>4</th>\n",
       "      <td>NaN</td>\n",
       "      <td>203.0</td>\n",
       "      <td>rue pliesse</td>\n",
       "      <td>6935</td>\n",
       "      <td>VILLEURBANNE</td>\n",
       "      <td>Y</td>\n",
       "      <td>3</td>\n",
       "      <td>2</td>\n",
       "      <td>1600</td>\n",
       "    </tr>\n",
       "    <tr>\n",
       "      <th>5</th>\n",
       "      <td>100006000.0</td>\n",
       "      <td>207.0</td>\n",
       "      <td>avenue charles de gaulles</td>\n",
       "      <td>69000</td>\n",
       "      <td>LYON</td>\n",
       "      <td>Y</td>\n",
       "      <td>NaN</td>\n",
       "      <td>1</td>\n",
       "      <td>800</td>\n",
       "    </tr>\n",
       "    <tr>\n",
       "      <th>6</th>\n",
       "      <td>100007000.0</td>\n",
       "      <td>NaN</td>\n",
       "      <td>avenue de la rotonde</td>\n",
       "      <td>69210</td>\n",
       "      <td>VENISSIEUX</td>\n",
       "      <td>NaN</td>\n",
       "      <td>2</td>\n",
       "      <td>VENISSIEUX</td>\n",
       "      <td>950</td>\n",
       "    </tr>\n",
       "    <tr>\n",
       "      <th>7</th>\n",
       "      <td>100008000.0</td>\n",
       "      <td>213.0</td>\n",
       "      <td>rue de la cornouillère</td>\n",
       "      <td>69100</td>\n",
       "      <td>BRON</td>\n",
       "      <td>Y</td>\n",
       "      <td>--</td>\n",
       "      <td>1</td>\n",
       "      <td>NaN</td>\n",
       "    </tr>\n",
       "    <tr>\n",
       "      <th>8</th>\n",
       "      <td>100009000.0</td>\n",
       "      <td>215.0</td>\n",
       "      <td>rue du général rapp</td>\n",
       "      <td>69100</td>\n",
       "      <td>BRON</td>\n",
       "      <td>Y</td>\n",
       "      <td>na</td>\n",
       "      <td>2</td>\n",
       "      <td>1800</td>\n",
       "    </tr>\n",
       "  </tbody>\n",
       "</table>\n",
       "</div>"
      ],
      "text/plain": [
       "            ID  numero_rue                    adresse  code_postale  \\\n",
       "0  100001000.0       104.0      rue de la forêt noire         69000   \n",
       "1  100002000.0       197.0              rue de bonnel         69350   \n",
       "2  100003000.0         NaN      rue de la guillotière         69210   \n",
       "3  100004000.0       201.0      impasse auguste rodin         69350   \n",
       "4          NaN       203.0                rue pliesse          6935   \n",
       "5  100006000.0       207.0  avenue charles de gaulles         69000   \n",
       "6  100007000.0         NaN       avenue de la rotonde         69210   \n",
       "7  100008000.0       213.0     rue de la cornouillère         69100   \n",
       "8  100009000.0       215.0        rue du général rapp         69100   \n",
       "\n",
       "          ville occupation_des_locaux nombre_de_piece  salle_deau  prix  \n",
       "0          LYON                     Y               3           1  1000  \n",
       "1  VILLEURBANNE                     N               3         1.5    --  \n",
       "2    VENISSIEUX                     N             NaN           1   850  \n",
       "3  VILLEURBANNE                    12               1         NaN   700  \n",
       "4  VILLEURBANNE                     Y               3           2  1600  \n",
       "5          LYON                     Y             NaN           1   800  \n",
       "6    VENISSIEUX                   NaN               2  VENISSIEUX   950  \n",
       "7          BRON                     Y              --           1   NaN  \n",
       "8          BRON                     Y              na           2  1800  "
      ]
     },
     "execution_count": 80,
     "metadata": {},
     "output_type": "execute_result"
    }
   ],
   "source": [
    "# Afficher les premières lignes\n",
    "#De quoi s'agit-il?\n",
    "df.head(10)\n"
   ]
  },
  {
   "cell_type": "code",
   "execution_count": 81,
   "metadata": {
    "id": "MU5GA6-EsjJt"
   },
   "outputs": [
    {
     "name": "stdout",
     "output_type": "stream",
     "text": [
      "9\n",
      "(9, 9)\n"
     ]
    },
    {
     "data": {
      "text/plain": [
       "Index(['ID', 'numero_rue', 'adresse', 'code_postale', 'ville',\n",
       "       'occupation_des_locaux', 'nombre_de_piece', 'salle_deau', 'prix'],\n",
       "      dtype='object')"
      ]
     },
     "execution_count": 81,
     "metadata": {},
     "output_type": "execute_result"
    }
   ],
   "source": [
    "#Combien y a t-il de variables ?\n",
    "print(len(df.columns))\n",
    "print(df.shape)\n",
    "# affichez le nom des colonnes\n",
    "df.columns"
   ]
  },
  {
   "cell_type": "code",
   "execution_count": 82,
   "metadata": {
    "id": "flWWE-6YqX7Z"
   },
   "outputs": [
    {
     "data": {
      "text/html": [
       "<div>\n",
       "<style scoped>\n",
       "    .dataframe tbody tr th:only-of-type {\n",
       "        vertical-align: middle;\n",
       "    }\n",
       "\n",
       "    .dataframe tbody tr th {\n",
       "        vertical-align: top;\n",
       "    }\n",
       "\n",
       "    .dataframe thead th {\n",
       "        text-align: right;\n",
       "    }\n",
       "</style>\n",
       "<table border=\"1\" class=\"dataframe\">\n",
       "  <thead>\n",
       "    <tr style=\"text-align: right;\">\n",
       "      <th></th>\n",
       "      <th>ID</th>\n",
       "      <th>numero_rue</th>\n",
       "      <th>adresse</th>\n",
       "      <th>code_postale</th>\n",
       "      <th>ville</th>\n",
       "      <th>occupation_des_locaux</th>\n",
       "      <th>nombre_de_piece</th>\n",
       "      <th>salle_deau</th>\n",
       "      <th>prix</th>\n",
       "    </tr>\n",
       "  </thead>\n",
       "  <tbody>\n",
       "    <tr>\n",
       "      <th>7</th>\n",
       "      <td>100008000.0</td>\n",
       "      <td>213.0</td>\n",
       "      <td>rue de la cornouillère</td>\n",
       "      <td>69100</td>\n",
       "      <td>BRON</td>\n",
       "      <td>Y</td>\n",
       "      <td>--</td>\n",
       "      <td>1</td>\n",
       "      <td>NaN</td>\n",
       "    </tr>\n",
       "    <tr>\n",
       "      <th>8</th>\n",
       "      <td>100009000.0</td>\n",
       "      <td>215.0</td>\n",
       "      <td>rue du général rapp</td>\n",
       "      <td>69100</td>\n",
       "      <td>BRON</td>\n",
       "      <td>Y</td>\n",
       "      <td>na</td>\n",
       "      <td>2</td>\n",
       "      <td>1800</td>\n",
       "    </tr>\n",
       "  </tbody>\n",
       "</table>\n",
       "</div>"
      ],
      "text/plain": [
       "            ID  numero_rue                 adresse  code_postale ville  \\\n",
       "7  100008000.0       213.0  rue de la cornouillère         69100  BRON   \n",
       "8  100009000.0       215.0     rue du général rapp         69100  BRON   \n",
       "\n",
       "  occupation_des_locaux nombre_de_piece salle_deau  prix  \n",
       "7                     Y              --          1   NaN  \n",
       "8                     Y              na          2  1800  "
      ]
     },
     "execution_count": 82,
     "metadata": {},
     "output_type": "execute_result"
    }
   ],
   "source": [
    "# affichez les 2 dernières lignes \n",
    "df.tail(2)"
   ]
  },
  {
   "cell_type": "code",
   "execution_count": 83,
   "metadata": {
    "id": "U4Fq06XwqX9v"
   },
   "outputs": [
    {
     "name": "stdout",
     "output_type": "stream",
     "text": [
      "<class 'pandas.core.frame.DataFrame'>\n",
      "RangeIndex: 9 entries, 0 to 8\n",
      "Data columns (total 9 columns):\n",
      " #   Column                 Non-Null Count  Dtype  \n",
      "---  ------                 --------------  -----  \n",
      " 0   ID                     8 non-null      float64\n",
      " 1   numero_rue             7 non-null      float64\n",
      " 2   adresse                9 non-null      object \n",
      " 3   code_postale           9 non-null      int64  \n",
      " 4   ville                  9 non-null      object \n",
      " 5   occupation_des_locaux  8 non-null      object \n",
      " 6   nombre_de_piece        7 non-null      object \n",
      " 7   salle_deau             8 non-null      object \n",
      " 8   prix                   8 non-null      object \n",
      "dtypes: float64(2), int64(1), object(6)\n",
      "memory usage: 776.0+ bytes\n"
     ]
    }
   ],
   "source": [
    "# Combien y a t-il de variables qualitatives ? Quantitatives ? sont-elles ordinales ? \n",
    "# en utilisant info() que remarquez vous?\n",
    "df.info()"
   ]
  },
  {
   "cell_type": "markdown",
   "metadata": {
    "id": "d06IyHT9uffC"
   },
   "source": [
    "# 2.  repérer les données manquantes standards"
   ]
  },
  {
   "cell_type": "code",
   "execution_count": 84,
   "metadata": {
    "id": "lHB4RP5luJwF"
   },
   "outputs": [],
   "source": [
    "#ouvrez sous excel votre fichier et regardez la colonne numero_rue\n",
    "#Quelles sont les valeurs nulles? "
   ]
  },
  {
   "cell_type": "markdown",
   "metadata": {},
   "source": [
    "il y a une cellule vide et une cellule NA"
   ]
  },
  {
   "cell_type": "code",
   "execution_count": 85,
   "metadata": {
    "id": "lHB4RP5luJwF"
   },
   "outputs": [
    {
     "data": {
      "text/plain": [
       "0    104.0\n",
       "1    197.0\n",
       "2      NaN\n",
       "3    201.0\n",
       "4    203.0\n",
       "5    207.0\n",
       "6      NaN\n",
       "7    213.0\n",
       "8    215.0\n",
       "Name: numero_rue, dtype: float64"
      ]
     },
     "execution_count": 85,
     "metadata": {},
     "output_type": "execute_result"
    }
   ],
   "source": [
    "# Affichez maintenant la colonne numero_rue avec pandas\n",
    "# comment les valeurs nulles sont elles écrites ?\n",
    "df['numero_rue']"
   ]
  },
  {
   "cell_type": "code",
   "execution_count": 86,
   "metadata": {
    "id": "lHB4RP5luJwF"
   },
   "outputs": [
    {
     "name": "stdout",
     "output_type": "stream",
     "text": [
      "0    False\n",
      "1    False\n",
      "2     True\n",
      "3    False\n",
      "4    False\n",
      "5    False\n",
      "6     True\n",
      "7    False\n",
      "8    False\n",
      "Name: numero_rue, dtype: bool\n",
      "2\n"
     ]
    }
   ],
   "source": [
    "# affichez  les valeurs nulles de la colonne numero_rue, combien y en a t-il?est ce cohérent? \n",
    "print(df['numero_rue'].isnull())\n",
    "print(df['numero_rue'].isnull().sum())"
   ]
  },
  {
   "cell_type": "markdown",
   "metadata": {
    "id": "OqdhTgIfuoTy"
   },
   "source": [
    "il y en a bien 2, pandas a bien reconnu les cellules vides et NA comme nulle"
   ]
  },
  {
   "cell_type": "markdown",
   "metadata": {
    "id": "usUtfW0WuuBb"
   },
   "source": [
    "# 3.  repérer les données manquantes non standart"
   ]
  },
  {
   "cell_type": "code",
   "execution_count": 87,
   "metadata": {
    "id": "wI7pvcR01NbV"
   },
   "outputs": [],
   "source": [
    "# concentrons nous maintenant sur la colonne 'nombre_de_piece'\n",
    "#ouvrez le fichier sous excel et regardez les valeurs manquantes de cette colonne. Quelles sont-elles? "
   ]
  },
  {
   "cell_type": "markdown",
   "metadata": {},
   "source": [
    "Il y a 4 valeurs manquantes : \n",
    "- n / a\n",
    "- NA\n",
    "- —\n",
    "- na"
   ]
  },
  {
   "cell_type": "code",
   "execution_count": 88,
   "metadata": {
    "id": "kw_260rpuxzc"
   },
   "outputs": [
    {
     "data": {
      "text/plain": [
       "0      3\n",
       "1      3\n",
       "2    NaN\n",
       "3      1\n",
       "4      3\n",
       "5    NaN\n",
       "6      2\n",
       "7     --\n",
       "8     na\n",
       "Name: nombre_de_piece, dtype: object"
      ]
     },
     "execution_count": 88,
     "metadata": {},
     "output_type": "execute_result"
    }
   ],
   "source": [
    "# Affichez maintenant la colonne sous pandas.\n",
    "df['nombre_de_piece']"
   ]
  },
  {
   "cell_type": "code",
   "execution_count": 89,
   "metadata": {
    "id": "kw_260rpuxzc"
   },
   "outputs": [
    {
     "name": "stdout",
     "output_type": "stream",
     "text": [
      "2\n"
     ]
    }
   ],
   "source": [
    "#affichez les valeurs nulles . Que remarquez vous ?\n",
    "print(df['nombre_de_piece'].isnull().sum())"
   ]
  },
  {
   "cell_type": "markdown",
   "metadata": {
    "id": "kw_260rpuxzc"
   },
   "source": [
    "Pandas a reconnu le « NAN » et \"NA\" comme des valeurs manquantes.  les autres types ne sont pas reconnus,\n",
    "il les prend pour des valeurs cohérentes de la colonne du nombre de pièce"
   ]
  },
  {
   "cell_type": "markdown",
   "metadata": {
    "id": "uudZyadKux12"
   },
   "source": [
    "Pour parer à ce genre de problème on peut faire dès le début une liste de format correspondant aux valeurs manquantes"
   ]
  },
  {
   "cell_type": "code",
   "execution_count": 90,
   "metadata": {
    "id": "wLyH7CnC4Vjj"
   },
   "outputs": [],
   "source": [
    "#faites une liste de tous les formats non reconnus que vous avez rencontré dans le dataset\n",
    "missing_values = [\"n/a\", \"na\", \"--\"]\n",
    "# maintenant réouvrons le fichier\n",
    "df = pd.read_csv(\"C:/Users/barba/Desktop/client/CEFIM/analyse_de_donnée/code/données/valeurs_manquante_exo.csv\", encoding = \"ISO-8859-1\", delimiter = \";\", na_values = missing_values)"
   ]
  },
  {
   "cell_type": "code",
   "execution_count": 91,
   "metadata": {},
   "outputs": [
    {
     "name": "stdout",
     "output_type": "stream",
     "text": [
      "nbr de valeurs manquantes:  4\n"
     ]
    },
    {
     "data": {
      "text/plain": [
       "0    3.0\n",
       "1    3.0\n",
       "2    NaN\n",
       "3    1.0\n",
       "4    3.0\n",
       "5    NaN\n",
       "6    2.0\n",
       "7    NaN\n",
       "8    NaN\n",
       "Name: nombre_de_piece, dtype: float64"
      ]
     },
     "execution_count": 91,
     "metadata": {},
     "output_type": "execute_result"
    }
   ],
   "source": [
    "#vérifiez si toutes les valeurs nulles sont reconnues\n",
    "valeurs_manquantes = df['nombre_de_piece'].isnull().sum()\n",
    "print('nbr de valeurs manquantes: ', valeurs_manquantes )\n",
    "df['nombre_de_piece']"
   ]
  },
  {
   "cell_type": "markdown",
   "metadata": {
    "id": "3-5RHcLDu1wL"
   },
   "source": [
    "# 4. repérer les valeurs erronées"
   ]
  },
  {
   "cell_type": "code",
   "execution_count": 92,
   "metadata": {
    "id": "w6Vs9IxC14kV"
   },
   "outputs": [
    {
     "data": {
      "text/plain": [
       "0      Y\n",
       "1      N\n",
       "2      N\n",
       "3     12\n",
       "4      Y\n",
       "5      Y\n",
       "6    NaN\n",
       "7      Y\n",
       "8      Y\n",
       "Name: occupation_des_locaux, dtype: object"
      ]
     },
     "execution_count": 92,
     "metadata": {},
     "output_type": "execute_result"
    }
   ],
   "source": [
    "#affichez la colonne 'occupation_des_locaux'.\n",
    "df['occupation_des_locaux']"
   ]
  },
  {
   "cell_type": "code",
   "execution_count": 93,
   "metadata": {
    "id": "w6Vs9IxC14kV"
   },
   "outputs": [
    {
     "data": {
      "text/plain": [
       "occupation_des_locaux\n",
       "Y     5\n",
       "N     2\n",
       "12    1\n",
       "Name: count, dtype: int64"
      ]
     },
     "execution_count": 93,
     "metadata": {},
     "output_type": "execute_result"
    }
   ],
   "source": [
    "# Y a t-il des valeurs nulles ? \n",
    "#Quelles sont les valeurs attendues et quel est l'effectif de chacune ? \n",
    "df['occupation_des_locaux'].value_counts()"
   ]
  },
  {
   "cell_type": "code",
   "execution_count": 94,
   "metadata": {
    "id": "w6Vs9IxC14kV"
   },
   "outputs": [
    {
     "data": {
      "text/plain": [
       "1"
      ]
     },
     "execution_count": 94,
     "metadata": {},
     "output_type": "execute_result"
    }
   ],
   "source": [
    "df['occupation_des_locaux'].isnull().sum()"
   ]
  },
  {
   "cell_type": "markdown",
   "metadata": {
    "id": "X8HedZiGux37"
   },
   "source": [
    "on remarque qu'une des valeurs est numérique , alors qu'elle devrait être comptée comme une valeur nulle\n",
    "ce genre de problème peut être fréquent et il est nécessaire de pouvoir le détecter \n",
    "On peut alors créer une fonction qui va permettre de faire la différence :\n",
    "- si la valeur est catégorique --> on la garde et on passe à la suivante\n",
    "- si la valeur est numérique --> c'est une valeur manquante --> on la remplace par NAN \n",
    "\n",
    "pour ce faire on peut utiliser la méthode try / exceptValueError\n",
    "voici la doc python qui pourrait vous aider --> https://docs.python.org/2/tutorial/errors.html\n",
    "ou encore --> https://pythonforge.com/gestion-des-erreurs-et-des-exceptions-python/"
   ]
  },
  {
   "cell_type": "code",
   "execution_count": 95,
   "metadata": {
    "id": "H15eem3Qu67H"
   },
   "outputs": [
    {
     "name": "stdout",
     "output_type": "stream",
     "text": [
      "0      Y\n",
      "1      N\n",
      "2      N\n",
      "3     12\n",
      "4      Y\n",
      "5      Y\n",
      "6    NaN\n",
      "7      Y\n",
      "8      Y\n",
      "Name: occupation_des_locaux, dtype: object\n"
     ]
    }
   ],
   "source": [
    "# commencez par faire une boucle sur chaque ligne de la colonne\n",
    "#cnt=0\n",
    "#for row in df['occupation_des_locaux']:\n",
    "#   try:\n",
    "          # on teste si c'est un nombre entier (utiliser la méthode loc  https://pandas.pydata.org/pandas-docs/version/0.21/generated/pandas.DataFrame.loc.html)\n",
    "          # si c'est le cas on remplace par une valeur manquante (voir doc numpy) \n",
    "#    except :\n",
    "         # si ce n'est pas la cas, la valeur est une chaîne de caractère donc on passe  \n",
    "         # on indente\n",
    "# Vérifions si la variable numérique s'est bien transformé : \n",
    "print(df['occupation_des_locaux'])\n",
    "   \n"
   ]
  },
  {
   "cell_type": "code",
   "execution_count": 96,
   "metadata": {
    "id": "WsObpnkou69Q"
   },
   "outputs": [
    {
     "name": "stdout",
     "output_type": "stream",
     "text": [
      "0      Y\n",
      "1      N\n",
      "2      N\n",
      "3    NaN\n",
      "4      Y\n",
      "5      Y\n",
      "6    NaN\n",
      "7      Y\n",
      "8      Y\n",
      "Name: occupation_des_locaux, dtype: object\n"
     ]
    }
   ],
   "source": [
    "cnt=0\n",
    "\n",
    "for row in df['occupation_des_locaux']:\n",
    "    try:\n",
    "        int(row)\n",
    "        df.loc[cnt, 'occupation_des_locaux']=np.nan\n",
    "    except ValueError:\n",
    "        pass\n",
    "    cnt+=1       #cnt  = cnt+1\n",
    "print(df['occupation_des_locaux'])"
   ]
  },
  {
   "cell_type": "code",
   "execution_count": 97,
   "metadata": {},
   "outputs": [
    {
     "data": {
      "text/plain": [
       "0      Y\n",
       "1      N\n",
       "2      N\n",
       "3    NaN\n",
       "4      Y\n",
       "5      Y\n",
       "6    NaN\n",
       "7      Y\n",
       "8      Y\n",
       "Name: occupation_des_locaux, dtype: object"
      ]
     },
     "execution_count": 97,
     "metadata": {},
     "output_type": "execute_result"
    }
   ],
   "source": [
    "#alternatives\n",
    "solution_1= df['occupation_des_locaux']\n",
    "for index,valeur in solution_1.items():\n",
    "    if isinstance(valeur, str) and valeur.isdigit():\n",
    "        df.at[index, 'occupation_des_locaux'] = np.nan\n",
    "solution_1"
   ]
  },
  {
   "cell_type": "code",
   "execution_count": 98,
   "metadata": {},
   "outputs": [
    {
     "data": {
      "text/plain": [
       "0      Y\n",
       "1      N\n",
       "2      N\n",
       "3    NaN\n",
       "4      Y\n",
       "5      Y\n",
       "6    NaN\n",
       "7      Y\n",
       "8      Y\n",
       "Name: occupation_des_locaux, dtype: object"
      ]
     },
     "execution_count": 98,
     "metadata": {},
     "output_type": "execute_result"
    }
   ],
   "source": [
    "solution_2= df['occupation_des_locaux']\n",
    "for index,valeur in solution_1.items():\n",
    "    if str(valeur).isdigit():\n",
    "        df[index, 'occupation_des_locaux'] = np.nan\n",
    "solution_2"
   ]
  },
  {
   "cell_type": "markdown",
   "metadata": {
    "id": "LKDuJ94RvB85"
   },
   "source": [
    "# 5. Vérification "
   ]
  },
  {
   "cell_type": "code",
   "execution_count": 99,
   "metadata": {
    "id": "f-aRTmn9u7DA"
   },
   "outputs": [
    {
     "name": "stdout",
     "output_type": "stream",
     "text": [
      "ID                       1\n",
      "numero_rue               2\n",
      "adresse                  0\n",
      "code_postale             0\n",
      "ville                    0\n",
      "occupation_des_locaux    2\n",
      "nombre_de_piece          4\n",
      "salle_deau               1\n",
      "prix                     2\n",
      "dtype: int64\n"
     ]
    }
   ],
   "source": [
    "#Combien y a t-il de valeurs manquantes pour chaque colonne ? [ appliquez la méthode.sum()]\n",
    "print(df.isnull().sum())"
   ]
  },
  {
   "cell_type": "code",
   "execution_count": 100,
   "metadata": {
    "id": "DaglhPNevFYC"
   },
   "outputs": [
    {
     "name": "stdout",
     "output_type": "stream",
     "text": [
      "12\n"
     ]
    }
   ],
   "source": [
    "# Combien y a t-il de valeurs manquantes au total?  [ appliquez la méthode.sum().sum()]\n",
    "print(df.isnull().sum().sum())"
   ]
  },
  {
   "cell_type": "code",
   "execution_count": 101,
   "metadata": {
    "id": "AjzLtDlevFaW"
   },
   "outputs": [
    {
     "name": "stdout",
     "output_type": "stream",
     "text": [
      "True\n"
     ]
    }
   ],
   "source": [
    "# Que nous apprend cette commande ? \n",
    "print(df.isnull().values.any())"
   ]
  },
  {
   "cell_type": "markdown",
   "metadata": {
    "id": "AjzLtDlevFaW"
   },
   "source": [
    "s'il reste des valeurs manquantes, dans notre cas oui "
   ]
  },
  {
   "cell_type": "markdown",
   "metadata": {
    "id": "LKDuJ94RvB85"
   },
   "source": [
    "# 5. remplacer les valeurs manquantes avec Pandas"
   ]
  },
  {
   "cell_type": "code",
   "execution_count": 102,
   "metadata": {
    "id": "b1zfk3Euu7Bx"
   },
   "outputs": [
    {
     "data": {
      "text/plain": [
       "0    100001000.0\n",
       "1    100002000.0\n",
       "2    100003000.0\n",
       "3    100004000.0\n",
       "4            NaN\n",
       "5    100006000.0\n",
       "6    100007000.0\n",
       "7    100008000.0\n",
       "8    100009000.0\n",
       "Name: ID, dtype: float64"
      ]
     },
     "execution_count": 102,
     "metadata": {},
     "output_type": "execute_result"
    }
   ],
   "source": [
    "# remplacer toutes les valeurs manquantes de la colonne ID par un chiffre par défaut de code erreur '200000002'\n",
    "# vérifiez (toujours ! )\n",
    "df['ID']"
   ]
  },
  {
   "cell_type": "code",
   "execution_count": 103,
   "metadata": {
    "id": "b1zfk3Euu7Bx"
   },
   "outputs": [],
   "source": [
    "df['ID'] = df['ID'].fillna('200000002')"
   ]
  },
  {
   "cell_type": "code",
   "execution_count": 104,
   "metadata": {
    "id": "b1zfk3Euu7Bx"
   },
   "outputs": [
    {
     "data": {
      "text/plain": [
       "0    100001000.0\n",
       "1    100002000.0\n",
       "2    100003000.0\n",
       "3    100004000.0\n",
       "4      200000002\n",
       "5    100006000.0\n",
       "6    100007000.0\n",
       "7    100008000.0\n",
       "8    100009000.0\n",
       "Name: ID, dtype: object"
      ]
     },
     "execution_count": 104,
     "metadata": {},
     "output_type": "execute_result"
    }
   ],
   "source": [
    "df['ID']"
   ]
  },
  {
   "cell_type": "code",
   "execution_count": 105,
   "metadata": {
    "id": "MfimJ_PPvQIA"
   },
   "outputs": [
    {
     "data": {
      "text/plain": [
       "0      Y\n",
       "1      N\n",
       "2      N\n",
       "3    NaN\n",
       "4      Y\n",
       "5      Y\n",
       "6    NaN\n",
       "7      Y\n",
       "8      Y\n",
       "Name: occupation_des_locaux, dtype: object"
      ]
     },
     "execution_count": 105,
     "metadata": {},
     "output_type": "execute_result"
    }
   ],
   "source": [
    "# l'expert métier vous dit que lorsque la colonne occupation_des_locaux n'est pas remplie cela signifie que le logement n'est pas occupé\n",
    "# remplacez donc les valeurs manquantes de cette colonne par N\n",
    "# vérifiez \n",
    "df['occupation_des_locaux']"
   ]
  },
  {
   "cell_type": "code",
   "execution_count": 106,
   "metadata": {
    "id": "MfimJ_PPvQIA"
   },
   "outputs": [
    {
     "data": {
      "text/plain": [
       "0    Y\n",
       "1    N\n",
       "2    N\n",
       "3    N\n",
       "4    Y\n",
       "5    Y\n",
       "6    N\n",
       "7    Y\n",
       "8    Y\n",
       "Name: occupation_des_locaux, dtype: object"
      ]
     },
     "execution_count": 106,
     "metadata": {},
     "output_type": "execute_result"
    }
   ],
   "source": [
    "df['occupation_des_locaux'] = df['occupation_des_locaux'].fillna('N') \n",
    "df['occupation_des_locaux']"
   ]
  },
  {
   "cell_type": "code",
   "execution_count": 107,
   "metadata": {
    "id": "dKyIG2MjvQKN"
   },
   "outputs": [
    {
     "data": {
      "text/plain": [
       "0    3.0\n",
       "1    3.0\n",
       "2    NaN\n",
       "3    1.0\n",
       "4    3.0\n",
       "5    NaN\n",
       "6    2.0\n",
       "7    NaN\n",
       "8    NaN\n",
       "Name: nombre_de_piece, dtype: float64"
      ]
     },
     "execution_count": 107,
     "metadata": {},
     "output_type": "execute_result"
    }
   ],
   "source": [
    "# pour la colonne 'nombre_de_pièce' vous avez la possibilité de remplacer les valeurs manquantes par : \n",
    "# la moyenne, la médiane ou le mode. Que choisiriez vous ?\n",
    "df['nombre_de_piece']"
   ]
  },
  {
   "cell_type": "code",
   "execution_count": 109,
   "metadata": {
    "id": "dKyIG2MjvQKN"
   },
   "outputs": [
    {
     "name": "stderr",
     "output_type": "stream",
     "text": [
      "C:\\Users\\barba\\AppData\\Local\\Temp\\ipykernel_9496\\119006523.py:3: FutureWarning: Calling int on a single element Series is deprecated and will raise a TypeError in the future. Use int(ser.iloc[0]) instead\n",
      "  df['nombre_de_piece'] = df['nombre_de_piece'].fillna(int(mode))\n"
     ]
    },
    {
     "data": {
      "text/plain": [
       "0    3.0\n",
       "1    3.0\n",
       "2    3.0\n",
       "3    1.0\n",
       "4    3.0\n",
       "5    3.0\n",
       "6    2.0\n",
       "7    3.0\n",
       "8    3.0\n",
       "Name: nombre_de_piece, dtype: float64"
      ]
     },
     "execution_count": 109,
     "metadata": {},
     "output_type": "execute_result"
    }
   ],
   "source": [
    "mode = df['nombre_de_piece'].mode()\n",
    "mode\n",
    "df['nombre_de_piece'] = df['nombre_de_piece'].fillna(int(mode)) \n",
    "df['nombre_de_piece']"
   ]
  },
  {
   "cell_type": "code",
   "execution_count": 110,
   "metadata": {
    "id": "wNuUFBsqvQMU"
   },
   "outputs": [
    {
     "data": {
      "text/plain": [
       "ID                       0\n",
       "numero_rue               2\n",
       "adresse                  0\n",
       "code_postale             0\n",
       "ville                    0\n",
       "occupation_des_locaux    0\n",
       "nombre_de_piece          0\n",
       "salle_deau               1\n",
       "prix                     2\n",
       "dtype: int64"
      ]
     },
     "execution_count": 110,
     "metadata": {},
     "output_type": "execute_result"
    }
   ],
   "source": [
    "# Combien reste t-il de valeurs manquantes? \n",
    "df.isna().sum()"
   ]
  },
  {
   "cell_type": "markdown",
   "metadata": {
    "id": "LKDuJ94RvB85"
   },
   "source": [
    "# 6. remplacer les valeurs manquantes avec Sklearn"
   ]
  },
  {
   "cell_type": "markdown",
   "metadata": {
    "id": "LKDuJ94RvB85"
   },
   "source": [
    "## 6.1 le MissingIndicator"
   ]
  },
  {
   "cell_type": "code",
   "execution_count": 111,
   "metadata": {},
   "outputs": [],
   "source": [
    "#importez le transformer adéquat depuis la librairie sklearn.impute \n",
    "from sklearn.impute import MissingIndicator"
   ]
  },
  {
   "cell_type": "code",
   "execution_count": 112,
   "metadata": {},
   "outputs": [],
   "source": [
    "#prenons l'exemple suivant : \n",
    "X = np.array([[5, 1],\n",
    "              [0, 2],\n",
    "              [5, 7],\n",
    "             [np.nan, np.nan]])"
   ]
  },
  {
   "cell_type": "code",
   "execution_count": 113,
   "metadata": {},
   "outputs": [
    {
     "data": {
      "text/plain": [
       "array([[False, False],\n",
       "       [False, False],\n",
       "       [False, False],\n",
       "       [ True,  True]])"
      ]
     },
     "execution_count": 113,
     "metadata": {},
     "output_type": "execute_result"
    }
   ],
   "source": [
    "#on applique le transformer à nos données :\n",
    "MissingIndicator().fit_transform(X)\n",
    "# Qu'obtient -on ? "
   ]
  },
  {
   "cell_type": "markdown",
   "metadata": {
    "id": "LKDuJ94RvB85"
   },
   "source": [
    "## 6.2 le SimpleImputer"
   ]
  },
  {
   "cell_type": "code",
   "execution_count": 114,
   "metadata": {},
   "outputs": [],
   "source": [
    "#importez le transformer adéquat \n",
    "from sklearn.impute import SimpleImputer  \n",
    "import numpy as np"
   ]
  },
  {
   "cell_type": "code",
   "execution_count": 115,
   "metadata": {},
   "outputs": [
    {
     "name": "stdout",
     "output_type": "stream",
     "text": [
      "[[ 5.  1.]\n",
      " [ 0.  2.]\n",
      " [ 5.  7.]\n",
      " [nan nan]]\n"
     ]
    }
   ],
   "source": [
    "#reprenons l'exemple précédent : \n",
    "print(X) "
   ]
  },
  {
   "cell_type": "code",
   "execution_count": 116,
   "metadata": {},
   "outputs": [],
   "source": [
    "# définissez votre transformer en ajustant les paramètres, jouez avec les différentes stratégies (mean, most_frequent ect...)\n",
    "imputer = SimpleImputer(missing_values=np.nan, \n",
    "             strategy='mean')"
   ]
  },
  {
   "cell_type": "code",
   "execution_count": 117,
   "metadata": {},
   "outputs": [
    {
     "data": {
      "text/plain": [
       "array([[5.        , 1.        ],\n",
       "       [0.        , 2.        ],\n",
       "       [5.        , 7.        ],\n",
       "       [3.33333333, 3.33333333]])"
      ]
     },
     "execution_count": 117,
     "metadata": {},
     "output_type": "execute_result"
    }
   ],
   "source": [
    "#on applique le transfomer à X\n",
    "imputer.fit_transform(X)"
   ]
  },
  {
   "cell_type": "markdown",
   "metadata": {
    "id": "LKDuJ94RvB85"
   },
   "source": [
    "## 6.3 le KNNImputer"
   ]
  },
  {
   "cell_type": "code",
   "execution_count": 118,
   "metadata": {},
   "outputs": [],
   "source": [
    "#importez le transformer adéquat depuis la librairie sklearn.impute \n",
    "from sklearn.impute import KNNImputer     \n"
   ]
  },
  {
   "cell_type": "code",
   "execution_count": 119,
   "metadata": {},
   "outputs": [],
   "source": [
    "#reprenons l'exemple : \n",
    "X = np.array([[5, 3, 1],\n",
    "              [0, 4 , 2],\n",
    "              [5, 3 , 7],\n",
    "             [np.nan, 3, np.nan]])"
   ]
  },
  {
   "cell_type": "code",
   "execution_count": 120,
   "metadata": {},
   "outputs": [],
   "source": [
    "# définissez votre transformer en ajustant le paramètre\n",
    "imputer = KNNImputer(n_neighbors=1)"
   ]
  },
  {
   "cell_type": "code",
   "execution_count": 121,
   "metadata": {},
   "outputs": [
    {
     "data": {
      "text/plain": [
       "array([[5., 3., 1.],\n",
       "       [0., 4., 2.],\n",
       "       [5., 3., 7.],\n",
       "       [5., 3., 1.]])"
      ]
     },
     "execution_count": 121,
     "metadata": {},
     "output_type": "execute_result"
    }
   ],
   "source": [
    "# Appliquez le transformer\n",
    "imputer.fit_transform(X)\n",
    "#Par quoi les valeurs manquantes ont-elles été remplacées?"
   ]
  },
  {
   "cell_type": "markdown",
   "metadata": {
    "id": "3-5RHcLDu1wL"
   },
   "source": [
    "# 7. Encodez vos données "
   ]
  },
  {
   "cell_type": "markdown",
   "metadata": {
    "id": "3-5RHcLDu1wL"
   },
   "source": [
    "## 7.1 Encodage avec pandas"
   ]
  },
  {
   "cell_type": "markdown",
   "metadata": {},
   "source": [
    "Avec Pandas il est possible d'encoder les données à l'aide de la méthode get_dummies\n",
    "\n",
    "voici la doc associée : https://pandas.pydata.org/pandas-docs/stable/reference/api/pandas.get_dummies.html\n",
    "\n",
    "les paramètres importants sont les suivants : \n",
    "- data = on indique le nom de notre dataframe /serie / array\n",
    "- prefix = pour ajouter si l'on souhaite le nom de notre colonne. (on définit une liste avec le nom des colonnes au préalable)\n",
    "- dummy_na = si l'on met True, cela retournera les valeurs manquantes dans une classe séparée. Par défaut il est à False : les valeurs manquantes sont ignorées. \n",
    "- columns = si l'on souhaite encoder le nom des colonnes \n",
    "- drop_first = c'est un booléen . s'il est à False , l'encodage est un one-hot s'il est à True l'encodage crée  k-1 dummy variables pour chaque classe. \n"
   ]
  },
  {
   "cell_type": "code",
   "execution_count": 122,
   "metadata": {},
   "outputs": [
    {
     "data": {
      "text/plain": [
       "0            LYON\n",
       "1    VILLEURBANNE\n",
       "2      VENISSIEUX\n",
       "3    VILLEURBANNE\n",
       "4    VILLEURBANNE\n",
       "5            LYON\n",
       "6      VENISSIEUX\n",
       "7            BRON\n",
       "8            BRON\n",
       "Name: ville, dtype: object"
      ]
     },
     "execution_count": 122,
     "metadata": {},
     "output_type": "execute_result"
    }
   ],
   "source": [
    "# reprenons le dataframe contenant des informations immobilières, nous allons tenter d'encoder les valeurs de la colonne ville\n",
    "df['ville']"
   ]
  },
  {
   "cell_type": "code",
   "execution_count": 123,
   "metadata": {},
   "outputs": [
    {
     "data": {
      "text/plain": [
       "4"
      ]
     },
     "execution_count": 123,
     "metadata": {},
     "output_type": "execute_result"
    }
   ],
   "source": [
    "#combien y a t-il de classe?\n",
    "len(df['ville'].unique())"
   ]
  },
  {
   "cell_type": "code",
   "execution_count": 124,
   "metadata": {},
   "outputs": [
    {
     "data": {
      "text/html": [
       "<div>\n",
       "<style scoped>\n",
       "    .dataframe tbody tr th:only-of-type {\n",
       "        vertical-align: middle;\n",
       "    }\n",
       "\n",
       "    .dataframe tbody tr th {\n",
       "        vertical-align: top;\n",
       "    }\n",
       "\n",
       "    .dataframe thead th {\n",
       "        text-align: right;\n",
       "    }\n",
       "</style>\n",
       "<table border=\"1\" class=\"dataframe\">\n",
       "  <thead>\n",
       "    <tr style=\"text-align: right;\">\n",
       "      <th></th>\n",
       "      <th>ville_BRON</th>\n",
       "      <th>ville_LYON</th>\n",
       "      <th>ville_VENISSIEUX</th>\n",
       "      <th>ville_VILLEURBANNE</th>\n",
       "    </tr>\n",
       "  </thead>\n",
       "  <tbody>\n",
       "    <tr>\n",
       "      <th>0</th>\n",
       "      <td>False</td>\n",
       "      <td>True</td>\n",
       "      <td>False</td>\n",
       "      <td>False</td>\n",
       "    </tr>\n",
       "    <tr>\n",
       "      <th>1</th>\n",
       "      <td>False</td>\n",
       "      <td>False</td>\n",
       "      <td>False</td>\n",
       "      <td>True</td>\n",
       "    </tr>\n",
       "    <tr>\n",
       "      <th>2</th>\n",
       "      <td>False</td>\n",
       "      <td>False</td>\n",
       "      <td>True</td>\n",
       "      <td>False</td>\n",
       "    </tr>\n",
       "    <tr>\n",
       "      <th>3</th>\n",
       "      <td>False</td>\n",
       "      <td>False</td>\n",
       "      <td>False</td>\n",
       "      <td>True</td>\n",
       "    </tr>\n",
       "    <tr>\n",
       "      <th>4</th>\n",
       "      <td>False</td>\n",
       "      <td>False</td>\n",
       "      <td>False</td>\n",
       "      <td>True</td>\n",
       "    </tr>\n",
       "    <tr>\n",
       "      <th>5</th>\n",
       "      <td>False</td>\n",
       "      <td>True</td>\n",
       "      <td>False</td>\n",
       "      <td>False</td>\n",
       "    </tr>\n",
       "    <tr>\n",
       "      <th>6</th>\n",
       "      <td>False</td>\n",
       "      <td>False</td>\n",
       "      <td>True</td>\n",
       "      <td>False</td>\n",
       "    </tr>\n",
       "    <tr>\n",
       "      <th>7</th>\n",
       "      <td>True</td>\n",
       "      <td>False</td>\n",
       "      <td>False</td>\n",
       "      <td>False</td>\n",
       "    </tr>\n",
       "    <tr>\n",
       "      <th>8</th>\n",
       "      <td>True</td>\n",
       "      <td>False</td>\n",
       "      <td>False</td>\n",
       "      <td>False</td>\n",
       "    </tr>\n",
       "  </tbody>\n",
       "</table>\n",
       "</div>"
      ],
      "text/plain": [
       "   ville_BRON  ville_LYON  ville_VENISSIEUX  ville_VILLEURBANNE\n",
       "0       False        True             False               False\n",
       "1       False       False             False                True\n",
       "2       False       False              True               False\n",
       "3       False       False             False                True\n",
       "4       False       False             False                True\n",
       "5       False        True             False               False\n",
       "6       False       False              True               False\n",
       "7        True       False             False               False\n",
       "8        True       False             False               False"
      ]
     },
     "execution_count": 124,
     "metadata": {},
     "output_type": "execute_result"
    }
   ],
   "source": [
    "# encoder la colonne  de sorte à avoir un encodage one_hot avec get_dummies\n",
    "one_hot = pd.get_dummies(df['ville'],\n",
    "                         prefix='ville',\n",
    "                         drop_first=False) # dans la nvelle version pandas ajoutez dtype = int \n",
    "#affichez le résultat\n",
    "one_hot"
   ]
  },
  {
   "cell_type": "code",
   "execution_count": 125,
   "metadata": {},
   "outputs": [
    {
     "data": {
      "text/html": [
       "<div>\n",
       "<style scoped>\n",
       "    .dataframe tbody tr th:only-of-type {\n",
       "        vertical-align: middle;\n",
       "    }\n",
       "\n",
       "    .dataframe tbody tr th {\n",
       "        vertical-align: top;\n",
       "    }\n",
       "\n",
       "    .dataframe thead th {\n",
       "        text-align: right;\n",
       "    }\n",
       "</style>\n",
       "<table border=\"1\" class=\"dataframe\">\n",
       "  <thead>\n",
       "    <tr style=\"text-align: right;\">\n",
       "      <th></th>\n",
       "      <th>ID</th>\n",
       "      <th>numero_rue</th>\n",
       "      <th>adresse</th>\n",
       "      <th>code_postale</th>\n",
       "      <th>occupation_des_locaux</th>\n",
       "      <th>nombre_de_piece</th>\n",
       "      <th>salle_deau</th>\n",
       "      <th>prix</th>\n",
       "      <th>ville_BRON</th>\n",
       "      <th>ville_LYON</th>\n",
       "      <th>ville_VENISSIEUX</th>\n",
       "      <th>ville_VILLEURBANNE</th>\n",
       "    </tr>\n",
       "  </thead>\n",
       "  <tbody>\n",
       "    <tr>\n",
       "      <th>0</th>\n",
       "      <td>100001000.0</td>\n",
       "      <td>104.0</td>\n",
       "      <td>rue de la forêt noire</td>\n",
       "      <td>69000</td>\n",
       "      <td>Y</td>\n",
       "      <td>3.0</td>\n",
       "      <td>1</td>\n",
       "      <td>1000.0</td>\n",
       "      <td>False</td>\n",
       "      <td>True</td>\n",
       "      <td>False</td>\n",
       "      <td>False</td>\n",
       "    </tr>\n",
       "    <tr>\n",
       "      <th>1</th>\n",
       "      <td>100002000.0</td>\n",
       "      <td>197.0</td>\n",
       "      <td>rue de bonnel</td>\n",
       "      <td>69350</td>\n",
       "      <td>N</td>\n",
       "      <td>3.0</td>\n",
       "      <td>1.5</td>\n",
       "      <td>NaN</td>\n",
       "      <td>False</td>\n",
       "      <td>False</td>\n",
       "      <td>False</td>\n",
       "      <td>True</td>\n",
       "    </tr>\n",
       "    <tr>\n",
       "      <th>2</th>\n",
       "      <td>100003000.0</td>\n",
       "      <td>NaN</td>\n",
       "      <td>rue de la guillotière</td>\n",
       "      <td>69210</td>\n",
       "      <td>N</td>\n",
       "      <td>3.0</td>\n",
       "      <td>1</td>\n",
       "      <td>850.0</td>\n",
       "      <td>False</td>\n",
       "      <td>False</td>\n",
       "      <td>True</td>\n",
       "      <td>False</td>\n",
       "    </tr>\n",
       "    <tr>\n",
       "      <th>3</th>\n",
       "      <td>100004000.0</td>\n",
       "      <td>201.0</td>\n",
       "      <td>impasse auguste rodin</td>\n",
       "      <td>69350</td>\n",
       "      <td>N</td>\n",
       "      <td>1.0</td>\n",
       "      <td>NaN</td>\n",
       "      <td>700.0</td>\n",
       "      <td>False</td>\n",
       "      <td>False</td>\n",
       "      <td>False</td>\n",
       "      <td>True</td>\n",
       "    </tr>\n",
       "    <tr>\n",
       "      <th>4</th>\n",
       "      <td>200000002</td>\n",
       "      <td>203.0</td>\n",
       "      <td>rue pliesse</td>\n",
       "      <td>6935</td>\n",
       "      <td>Y</td>\n",
       "      <td>3.0</td>\n",
       "      <td>2</td>\n",
       "      <td>1600.0</td>\n",
       "      <td>False</td>\n",
       "      <td>False</td>\n",
       "      <td>False</td>\n",
       "      <td>True</td>\n",
       "    </tr>\n",
       "  </tbody>\n",
       "</table>\n",
       "</div>"
      ],
      "text/plain": [
       "            ID  numero_rue                adresse  code_postale  \\\n",
       "0  100001000.0       104.0  rue de la forêt noire         69000   \n",
       "1  100002000.0       197.0          rue de bonnel         69350   \n",
       "2  100003000.0         NaN  rue de la guillotière         69210   \n",
       "3  100004000.0       201.0  impasse auguste rodin         69350   \n",
       "4    200000002       203.0            rue pliesse          6935   \n",
       "\n",
       "  occupation_des_locaux  nombre_de_piece salle_deau    prix  ville_BRON  \\\n",
       "0                     Y              3.0          1  1000.0       False   \n",
       "1                     N              3.0        1.5     NaN       False   \n",
       "2                     N              3.0          1   850.0       False   \n",
       "3                     N              1.0        NaN   700.0       False   \n",
       "4                     Y              3.0          2  1600.0       False   \n",
       "\n",
       "   ville_LYON  ville_VENISSIEUX  ville_VILLEURBANNE  \n",
       "0        True             False               False  \n",
       "1       False             False                True  \n",
       "2       False              True               False  \n",
       "3       False             False                True  \n",
       "4       False             False                True  "
      ]
     },
     "execution_count": 125,
     "metadata": {},
     "output_type": "execute_result"
    }
   ],
   "source": [
    "#ajouter maintenant ces colonnes à votre dataset et affichez les premières lignes\n",
    "one_hot_df = pd.get_dummies(df, prefix='ville', \n",
    "                            columns=['ville'], \n",
    "                            drop_first=False)\n",
    "one_hot_df.head()"
   ]
  },
  {
   "cell_type": "code",
   "execution_count": 126,
   "metadata": {},
   "outputs": [
    {
     "data": {
      "text/html": [
       "<div>\n",
       "<style scoped>\n",
       "    .dataframe tbody tr th:only-of-type {\n",
       "        vertical-align: middle;\n",
       "    }\n",
       "\n",
       "    .dataframe tbody tr th {\n",
       "        vertical-align: top;\n",
       "    }\n",
       "\n",
       "    .dataframe thead th {\n",
       "        text-align: right;\n",
       "    }\n",
       "</style>\n",
       "<table border=\"1\" class=\"dataframe\">\n",
       "  <thead>\n",
       "    <tr style=\"text-align: right;\">\n",
       "      <th></th>\n",
       "      <th>ville_LYON</th>\n",
       "      <th>ville_VENISSIEUX</th>\n",
       "      <th>ville_VILLEURBANNE</th>\n",
       "    </tr>\n",
       "  </thead>\n",
       "  <tbody>\n",
       "    <tr>\n",
       "      <th>0</th>\n",
       "      <td>True</td>\n",
       "      <td>False</td>\n",
       "      <td>False</td>\n",
       "    </tr>\n",
       "    <tr>\n",
       "      <th>1</th>\n",
       "      <td>False</td>\n",
       "      <td>False</td>\n",
       "      <td>True</td>\n",
       "    </tr>\n",
       "    <tr>\n",
       "      <th>2</th>\n",
       "      <td>False</td>\n",
       "      <td>True</td>\n",
       "      <td>False</td>\n",
       "    </tr>\n",
       "    <tr>\n",
       "      <th>3</th>\n",
       "      <td>False</td>\n",
       "      <td>False</td>\n",
       "      <td>True</td>\n",
       "    </tr>\n",
       "    <tr>\n",
       "      <th>4</th>\n",
       "      <td>False</td>\n",
       "      <td>False</td>\n",
       "      <td>True</td>\n",
       "    </tr>\n",
       "    <tr>\n",
       "      <th>5</th>\n",
       "      <td>True</td>\n",
       "      <td>False</td>\n",
       "      <td>False</td>\n",
       "    </tr>\n",
       "    <tr>\n",
       "      <th>6</th>\n",
       "      <td>False</td>\n",
       "      <td>True</td>\n",
       "      <td>False</td>\n",
       "    </tr>\n",
       "    <tr>\n",
       "      <th>7</th>\n",
       "      <td>False</td>\n",
       "      <td>False</td>\n",
       "      <td>False</td>\n",
       "    </tr>\n",
       "    <tr>\n",
       "      <th>8</th>\n",
       "      <td>False</td>\n",
       "      <td>False</td>\n",
       "      <td>False</td>\n",
       "    </tr>\n",
       "  </tbody>\n",
       "</table>\n",
       "</div>"
      ],
      "text/plain": [
       "   ville_LYON  ville_VENISSIEUX  ville_VILLEURBANNE\n",
       "0        True             False               False\n",
       "1       False             False                True\n",
       "2       False              True               False\n",
       "3       False             False                True\n",
       "4       False             False                True\n",
       "5        True             False               False\n",
       "6       False              True               False\n",
       "7       False             False               False\n",
       "8       False             False               False"
      ]
     },
     "execution_count": 126,
     "metadata": {},
     "output_type": "execute_result"
    }
   ],
   "source": [
    "# encoder la colonne  de sorte à avoir un encodage avec k-1 dummy_variable\n",
    "get_dummies = pd.get_dummies(df['ville'],\n",
    "                         prefix='ville',\n",
    "                         drop_first=True)\n",
    "#affichez le résultat\n",
    "get_dummies\n",
    "#Que remarquez vous? "
   ]
  },
  {
   "cell_type": "markdown",
   "metadata": {
    "id": "3-5RHcLDu1wL"
   },
   "source": [
    "## 7.2 Encodage avec Sklearn"
   ]
  },
  {
   "cell_type": "markdown",
   "metadata": {},
   "source": [
    "Essayons maintenant d'utiliser la librairie sklearn avec la méthode onehot\n",
    "\n",
    "voici la doc associée : \n",
    "- https://scikit-learn.org/stable/modules/generated/sklearn.preprocessing.OneHotEncoder.html\n",
    "- https://scikit-learn.org/stable/modules/generated/sklearn.preprocessing.LabelBinarizer.html\n",
    "\n",
    "Pour le OneHotEncoder les paramètres importants sont les suivants : \n",
    "- categories = par défaut : 'auto' les classes sont automatiquement détectées pour chaque feature. Sinon on peut ajouter une liste définie au préalable \n",
    "- drop = par défaut on met none pour avoir un encodage onehot et garder ainsi toutes les classes dans l'encodage. Si on met first, la première classe est supprimée ce qui correspond à un encodage get_dummies\n",
    "- sparse = retourne une matrice sparser (c'est à dire condensée). Par défaut c'est True\n",
    "\n",
    "Pour le LabelBinarizer les paramètres importants sont les suivants : \n",
    "- neg_label = 0 ou 1 , par défaut c'est 0 , une valeur avec un label négatif doit être encodé \n",
    "- pos_label = 0 ou 1 , par défaut c'est 0 , une valeur avec un label positif doit être encodé \n",
    "- sparse_output = retourne une matrice sparser (c'est à dire condensée). Par défaut c'est False\n",
    "\n",
    "\n",
    "\n"
   ]
  },
  {
   "cell_type": "code",
   "execution_count": 127,
   "metadata": {},
   "outputs": [],
   "source": [
    "# importer le transformer adéquat depuis la librairie sklearn.preprocessing\n",
    "# Lequel choisissez vous ? Pourquoi ? \n",
    "from sklearn.preprocessing import LabelBinarizer\n",
    "#from sklearn.preprocessing import OneHotEncoder"
   ]
  },
  {
   "cell_type": "code",
   "execution_count": 128,
   "metadata": {},
   "outputs": [],
   "source": [
    "#définissez votre transformer en jouant sur les paramètres \n",
    "lb = LabelBinarizer(neg_label = 0,pos_label = 1,  sparse_output = False)\n",
    "#OHE = OneHotEncoder()"
   ]
  },
  {
   "cell_type": "code",
   "execution_count": 129,
   "metadata": {},
   "outputs": [
    {
     "data": {
      "text/plain": [
       "array([[0, 1, 0, 0],\n",
       "       [0, 0, 0, 1],\n",
       "       [0, 0, 1, 0],\n",
       "       [0, 0, 0, 1],\n",
       "       [0, 0, 0, 1],\n",
       "       [0, 1, 0, 0],\n",
       "       [0, 0, 1, 0],\n",
       "       [1, 0, 0, 0],\n",
       "       [1, 0, 0, 0]])"
      ]
     },
     "execution_count": 129,
     "metadata": {},
     "output_type": "execute_result"
    }
   ],
   "source": [
    "#appliquez votre transformer à votre colonne \n",
    "lb.fit_transform(df['ville'])\n",
    "#OHE.fit_transform(df['ville'])\n"
   ]
  },
  {
   "cell_type": "markdown",
   "metadata": {
    "id": "i1gJS3K7vlxd"
   },
   "source": [
    "# EXCELLENT TRAVAIL!"
   ]
  },
  {
   "cell_type": "markdown",
   "metadata": {},
   "source": [
    "# 8. Mise à l'échelle des données"
   ]
  },
  {
   "cell_type": "code",
   "execution_count": 130,
   "metadata": {},
   "outputs": [
    {
     "data": {
      "text/html": [
       "<div>\n",
       "<style scoped>\n",
       "    .dataframe tbody tr th:only-of-type {\n",
       "        vertical-align: middle;\n",
       "    }\n",
       "\n",
       "    .dataframe tbody tr th {\n",
       "        vertical-align: top;\n",
       "    }\n",
       "\n",
       "    .dataframe thead th {\n",
       "        text-align: right;\n",
       "    }\n",
       "</style>\n",
       "<table border=\"1\" class=\"dataframe\">\n",
       "  <thead>\n",
       "    <tr style=\"text-align: right;\">\n",
       "      <th></th>\n",
       "      <th>nombre_de_piece</th>\n",
       "      <th>prix</th>\n",
       "    </tr>\n",
       "  </thead>\n",
       "  <tbody>\n",
       "    <tr>\n",
       "      <th>0</th>\n",
       "      <td>3.0</td>\n",
       "      <td>1000.0</td>\n",
       "    </tr>\n",
       "    <tr>\n",
       "      <th>1</th>\n",
       "      <td>3.0</td>\n",
       "      <td>NaN</td>\n",
       "    </tr>\n",
       "    <tr>\n",
       "      <th>2</th>\n",
       "      <td>3.0</td>\n",
       "      <td>850.0</td>\n",
       "    </tr>\n",
       "    <tr>\n",
       "      <th>3</th>\n",
       "      <td>1.0</td>\n",
       "      <td>700.0</td>\n",
       "    </tr>\n",
       "    <tr>\n",
       "      <th>4</th>\n",
       "      <td>3.0</td>\n",
       "      <td>1600.0</td>\n",
       "    </tr>\n",
       "    <tr>\n",
       "      <th>5</th>\n",
       "      <td>3.0</td>\n",
       "      <td>800.0</td>\n",
       "    </tr>\n",
       "    <tr>\n",
       "      <th>6</th>\n",
       "      <td>2.0</td>\n",
       "      <td>950.0</td>\n",
       "    </tr>\n",
       "    <tr>\n",
       "      <th>7</th>\n",
       "      <td>3.0</td>\n",
       "      <td>NaN</td>\n",
       "    </tr>\n",
       "    <tr>\n",
       "      <th>8</th>\n",
       "      <td>3.0</td>\n",
       "      <td>1800.0</td>\n",
       "    </tr>\n",
       "  </tbody>\n",
       "</table>\n",
       "</div>"
      ],
      "text/plain": [
       "   nombre_de_piece    prix\n",
       "0              3.0  1000.0\n",
       "1              3.0     NaN\n",
       "2              3.0   850.0\n",
       "3              1.0   700.0\n",
       "4              3.0  1600.0\n",
       "5              3.0   800.0\n",
       "6              2.0   950.0\n",
       "7              3.0     NaN\n",
       "8              3.0  1800.0"
      ]
     },
     "execution_count": 130,
     "metadata": {},
     "output_type": "execute_result"
    }
   ],
   "source": [
    "# on souhaite normaliser les colonnes 'nombre_de_piece','prix', Pourquoi ? \n",
    "# pour la suite de l'exercice on définit un nouveau dataframe avec les colonnes en question\n",
    "columns = ['nombre_de_piece','prix']\n",
    "df_2 = df[columns]\n",
    "df_2"
   ]
  },
  {
   "cell_type": "code",
   "execution_count": 131,
   "metadata": {},
   "outputs": [
    {
     "data": {
      "text/plain": [
       "0    3.0\n",
       "1    3.0\n",
       "2    3.0\n",
       "3    1.0\n",
       "4    3.0\n",
       "5    3.0\n",
       "6    2.0\n",
       "7    3.0\n",
       "8    3.0\n",
       "Name: nombre_de_piece, dtype: float64"
      ]
     },
     "execution_count": 131,
     "metadata": {},
     "output_type": "execute_result"
    }
   ],
   "source": [
    "# corrigons les valeurs nulles (sans qu'il y ait de sens métier, c'est juste pour s'entraîner ! )\n",
    "# pour le nombre de pièce on choisira le mode\n",
    "mode = df['nombre_de_piece'].mode()\n",
    "df_2['nombre_de_piece'].fillna(mode)\n",
    "df_2['nombre_de_piece']\n"
   ]
  },
  {
   "cell_type": "code",
   "execution_count": 136,
   "metadata": {},
   "outputs": [
    {
     "data": {
      "text/plain": [
       "1210.0"
      ]
     },
     "execution_count": 136,
     "metadata": {},
     "output_type": "execute_result"
    }
   ],
   "source": [
    "# pour le prix on prendra la moyenne du prix pour les appartements ayant le même nombre de pièces\n",
    "df_mean = df_2.groupby('nombre_de_piece').mean()\n",
    "df_mean\n",
    "loyer = df_mean.loc[3,'prix']\n",
    "loyer"
   ]
  },
  {
   "cell_type": "code",
   "execution_count": 139,
   "metadata": {},
   "outputs": [
    {
     "data": {
      "text/plain": [
       "0    1000.0\n",
       "1    1210.0\n",
       "2     850.0\n",
       "3     700.0\n",
       "4    1600.0\n",
       "5     800.0\n",
       "6     950.0\n",
       "7    1210.0\n",
       "8    1800.0\n",
       "Name: prix, dtype: float64"
      ]
     },
     "execution_count": 139,
     "metadata": {},
     "output_type": "execute_result"
    }
   ],
   "source": [
    "df_2['prix'].fillna(loyer)\n",
    "df_2['prix']"
   ]
  },
  {
   "cell_type": "markdown",
   "metadata": {},
   "source": [
    "## 8.1 feature scaling  avec scikit-learn"
   ]
  },
  {
   "cell_type": "code",
   "execution_count": 140,
   "metadata": {},
   "outputs": [],
   "source": [
    "# importer le transformer adéquat depuis la librairie sklearn.preprocessing. Lequel choisissez vous?\n",
    "from sklearn.preprocessing import StandardScaler"
   ]
  },
  {
   "cell_type": "code",
   "execution_count": 141,
   "metadata": {},
   "outputs": [],
   "source": [
    "# définissez votre transformer \n",
    "scaler = StandardScaler()"
   ]
  },
  {
   "cell_type": "code",
   "execution_count": 142,
   "metadata": {},
   "outputs": [
    {
     "data": {
      "text/plain": [
       "array([[ 0.5       , -0.35534254],\n",
       "       [ 0.5       ,  0.244298  ],\n",
       "       [ 0.5       , -0.78365721],\n",
       "       [-2.5       , -1.21197187],\n",
       "       [ 0.5       ,  1.35791613],\n",
       "       [ 0.5       , -0.92642876],\n",
       "       [-1.        , -0.4981141 ],\n",
       "       [ 0.5       ,  0.244298  ],\n",
       "       [ 0.5       ,  1.92900236]])"
      ]
     },
     "execution_count": 142,
     "metadata": {},
     "output_type": "execute_result"
    }
   ],
   "source": [
    "# et appliquez le \n",
    "scaler.fit_transform(df_2)\n"
   ]
  },
  {
   "cell_type": "markdown",
   "metadata": {},
   "source": [
    "## 8.2 feature scaling  avec pandas"
   ]
  },
  {
   "cell_type": "code",
   "execution_count": 143,
   "metadata": {},
   "outputs": [
    {
     "data": {
      "text/html": [
       "<div>\n",
       "<style scoped>\n",
       "    .dataframe tbody tr th:only-of-type {\n",
       "        vertical-align: middle;\n",
       "    }\n",
       "\n",
       "    .dataframe tbody tr th {\n",
       "        vertical-align: top;\n",
       "    }\n",
       "\n",
       "    .dataframe thead th {\n",
       "        text-align: right;\n",
       "    }\n",
       "</style>\n",
       "<table border=\"1\" class=\"dataframe\">\n",
       "  <thead>\n",
       "    <tr style=\"text-align: right;\">\n",
       "      <th></th>\n",
       "      <th>nombre_de_piece</th>\n",
       "      <th>prix</th>\n",
       "    </tr>\n",
       "  </thead>\n",
       "  <tbody>\n",
       "    <tr>\n",
       "      <th>0</th>\n",
       "      <td>0.471405</td>\n",
       "      <td>-0.335020</td>\n",
       "    </tr>\n",
       "    <tr>\n",
       "      <th>1</th>\n",
       "      <td>0.471405</td>\n",
       "      <td>0.230326</td>\n",
       "    </tr>\n",
       "    <tr>\n",
       "      <th>2</th>\n",
       "      <td>0.471405</td>\n",
       "      <td>-0.738839</td>\n",
       "    </tr>\n",
       "    <tr>\n",
       "      <th>3</th>\n",
       "      <td>-2.357023</td>\n",
       "      <td>-1.142658</td>\n",
       "    </tr>\n",
       "    <tr>\n",
       "      <th>4</th>\n",
       "      <td>0.471405</td>\n",
       "      <td>1.280256</td>\n",
       "    </tr>\n",
       "    <tr>\n",
       "      <th>5</th>\n",
       "      <td>0.471405</td>\n",
       "      <td>-0.873445</td>\n",
       "    </tr>\n",
       "    <tr>\n",
       "      <th>6</th>\n",
       "      <td>-0.942809</td>\n",
       "      <td>-0.469626</td>\n",
       "    </tr>\n",
       "    <tr>\n",
       "      <th>7</th>\n",
       "      <td>0.471405</td>\n",
       "      <td>0.230326</td>\n",
       "    </tr>\n",
       "    <tr>\n",
       "      <th>8</th>\n",
       "      <td>0.471405</td>\n",
       "      <td>1.818681</td>\n",
       "    </tr>\n",
       "  </tbody>\n",
       "</table>\n",
       "</div>"
      ],
      "text/plain": [
       "   nombre_de_piece      prix\n",
       "0         0.471405 -0.335020\n",
       "1         0.471405  0.230326\n",
       "2         0.471405 -0.738839\n",
       "3        -2.357023 -1.142658\n",
       "4         0.471405  1.280256\n",
       "5         0.471405 -0.873445\n",
       "6        -0.942809 -0.469626\n",
       "7         0.471405  0.230326\n",
       "8         0.471405  1.818681"
      ]
     },
     "execution_count": 143,
     "metadata": {},
     "output_type": "execute_result"
    }
   ],
   "source": [
    "# on définit une fonction qui va calculer la standardisation\n",
    "def standardisation (df_input):\n",
    "    return df_input.apply(lambda x: (x-x.mean())/ x.std(), axis=0)\n",
    "\n",
    "standardisation(df_2)"
   ]
  },
  {
   "cell_type": "code",
   "execution_count": 144,
   "metadata": {},
   "outputs": [],
   "source": [
    "# A vous maintenant de trouver comment normaliser les données avec pandas ! \n",
    "# reprenez votre dataframe df_2 et normaliser les données"
   ]
  },
  {
   "cell_type": "code",
   "execution_count": 145,
   "metadata": {},
   "outputs": [
    {
     "data": {
      "text/html": [
       "<div>\n",
       "<style scoped>\n",
       "    .dataframe tbody tr th:only-of-type {\n",
       "        vertical-align: middle;\n",
       "    }\n",
       "\n",
       "    .dataframe tbody tr th {\n",
       "        vertical-align: top;\n",
       "    }\n",
       "\n",
       "    .dataframe thead th {\n",
       "        text-align: right;\n",
       "    }\n",
       "</style>\n",
       "<table border=\"1\" class=\"dataframe\">\n",
       "  <thead>\n",
       "    <tr style=\"text-align: right;\">\n",
       "      <th></th>\n",
       "      <th>nombre_de_piece</th>\n",
       "      <th>prix</th>\n",
       "    </tr>\n",
       "  </thead>\n",
       "  <tbody>\n",
       "    <tr>\n",
       "      <th>0</th>\n",
       "      <td>1.0</td>\n",
       "      <td>0.272727</td>\n",
       "    </tr>\n",
       "    <tr>\n",
       "      <th>1</th>\n",
       "      <td>1.0</td>\n",
       "      <td>0.463636</td>\n",
       "    </tr>\n",
       "    <tr>\n",
       "      <th>2</th>\n",
       "      <td>1.0</td>\n",
       "      <td>0.136364</td>\n",
       "    </tr>\n",
       "    <tr>\n",
       "      <th>3</th>\n",
       "      <td>0.0</td>\n",
       "      <td>0.000000</td>\n",
       "    </tr>\n",
       "    <tr>\n",
       "      <th>4</th>\n",
       "      <td>1.0</td>\n",
       "      <td>0.818182</td>\n",
       "    </tr>\n",
       "    <tr>\n",
       "      <th>5</th>\n",
       "      <td>1.0</td>\n",
       "      <td>0.090909</td>\n",
       "    </tr>\n",
       "    <tr>\n",
       "      <th>6</th>\n",
       "      <td>0.5</td>\n",
       "      <td>0.227273</td>\n",
       "    </tr>\n",
       "    <tr>\n",
       "      <th>7</th>\n",
       "      <td>1.0</td>\n",
       "      <td>0.463636</td>\n",
       "    </tr>\n",
       "    <tr>\n",
       "      <th>8</th>\n",
       "      <td>1.0</td>\n",
       "      <td>1.000000</td>\n",
       "    </tr>\n",
       "  </tbody>\n",
       "</table>\n",
       "</div>"
      ],
      "text/plain": [
       "   nombre_de_piece      prix\n",
       "0              1.0  0.272727\n",
       "1              1.0  0.463636\n",
       "2              1.0  0.136364\n",
       "3              0.0  0.000000\n",
       "4              1.0  0.818182\n",
       "5              1.0  0.090909\n",
       "6              0.5  0.227273\n",
       "7              1.0  0.463636\n",
       "8              1.0  1.000000"
      ]
     },
     "execution_count": 145,
     "metadata": {},
     "output_type": "execute_result"
    }
   ],
   "source": [
    "def normalisation (df_input):\n",
    "    return (df_input - df_input.min()) / ( df_input.max() - df_input.min())\n",
    "normalisation(df_2)\n"
   ]
  },
  {
   "cell_type": "code",
   "execution_count": null,
   "metadata": {},
   "outputs": [],
   "source": []
  },
  {
   "cell_type": "code",
   "execution_count": null,
   "metadata": {},
   "outputs": [],
   "source": []
  },
  {
   "cell_type": "code",
   "execution_count": null,
   "metadata": {},
   "outputs": [],
   "source": []
  }
 ],
 "metadata": {
  "colab": {
   "collapsed_sections": [],
   "name": "8. Python 101 - Python Libraries for Data Analysis - Pandas Skeleton.ipynb",
   "provenance": []
  },
  "kernelspec": {
   "display_name": "Python 3 (ipykernel)",
   "language": "python",
   "name": "python3"
  },
  "language_info": {
   "codemirror_mode": {
    "name": "ipython",
    "version": 3
   },
   "file_extension": ".py",
   "mimetype": "text/x-python",
   "name": "python",
   "nbconvert_exporter": "python",
   "pygments_lexer": "ipython3",
   "version": "3.12.4"
  }
 },
 "nbformat": 4,
 "nbformat_minor": 4
}
