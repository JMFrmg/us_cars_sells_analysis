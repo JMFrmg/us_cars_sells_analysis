{
 "cells": [
  {
   "cell_type": "markdown",
   "id": "226c099f",
   "metadata": {},
   "source": [
    "<p style=' font-size:32px; text-align:center'> <strong>Découverte des librairies </strong>\n",
    "</p>"
   ]
  },
  {
   "cell_type": "markdown",
   "id": "a0c6b754",
   "metadata": {},
   "source": [
    "\n",
    "<p style='font-size:20px'> <strong>table des matières </strong></p>\n",
    "\n",
    "* [La librairie numpy](#numpy)\n",
    "    * [création d'un tableau](#creation)\n",
    "    * [accéder aux données](#manip)\n",
    "    * [calcul mathématique](#calcul)\n",
    "    * [modifier un tableau](#modif)\n",
    "    * [comparaison et masque](#comparaison)\n",
    "* [la librairie pandas](#pandas)\n",
    "    * [création et manipulation de série](#serie)\n",
    "    * [création d'un dataframe](#creationdf)\n",
    "    * [accéder aux données](#manipdf)\n",
    "    * [nettoyage d'un dataframe](#datacleaning)\n",
    "    * [rassembler plusieurs dataframes](#rassemble)\n",
    "    * [sauvegarder un dataframe](#sauvegarde)\n",
    "* [Import export de données](#import_export)\n",
    "    * [Importation et exportation des fichiers CSV](#CSV)\n",
    "    * [Importation et exportation des fichiers JSON](#JSON)\n",
    "    * [Importation et exportation à partir d'une URL](#URL)\n",
    "    * [Importation et exportation à partir d'une base de données SQL](#SQL)\n",
    "   "
   ]
  },
  {
   "cell_type": "markdown",
   "id": "a3547c64",
   "metadata": {},
   "source": [
    " **Notion de repertoire courant**  \n",
    "\n",
    "Lorsqu’on lance Jupyter, une arborescence nous est proposée, et nous navigons à l’interieur de celle-ci pour créer ou ouvrir un notebook. Le répertoire contenant le notebook est appellé répertoire courant. Lorsqu’on indiquera à Python d’importer ou d'exporter des données, l’origine (ou la destination) sera indiquée relativement au répertoire courant, à moins d’avoir recours à des chemins absolus (c’est-à-dire un chemin d’accès à partir de la racine /)."
   ]
  },
  {
   "cell_type": "code",
   "execution_count": 1,
   "id": "f0b83b20",
   "metadata": {},
   "outputs": [
    {
     "name": "stdout",
     "output_type": "stream",
     "text": [
      "C:\\Users\\barba\\Desktop\\formation_python\\version_enseignant\\support_de_cours\n"
     ]
    }
   ],
   "source": [
    "import os\n",
    "cwd = os.getcwd()\n",
    "print(cwd)"
   ]
  },
  {
   "cell_type": "code",
   "execution_count": 2,
   "id": "6dcda1b0",
   "metadata": {},
   "outputs": [
    {
     "data": {
      "text/plain": [
       "['.ipynb_checkpoints',\n",
       " 'decouverte_des_librairies.ipynb',\n",
       " 'fichier',\n",
       " 'fichier_csv_export.csv',\n",
       " 'fichier_json_export.json',\n",
       " 'France.txt',\n",
       " 'les_bases_du_langage.ipynb']"
      ]
     },
     "execution_count": 2,
     "metadata": {},
     "output_type": "execute_result"
    }
   ],
   "source": [
    "#une méthode utile pour lister tous les fichiers contenus dans un repertoire\n",
    "os.listdir()"
   ]
  },
  {
   "cell_type": "markdown",
   "id": "6b410dbd",
   "metadata": {},
   "source": [
    "# La librairie numpy <a class=\"anchor\" id=\"numpy\"></a>"
   ]
  },
  {
   "cell_type": "markdown",
   "id": "5b6ed8e6",
   "metadata": {},
   "source": [
    "NumPy est une librairie très populaire, qui est très utile pour réaliser de manière efficace des calculs. Elle intègre une nouvelle structure de données: les **ndarray (N-dimensional array)** qui sont des tableaux.   \n",
    "Les ndarray se manipulent comme les listes et les tuples MAIS ne peut contenir qu’un seul type de données. L'avantage reste la vitesse de traitement par rapport aux listes.     \n",
    "Nous allons voir comment initialiser des tableaux Numpy de plusieurs façons, accéder aux valeurs dans les tableaux, effectuer des opérations mathématiques, et utiliser des tableaux aussi bien pour le masquage que pour les comparaisons."
   ]
  },
  {
   "cell_type": "markdown",
   "id": "1c9ae82f",
   "metadata": {},
   "source": [
    "> ## création d'un tableau <a class=\"anchor\" id=\"creation\"></a>"
   ]
  },
  {
   "cell_type": "markdown",
   "id": "6b50e615",
   "metadata": {},
   "source": [
    "Il existe différentes façons de créer et d'initialiser un tableau numpy, en voici quelques unes:  \n",
    "- pour créer un tableau numpy on utilise la fonction array() avec la syntaxe suivante :\n",
    "``mon_tableau = np.array([ valeurs...])``  \n",
    "  rq : à la différence d'une liste, on ne peut pas créer de array vide ! \n",
    "- on peut initialiser également un tableau np avec la fonction range(nbr_de_valeur) ou np.arange(min, max, pas)\n",
    "- ou bien encore avec linspace(min, max, nbr_dintervalle) \n",
    "- on peut créer un tableau en initialisant toutes les valeurs à zeros avec la fonction zeros(nbr_ligne, nbr_colonne) ou en initialisant toutes les valeurs à un avec la fonction ones((nbr_ligne, nbr_colonne) --> ceci est pratique dans le calcul matriciel"
   ]
  },
  {
   "cell_type": "code",
   "execution_count": 1,
   "id": "dba9f785",
   "metadata": {},
   "outputs": [],
   "source": [
    "#import du module \n",
    "import numpy as np"
   ]
  },
  {
   "cell_type": "code",
   "execution_count": 2,
   "id": "3d8f3c5f",
   "metadata": {},
   "outputs": [
    {
     "name": "stdout",
     "output_type": "stream",
     "text": [
      "[1 2 3 4 5]\n"
     ]
    }
   ],
   "source": [
    "#créons un tableau à une ligne contenant les valeurs de 1 à 5\n",
    "tab1 = np.array([1,2,3,4,5])\n",
    "print(tab1)"
   ]
  },
  {
   "cell_type": "code",
   "execution_count": 4,
   "id": "51728013",
   "metadata": {},
   "outputs": [
    {
     "name": "stdout",
     "output_type": "stream",
     "text": [
      "[[1 2 3]\n",
      " [4 5 6]]\n"
     ]
    }
   ],
   "source": [
    "#puis un tableau de 2 lignes et 3 colonnes \n",
    "tab2 = np.array([[1,2,3], [4,5,6]])\n",
    "print(tab2)"
   ]
  },
  {
   "cell_type": "code",
   "execution_count": 15,
   "id": "1d8a3cf5",
   "metadata": {},
   "outputs": [
    {
     "name": "stdout",
     "output_type": "stream",
     "text": [
      "[[1 2]\n",
      " [3 4]\n",
      " [5 6]]\n"
     ]
    }
   ],
   "source": [
    "#puis un tableau de 3 lignes et 2 colonnes \n",
    "tab2 = np.array([[1,2], [3,4],[5,6]])\n",
    "print(tab2)"
   ]
  },
  {
   "cell_type": "code",
   "execution_count": 5,
   "id": "a2a69a83",
   "metadata": {},
   "outputs": [
    {
     "name": "stdout",
     "output_type": "stream",
     "text": [
      "[ 0  1  2  3  4  5  6  7  8  9 10 11 12 13 14 15 16 17 18 19]\n"
     ]
    }
   ],
   "source": [
    "#utilisons la fonction range pour créer un tableau contenant des 20 valeurs \n",
    "tab3 = np.array(range(20))\n",
    "print(tab3)"
   ]
  },
  {
   "cell_type": "code",
   "execution_count": 7,
   "id": "1663ccee",
   "metadata": {},
   "outputs": [
    {
     "name": "stdout",
     "output_type": "stream",
     "text": [
      "[2.  2.2 2.4 2.6 2.8]\n"
     ]
    }
   ],
   "source": [
    "#cette fois ci avec arange pour créer un tableau de valeurs comprises entre 2 et 3 avec un pas de 0.2\n",
    "tab4 = np.arange(2,3,0.2)\n",
    "print(tab4)"
   ]
  },
  {
   "cell_type": "code",
   "execution_count": 9,
   "id": "35a7186e",
   "metadata": {},
   "outputs": [
    {
     "name": "stdout",
     "output_type": "stream",
     "text": [
      "[[0. 0. 0. 0.]\n",
      " [0. 0. 0. 0.]\n",
      " [0. 0. 0. 0.]]\n"
     ]
    }
   ],
   "source": [
    "#initialisons maintenant les valeurs d'un tableau de 3 lignes et 4 colonnes avec des zeros\n",
    "tab5= np.zeros((3,4))\n",
    "# variante  : on peut également utiliser des crochets)\n",
    "tab5= np.zeros( [3,4] )    # attention cela ne crée pas de tableau [3,4] mais bien 3 lignes et 4 colonnes\n",
    "print(tab5)"
   ]
  },
  {
   "cell_type": "code",
   "execution_count": 24,
   "id": "8524ade5",
   "metadata": {},
   "outputs": [
    {
     "name": "stdout",
     "output_type": "stream",
     "text": [
      "[[10 10 10]\n",
      " [10 10 10]]\n"
     ]
    }
   ],
   "source": [
    "#on peut choisir la valeur d'initialisation avec la fonction full()\n",
    "tab6 = np.full([2, 3], 10)\n",
    "print(tab6) "
   ]
  },
  {
   "cell_type": "code",
   "execution_count": 27,
   "id": "f010de66",
   "metadata": {},
   "outputs": [
    {
     "name": "stdout",
     "output_type": "stream",
     "text": [
      "[10. 13. 16. 19. 22. 25. 28. 31. 34. 37. 40.]\n",
      "<class 'numpy.ndarray'>\n"
     ]
    }
   ],
   "source": [
    "# utilisons la fonction linspace pour créer un tableau de 11 valeurs comprises entre 20 et 40\n",
    "tab7 = np.linspace(10,40, 11)\n",
    "print(tab7)\n",
    "print(type(tab7))"
   ]
  },
  {
   "cell_type": "markdown",
   "id": "b6cd10e6",
   "metadata": {},
   "source": [
    "**bon à savoir!**  \n",
    "On peut passer d'une liste à un tableau en utilisant aussi la fonction array()"
   ]
  },
  {
   "cell_type": "code",
   "execution_count": 32,
   "id": "d2c772d9",
   "metadata": {},
   "outputs": [
    {
     "name": "stdout",
     "output_type": "stream",
     "text": [
      "[1, 2, 3, 4, 5, 6, 7, 8, 9, 10]\n",
      "type de ma_liste :  <class 'list'>\n",
      "[ 1  2  3  4  5  6  7  8  9 10]\n",
      "type de tab8 :  <class 'numpy.ndarray'>\n"
     ]
    }
   ],
   "source": [
    "#on crée une liste de valeurs de 1 à 10\n",
    "ma_liste = [1,2,3,4,5,6,7,8,9,10]\n",
    "print(ma_liste)\n",
    "print('type de ma_liste : ', type(ma_liste))\n",
    "tab8 = np.array(ma_liste)\n",
    "print(tab8)\n",
    "print('type de tab8 : ',type(tab8))"
   ]
  },
  {
   "cell_type": "code",
   "execution_count": 12,
   "id": "fe79970a",
   "metadata": {},
   "outputs": [],
   "source": [
    "#on peut également initialiser un tableau numpy avec des chiffres aléatoires.\n",
    "# Dans ce cas, nous aurons besoin de la fonction random \n",
    "# créons alors un tableau 4x3 de valeurs aléatoires comprises entre 0 et 50 \n",
    "\n",
    "from random import randint \n",
    "np.random.seed(2)                       # on fixe le seed pour générer les même valeurs aléatoires\n",
    "tab9 = np.random.randint(0,50,size=(4,3))\n",
    "#tab9 = np.random.randint(0,50,(4,3))"
   ]
  },
  {
   "cell_type": "code",
   "execution_count": 13,
   "id": "09dd6705",
   "metadata": {},
   "outputs": [
    {
     "name": "stdout",
     "output_type": "stream",
     "text": [
      "[[40 15 45]\n",
      " [ 8 22 43]\n",
      " [18 11 40]\n",
      " [ 7 34 49]]\n"
     ]
    }
   ],
   "source": [
    "print(tab9)"
   ]
  },
  {
   "cell_type": "markdown",
   "id": "4a06c90b",
   "metadata": {},
   "source": [
    "Quelques attributs utiles pour connaitre les dimensions d'un tableau\n",
    "- .ndim : sert à connaître la dimension d'un tableau\n",
    "- .size : sert à connaitre le nombre d'éléments contenus dans le tableau\n",
    "- .shape : sert à connaître le nombre de lignes et de colonnes "
   ]
  },
  {
   "cell_type": "markdown",
   "id": "7b668f28",
   "metadata": {},
   "source": [
    "> ## accéder aux données <a class=\"anchor\" id=\"manip\"></a>"
   ]
  },
  {
   "cell_type": "markdown",
   "id": "9e78c2ce",
   "metadata": {},
   "source": [
    "Accéder aux données d'un tableau se fait de la même façon que pour les listes: grâce à l'indiçage.  \n",
    "On peut ainsi accéder soit à une valeur précise soit à une tranche de valeurs avec toujours la même convention [ligne, colonne]"
   ]
  },
  {
   "cell_type": "code",
   "execution_count": 44,
   "id": "d4daedb8",
   "metadata": {},
   "outputs": [
    {
     "name": "stdout",
     "output_type": "stream",
     "text": [
      "[[40 15 72 22 43]\n",
      " [82 75  7 34 49]\n",
      " [95 75 85 47 63]\n",
      " [31 90 20 37 39]]\n"
     ]
    }
   ],
   "source": [
    "# un exemple , soit le tableau suivant\n",
    "np.random.seed(2)   \n",
    "mon_tableau = np.random.randint(0,100, size=(4,5))\n",
    "print(mon_tableau)"
   ]
  },
  {
   "cell_type": "code",
   "execution_count": 45,
   "id": "10874aa3",
   "metadata": {},
   "outputs": [
    {
     "data": {
      "text/plain": [
       "49"
      ]
     },
     "execution_count": 45,
     "metadata": {},
     "output_type": "execute_result"
    }
   ],
   "source": [
    "### je veux accéder à 2e élément de ma 5e colonne\n",
    "mon_tableau[1,4]"
   ]
  },
  {
   "cell_type": "code",
   "execution_count": 21,
   "id": "8ef562cf",
   "metadata": {},
   "outputs": [
    {
     "data": {
      "text/plain": [
       "array([47, 37])"
      ]
     },
     "execution_count": 21,
     "metadata": {},
     "output_type": "execute_result"
    }
   ],
   "source": [
    "#je veux accéder à tous les éléments de ma 4e colonne à partir du 3e\n",
    "mon_tableau[2:,3]"
   ]
  },
  {
   "cell_type": "code",
   "execution_count": 88,
   "id": "9ab49d50",
   "metadata": {},
   "outputs": [
    {
     "data": {
      "text/plain": [
       "39"
      ]
     },
     "execution_count": 88,
     "metadata": {},
     "output_type": "execute_result"
    }
   ],
   "source": [
    "#je veux accéder au dernier élément de ma dernière colonne\n",
    "mon_tableau[-1,-1]\n",
    "#mon_tableau[3,4] #une variante"
   ]
  },
  {
   "cell_type": "code",
   "execution_count": 6,
   "id": "ac960369",
   "metadata": {},
   "outputs": [
    {
     "data": {
      "text/plain": [
       "array([[22, 43],\n",
       "       [34, 49],\n",
       "       [47, 63],\n",
       "       [37, 39]])"
      ]
     },
     "execution_count": 6,
     "metadata": {},
     "output_type": "execute_result"
    }
   ],
   "source": [
    "#je veux accéder à tous les éléments de mes 2 dernières colonnes\n",
    "#mon_tableau[:,3:]\n",
    "#mon_tableau[:,-2:]   #une variante\n",
    "mon_tableau[:,[3,4]] #une variante"
   ]
  },
  {
   "cell_type": "markdown",
   "id": "d8d71c90",
   "metadata": {},
   "source": [
    "> ## calcul mathématique <a class=\"anchor\" id=\"calcul\"></a>"
   ]
  },
  {
   "cell_type": "markdown",
   "id": "4b2d5775",
   "metadata": {},
   "source": [
    "**Les opérations arithmétiques de base : + - x et /**\n",
    "\n",
    "- lorsque l'on applique une opération à un tableau, celle ci s'applique à chaque élément du tableau\n",
    "- attention multiplier 2 tableaux revient à réaliser une multiplication élément par élément et non une multiplication matricielle et non \n"
   ]
  },
  {
   "cell_type": "code",
   "execution_count": 9,
   "id": "0f9c9aa6",
   "metadata": {},
   "outputs": [
    {
     "name": "stdout",
     "output_type": "stream",
     "text": [
      "[[8 8 6]\n",
      " [2 8 7]\n",
      " [2 1 5]]\n"
     ]
    }
   ],
   "source": [
    "#soit le tableau suivant\n",
    "np.random.seed(2)   \n",
    "mon_tableau = np.random.randint(10, size=(3,3))\n",
    "print(mon_tableau)"
   ]
  },
  {
   "cell_type": "code",
   "execution_count": 95,
   "id": "3709918b",
   "metadata": {},
   "outputs": [
    {
     "name": "stdout",
     "output_type": "stream",
     "text": [
      "[[ 4  4  2]\n",
      " [-2  4  3]\n",
      " [-2 -3  1]]\n"
     ]
    }
   ],
   "source": [
    "#je soustrait 4 \n",
    "print(mon_tableau - 4)"
   ]
  },
  {
   "cell_type": "code",
   "execution_count": 96,
   "id": "6dc6643f",
   "metadata": {},
   "outputs": [
    {
     "name": "stdout",
     "output_type": "stream",
     "text": [
      "[[16 16 12]\n",
      " [ 4 16 14]\n",
      " [ 4  2 10]]\n"
     ]
    }
   ],
   "source": [
    "#je multiplie par 2\n",
    "print(mon_tableau * 2)"
   ]
  },
  {
   "cell_type": "code",
   "execution_count": 10,
   "id": "4edcc8b3",
   "metadata": {},
   "outputs": [
    {
     "name": "stdout",
     "output_type": "stream",
     "text": [
      "[[1 2 3]\n",
      " [1 2 3]\n",
      " [1 2 3]]\n"
     ]
    }
   ],
   "source": [
    "# je souhaite multiplier par un tableau \n",
    "mon_tab2 = np.array([[1,2,3],[1,2,3],[1,2,3]])\n",
    "print(mon_tab2)"
   ]
  },
  {
   "cell_type": "code",
   "execution_count": 11,
   "id": "b5f55eb3",
   "metadata": {},
   "outputs": [
    {
     "name": "stdout",
     "output_type": "stream",
     "text": [
      "[[8 8 6]\n",
      " [2 8 7]\n",
      " [2 1 5]]\n"
     ]
    }
   ],
   "source": [
    "print(mon_tableau)"
   ]
  },
  {
   "cell_type": "code",
   "execution_count": 13,
   "id": "8c1429c0",
   "metadata": {},
   "outputs": [
    {
     "name": "stdout",
     "output_type": "stream",
     "text": [
      "[[ 8 16 18]\n",
      " [ 2 16 21]\n",
      " [ 2  2 15]]\n"
     ]
    }
   ],
   "source": [
    "print(mon_tableau*mon_tab2)\n",
    "#dans ce cas, le produit se fait terme à terme"
   ]
  },
  {
   "cell_type": "code",
   "execution_count": 16,
   "id": "49ebbe50",
   "metadata": {},
   "outputs": [
    {
     "name": "stdout",
     "output_type": "stream",
     "text": [
      "[[1 2]\n",
      " [1 2]\n",
      " [1 2]]\n"
     ]
    }
   ],
   "source": [
    "# mais si je souhaite multiplier par un tableau de dimension inférieur\n",
    "mon_tab2 = np.array([[1,2],[1,2],[1,2]])\n",
    "print(mon_tab2)"
   ]
  },
  {
   "cell_type": "code",
   "execution_count": 17,
   "id": "153f07a5",
   "metadata": {},
   "outputs": [
    {
     "name": "stdout",
     "output_type": "stream",
     "text": [
      "[[8 8 6]\n",
      " [2 8 7]\n",
      " [2 1 5]]\n"
     ]
    }
   ],
   "source": [
    "print(mon_tableau)"
   ]
  },
  {
   "cell_type": "code",
   "execution_count": 18,
   "id": "32f80e65",
   "metadata": {},
   "outputs": [
    {
     "ename": "ValueError",
     "evalue": "operands could not be broadcast together with shapes (3,3) (3,2) ",
     "output_type": "error",
     "traceback": [
      "\u001b[1;31m---------------------------------------------------------------------------\u001b[0m",
      "\u001b[1;31mValueError\u001b[0m                                Traceback (most recent call last)",
      "Input \u001b[1;32mIn [18]\u001b[0m, in \u001b[0;36m<cell line: 1>\u001b[1;34m()\u001b[0m\n\u001b[1;32m----> 1\u001b[0m \u001b[38;5;28mprint\u001b[39m(\u001b[43mmon_tableau\u001b[49m\u001b[38;5;241;43m*\u001b[39;49m\u001b[43mmon_tab2\u001b[49m)\n",
      "\u001b[1;31mValueError\u001b[0m: operands could not be broadcast together with shapes (3,3) (3,2) "
     ]
    }
   ],
   "source": [
    "print(mon_tableau*mon_tab2)"
   ]
  },
  {
   "cell_type": "code",
   "execution_count": 108,
   "id": "1022126d",
   "metadata": {},
   "outputs": [
    {
     "name": "stdout",
     "output_type": "stream",
     "text": [
      "[[22 44]\n",
      " [17 34]\n",
      " [ 8 16]]\n"
     ]
    }
   ],
   "source": [
    "#Cependant multiplier 2 tableaux de dimensions différentes est possible si l'on calcule le produit scalaire !\n",
    "#pour ce faire on utilise la méthode .dot\n",
    "print(np.dot(mon_tableau,mon_tab2)) "
   ]
  },
  {
   "attachments": {
    "fonction_math_numpy.png": {
     "image/png": "[encoded data removed]"
    }
   },
   "cell_type": "markdown",
   "id": "ba214599",
   "metadata": {},
   "source": [
    "Numpy fournit également de nombreuses méthodes pour calculer des statistiques sur l'ensemble des tableaux. Celles peuvent s'avérer très utiles lorsque nous avons besoin de décrire des jeu de données\n",
    "![fonction_math_numpy.png](attachment:fonction_math_numpy.png)"
   ]
  },
  {
   "cell_type": "markdown",
   "id": "d7e97f04",
   "metadata": {},
   "source": [
    "> ## modifier un tableau <a class=\"anchor\" id=\"modif\"></a>"
   ]
  },
  {
   "cell_type": "markdown",
   "id": "fbd9022b",
   "metadata": {},
   "source": [
    "**remplacer un ou plusieurs éléments**  \n",
    "Comme pour les listes il suffit de renseigner l(es) indice(s)  de(s) l'élément(s) suivi d'un egal"
   ]
  },
  {
   "cell_type": "code",
   "execution_count": 52,
   "id": "a13b510b",
   "metadata": {},
   "outputs": [
    {
     "name": "stdout",
     "output_type": "stream",
     "text": [
      "[[5 0 3]\n",
      " [3 7 9]\n",
      " [3 5 2]]\n"
     ]
    }
   ],
   "source": [
    "#créons un tableau de dimension 3x3 pour des valeurs comprises entre 0 et 10 avec un seed de 0\n",
    "np.random.seed(0)   \n",
    "tab = np.random.randint(10, size=(3,3))\n",
    "print(tab)"
   ]
  },
  {
   "cell_type": "code",
   "execution_count": 53,
   "id": "ec2a50df",
   "metadata": {},
   "outputs": [
    {
     "name": "stdout",
     "output_type": "stream",
     "text": [
      "[[5 0 3]\n",
      " [3 1 9]\n",
      " [3 5 2]]\n"
     ]
    }
   ],
   "source": [
    "#remplaçons l'élément central par un 1\n",
    "tab[1,1]=1\n",
    "print (tab)"
   ]
  },
  {
   "cell_type": "code",
   "execution_count": 48,
   "id": "4c232d05",
   "metadata": {},
   "outputs": [
    {
     "data": {
      "text/plain": [
       "array([[5, 0, 3],\n",
       "       [3, 1, 9],\n",
       "       [0, 0, 0]])"
      ]
     },
     "execution_count": 48,
     "metadata": {},
     "output_type": "execute_result"
    }
   ],
   "source": [
    "#si l'on ne renseigne qu'un indice \n",
    "tab[2] = 0\n",
    "tab\n",
    "#c'est les éléments de toutes la ligne qui sont remplacées"
   ]
  },
  {
   "cell_type": "markdown",
   "id": "96871136",
   "metadata": {},
   "source": [
    "**ajouter/supprimer un ou plusieurs éléments**  \n",
    "- pour ajouter des éléments on utilise la fonction append()\n",
    "- pour supprimer des éléments on utilise la fonction delete()"
   ]
  },
  {
   "cell_type": "code",
   "execution_count": 54,
   "id": "b568dd9d",
   "metadata": {},
   "outputs": [
    {
     "name": "stdout",
     "output_type": "stream",
     "text": [
      "[[1 2 3]\n",
      " [4 5 6]\n",
      " [7 8 9]]\n"
     ]
    }
   ],
   "source": [
    "#soit un tableau de dimension 3x3\n",
    "array=np.array([[1,2,3],[4,5,6],[7,8,9]])\n",
    "print(array)"
   ]
  },
  {
   "cell_type": "code",
   "execution_count": 55,
   "id": "bff4bc00",
   "metadata": {},
   "outputs": [
    {
     "name": "stdout",
     "output_type": "stream",
     "text": [
      "[[1 2 3]\n",
      " [4 5 6]]\n"
     ]
    }
   ],
   "source": [
    "#on supprime la ligne d'indice 2\n",
    "print(np.delete(array,2,axis=0))     # axis = 1 --> colonne // axis = 0 --> ligne"
   ]
  },
  {
   "cell_type": "code",
   "execution_count": 66,
   "id": "52ac3295",
   "metadata": {},
   "outputs": [
    {
     "name": "stdout",
     "output_type": "stream",
     "text": [
      "[1 3 5]\n"
     ]
    }
   ],
   "source": [
    "# Soit un tableau  1d\n",
    "array1d = np.array([1,3,5]) \n",
    "print(array1d)"
   ]
  },
  {
   "cell_type": "code",
   "execution_count": 67,
   "id": "43e0fcb2",
   "metadata": {},
   "outputs": [
    {
     "name": "stdout",
     "output_type": "stream",
     "text": [
      "[1 3 5 9]\n"
     ]
    }
   ],
   "source": [
    "#on souhaite ajouter 1 élément \n",
    "#array1d = np.append(array1d,9)\n",
    "array1d = np.append(array1d,[9], axis= 0)\n",
    "print(array1d)"
   ]
  },
  {
   "cell_type": "code",
   "execution_count": 21,
   "id": "7d6af8f4",
   "metadata": {},
   "outputs": [
    {
     "name": "stdout",
     "output_type": "stream",
     "text": [
      "[[1 3]\n",
      " [9 4]]\n"
     ]
    }
   ],
   "source": [
    "# soit un tableau 2d\n",
    "array2d = np.array([[1,3],[9,4]])\n",
    "print(array2d)"
   ]
  },
  {
   "cell_type": "code",
   "execution_count": 22,
   "id": "9bab0ddf",
   "metadata": {},
   "outputs": [
    {
     "name": "stdout",
     "output_type": "stream",
     "text": [
      "[[1 3 2]\n",
      " [9 4 6]]\n"
     ]
    }
   ],
   "source": [
    "# on souhaite ajouter une colonne contenant les éléments suivants 2 et 6\n",
    "array2d = np.append(array2d,[[2],[6]], axis= 1)\n",
    "#array2d = np.append(array2d,[2,6], axis= 1)\n",
    "print(array2d)\n"
   ]
  },
  {
   "cell_type": "code",
   "execution_count": 23,
   "id": "bbb5c87b",
   "metadata": {},
   "outputs": [
    {
     "name": "stdout",
     "output_type": "stream",
     "text": [
      "[[1 3 2 2]\n",
      " [9 4 6 6]]\n"
     ]
    }
   ],
   "source": [
    "#autre variante\n",
    "ajout_colonne  = np.array([[2],[6]])\n",
    "#print(ajout_colonne) # 2,1 \n",
    "array3d =np.append(array2d, ajout_colonne, axis=1)\n",
    "print(array3d)"
   ]
  },
  {
   "cell_type": "code",
   "execution_count": 76,
   "id": "b6fbf9a1",
   "metadata": {},
   "outputs": [
    {
     "name": "stdout",
     "output_type": "stream",
     "text": [
      "[[2]\n",
      " [6]]\n",
      "[[1 3 2]\n",
      " [9 4 6]]\n"
     ]
    }
   ],
   "source": []
  },
  {
   "cell_type": "markdown",
   "id": "c5da0ab7",
   "metadata": {},
   "source": [
    "**concaténer et fractionner**\n",
    "\n",
    "- pour concaténer deux tableaux de même dimension : concatenate()\n",
    "- pour concaténer deux tableaux de dimension différents, en verticale : vstack()  \n",
    "- pour concaténer deux tableaux de dimension différents, en horizontale : hstack()  \n",
    "- pour fractionner deux tableaux de même dimension : split()\n",
    "- pour fractionner deux tableaux de dimension différents, en verticale : vsplit()  \n",
    "- pour fractionner deux tableaux de dimension différents, en horizontale : hsplit()\n"
   ]
  },
  {
   "cell_type": "code",
   "execution_count": 76,
   "id": "1a67fe87",
   "metadata": {},
   "outputs": [],
   "source": [
    "#soit 2 tableaux de même dimension 3X3\n",
    "array1=np.array([[1,2,3],[4,5,6],[7,8,9]])\n",
    "array2=np.array([[2,5,6],[9,10,11],[5,6,9]])"
   ]
  },
  {
   "cell_type": "code",
   "execution_count": 77,
   "id": "de780fd9",
   "metadata": {},
   "outputs": [
    {
     "name": "stdout",
     "output_type": "stream",
     "text": [
      "[[1 2 3]\n",
      " [4 5 6]\n",
      " [7 8 9]]\n"
     ]
    }
   ],
   "source": [
    "print(array1)"
   ]
  },
  {
   "cell_type": "code",
   "execution_count": 78,
   "id": "2e4356e7",
   "metadata": {},
   "outputs": [
    {
     "name": "stdout",
     "output_type": "stream",
     "text": [
      "[[ 2  5  6]\n",
      " [ 9 10 11]\n",
      " [ 5  6  9]]\n"
     ]
    }
   ],
   "source": [
    "print(array2)"
   ]
  },
  {
   "cell_type": "code",
   "execution_count": 165,
   "id": "5dbe70a1",
   "metadata": {},
   "outputs": [
    {
     "name": "stdout",
     "output_type": "stream",
     "text": [
      "[[ 1  2  3]\n",
      " [ 4  5  6]\n",
      " [ 7  8  9]\n",
      " [ 2  5  6]\n",
      " [ 9 10 11]\n",
      " [ 5  6  9]]\n"
     ]
    }
   ],
   "source": [
    "# on concatène par ligne\n",
    "print(np.concatenate([array1,array2], axis=0))"
   ]
  },
  {
   "cell_type": "code",
   "execution_count": 166,
   "id": "a49e4825",
   "metadata": {},
   "outputs": [
    {
     "name": "stdout",
     "output_type": "stream",
     "text": [
      "[[ 1  2  3  2  5  6]\n",
      " [ 4  5  6  9 10 11]\n",
      " [ 7  8  9  5  6  9]]\n"
     ]
    }
   ],
   "source": [
    "# on concatène par colonne \n",
    "print(np.concatenate([array1,array2], axis=1))"
   ]
  },
  {
   "cell_type": "code",
   "execution_count": 80,
   "id": "3593aeaf",
   "metadata": {},
   "outputs": [],
   "source": [
    "#on definit un tableau de dim 1\n",
    "array3=np.array([10,20,30]) # ligne \n",
    "array4=np.array([[10],[20],[30]]) # colonne"
   ]
  },
  {
   "cell_type": "code",
   "execution_count": 81,
   "id": "f9fdfcbe",
   "metadata": {},
   "outputs": [
    {
     "name": "stdout",
     "output_type": "stream",
     "text": [
      "[10 20 30]\n"
     ]
    }
   ],
   "source": [
    "print(array3)"
   ]
  },
  {
   "cell_type": "code",
   "execution_count": 82,
   "id": "72edfeab",
   "metadata": {},
   "outputs": [
    {
     "name": "stdout",
     "output_type": "stream",
     "text": [
      "[[10]\n",
      " [20]\n",
      " [30]]\n"
     ]
    }
   ],
   "source": [
    "print(array4)"
   ]
  },
  {
   "cell_type": "code",
   "execution_count": 83,
   "id": "3b2763ca",
   "metadata": {},
   "outputs": [
    {
     "name": "stdout",
     "output_type": "stream",
     "text": [
      "[[ 1  2  3]\n",
      " [ 4  5  6]\n",
      " [ 7  8  9]\n",
      " [10 20 30]]\n"
     ]
    }
   ],
   "source": [
    "#concaténons à la verticale les tableaux 1 et 3\n",
    "print(np.vstack([array1,array3]))"
   ]
  },
  {
   "cell_type": "code",
   "execution_count": 169,
   "id": "c825eb83",
   "metadata": {},
   "outputs": [
    {
     "name": "stdout",
     "output_type": "stream",
     "text": [
      "[[ 1  2  3 10]\n",
      " [ 4  5  6 20]\n",
      " [ 7  8  9 30]]\n"
     ]
    }
   ],
   "source": [
    "#concaténons à la horizontale les tableaux 1 et 4\n",
    "print(np.hstack([array1,array4]))"
   ]
  },
  {
   "cell_type": "code",
   "execution_count": 26,
   "id": "de54f278",
   "metadata": {},
   "outputs": [
    {
     "name": "stdout",
     "output_type": "stream",
     "text": [
      "[15 16 17 12 49 52 12 14 36]\n"
     ]
    }
   ],
   "source": [
    "#pour fractionner, créons un tableau à 1 dimension \n",
    "array=np.array([15,16,17,12,49,52,12,14,36])\n",
    "print(array)"
   ]
  },
  {
   "cell_type": "code",
   "execution_count": 27,
   "id": "171e10c7",
   "metadata": {},
   "outputs": [],
   "source": [
    "#séparons le en 3 tableaux\n",
    "array_split = np.split(array,3)"
   ]
  },
  {
   "cell_type": "code",
   "execution_count": 30,
   "id": "01256d16",
   "metadata": {},
   "outputs": [
    {
     "name": "stdout",
     "output_type": "stream",
     "text": [
      "[array([15, 16, 17]), array([12, 49, 52]), array([12, 14, 36])]\n"
     ]
    }
   ],
   "source": [
    "print(array_split)"
   ]
  },
  {
   "cell_type": "code",
   "execution_count": 32,
   "id": "a670cc0b",
   "metadata": {},
   "outputs": [
    {
     "name": "stdout",
     "output_type": "stream",
     "text": [
      "[15 16 17]\n",
      "14\n"
     ]
    }
   ],
   "source": [
    "#pour accéder à un des split il suffit d'indiquer l'indice \n",
    "print(array_split[0])\n",
    "print(array_split[2][1]) # pour accéder à un élément d'un des tableaux"
   ]
  },
  {
   "cell_type": "code",
   "execution_count": 33,
   "id": "73b776ca",
   "metadata": {},
   "outputs": [
    {
     "name": "stdout",
     "output_type": "stream",
     "text": [
      "[[1 2 3]\n",
      " [4 5 6]\n",
      " [7 8 9]]\n"
     ]
    }
   ],
   "source": [
    "#prenons maintenant le cas d'un tableau 3X3\n",
    "array_ndim = np.array([[1,2,3],[4,5,6],[7,8,9]])\n",
    "print(array_ndim)"
   ]
  },
  {
   "cell_type": "code",
   "execution_count": 45,
   "id": "96e31270",
   "metadata": {},
   "outputs": [],
   "source": [
    "#splittons le en 2  à la 1e ligne \n",
    "#split_ligne = np.vsplit(array_ndim, [1])\n",
    "split_ligne = np.vsplit(array_ndim,[1])\n"
   ]
  },
  {
   "cell_type": "code",
   "execution_count": 46,
   "id": "58b4f7a0",
   "metadata": {},
   "outputs": [
    {
     "name": "stdout",
     "output_type": "stream",
     "text": [
      "[array([[1, 2, 3]]), array([[4, 5, 6],\n",
      "       [7, 8, 9]])]\n"
     ]
    }
   ],
   "source": [
    "print(split_ligne)"
   ]
  },
  {
   "cell_type": "code",
   "execution_count": 48,
   "id": "73c162ad",
   "metadata": {},
   "outputs": [
    {
     "name": "stdout",
     "output_type": "stream",
     "text": [
      "9\n",
      "9\n"
     ]
    }
   ],
   "source": [
    "#accéder à un élément d'un des tableaux \n",
    "print(split_ligne[1][1,2])\n",
    "print(split_ligne[1][1][2])"
   ]
  },
  {
   "cell_type": "code",
   "execution_count": 92,
   "id": "004b86f9",
   "metadata": {},
   "outputs": [
    {
     "name": "stdout",
     "output_type": "stream",
     "text": [
      "[[1 2 3]]\n"
     ]
    }
   ],
   "source": [
    "print(split_ligne[0])"
   ]
  },
  {
   "cell_type": "code",
   "execution_count": 93,
   "id": "fc8672c6",
   "metadata": {},
   "outputs": [
    {
     "name": "stdout",
     "output_type": "stream",
     "text": [
      "[[4 5 6]\n",
      " [7 8 9]]\n"
     ]
    }
   ],
   "source": [
    "print(split_ligne[1])"
   ]
  },
  {
   "cell_type": "code",
   "execution_count": 50,
   "id": "99e43ad0",
   "metadata": {},
   "outputs": [
    {
     "name": "stdout",
     "output_type": "stream",
     "text": [
      "[array([[1, 2],\n",
      "       [4, 5],\n",
      "       [7, 8]]), array([[3],\n",
      "       [6],\n",
      "       [9]])]\n"
     ]
    }
   ],
   "source": [
    "#splittons le en 2  à la 2e colonne \n",
    "split_col = np.hsplit(array_ndim, [2])\n",
    "print(split_col)"
   ]
  },
  {
   "cell_type": "code",
   "execution_count": 114,
   "id": "9bed717e",
   "metadata": {},
   "outputs": [
    {
     "name": "stdout",
     "output_type": "stream",
     "text": [
      "6\n",
      "6\n"
     ]
    }
   ],
   "source": [
    "print(split_col[1][1,0])\n",
    "print(split_col[1][1][0])"
   ]
  },
  {
   "cell_type": "code",
   "execution_count": 95,
   "id": "cc19618f",
   "metadata": {},
   "outputs": [
    {
     "name": "stdout",
     "output_type": "stream",
     "text": [
      "[[1 2]\n",
      " [4 5]\n",
      " [7 8]]\n"
     ]
    }
   ],
   "source": [
    "print(split_col[0])"
   ]
  },
  {
   "cell_type": "code",
   "execution_count": 96,
   "id": "b20926bc",
   "metadata": {},
   "outputs": [
    {
     "name": "stdout",
     "output_type": "stream",
     "text": [
      "[[3]\n",
      " [6]\n",
      " [9]]\n"
     ]
    }
   ],
   "source": [
    "print(split_col[1])"
   ]
  },
  {
   "cell_type": "markdown",
   "id": "5fe3aa26",
   "metadata": {},
   "source": [
    "**Quelques méthodes utiles**  \n",
    "- La copie d’un tableau, comme pour les listes  ne doit pas se faire avec le symbole égal (=). Cela crée seulement une référence. mais on utilisera la méthode copy ()  \n",
    "- Numpy propose une fonction sort() qui permet de trier les valeurs d'un tableau. **attention** cela ne modifie pas l'ordre originel des valeurs du tableau. **à ne pas confondre avec la méthode .sort**"
   ]
  },
  {
   "cell_type": "code",
   "execution_count": 56,
   "id": "9e97bd4b",
   "metadata": {},
   "outputs": [
    {
     "name": "stdout",
     "output_type": "stream",
     "text": [
      "[[40 15 72 22 43 82 75  7 34 49]]\n"
     ]
    }
   ],
   "source": [
    "#prenons l'exemple suivant, on crée un tableau de 1 ligne de 10 valeurs \n",
    "# les valeurs prises sont aléatoires et comprises entre 0 et 100\n",
    "np.random.seed(2)   \n",
    "mon_tableau = np.random.randint(100, size=(1,10))\n",
    "print(mon_tableau)"
   ]
  },
  {
   "cell_type": "code",
   "execution_count": 57,
   "id": "b107be7f",
   "metadata": {},
   "outputs": [
    {
     "data": {
      "text/plain": [
       "array([[ 7, 15, 22, 34, 40, 43, 49, 72, 75, 82]])"
      ]
     },
     "execution_count": 57,
     "metadata": {},
     "output_type": "execute_result"
    }
   ],
   "source": [
    "#j'utilise la fonction sort() de numpy pour trier mes valeurs\n",
    "np.sort(mon_tableau)"
   ]
  },
  {
   "cell_type": "code",
   "execution_count": 58,
   "id": "5f5f2c67",
   "metadata": {},
   "outputs": [
    {
     "name": "stdout",
     "output_type": "stream",
     "text": [
      "[[40 15 72 22 43 82 75  7 34 49]]\n"
     ]
    }
   ],
   "source": [
    "#je vérifie si mon tableau est modifié\n",
    "print(mon_tableau)"
   ]
  },
  {
   "cell_type": "code",
   "execution_count": 119,
   "id": "56276d48",
   "metadata": {},
   "outputs": [],
   "source": [
    "#Par contre si j'utilise la méthode .sort\n",
    "mon_tableau.sort()"
   ]
  },
  {
   "cell_type": "code",
   "execution_count": 120,
   "id": "1045ee62",
   "metadata": {},
   "outputs": [
    {
     "name": "stdout",
     "output_type": "stream",
     "text": [
      "[[ 7 15 22 34 40 43 49 72 75 82]]\n"
     ]
    }
   ],
   "source": [
    "print(mon_tableau)"
   ]
  },
  {
   "cell_type": "markdown",
   "id": "f713584a",
   "metadata": {},
   "source": [
    "> ## comparaison et masque <a class=\"anchor\" id=\"comparaison\"></a>"
   ]
  },
  {
   "cell_type": "markdown",
   "id": "b2d022b0",
   "metadata": {},
   "source": [
    "Avec les tableaux Numpy, il est possible d’utiliser une matrice booléenne pour filtrer et comparer des tableaux Numpy."
   ]
  },
  {
   "cell_type": "code",
   "execution_count": 126,
   "id": "6129767b",
   "metadata": {},
   "outputs": [
    {
     "name": "stdout",
     "output_type": "stream",
     "text": [
      "[[44 47 64 67 67  9]\n",
      " [83 21 36 87 70 88]\n",
      " [88 12 58 65 39 87]\n",
      " [46 88 81 37 25 77]\n",
      " [72  9 20 80 69 79]\n",
      " [47 64 82 99 88 49]]\n"
     ]
    }
   ],
   "source": [
    "#commençons par créer un tableau 6*6 random avec valeurs comprises entre 0 et 100 en fixant le seed à 0\n",
    "np.random.seed(0)\n",
    "tableau = np.random.randint(100,size=(6,6))  # création d'un tableau 6*6 random avec valeurs comprises entre 0 et 100 \n",
    "print(tableau)"
   ]
  },
  {
   "cell_type": "code",
   "execution_count": 127,
   "id": "5b658205",
   "metadata": {},
   "outputs": [
    {
     "name": "stdout",
     "output_type": "stream",
     "text": [
      "[[False False  True  True  True False]\n",
      " [ True False False  True  True  True]\n",
      " [ True False  True  True False  True]\n",
      " [False  True  True False False  True]\n",
      " [ True False False  True  True  True]\n",
      " [False  True  True  True  True False]]\n"
     ]
    }
   ],
   "source": [
    "#on veut savoir si les valeurs comprises dans notre tableau sont supérieur à 50\n",
    "#pour se faire on crée un masque : c'est un tableau de même dimension mais avec des booléens \n",
    "masque = tableau>50\n",
    "print(masque)"
   ]
  },
  {
   "cell_type": "code",
   "execution_count": 128,
   "id": "7948120b",
   "metadata": {},
   "outputs": [
    {
     "data": {
      "text/plain": [
       "array([64, 67, 67, 83, 87, 70, 88, 88, 58, 65, 87, 88, 81, 77, 72, 80, 69,\n",
       "       79, 64, 82, 99, 88])"
      ]
     },
     "execution_count": 128,
     "metadata": {},
     "output_type": "execute_result"
    }
   ],
   "source": [
    "#si l'on veut sélectionner uniquement le sous ensemble qui respecte la condition \n",
    "tableau[masque] \n",
    "tableau[tableau>50]  # synthaxe équivalente"
   ]
  },
  {
   "cell_type": "markdown",
   "id": "732986c0",
   "metadata": {},
   "source": [
    "Nous pouvons utiliser de  nombreux autres opérateurs de comparaison pour comparer deux tableaux :\n",
    "\n",
    "``tableau[tableau>=50]``  : on souhaite garder uniquement les valeurs supérieures ou égales à  50.  \n",
    "``tableau[tableau<50]``   : on souhaite garder uniquement les valeurs strictement inférieures à 50.  \n",
    "``tableau[tableau!=50]``  : on souhaite garder uniquement les valeurs différentes de 50.  \n",
    "``tableau[tableau==50]``  : on souhaite garder uniquement les valeurs égales 50.  \n",
    "``tableau[(tableau >=50) & (tableau <=70)]``  :  on souhaite garder uniquement les valeurs comprises entre 50 et 70 inclusivement.  \n",
    "``tableau[(tableau>=50) | (tableau<=40)] ``   :  on souhaite garder uniquement les valeurs non comprises entre 40 et 50.   "
   ]
  },
  {
   "cell_type": "markdown",
   "id": "11688440",
   "metadata": {},
   "source": [
    "# La librairie pandas <a class=\"anchor\" id=\"pandas\"></a>"
   ]
  },
  {
   "cell_type": "markdown",
   "id": "187a9499",
   "metadata": {},
   "source": [
    "Pandas est une bibliothèque spécialisée dans la manipulation de données. Cette bibliothèque regroupe un ensemble de fonctions optimisées pour manipuler de gros jeux de données.Cette librairie est basée sur Numpy.  Elle permet de créer et exporter des tables de données à partir de fichiers textes (séparateurs, .csv, format fixe, compressés), binaires (HDF5 avec Pytable), HTML, XML, JSON, MongoDB, SQL…  \n",
    "Une nouvelle structure de donnée est utilisée avec cette bibliothèque: le DataFrame . Il existe deux types de données avec pandas: les séries et les dataframes.  \n",
    "\n",
    "Les particularités des dataframes : \n",
    "- Un dataframe est un tableau qui est créé avec des dictionnaires ou des listes.\n",
    "- Ils sont basés sur des tableaux Numpy ou ndarray\n",
    "- Ils peuvent avoir des noms de colonnes et des noms de lignes\n",
    "- Ils ont la particularité de pouvoir mélanger les types de données: str, float, Nan, Int…\n",
    "- On peut les visualiser comme une feuille Excel mais avec un nombre important de volumes de données ainsi qu’un nombre importants de fonctions et attributs.  \n",
    "\n",
    "Les particularités des séries : \n",
    "- ce sont des tableaux à une dimensions (array) de données indexées\n",
    "- un dataframe est en réalité un ensemble de séries\n",
    "- on pourra utiliser les fonctions mathématiques que vues précédement pour les arrays np comme par exemple min() max() ..."
   ]
  },
  {
   "cell_type": "markdown",
   "id": "7f3b75bf",
   "metadata": {},
   "source": [
    "> ## création et manipulation de série <a class=\"anchor\" id=\"serie\"></a>"
   ]
  },
  {
   "cell_type": "markdown",
   "id": "cd5c3a7e",
   "metadata": {},
   "source": [
    "Il existe plusieurs façons de créer une série:  \n",
    "- soit en utilisant une liste\n",
    "- soit en utlisant un dictionnaire"
   ]
  },
  {
   "cell_type": "code",
   "execution_count": 60,
   "id": "e3137b57",
   "metadata": {},
   "outputs": [],
   "source": [
    "#import du module\n",
    "import pandas as pd"
   ]
  },
  {
   "cell_type": "code",
   "execution_count": 61,
   "id": "27f99c66",
   "metadata": {},
   "outputs": [
    {
     "name": "stdout",
     "output_type": "stream",
     "text": [
      "0    11\n",
      "1    15\n",
      "2    12\n",
      "3    13\n",
      "4    14\n",
      "dtype: int64\n"
     ]
    }
   ],
   "source": [
    "#création d'une série à partir d'une liste\n",
    "ma_liste = [11,15,12,13,14]\n",
    "serie = pd.Series(ma_liste)\n",
    "print(serie)"
   ]
  },
  {
   "cell_type": "code",
   "execution_count": 62,
   "id": "3a9924eb",
   "metadata": {},
   "outputs": [
    {
     "name": "stdout",
     "output_type": "stream",
     "text": [
      "Montréal    11\n",
      "Ottawa      15\n",
      "Toronto     12\n",
      "Québec      13\n",
      "dtype: int64\n"
     ]
    }
   ],
   "source": [
    "#création d'une série à partir d'un dictionnaire\n",
    "mon_dico ={\"Montréal\":11,\"Ottawa\":15,\"Toronto\":12, \"Québec\": 13  }\n",
    "\n",
    "ma_serie = pd.Series(mon_dico)\n",
    "print(ma_serie)"
   ]
  },
  {
   "cell_type": "code",
   "execution_count": 63,
   "id": "3e2938e5",
   "metadata": {},
   "outputs": [
    {
     "name": "stdout",
     "output_type": "stream",
     "text": [
      "Montréal    11\n",
      "Ottawa      15\n",
      "Toronto     12\n",
      "Québec      13\n",
      "dtype: int64\n"
     ]
    }
   ],
   "source": [
    "# ou bien directement en renseignant des valeurs et les index associés\n",
    "ma_serie = pd.Series([11,15,12,13] ,index=[\"Montréal\", \"Ottawa\", \"Toronto\", \"Québec\"])\n",
    "print(ma_serie)"
   ]
  },
  {
   "cell_type": "code",
   "execution_count": 64,
   "id": "022c130a",
   "metadata": {},
   "outputs": [
    {
     "data": {
      "text/plain": [
       "array([11, 15, 12, 13], dtype=int64)"
      ]
     },
     "execution_count": 64,
     "metadata": {},
     "output_type": "execute_result"
    }
   ],
   "source": [
    "#pour accéder aux toutes les valeurs d'une série\n",
    "ma_serie.values"
   ]
  },
  {
   "cell_type": "code",
   "execution_count": 65,
   "id": "076651d0",
   "metadata": {},
   "outputs": [
    {
     "name": "stdout",
     "output_type": "stream",
     "text": [
      "13\n",
      "13\n"
     ]
    }
   ],
   "source": [
    "#pour accéder à une valeur en particulier on se sert de l'index ou du numero de l'index\n",
    "print(ma_serie['Québec'])\n",
    "print(ma_serie[3])"
   ]
  },
  {
   "cell_type": "code",
   "execution_count": 13,
   "id": "e535fd7c",
   "metadata": {},
   "outputs": [
    {
     "data": {
      "text/plain": [
       "Index(['Montréal', 'Ottawa', 'Toronto', 'Québec'], dtype='object')"
      ]
     },
     "execution_count": 13,
     "metadata": {},
     "output_type": "execute_result"
    }
   ],
   "source": [
    "# pour accéder aux index\n",
    "ma_serie.index"
   ]
  },
  {
   "cell_type": "code",
   "execution_count": 8,
   "id": "0449ee86",
   "metadata": {},
   "outputs": [
    {
     "name": "stdout",
     "output_type": "stream",
     "text": [
      "ville\n",
      "Montréal    11\n",
      "Ottawa      15\n",
      "Toronto     12\n",
      "Québec      13\n",
      "Name: score, dtype: int64\n"
     ]
    }
   ],
   "source": [
    "#on peut attribuer un nom à la série ainsi qu'à l'index\n",
    "ma_serie.name = 'score'\n",
    "ma_serie.index.name = 'ville'\n",
    "print(ma_serie)"
   ]
  },
  {
   "cell_type": "code",
   "execution_count": 16,
   "id": "057a7441",
   "metadata": {},
   "outputs": [
    {
     "data": {
      "text/plain": [
       "count     4.000000\n",
       "mean     12.750000\n",
       "std       1.707825\n",
       "min      11.000000\n",
       "25%      11.750000\n",
       "50%      12.500000\n",
       "75%      13.500000\n",
       "max      15.000000\n",
       "Name: score, dtype: float64"
      ]
     },
     "execution_count": 16,
     "metadata": {},
     "output_type": "execute_result"
    }
   ],
   "source": [
    "# pour savoir ce que contient notre serie on utilise la méthode describe\n",
    "ma_serie.describe()"
   ]
  },
  {
   "cell_type": "code",
   "execution_count": 67,
   "id": "eddf4431",
   "metadata": {},
   "outputs": [
    {
     "name": "stdout",
     "output_type": "stream",
     "text": [
      "11\n"
     ]
    }
   ],
   "source": [
    "# la valeur min de notre série\n",
    "print(ma_serie.min())\n",
    "print(ma_serie.max())"
   ]
  },
  {
   "cell_type": "markdown",
   "id": "6f00bdff",
   "metadata": {},
   "source": [
    "> ## création d'un dataframe<a class=\"anchor\" id=\"creationdf\"></a>\n"
   ]
  },
  {
   "cell_type": "markdown",
   "id": "b9e9ab2e",
   "metadata": {},
   "source": [
    "En règle générale, un DataFrame est créé en chargeant des jeux de données à partir du stockage existant, le stockage peut être par exemple une base de données SQL, un fichier CSV ou un fichier Excel.  \n",
    "Le DataFrame peut aussi être créé à partir de listes, d’un dictionnaire et d’une liste de dictionnaires, etc."
   ]
  },
  {
   "cell_type": "code",
   "execution_count": 9,
   "id": "be711201",
   "metadata": {},
   "outputs": [],
   "source": [
    "import numpy as np\n",
    "import pandas as pd"
   ]
  },
  {
   "cell_type": "code",
   "execution_count": 10,
   "id": "8db6a2ab",
   "metadata": {},
   "outputs": [
    {
     "name": "stdout",
     "output_type": "stream",
     "text": [
      "C:\\Users\\barba\\Desktop\\formation_python\\version_enseignant\\support_de_cours\n"
     ]
    }
   ],
   "source": [
    "#pour savoir ou nous sommes dans l'ordinateur, ou est stocké mon notebook\n",
    "import os\n",
    "chemin = os.getcwd()\n",
    "print(chemin)"
   ]
  },
  {
   "cell_type": "code",
   "execution_count": 11,
   "id": "a11343a6",
   "metadata": {},
   "outputs": [
    {
     "data": {
      "text/plain": [
       "['.ipynb_checkpoints',\n",
       " 'decouverte_des_librairies.ipynb',\n",
       " 'fichier',\n",
       " 'fichier_csv_export.csv',\n",
       " 'fichier_json_export.json',\n",
       " 'France.txt',\n",
       " 'les_bases_du_langage.ipynb']"
      ]
     },
     "execution_count": 11,
     "metadata": {},
     "output_type": "execute_result"
    }
   ],
   "source": [
    "#pour lister tous mes dossiers, fichiers et notebooks à l'endroit ou je me trouve\n",
    "os.listdir()"
   ]
  },
  {
   "cell_type": "code",
   "execution_count": 122,
   "id": "d0bccbe8",
   "metadata": {},
   "outputs": [
    {
     "name": "stdout",
     "output_type": "stream",
     "text": [
      "[['POSTE' 'NOM' 'LON' ... 'QDHUMI80' 'UM' 'QUM']\n",
      " ['01089001' 'AMBERIEU' '5Â°19\\'45\"E' ... 't' '97' 'v']\n",
      " ['01089001' 'AMBERIEU' '5Â°19\\'45\"E' ... 't' '86' 'v']\n",
      " ...\n",
      " ['95527001' 'ROISSY' '2Â°32\\'03\"E' ... 't' '60' 'v']\n",
      " ['95527001' 'ROISSY' '2Â°32\\'03\"E' ... 't' '56' 'v']\n",
      " ['95527001' 'ROISSY' '2Â°32\\'03\"E' ... 't' '61' 'v']]\n"
     ]
    }
   ],
   "source": [
    "# création d'un dataframe à partir d'un array numpy\n",
    "array_meteo = np.genfromtxt(\"./fichier/meteo_france_donnees_covid19.csv\", delimiter=';',  dtype=str)  \n",
    "print(array_meteo)"
   ]
  },
  {
   "cell_type": "code",
   "execution_count": 13,
   "id": "ea5b8de1",
   "metadata": {},
   "outputs": [
    {
     "name": "stdout",
     "output_type": "stream",
     "text": [
      "          POSTE       NOM         LON          LAT  ALT      DATE   RR QRR  \\\n",
      "0      01089001  AMBERIEU  5Â°19'45\"E  45Â°58'35\"N  250  20200101  0,0   v   \n",
      "1      01089001  AMBERIEU  5Â°19'45\"E  45Â°58'35\"N  250  20200102  0,0   v   \n",
      "2      01089001  AMBERIEU  5Â°19'45\"E  45Â°58'35\"N  250  20200103  0,4   v   \n",
      "3      01089001  AMBERIEU  5Â°19'45\"E  45Â°58'35\"N  250  20200104  0,6   v   \n",
      "4      01089001  AMBERIEU  5Â°19'45\"E  45Â°58'35\"N  250  20200105  0,0   v   \n",
      "...         ...       ...         ...          ...  ...       ...  ...  ..   \n",
      "53419  95527001    ROISSY  2Â°32'03\"E  49Â°00'54\"N  108  20210417  0,0   v   \n",
      "53420  95527001    ROISSY  2Â°32'03\"E  49Â°00'54\"N  108  20210418  0,0   v   \n",
      "53421  95527001    ROISSY  2Â°32'03\"E  49Â°00'54\"N  108  20210419  0,0   v   \n",
      "53422  95527001    ROISSY  2Â°32'03\"E  49Â°00'54\"N  108  20210420  0,0   v   \n",
      "53423  95527001    ROISSY  2Â°32'03\"E  49Â°00'54\"N  108  20210421  0,0   v   \n",
      "\n",
      "         TN QTN  ...  UN QUN  UX QUX DHUMI40 QDHUMI40 DHUMI80 QDHUMI80  UM QUM  \n",
      "0      -2,2   v  ...  97   v  98   v       0        t    1440        t  97   v  \n",
      "1      -1,8   v  ...  69   v  99   v       0        t     860        t  86   v  \n",
      "2       3,3   v  ...  71   v  95   v       0        t     620        t  81   v  \n",
      "3       3,4   v  ...  74   v  97   v       0        t    1168        t  89   v  \n",
      "4      -3,4   v  ...  77   v  97   v       0        t    1395        t  92   v  \n",
      "...     ...  ..  ...  ..  ..  ..  ..     ...      ...     ...      ...  ..  ..  \n",
      "53419   2,6   v  ...  36   v  89   v     239        t     357        t  62   v  \n",
      "53420   2,0   v  ...  45   v  90   v       0        t     349        t  66   v  \n",
      "53421   3,3   v  ...  36   v  86   v     226        t     403        t  60   v  \n",
      "53422   5,7   v  ...  28   v  85   v     358        t     215        t  56   v  \n",
      "53423   6,5   v  ...  36   v  84   v      40        t     151        t  61   v  \n",
      "\n",
      "[53424 rows x 26 columns]\n"
     ]
    }
   ],
   "source": [
    "df_meteo = pd.DataFrame(array_meteo[1:,:], columns = array_meteo[0])\n",
    "print(df_meteo) #affichage 1\n",
    "df_meteo #affichage 2 --> plus agréable à lire"
   ]
  },
  {
   "cell_type": "markdown",
   "id": "717322c2",
   "metadata": {},
   "source": [
    "On peut également créer un dataframe à partir de séries. Les séries seront les colonnes du dataframe.  \n",
    "Au niveau  syntaxe, on utilise des dictionnaires pour créer un dataframe avec des séries"
   ]
  },
  {
   "cell_type": "code",
   "execution_count": 123,
   "id": "180f2b18",
   "metadata": {},
   "outputs": [],
   "source": [
    "#on définit une première série \n",
    "# les valeurs sont des notes d'étudiants : 11 15 15 11  /// 14 16 10 12 12\n",
    "#et les index le nom d'étudiants : Fred Pierre Marie Lise /// Damien Samuel Marie Lise Fred\n",
    "serie_1 = pd.Series([11,15,15,11], index=['Fred', 'Pierre', 'Marie', 'Lise'])\n",
    "serie_2 = pd.Series([14,16,10,12,12], index=['Damien','Samuel', 'Marie', 'Lise','Fred'])"
   ]
  },
  {
   "cell_type": "code",
   "execution_count": 124,
   "id": "996cdbd6",
   "metadata": {},
   "outputs": [
    {
     "name": "stdout",
     "output_type": "stream",
     "text": [
      "        Note1  Note2\n",
      "Damien    NaN   14.0\n",
      "Fred     11.0   12.0\n",
      "Lise     11.0   12.0\n",
      "Marie    15.0   10.0\n",
      "Pierre   15.0    NaN\n",
      "Samuel    NaN   16.0\n"
     ]
    }
   ],
   "source": [
    "df = pd.DataFrame( {\"Note1\":serie_1, \"Note2\":serie_2} )\n",
    "print(df)"
   ]
  },
  {
   "cell_type": "markdown",
   "id": "7fbe39fd",
   "metadata": {},
   "source": [
    "On peut également créer un dataframe directement à partir d'un fichier csv ou Excel"
   ]
  },
  {
   "cell_type": "code",
   "execution_count": 14,
   "id": "9e394c8e",
   "metadata": {},
   "outputs": [
    {
     "data": {
      "text/html": [
       "<div>\n",
       "<style scoped>\n",
       "    .dataframe tbody tr th:only-of-type {\n",
       "        vertical-align: middle;\n",
       "    }\n",
       "\n",
       "    .dataframe tbody tr th {\n",
       "        vertical-align: top;\n",
       "    }\n",
       "\n",
       "    .dataframe thead th {\n",
       "        text-align: right;\n",
       "    }\n",
       "</style>\n",
       "<table border=\"1\" class=\"dataframe\">\n",
       "  <thead>\n",
       "    <tr style=\"text-align: right;\">\n",
       "      <th></th>\n",
       "      <th>POSTE</th>\n",
       "      <th>NOM</th>\n",
       "      <th>LON</th>\n",
       "      <th>LAT</th>\n",
       "      <th>ALT</th>\n",
       "      <th>DATE</th>\n",
       "      <th>RR</th>\n",
       "      <th>QRR</th>\n",
       "      <th>TN</th>\n",
       "      <th>QTN</th>\n",
       "      <th>...</th>\n",
       "      <th>UN</th>\n",
       "      <th>QUN</th>\n",
       "      <th>UX</th>\n",
       "      <th>QUX</th>\n",
       "      <th>DHUMI40</th>\n",
       "      <th>QDHUMI40</th>\n",
       "      <th>DHUMI80</th>\n",
       "      <th>QDHUMI80</th>\n",
       "      <th>UM</th>\n",
       "      <th>QUM</th>\n",
       "    </tr>\n",
       "  </thead>\n",
       "  <tbody>\n",
       "    <tr>\n",
       "      <th>0</th>\n",
       "      <td>1089001</td>\n",
       "      <td>AMBERIEU</td>\n",
       "      <td>5°19'45\"E</td>\n",
       "      <td>45°58'35\"N</td>\n",
       "      <td>250</td>\n",
       "      <td>20200101</td>\n",
       "      <td>0,0</td>\n",
       "      <td>v</td>\n",
       "      <td>-2,2</td>\n",
       "      <td>v</td>\n",
       "      <td>...</td>\n",
       "      <td>97.0</td>\n",
       "      <td>v</td>\n",
       "      <td>98.0</td>\n",
       "      <td>v</td>\n",
       "      <td>0.0</td>\n",
       "      <td>t</td>\n",
       "      <td>1440.0</td>\n",
       "      <td>t</td>\n",
       "      <td>97.0</td>\n",
       "      <td>v</td>\n",
       "    </tr>\n",
       "    <tr>\n",
       "      <th>1</th>\n",
       "      <td>1089001</td>\n",
       "      <td>AMBERIEU</td>\n",
       "      <td>5°19'45\"E</td>\n",
       "      <td>45°58'35\"N</td>\n",
       "      <td>250</td>\n",
       "      <td>20200102</td>\n",
       "      <td>0,0</td>\n",
       "      <td>v</td>\n",
       "      <td>-1,8</td>\n",
       "      <td>v</td>\n",
       "      <td>...</td>\n",
       "      <td>69.0</td>\n",
       "      <td>v</td>\n",
       "      <td>99.0</td>\n",
       "      <td>v</td>\n",
       "      <td>0.0</td>\n",
       "      <td>t</td>\n",
       "      <td>860.0</td>\n",
       "      <td>t</td>\n",
       "      <td>86.0</td>\n",
       "      <td>v</td>\n",
       "    </tr>\n",
       "    <tr>\n",
       "      <th>2</th>\n",
       "      <td>1089001</td>\n",
       "      <td>AMBERIEU</td>\n",
       "      <td>5°19'45\"E</td>\n",
       "      <td>45°58'35\"N</td>\n",
       "      <td>250</td>\n",
       "      <td>20200103</td>\n",
       "      <td>0,4</td>\n",
       "      <td>v</td>\n",
       "      <td>3,3</td>\n",
       "      <td>v</td>\n",
       "      <td>...</td>\n",
       "      <td>71.0</td>\n",
       "      <td>v</td>\n",
       "      <td>95.0</td>\n",
       "      <td>v</td>\n",
       "      <td>0.0</td>\n",
       "      <td>t</td>\n",
       "      <td>620.0</td>\n",
       "      <td>t</td>\n",
       "      <td>81.0</td>\n",
       "      <td>v</td>\n",
       "    </tr>\n",
       "    <tr>\n",
       "      <th>3</th>\n",
       "      <td>1089001</td>\n",
       "      <td>AMBERIEU</td>\n",
       "      <td>5°19'45\"E</td>\n",
       "      <td>45°58'35\"N</td>\n",
       "      <td>250</td>\n",
       "      <td>20200104</td>\n",
       "      <td>0,6</td>\n",
       "      <td>v</td>\n",
       "      <td>3,4</td>\n",
       "      <td>v</td>\n",
       "      <td>...</td>\n",
       "      <td>74.0</td>\n",
       "      <td>v</td>\n",
       "      <td>97.0</td>\n",
       "      <td>v</td>\n",
       "      <td>0.0</td>\n",
       "      <td>t</td>\n",
       "      <td>1168.0</td>\n",
       "      <td>t</td>\n",
       "      <td>89.0</td>\n",
       "      <td>v</td>\n",
       "    </tr>\n",
       "    <tr>\n",
       "      <th>4</th>\n",
       "      <td>1089001</td>\n",
       "      <td>AMBERIEU</td>\n",
       "      <td>5°19'45\"E</td>\n",
       "      <td>45°58'35\"N</td>\n",
       "      <td>250</td>\n",
       "      <td>20200105</td>\n",
       "      <td>0,0</td>\n",
       "      <td>v</td>\n",
       "      <td>-3,4</td>\n",
       "      <td>v</td>\n",
       "      <td>...</td>\n",
       "      <td>77.0</td>\n",
       "      <td>v</td>\n",
       "      <td>97.0</td>\n",
       "      <td>v</td>\n",
       "      <td>0.0</td>\n",
       "      <td>t</td>\n",
       "      <td>1395.0</td>\n",
       "      <td>t</td>\n",
       "      <td>92.0</td>\n",
       "      <td>v</td>\n",
       "    </tr>\n",
       "    <tr>\n",
       "      <th>...</th>\n",
       "      <td>...</td>\n",
       "      <td>...</td>\n",
       "      <td>...</td>\n",
       "      <td>...</td>\n",
       "      <td>...</td>\n",
       "      <td>...</td>\n",
       "      <td>...</td>\n",
       "      <td>...</td>\n",
       "      <td>...</td>\n",
       "      <td>...</td>\n",
       "      <td>...</td>\n",
       "      <td>...</td>\n",
       "      <td>...</td>\n",
       "      <td>...</td>\n",
       "      <td>...</td>\n",
       "      <td>...</td>\n",
       "      <td>...</td>\n",
       "      <td>...</td>\n",
       "      <td>...</td>\n",
       "      <td>...</td>\n",
       "      <td>...</td>\n",
       "    </tr>\n",
       "    <tr>\n",
       "      <th>53419</th>\n",
       "      <td>95527001</td>\n",
       "      <td>ROISSY</td>\n",
       "      <td>2°32'03\"E</td>\n",
       "      <td>49°00'54\"N</td>\n",
       "      <td>108</td>\n",
       "      <td>20210417</td>\n",
       "      <td>0,0</td>\n",
       "      <td>v</td>\n",
       "      <td>2,6</td>\n",
       "      <td>v</td>\n",
       "      <td>...</td>\n",
       "      <td>36.0</td>\n",
       "      <td>v</td>\n",
       "      <td>89.0</td>\n",
       "      <td>v</td>\n",
       "      <td>239.0</td>\n",
       "      <td>t</td>\n",
       "      <td>357.0</td>\n",
       "      <td>t</td>\n",
       "      <td>62.0</td>\n",
       "      <td>v</td>\n",
       "    </tr>\n",
       "    <tr>\n",
       "      <th>53420</th>\n",
       "      <td>95527001</td>\n",
       "      <td>ROISSY</td>\n",
       "      <td>2°32'03\"E</td>\n",
       "      <td>49°00'54\"N</td>\n",
       "      <td>108</td>\n",
       "      <td>20210418</td>\n",
       "      <td>0,0</td>\n",
       "      <td>v</td>\n",
       "      <td>2,0</td>\n",
       "      <td>v</td>\n",
       "      <td>...</td>\n",
       "      <td>45.0</td>\n",
       "      <td>v</td>\n",
       "      <td>90.0</td>\n",
       "      <td>v</td>\n",
       "      <td>0.0</td>\n",
       "      <td>t</td>\n",
       "      <td>349.0</td>\n",
       "      <td>t</td>\n",
       "      <td>66.0</td>\n",
       "      <td>v</td>\n",
       "    </tr>\n",
       "    <tr>\n",
       "      <th>53421</th>\n",
       "      <td>95527001</td>\n",
       "      <td>ROISSY</td>\n",
       "      <td>2°32'03\"E</td>\n",
       "      <td>49°00'54\"N</td>\n",
       "      <td>108</td>\n",
       "      <td>20210419</td>\n",
       "      <td>0,0</td>\n",
       "      <td>v</td>\n",
       "      <td>3,3</td>\n",
       "      <td>v</td>\n",
       "      <td>...</td>\n",
       "      <td>36.0</td>\n",
       "      <td>v</td>\n",
       "      <td>86.0</td>\n",
       "      <td>v</td>\n",
       "      <td>226.0</td>\n",
       "      <td>t</td>\n",
       "      <td>403.0</td>\n",
       "      <td>t</td>\n",
       "      <td>60.0</td>\n",
       "      <td>v</td>\n",
       "    </tr>\n",
       "    <tr>\n",
       "      <th>53422</th>\n",
       "      <td>95527001</td>\n",
       "      <td>ROISSY</td>\n",
       "      <td>2°32'03\"E</td>\n",
       "      <td>49°00'54\"N</td>\n",
       "      <td>108</td>\n",
       "      <td>20210420</td>\n",
       "      <td>0,0</td>\n",
       "      <td>v</td>\n",
       "      <td>5,7</td>\n",
       "      <td>v</td>\n",
       "      <td>...</td>\n",
       "      <td>28.0</td>\n",
       "      <td>v</td>\n",
       "      <td>85.0</td>\n",
       "      <td>v</td>\n",
       "      <td>358.0</td>\n",
       "      <td>t</td>\n",
       "      <td>215.0</td>\n",
       "      <td>t</td>\n",
       "      <td>56.0</td>\n",
       "      <td>v</td>\n",
       "    </tr>\n",
       "    <tr>\n",
       "      <th>53423</th>\n",
       "      <td>95527001</td>\n",
       "      <td>ROISSY</td>\n",
       "      <td>2°32'03\"E</td>\n",
       "      <td>49°00'54\"N</td>\n",
       "      <td>108</td>\n",
       "      <td>20210421</td>\n",
       "      <td>0,0</td>\n",
       "      <td>v</td>\n",
       "      <td>6,5</td>\n",
       "      <td>v</td>\n",
       "      <td>...</td>\n",
       "      <td>36.0</td>\n",
       "      <td>v</td>\n",
       "      <td>84.0</td>\n",
       "      <td>v</td>\n",
       "      <td>40.0</td>\n",
       "      <td>t</td>\n",
       "      <td>151.0</td>\n",
       "      <td>t</td>\n",
       "      <td>61.0</td>\n",
       "      <td>v</td>\n",
       "    </tr>\n",
       "  </tbody>\n",
       "</table>\n",
       "<p>53424 rows × 26 columns</p>\n",
       "</div>"
      ],
      "text/plain": [
       "          POSTE       NOM        LON         LAT  ALT      DATE   RR QRR  \\\n",
       "0       1089001  AMBERIEU  5°19'45\"E  45°58'35\"N  250  20200101  0,0   v   \n",
       "1       1089001  AMBERIEU  5°19'45\"E  45°58'35\"N  250  20200102  0,0   v   \n",
       "2       1089001  AMBERIEU  5°19'45\"E  45°58'35\"N  250  20200103  0,4   v   \n",
       "3       1089001  AMBERIEU  5°19'45\"E  45°58'35\"N  250  20200104  0,6   v   \n",
       "4       1089001  AMBERIEU  5°19'45\"E  45°58'35\"N  250  20200105  0,0   v   \n",
       "...         ...       ...        ...         ...  ...       ...  ...  ..   \n",
       "53419  95527001    ROISSY  2°32'03\"E  49°00'54\"N  108  20210417  0,0   v   \n",
       "53420  95527001    ROISSY  2°32'03\"E  49°00'54\"N  108  20210418  0,0   v   \n",
       "53421  95527001    ROISSY  2°32'03\"E  49°00'54\"N  108  20210419  0,0   v   \n",
       "53422  95527001    ROISSY  2°32'03\"E  49°00'54\"N  108  20210420  0,0   v   \n",
       "53423  95527001    ROISSY  2°32'03\"E  49°00'54\"N  108  20210421  0,0   v   \n",
       "\n",
       "         TN QTN  ...    UN QUN    UX QUX DHUMI40 QDHUMI40  DHUMI80 QDHUMI80  \\\n",
       "0      -2,2   v  ...  97.0   v  98.0   v     0.0        t   1440.0        t   \n",
       "1      -1,8   v  ...  69.0   v  99.0   v     0.0        t    860.0        t   \n",
       "2       3,3   v  ...  71.0   v  95.0   v     0.0        t    620.0        t   \n",
       "3       3,4   v  ...  74.0   v  97.0   v     0.0        t   1168.0        t   \n",
       "4      -3,4   v  ...  77.0   v  97.0   v     0.0        t   1395.0        t   \n",
       "...     ...  ..  ...   ...  ..   ...  ..     ...      ...      ...      ...   \n",
       "53419   2,6   v  ...  36.0   v  89.0   v   239.0        t    357.0        t   \n",
       "53420   2,0   v  ...  45.0   v  90.0   v     0.0        t    349.0        t   \n",
       "53421   3,3   v  ...  36.0   v  86.0   v   226.0        t    403.0        t   \n",
       "53422   5,7   v  ...  28.0   v  85.0   v   358.0        t    215.0        t   \n",
       "53423   6,5   v  ...  36.0   v  84.0   v    40.0        t    151.0        t   \n",
       "\n",
       "         UM QUM  \n",
       "0      97.0   v  \n",
       "1      86.0   v  \n",
       "2      81.0   v  \n",
       "3      89.0   v  \n",
       "4      92.0   v  \n",
       "...     ...  ..  \n",
       "53419  62.0   v  \n",
       "53420  66.0   v  \n",
       "53421  60.0   v  \n",
       "53422  56.0   v  \n",
       "53423  61.0   v  \n",
       "\n",
       "[53424 rows x 26 columns]"
      ]
     },
     "execution_count": 14,
     "metadata": {},
     "output_type": "execute_result"
    }
   ],
   "source": [
    "df_meteo = pd.read_csv(\"./fichier/meteo_france_donnees_covid19.csv\", delimiter=';',encoding='utf-8') \n",
    "df_meteo"
   ]
  },
  {
   "cell_type": "code",
   "execution_count": 17,
   "id": "86568356",
   "metadata": {},
   "outputs": [
    {
     "data": {
      "text/html": [
       "<div>\n",
       "<style scoped>\n",
       "    .dataframe tbody tr th:only-of-type {\n",
       "        vertical-align: middle;\n",
       "    }\n",
       "\n",
       "    .dataframe tbody tr th {\n",
       "        vertical-align: top;\n",
       "    }\n",
       "\n",
       "    .dataframe thead th {\n",
       "        text-align: right;\n",
       "    }\n",
       "</style>\n",
       "<table border=\"1\" class=\"dataframe\">\n",
       "  <thead>\n",
       "    <tr style=\"text-align: right;\">\n",
       "      <th></th>\n",
       "      <th>POSTE</th>\n",
       "      <th>NOM</th>\n",
       "      <th>LON</th>\n",
       "      <th>LAT</th>\n",
       "      <th>ALT</th>\n",
       "      <th>DATE</th>\n",
       "      <th>RR</th>\n",
       "      <th>QRR</th>\n",
       "      <th>TN</th>\n",
       "      <th>QTN</th>\n",
       "      <th>...</th>\n",
       "      <th>UN</th>\n",
       "      <th>QUN</th>\n",
       "      <th>UX</th>\n",
       "      <th>QUX</th>\n",
       "      <th>DHUMI40</th>\n",
       "      <th>QDHUMI40</th>\n",
       "      <th>DHUMI80</th>\n",
       "      <th>QDHUMI80</th>\n",
       "      <th>UM</th>\n",
       "      <th>QUM</th>\n",
       "    </tr>\n",
       "  </thead>\n",
       "  <tbody>\n",
       "    <tr>\n",
       "      <th>53419</th>\n",
       "      <td>95527001</td>\n",
       "      <td>ROISSY</td>\n",
       "      <td>2°32'03\"E</td>\n",
       "      <td>49°00'54\"N</td>\n",
       "      <td>108</td>\n",
       "      <td>20210417</td>\n",
       "      <td>0,0</td>\n",
       "      <td>v</td>\n",
       "      <td>2,6</td>\n",
       "      <td>v</td>\n",
       "      <td>...</td>\n",
       "      <td>36.0</td>\n",
       "      <td>v</td>\n",
       "      <td>89.0</td>\n",
       "      <td>v</td>\n",
       "      <td>239.0</td>\n",
       "      <td>t</td>\n",
       "      <td>357.0</td>\n",
       "      <td>t</td>\n",
       "      <td>62.0</td>\n",
       "      <td>v</td>\n",
       "    </tr>\n",
       "    <tr>\n",
       "      <th>53420</th>\n",
       "      <td>95527001</td>\n",
       "      <td>ROISSY</td>\n",
       "      <td>2°32'03\"E</td>\n",
       "      <td>49°00'54\"N</td>\n",
       "      <td>108</td>\n",
       "      <td>20210418</td>\n",
       "      <td>0,0</td>\n",
       "      <td>v</td>\n",
       "      <td>2,0</td>\n",
       "      <td>v</td>\n",
       "      <td>...</td>\n",
       "      <td>45.0</td>\n",
       "      <td>v</td>\n",
       "      <td>90.0</td>\n",
       "      <td>v</td>\n",
       "      <td>0.0</td>\n",
       "      <td>t</td>\n",
       "      <td>349.0</td>\n",
       "      <td>t</td>\n",
       "      <td>66.0</td>\n",
       "      <td>v</td>\n",
       "    </tr>\n",
       "    <tr>\n",
       "      <th>53421</th>\n",
       "      <td>95527001</td>\n",
       "      <td>ROISSY</td>\n",
       "      <td>2°32'03\"E</td>\n",
       "      <td>49°00'54\"N</td>\n",
       "      <td>108</td>\n",
       "      <td>20210419</td>\n",
       "      <td>0,0</td>\n",
       "      <td>v</td>\n",
       "      <td>3,3</td>\n",
       "      <td>v</td>\n",
       "      <td>...</td>\n",
       "      <td>36.0</td>\n",
       "      <td>v</td>\n",
       "      <td>86.0</td>\n",
       "      <td>v</td>\n",
       "      <td>226.0</td>\n",
       "      <td>t</td>\n",
       "      <td>403.0</td>\n",
       "      <td>t</td>\n",
       "      <td>60.0</td>\n",
       "      <td>v</td>\n",
       "    </tr>\n",
       "    <tr>\n",
       "      <th>53422</th>\n",
       "      <td>95527001</td>\n",
       "      <td>ROISSY</td>\n",
       "      <td>2°32'03\"E</td>\n",
       "      <td>49°00'54\"N</td>\n",
       "      <td>108</td>\n",
       "      <td>20210420</td>\n",
       "      <td>0,0</td>\n",
       "      <td>v</td>\n",
       "      <td>5,7</td>\n",
       "      <td>v</td>\n",
       "      <td>...</td>\n",
       "      <td>28.0</td>\n",
       "      <td>v</td>\n",
       "      <td>85.0</td>\n",
       "      <td>v</td>\n",
       "      <td>358.0</td>\n",
       "      <td>t</td>\n",
       "      <td>215.0</td>\n",
       "      <td>t</td>\n",
       "      <td>56.0</td>\n",
       "      <td>v</td>\n",
       "    </tr>\n",
       "    <tr>\n",
       "      <th>53423</th>\n",
       "      <td>95527001</td>\n",
       "      <td>ROISSY</td>\n",
       "      <td>2°32'03\"E</td>\n",
       "      <td>49°00'54\"N</td>\n",
       "      <td>108</td>\n",
       "      <td>20210421</td>\n",
       "      <td>0,0</td>\n",
       "      <td>v</td>\n",
       "      <td>6,5</td>\n",
       "      <td>v</td>\n",
       "      <td>...</td>\n",
       "      <td>36.0</td>\n",
       "      <td>v</td>\n",
       "      <td>84.0</td>\n",
       "      <td>v</td>\n",
       "      <td>40.0</td>\n",
       "      <td>t</td>\n",
       "      <td>151.0</td>\n",
       "      <td>t</td>\n",
       "      <td>61.0</td>\n",
       "      <td>v</td>\n",
       "    </tr>\n",
       "  </tbody>\n",
       "</table>\n",
       "<p>5 rows × 26 columns</p>\n",
       "</div>"
      ],
      "text/plain": [
       "          POSTE     NOM        LON         LAT  ALT      DATE   RR QRR   TN  \\\n",
       "53419  95527001  ROISSY  2°32'03\"E  49°00'54\"N  108  20210417  0,0   v  2,6   \n",
       "53420  95527001  ROISSY  2°32'03\"E  49°00'54\"N  108  20210418  0,0   v  2,0   \n",
       "53421  95527001  ROISSY  2°32'03\"E  49°00'54\"N  108  20210419  0,0   v  3,3   \n",
       "53422  95527001  ROISSY  2°32'03\"E  49°00'54\"N  108  20210420  0,0   v  5,7   \n",
       "53423  95527001  ROISSY  2°32'03\"E  49°00'54\"N  108  20210421  0,0   v  6,5   \n",
       "\n",
       "      QTN  ...    UN QUN    UX QUX DHUMI40 QDHUMI40  DHUMI80 QDHUMI80    UM  \\\n",
       "53419   v  ...  36.0   v  89.0   v   239.0        t    357.0        t  62.0   \n",
       "53420   v  ...  45.0   v  90.0   v     0.0        t    349.0        t  66.0   \n",
       "53421   v  ...  36.0   v  86.0   v   226.0        t    403.0        t  60.0   \n",
       "53422   v  ...  28.0   v  85.0   v   358.0        t    215.0        t  56.0   \n",
       "53423   v  ...  36.0   v  84.0   v    40.0        t    151.0        t  61.0   \n",
       "\n",
       "      QUM  \n",
       "53419   v  \n",
       "53420   v  \n",
       "53421   v  \n",
       "53422   v  \n",
       "53423   v  \n",
       "\n",
       "[5 rows x 26 columns]"
      ]
     },
     "execution_count": 17,
     "metadata": {},
     "output_type": "execute_result"
    }
   ],
   "source": [
    "#df_meteo              # toutes les données sont affichées\n",
    "#df_meteo.head(10)     # affichage des 5 premières lignes\n",
    "df_meteo.tail(5)       # affichage des 5 dernières lignes"
   ]
  },
  {
   "cell_type": "markdown",
   "id": "610377dd",
   "metadata": {},
   "source": [
    "Ou bien à partir d'un fichier txt avec la methode read_table()"
   ]
  },
  {
   "cell_type": "code",
   "execution_count": 21,
   "id": "8498c26a",
   "metadata": {},
   "outputs": [
    {
     "data": {
      "text/html": [
       "<div>\n",
       "<style scoped>\n",
       "    .dataframe tbody tr th:only-of-type {\n",
       "        vertical-align: middle;\n",
       "    }\n",
       "\n",
       "    .dataframe tbody tr th {\n",
       "        vertical-align: top;\n",
       "    }\n",
       "\n",
       "    .dataframe thead th {\n",
       "        text-align: right;\n",
       "    }\n",
       "</style>\n",
       "<table border=\"1\" class=\"dataframe\">\n",
       "  <thead>\n",
       "    <tr style=\"text-align: right;\">\n",
       "      <th></th>\n",
       "      <th>POSTE</th>\n",
       "      <th>NOM</th>\n",
       "      <th>LON</th>\n",
       "      <th>LAT</th>\n",
       "      <th>ALT</th>\n",
       "      <th>DATE</th>\n",
       "      <th>RR</th>\n",
       "      <th>QRR</th>\n",
       "      <th>TN</th>\n",
       "      <th>QTN</th>\n",
       "      <th>...</th>\n",
       "      <th>UN</th>\n",
       "      <th>QUN</th>\n",
       "      <th>UX</th>\n",
       "      <th>QUX</th>\n",
       "      <th>DHUMI40</th>\n",
       "      <th>QDHUMI40</th>\n",
       "      <th>DHUMI80</th>\n",
       "      <th>QDHUMI80</th>\n",
       "      <th>UM</th>\n",
       "      <th>QUM</th>\n",
       "    </tr>\n",
       "  </thead>\n",
       "  <tbody>\n",
       "    <tr>\n",
       "      <th>0</th>\n",
       "      <td>1089001</td>\n",
       "      <td>AMBERIEU</td>\n",
       "      <td>5Â°19'45\"E</td>\n",
       "      <td>45Â°58'35\"N</td>\n",
       "      <td>250</td>\n",
       "      <td>20200101</td>\n",
       "      <td>0</td>\n",
       "      <td>v</td>\n",
       "      <td>-2,2</td>\n",
       "      <td>v</td>\n",
       "      <td>...</td>\n",
       "      <td>97.0</td>\n",
       "      <td>v</td>\n",
       "      <td>98.0</td>\n",
       "      <td>v</td>\n",
       "      <td>0.0</td>\n",
       "      <td>t</td>\n",
       "      <td>1440.0</td>\n",
       "      <td>t</td>\n",
       "      <td>97.0</td>\n",
       "      <td>v</td>\n",
       "    </tr>\n",
       "    <tr>\n",
       "      <th>1</th>\n",
       "      <td>1089001</td>\n",
       "      <td>AMBERIEU</td>\n",
       "      <td>5Â°19'45\"E</td>\n",
       "      <td>45Â°58'35\"N</td>\n",
       "      <td>250</td>\n",
       "      <td>20200102</td>\n",
       "      <td>0</td>\n",
       "      <td>v</td>\n",
       "      <td>-1,8</td>\n",
       "      <td>v</td>\n",
       "      <td>...</td>\n",
       "      <td>69.0</td>\n",
       "      <td>v</td>\n",
       "      <td>99.0</td>\n",
       "      <td>v</td>\n",
       "      <td>0.0</td>\n",
       "      <td>t</td>\n",
       "      <td>860.0</td>\n",
       "      <td>t</td>\n",
       "      <td>86.0</td>\n",
       "      <td>v</td>\n",
       "    </tr>\n",
       "    <tr>\n",
       "      <th>2</th>\n",
       "      <td>1089001</td>\n",
       "      <td>AMBERIEU</td>\n",
       "      <td>5Â°19'45\"E</td>\n",
       "      <td>45Â°58'35\"N</td>\n",
       "      <td>250</td>\n",
       "      <td>20200103</td>\n",
       "      <td>0,4</td>\n",
       "      <td>v</td>\n",
       "      <td>3,3</td>\n",
       "      <td>v</td>\n",
       "      <td>...</td>\n",
       "      <td>71.0</td>\n",
       "      <td>v</td>\n",
       "      <td>95.0</td>\n",
       "      <td>v</td>\n",
       "      <td>0.0</td>\n",
       "      <td>t</td>\n",
       "      <td>620.0</td>\n",
       "      <td>t</td>\n",
       "      <td>81.0</td>\n",
       "      <td>v</td>\n",
       "    </tr>\n",
       "    <tr>\n",
       "      <th>3</th>\n",
       "      <td>1089001</td>\n",
       "      <td>AMBERIEU</td>\n",
       "      <td>5Â°19'45\"E</td>\n",
       "      <td>45Â°58'35\"N</td>\n",
       "      <td>250</td>\n",
       "      <td>20200104</td>\n",
       "      <td>0,6</td>\n",
       "      <td>v</td>\n",
       "      <td>3,4</td>\n",
       "      <td>v</td>\n",
       "      <td>...</td>\n",
       "      <td>74.0</td>\n",
       "      <td>v</td>\n",
       "      <td>97.0</td>\n",
       "      <td>v</td>\n",
       "      <td>0.0</td>\n",
       "      <td>t</td>\n",
       "      <td>1168.0</td>\n",
       "      <td>t</td>\n",
       "      <td>89.0</td>\n",
       "      <td>v</td>\n",
       "    </tr>\n",
       "    <tr>\n",
       "      <th>4</th>\n",
       "      <td>1089001</td>\n",
       "      <td>AMBERIEU</td>\n",
       "      <td>5Â°19'45\"E</td>\n",
       "      <td>45Â°58'35\"N</td>\n",
       "      <td>250</td>\n",
       "      <td>20200105</td>\n",
       "      <td>0</td>\n",
       "      <td>v</td>\n",
       "      <td>-3,4</td>\n",
       "      <td>v</td>\n",
       "      <td>...</td>\n",
       "      <td>77.0</td>\n",
       "      <td>v</td>\n",
       "      <td>97.0</td>\n",
       "      <td>v</td>\n",
       "      <td>0.0</td>\n",
       "      <td>t</td>\n",
       "      <td>1395.0</td>\n",
       "      <td>t</td>\n",
       "      <td>92.0</td>\n",
       "      <td>v</td>\n",
       "    </tr>\n",
       "  </tbody>\n",
       "</table>\n",
       "<p>5 rows × 26 columns</p>\n",
       "</div>"
      ],
      "text/plain": [
       "     POSTE       NOM         LON          LAT  ALT      DATE   RR QRR    TN  \\\n",
       "0  1089001  AMBERIEU  5Â°19'45\"E  45Â°58'35\"N  250  20200101    0   v  -2,2   \n",
       "1  1089001  AMBERIEU  5Â°19'45\"E  45Â°58'35\"N  250  20200102    0   v  -1,8   \n",
       "2  1089001  AMBERIEU  5Â°19'45\"E  45Â°58'35\"N  250  20200103  0,4   v   3,3   \n",
       "3  1089001  AMBERIEU  5Â°19'45\"E  45Â°58'35\"N  250  20200104  0,6   v   3,4   \n",
       "4  1089001  AMBERIEU  5Â°19'45\"E  45Â°58'35\"N  250  20200105    0   v  -3,4   \n",
       "\n",
       "  QTN  ...    UN QUN    UX QUX DHUMI40 QDHUMI40  DHUMI80 QDHUMI80    UM QUM  \n",
       "0   v  ...  97.0   v  98.0   v     0.0        t   1440.0        t  97.0   v  \n",
       "1   v  ...  69.0   v  99.0   v     0.0        t    860.0        t  86.0   v  \n",
       "2   v  ...  71.0   v  95.0   v     0.0        t    620.0        t  81.0   v  \n",
       "3   v  ...  74.0   v  97.0   v     0.0        t   1168.0        t  89.0   v  \n",
       "4   v  ...  77.0   v  97.0   v     0.0        t   1395.0        t  92.0   v  \n",
       "\n",
       "[5 rows x 26 columns]"
      ]
     },
     "execution_count": 21,
     "metadata": {},
     "output_type": "execute_result"
    }
   ],
   "source": [
    "df_meteo2 = pd.read_table(\"./fichier/meteo_france_donnees_covid19.txt\")\n",
    "df_meteo2.head(5)"
   ]
  },
  {
   "cell_type": "markdown",
   "id": "84e0b513",
   "metadata": {},
   "source": [
    "Ou bien à partir d'un fichier Excel avec la methode read_excel()"
   ]
  },
  {
   "cell_type": "code",
   "execution_count": 22,
   "id": "4e5d24f6",
   "metadata": {},
   "outputs": [
    {
     "data": {
      "text/html": [
       "<div>\n",
       "<style scoped>\n",
       "    .dataframe tbody tr th:only-of-type {\n",
       "        vertical-align: middle;\n",
       "    }\n",
       "\n",
       "    .dataframe tbody tr th {\n",
       "        vertical-align: top;\n",
       "    }\n",
       "\n",
       "    .dataframe thead th {\n",
       "        text-align: right;\n",
       "    }\n",
       "</style>\n",
       "<table border=\"1\" class=\"dataframe\">\n",
       "  <thead>\n",
       "    <tr style=\"text-align: right;\">\n",
       "      <th></th>\n",
       "      <th>POSTE</th>\n",
       "      <th>NOM</th>\n",
       "      <th>LON</th>\n",
       "      <th>LAT</th>\n",
       "      <th>ALT</th>\n",
       "      <th>DATE</th>\n",
       "      <th>RR</th>\n",
       "      <th>QRR</th>\n",
       "      <th>TN</th>\n",
       "      <th>QTN</th>\n",
       "      <th>...</th>\n",
       "      <th>UN</th>\n",
       "      <th>QUN</th>\n",
       "      <th>UX</th>\n",
       "      <th>QUX</th>\n",
       "      <th>DHUMI40</th>\n",
       "      <th>QDHUMI40</th>\n",
       "      <th>DHUMI80</th>\n",
       "      <th>QDHUMI80</th>\n",
       "      <th>UM</th>\n",
       "      <th>QUM</th>\n",
       "    </tr>\n",
       "  </thead>\n",
       "  <tbody>\n",
       "    <tr>\n",
       "      <th>0</th>\n",
       "      <td>1089001</td>\n",
       "      <td>AMBERIEU</td>\n",
       "      <td>5Â°19'45\"E</td>\n",
       "      <td>45Â°58'35\"N</td>\n",
       "      <td>250</td>\n",
       "      <td>20200101</td>\n",
       "      <td>0.0</td>\n",
       "      <td>v</td>\n",
       "      <td>-2.2</td>\n",
       "      <td>v</td>\n",
       "      <td>...</td>\n",
       "      <td>97.0</td>\n",
       "      <td>v</td>\n",
       "      <td>98.0</td>\n",
       "      <td>v</td>\n",
       "      <td>0.0</td>\n",
       "      <td>t</td>\n",
       "      <td>1440.0</td>\n",
       "      <td>t</td>\n",
       "      <td>97.0</td>\n",
       "      <td>v</td>\n",
       "    </tr>\n",
       "    <tr>\n",
       "      <th>1</th>\n",
       "      <td>1089001</td>\n",
       "      <td>AMBERIEU</td>\n",
       "      <td>5Â°19'45\"E</td>\n",
       "      <td>45Â°58'35\"N</td>\n",
       "      <td>250</td>\n",
       "      <td>20200102</td>\n",
       "      <td>0.0</td>\n",
       "      <td>v</td>\n",
       "      <td>-1.8</td>\n",
       "      <td>v</td>\n",
       "      <td>...</td>\n",
       "      <td>69.0</td>\n",
       "      <td>v</td>\n",
       "      <td>99.0</td>\n",
       "      <td>v</td>\n",
       "      <td>0.0</td>\n",
       "      <td>t</td>\n",
       "      <td>860.0</td>\n",
       "      <td>t</td>\n",
       "      <td>86.0</td>\n",
       "      <td>v</td>\n",
       "    </tr>\n",
       "    <tr>\n",
       "      <th>2</th>\n",
       "      <td>1089001</td>\n",
       "      <td>AMBERIEU</td>\n",
       "      <td>5Â°19'45\"E</td>\n",
       "      <td>45Â°58'35\"N</td>\n",
       "      <td>250</td>\n",
       "      <td>20200103</td>\n",
       "      <td>0.4</td>\n",
       "      <td>v</td>\n",
       "      <td>3.3</td>\n",
       "      <td>v</td>\n",
       "      <td>...</td>\n",
       "      <td>71.0</td>\n",
       "      <td>v</td>\n",
       "      <td>95.0</td>\n",
       "      <td>v</td>\n",
       "      <td>0.0</td>\n",
       "      <td>t</td>\n",
       "      <td>620.0</td>\n",
       "      <td>t</td>\n",
       "      <td>81.0</td>\n",
       "      <td>v</td>\n",
       "    </tr>\n",
       "    <tr>\n",
       "      <th>3</th>\n",
       "      <td>1089001</td>\n",
       "      <td>AMBERIEU</td>\n",
       "      <td>5Â°19'45\"E</td>\n",
       "      <td>45Â°58'35\"N</td>\n",
       "      <td>250</td>\n",
       "      <td>20200104</td>\n",
       "      <td>0.6</td>\n",
       "      <td>v</td>\n",
       "      <td>3.4</td>\n",
       "      <td>v</td>\n",
       "      <td>...</td>\n",
       "      <td>74.0</td>\n",
       "      <td>v</td>\n",
       "      <td>97.0</td>\n",
       "      <td>v</td>\n",
       "      <td>0.0</td>\n",
       "      <td>t</td>\n",
       "      <td>1168.0</td>\n",
       "      <td>t</td>\n",
       "      <td>89.0</td>\n",
       "      <td>v</td>\n",
       "    </tr>\n",
       "    <tr>\n",
       "      <th>4</th>\n",
       "      <td>1089001</td>\n",
       "      <td>AMBERIEU</td>\n",
       "      <td>5Â°19'45\"E</td>\n",
       "      <td>45Â°58'35\"N</td>\n",
       "      <td>250</td>\n",
       "      <td>20200105</td>\n",
       "      <td>0.0</td>\n",
       "      <td>v</td>\n",
       "      <td>-3.4</td>\n",
       "      <td>v</td>\n",
       "      <td>...</td>\n",
       "      <td>77.0</td>\n",
       "      <td>v</td>\n",
       "      <td>97.0</td>\n",
       "      <td>v</td>\n",
       "      <td>0.0</td>\n",
       "      <td>t</td>\n",
       "      <td>1395.0</td>\n",
       "      <td>t</td>\n",
       "      <td>92.0</td>\n",
       "      <td>v</td>\n",
       "    </tr>\n",
       "  </tbody>\n",
       "</table>\n",
       "<p>5 rows × 26 columns</p>\n",
       "</div>"
      ],
      "text/plain": [
       "     POSTE       NOM         LON          LAT  ALT      DATE   RR QRR   TN  \\\n",
       "0  1089001  AMBERIEU  5Â°19'45\"E  45Â°58'35\"N  250  20200101  0.0   v -2.2   \n",
       "1  1089001  AMBERIEU  5Â°19'45\"E  45Â°58'35\"N  250  20200102  0.0   v -1.8   \n",
       "2  1089001  AMBERIEU  5Â°19'45\"E  45Â°58'35\"N  250  20200103  0.4   v  3.3   \n",
       "3  1089001  AMBERIEU  5Â°19'45\"E  45Â°58'35\"N  250  20200104  0.6   v  3.4   \n",
       "4  1089001  AMBERIEU  5Â°19'45\"E  45Â°58'35\"N  250  20200105  0.0   v -3.4   \n",
       "\n",
       "  QTN  ...    UN QUN    UX QUX  DHUMI40 QDHUMI40  DHUMI80 QDHUMI80    UM QUM  \n",
       "0   v  ...  97.0   v  98.0   v      0.0        t   1440.0        t  97.0   v  \n",
       "1   v  ...  69.0   v  99.0   v      0.0        t    860.0        t  86.0   v  \n",
       "2   v  ...  71.0   v  95.0   v      0.0        t    620.0        t  81.0   v  \n",
       "3   v  ...  74.0   v  97.0   v      0.0        t   1168.0        t  89.0   v  \n",
       "4   v  ...  77.0   v  97.0   v      0.0        t   1395.0        t  92.0   v  \n",
       "\n",
       "[5 rows x 26 columns]"
      ]
     },
     "execution_count": 22,
     "metadata": {},
     "output_type": "execute_result"
    }
   ],
   "source": [
    "df_meteo2 = pd.read_excel(\"./fichier/meteo_france_donnees_covid19.xlsx\")\n",
    "df_meteo2.head(5)"
   ]
  },
  {
   "cell_type": "markdown",
   "id": "6a938c92",
   "metadata": {},
   "source": [
    "> ## accéder aux données <a class=\"anchor\" id=\"manipdf\"></a>"
   ]
  },
  {
   "cell_type": "markdown",
   "id": "655b1f35",
   "metadata": {},
   "source": [
    "**quelques méthodes utiles pour l'exploration de données**\n",
    "\n",
    "Ils existent une mutlitude de fonctions et méthodes que l'on peut appliquer sur les DataFrame.  \n",
    "N'hésitez pas à consulter la documentation pour en savoir plus :  \n",
    "https://pandas.pydata.org/pandas-docs/version/0.23.4/generated/pandas.DataFrame.html  \n",
    "Nous tâcherons par la suite de présenter celles qui nous seront les plus utiles lorsque l'on cherche à explorer et nettoyer un jeu de données.\n"
   ]
  },
  {
   "cell_type": "code",
   "execution_count": 23,
   "id": "f9883117",
   "metadata": {},
   "outputs": [
    {
     "data": {
      "text/html": [
       "<div>\n",
       "<style scoped>\n",
       "    .dataframe tbody tr th:only-of-type {\n",
       "        vertical-align: middle;\n",
       "    }\n",
       "\n",
       "    .dataframe tbody tr th {\n",
       "        vertical-align: top;\n",
       "    }\n",
       "\n",
       "    .dataframe thead th {\n",
       "        text-align: right;\n",
       "    }\n",
       "</style>\n",
       "<table border=\"1\" class=\"dataframe\">\n",
       "  <thead>\n",
       "    <tr style=\"text-align: right;\">\n",
       "      <th></th>\n",
       "      <th>POSTE</th>\n",
       "      <th>NOM</th>\n",
       "      <th>LON</th>\n",
       "      <th>LAT</th>\n",
       "      <th>ALT</th>\n",
       "      <th>DATE</th>\n",
       "      <th>RR</th>\n",
       "      <th>QRR</th>\n",
       "      <th>TN</th>\n",
       "      <th>QTN</th>\n",
       "      <th>...</th>\n",
       "      <th>UN</th>\n",
       "      <th>QUN</th>\n",
       "      <th>UX</th>\n",
       "      <th>QUX</th>\n",
       "      <th>DHUMI40</th>\n",
       "      <th>QDHUMI40</th>\n",
       "      <th>DHUMI80</th>\n",
       "      <th>QDHUMI80</th>\n",
       "      <th>UM</th>\n",
       "      <th>QUM</th>\n",
       "    </tr>\n",
       "  </thead>\n",
       "  <tbody>\n",
       "    <tr>\n",
       "      <th>0</th>\n",
       "      <td>1089001</td>\n",
       "      <td>AMBERIEU</td>\n",
       "      <td>5°19'45\"E</td>\n",
       "      <td>45°58'35\"N</td>\n",
       "      <td>250</td>\n",
       "      <td>20200101</td>\n",
       "      <td>0,0</td>\n",
       "      <td>v</td>\n",
       "      <td>-2,2</td>\n",
       "      <td>v</td>\n",
       "      <td>...</td>\n",
       "      <td>97.0</td>\n",
       "      <td>v</td>\n",
       "      <td>98.0</td>\n",
       "      <td>v</td>\n",
       "      <td>0.0</td>\n",
       "      <td>t</td>\n",
       "      <td>1440.0</td>\n",
       "      <td>t</td>\n",
       "      <td>97.0</td>\n",
       "      <td>v</td>\n",
       "    </tr>\n",
       "    <tr>\n",
       "      <th>1</th>\n",
       "      <td>1089001</td>\n",
       "      <td>AMBERIEU</td>\n",
       "      <td>5°19'45\"E</td>\n",
       "      <td>45°58'35\"N</td>\n",
       "      <td>250</td>\n",
       "      <td>20200102</td>\n",
       "      <td>0,0</td>\n",
       "      <td>v</td>\n",
       "      <td>-1,8</td>\n",
       "      <td>v</td>\n",
       "      <td>...</td>\n",
       "      <td>69.0</td>\n",
       "      <td>v</td>\n",
       "      <td>99.0</td>\n",
       "      <td>v</td>\n",
       "      <td>0.0</td>\n",
       "      <td>t</td>\n",
       "      <td>860.0</td>\n",
       "      <td>t</td>\n",
       "      <td>86.0</td>\n",
       "      <td>v</td>\n",
       "    </tr>\n",
       "    <tr>\n",
       "      <th>2</th>\n",
       "      <td>1089001</td>\n",
       "      <td>AMBERIEU</td>\n",
       "      <td>5°19'45\"E</td>\n",
       "      <td>45°58'35\"N</td>\n",
       "      <td>250</td>\n",
       "      <td>20200103</td>\n",
       "      <td>0,4</td>\n",
       "      <td>v</td>\n",
       "      <td>3,3</td>\n",
       "      <td>v</td>\n",
       "      <td>...</td>\n",
       "      <td>71.0</td>\n",
       "      <td>v</td>\n",
       "      <td>95.0</td>\n",
       "      <td>v</td>\n",
       "      <td>0.0</td>\n",
       "      <td>t</td>\n",
       "      <td>620.0</td>\n",
       "      <td>t</td>\n",
       "      <td>81.0</td>\n",
       "      <td>v</td>\n",
       "    </tr>\n",
       "    <tr>\n",
       "      <th>3</th>\n",
       "      <td>1089001</td>\n",
       "      <td>AMBERIEU</td>\n",
       "      <td>5°19'45\"E</td>\n",
       "      <td>45°58'35\"N</td>\n",
       "      <td>250</td>\n",
       "      <td>20200104</td>\n",
       "      <td>0,6</td>\n",
       "      <td>v</td>\n",
       "      <td>3,4</td>\n",
       "      <td>v</td>\n",
       "      <td>...</td>\n",
       "      <td>74.0</td>\n",
       "      <td>v</td>\n",
       "      <td>97.0</td>\n",
       "      <td>v</td>\n",
       "      <td>0.0</td>\n",
       "      <td>t</td>\n",
       "      <td>1168.0</td>\n",
       "      <td>t</td>\n",
       "      <td>89.0</td>\n",
       "      <td>v</td>\n",
       "    </tr>\n",
       "    <tr>\n",
       "      <th>4</th>\n",
       "      <td>1089001</td>\n",
       "      <td>AMBERIEU</td>\n",
       "      <td>5°19'45\"E</td>\n",
       "      <td>45°58'35\"N</td>\n",
       "      <td>250</td>\n",
       "      <td>20200105</td>\n",
       "      <td>0,0</td>\n",
       "      <td>v</td>\n",
       "      <td>-3,4</td>\n",
       "      <td>v</td>\n",
       "      <td>...</td>\n",
       "      <td>77.0</td>\n",
       "      <td>v</td>\n",
       "      <td>97.0</td>\n",
       "      <td>v</td>\n",
       "      <td>0.0</td>\n",
       "      <td>t</td>\n",
       "      <td>1395.0</td>\n",
       "      <td>t</td>\n",
       "      <td>92.0</td>\n",
       "      <td>v</td>\n",
       "    </tr>\n",
       "    <tr>\n",
       "      <th>...</th>\n",
       "      <td>...</td>\n",
       "      <td>...</td>\n",
       "      <td>...</td>\n",
       "      <td>...</td>\n",
       "      <td>...</td>\n",
       "      <td>...</td>\n",
       "      <td>...</td>\n",
       "      <td>...</td>\n",
       "      <td>...</td>\n",
       "      <td>...</td>\n",
       "      <td>...</td>\n",
       "      <td>...</td>\n",
       "      <td>...</td>\n",
       "      <td>...</td>\n",
       "      <td>...</td>\n",
       "      <td>...</td>\n",
       "      <td>...</td>\n",
       "      <td>...</td>\n",
       "      <td>...</td>\n",
       "      <td>...</td>\n",
       "      <td>...</td>\n",
       "    </tr>\n",
       "    <tr>\n",
       "      <th>53419</th>\n",
       "      <td>95527001</td>\n",
       "      <td>ROISSY</td>\n",
       "      <td>2°32'03\"E</td>\n",
       "      <td>49°00'54\"N</td>\n",
       "      <td>108</td>\n",
       "      <td>20210417</td>\n",
       "      <td>0,0</td>\n",
       "      <td>v</td>\n",
       "      <td>2,6</td>\n",
       "      <td>v</td>\n",
       "      <td>...</td>\n",
       "      <td>36.0</td>\n",
       "      <td>v</td>\n",
       "      <td>89.0</td>\n",
       "      <td>v</td>\n",
       "      <td>239.0</td>\n",
       "      <td>t</td>\n",
       "      <td>357.0</td>\n",
       "      <td>t</td>\n",
       "      <td>62.0</td>\n",
       "      <td>v</td>\n",
       "    </tr>\n",
       "    <tr>\n",
       "      <th>53420</th>\n",
       "      <td>95527001</td>\n",
       "      <td>ROISSY</td>\n",
       "      <td>2°32'03\"E</td>\n",
       "      <td>49°00'54\"N</td>\n",
       "      <td>108</td>\n",
       "      <td>20210418</td>\n",
       "      <td>0,0</td>\n",
       "      <td>v</td>\n",
       "      <td>2,0</td>\n",
       "      <td>v</td>\n",
       "      <td>...</td>\n",
       "      <td>45.0</td>\n",
       "      <td>v</td>\n",
       "      <td>90.0</td>\n",
       "      <td>v</td>\n",
       "      <td>0.0</td>\n",
       "      <td>t</td>\n",
       "      <td>349.0</td>\n",
       "      <td>t</td>\n",
       "      <td>66.0</td>\n",
       "      <td>v</td>\n",
       "    </tr>\n",
       "    <tr>\n",
       "      <th>53421</th>\n",
       "      <td>95527001</td>\n",
       "      <td>ROISSY</td>\n",
       "      <td>2°32'03\"E</td>\n",
       "      <td>49°00'54\"N</td>\n",
       "      <td>108</td>\n",
       "      <td>20210419</td>\n",
       "      <td>0,0</td>\n",
       "      <td>v</td>\n",
       "      <td>3,3</td>\n",
       "      <td>v</td>\n",
       "      <td>...</td>\n",
       "      <td>36.0</td>\n",
       "      <td>v</td>\n",
       "      <td>86.0</td>\n",
       "      <td>v</td>\n",
       "      <td>226.0</td>\n",
       "      <td>t</td>\n",
       "      <td>403.0</td>\n",
       "      <td>t</td>\n",
       "      <td>60.0</td>\n",
       "      <td>v</td>\n",
       "    </tr>\n",
       "    <tr>\n",
       "      <th>53422</th>\n",
       "      <td>95527001</td>\n",
       "      <td>ROISSY</td>\n",
       "      <td>2°32'03\"E</td>\n",
       "      <td>49°00'54\"N</td>\n",
       "      <td>108</td>\n",
       "      <td>20210420</td>\n",
       "      <td>0,0</td>\n",
       "      <td>v</td>\n",
       "      <td>5,7</td>\n",
       "      <td>v</td>\n",
       "      <td>...</td>\n",
       "      <td>28.0</td>\n",
       "      <td>v</td>\n",
       "      <td>85.0</td>\n",
       "      <td>v</td>\n",
       "      <td>358.0</td>\n",
       "      <td>t</td>\n",
       "      <td>215.0</td>\n",
       "      <td>t</td>\n",
       "      <td>56.0</td>\n",
       "      <td>v</td>\n",
       "    </tr>\n",
       "    <tr>\n",
       "      <th>53423</th>\n",
       "      <td>95527001</td>\n",
       "      <td>ROISSY</td>\n",
       "      <td>2°32'03\"E</td>\n",
       "      <td>49°00'54\"N</td>\n",
       "      <td>108</td>\n",
       "      <td>20210421</td>\n",
       "      <td>0,0</td>\n",
       "      <td>v</td>\n",
       "      <td>6,5</td>\n",
       "      <td>v</td>\n",
       "      <td>...</td>\n",
       "      <td>36.0</td>\n",
       "      <td>v</td>\n",
       "      <td>84.0</td>\n",
       "      <td>v</td>\n",
       "      <td>40.0</td>\n",
       "      <td>t</td>\n",
       "      <td>151.0</td>\n",
       "      <td>t</td>\n",
       "      <td>61.0</td>\n",
       "      <td>v</td>\n",
       "    </tr>\n",
       "  </tbody>\n",
       "</table>\n",
       "<p>53424 rows × 26 columns</p>\n",
       "</div>"
      ],
      "text/plain": [
       "          POSTE       NOM        LON         LAT  ALT      DATE   RR QRR  \\\n",
       "0       1089001  AMBERIEU  5°19'45\"E  45°58'35\"N  250  20200101  0,0   v   \n",
       "1       1089001  AMBERIEU  5°19'45\"E  45°58'35\"N  250  20200102  0,0   v   \n",
       "2       1089001  AMBERIEU  5°19'45\"E  45°58'35\"N  250  20200103  0,4   v   \n",
       "3       1089001  AMBERIEU  5°19'45\"E  45°58'35\"N  250  20200104  0,6   v   \n",
       "4       1089001  AMBERIEU  5°19'45\"E  45°58'35\"N  250  20200105  0,0   v   \n",
       "...         ...       ...        ...         ...  ...       ...  ...  ..   \n",
       "53419  95527001    ROISSY  2°32'03\"E  49°00'54\"N  108  20210417  0,0   v   \n",
       "53420  95527001    ROISSY  2°32'03\"E  49°00'54\"N  108  20210418  0,0   v   \n",
       "53421  95527001    ROISSY  2°32'03\"E  49°00'54\"N  108  20210419  0,0   v   \n",
       "53422  95527001    ROISSY  2°32'03\"E  49°00'54\"N  108  20210420  0,0   v   \n",
       "53423  95527001    ROISSY  2°32'03\"E  49°00'54\"N  108  20210421  0,0   v   \n",
       "\n",
       "         TN QTN  ...    UN QUN    UX QUX DHUMI40 QDHUMI40  DHUMI80 QDHUMI80  \\\n",
       "0      -2,2   v  ...  97.0   v  98.0   v     0.0        t   1440.0        t   \n",
       "1      -1,8   v  ...  69.0   v  99.0   v     0.0        t    860.0        t   \n",
       "2       3,3   v  ...  71.0   v  95.0   v     0.0        t    620.0        t   \n",
       "3       3,4   v  ...  74.0   v  97.0   v     0.0        t   1168.0        t   \n",
       "4      -3,4   v  ...  77.0   v  97.0   v     0.0        t   1395.0        t   \n",
       "...     ...  ..  ...   ...  ..   ...  ..     ...      ...      ...      ...   \n",
       "53419   2,6   v  ...  36.0   v  89.0   v   239.0        t    357.0        t   \n",
       "53420   2,0   v  ...  45.0   v  90.0   v     0.0        t    349.0        t   \n",
       "53421   3,3   v  ...  36.0   v  86.0   v   226.0        t    403.0        t   \n",
       "53422   5,7   v  ...  28.0   v  85.0   v   358.0        t    215.0        t   \n",
       "53423   6,5   v  ...  36.0   v  84.0   v    40.0        t    151.0        t   \n",
       "\n",
       "         UM QUM  \n",
       "0      97.0   v  \n",
       "1      86.0   v  \n",
       "2      81.0   v  \n",
       "3      89.0   v  \n",
       "4      92.0   v  \n",
       "...     ...  ..  \n",
       "53419  62.0   v  \n",
       "53420  66.0   v  \n",
       "53421  60.0   v  \n",
       "53422  56.0   v  \n",
       "53423  61.0   v  \n",
       "\n",
       "[53424 rows x 26 columns]"
      ]
     },
     "execution_count": 23,
     "metadata": {},
     "output_type": "execute_result"
    }
   ],
   "source": [
    "#reprenons le fichier csv contenant les informations météo sur la période covid:\n",
    "df_meteo = pd.read_csv(\"./fichier/meteo_france_donnees_covid19.csv\", delimiter=';',encoding='utf-8')\n",
    "df_meteo"
   ]
  },
  {
   "cell_type": "code",
   "execution_count": 2,
   "id": "6eaa2f87",
   "metadata": {
    "scrolled": true
   },
   "outputs": [
    {
     "name": "stdout",
     "output_type": "stream",
     "text": [
      "<class 'pandas.core.frame.DataFrame'>\n",
      "RangeIndex: 53424 entries, 0 to 53423\n",
      "Data columns (total 26 columns):\n",
      " #   Column    Non-Null Count  Dtype  \n",
      "---  ------    --------------  -----  \n",
      " 0   POSTE     53424 non-null  int64  \n",
      " 1   NOM       53424 non-null  object \n",
      " 2   LON       53424 non-null  object \n",
      " 3   LAT       53424 non-null  object \n",
      " 4   ALT       53424 non-null  int64  \n",
      " 5   DATE      53424 non-null  int64  \n",
      " 6   RR        53424 non-null  object \n",
      " 7   QRR       53424 non-null  object \n",
      " 8   TN        53424 non-null  object \n",
      " 9   QTN       53424 non-null  object \n",
      " 10  TX        53424 non-null  object \n",
      " 11  QTX       53424 non-null  object \n",
      " 12  TM        53325 non-null  object \n",
      " 13  QTM       53326 non-null  object \n",
      " 14  FFM       53129 non-null  object \n",
      " 15  QFFM      53184 non-null  object \n",
      " 16  UN        53395 non-null  float64\n",
      " 17  QUN       53398 non-null  object \n",
      " 18  UX        53391 non-null  float64\n",
      " 19  QUX       53396 non-null  object \n",
      " 20  DHUMI40   53209 non-null  float64\n",
      " 21  QDHUMI40  53214 non-null  object \n",
      " 22  DHUMI80   53176 non-null  float64\n",
      " 23  QDHUMI80  53184 non-null  object \n",
      " 24  UM        53318 non-null  float64\n",
      " 25  QUM       53323 non-null  object \n",
      "dtypes: float64(5), int64(3), object(18)\n",
      "memory usage: 10.6+ MB\n"
     ]
    }
   ],
   "source": [
    "#pour avoir des informations générales sur le contenu du dataset\n",
    "df_meteo.info()"
   ]
  },
  {
   "cell_type": "code",
   "execution_count": 24,
   "id": "551f51ec",
   "metadata": {},
   "outputs": [
    {
     "data": {
      "text/html": [
       "<div>\n",
       "<style scoped>\n",
       "    .dataframe tbody tr th:only-of-type {\n",
       "        vertical-align: middle;\n",
       "    }\n",
       "\n",
       "    .dataframe tbody tr th {\n",
       "        vertical-align: top;\n",
       "    }\n",
       "\n",
       "    .dataframe thead th {\n",
       "        text-align: right;\n",
       "    }\n",
       "</style>\n",
       "<table border=\"1\" class=\"dataframe\">\n",
       "  <thead>\n",
       "    <tr style=\"text-align: right;\">\n",
       "      <th></th>\n",
       "      <th>POSTE</th>\n",
       "      <th>ALT</th>\n",
       "      <th>DATE</th>\n",
       "      <th>UN</th>\n",
       "      <th>UX</th>\n",
       "      <th>DHUMI40</th>\n",
       "      <th>DHUMI80</th>\n",
       "      <th>UM</th>\n",
       "    </tr>\n",
       "  </thead>\n",
       "  <tbody>\n",
       "    <tr>\n",
       "      <th>count</th>\n",
       "      <td>5.342400e+04</td>\n",
       "      <td>53424.000000</td>\n",
       "      <td>5.342400e+04</td>\n",
       "      <td>53395.000000</td>\n",
       "      <td>53391.000000</td>\n",
       "      <td>53209.000000</td>\n",
       "      <td>53176.000000</td>\n",
       "      <td>53318.000000</td>\n",
       "    </tr>\n",
       "    <tr>\n",
       "      <th>mean</th>\n",
       "      <td>4.548673e+07</td>\n",
       "      <td>189.089286</td>\n",
       "      <td>2.020290e+07</td>\n",
       "      <td>52.812735</td>\n",
       "      <td>91.760596</td>\n",
       "      <td>97.157661</td>\n",
       "      <td>691.450842</td>\n",
       "      <td>74.190817</td>\n",
       "    </tr>\n",
       "    <tr>\n",
       "      <th>std</th>\n",
       "      <td>2.716715e+07</td>\n",
       "      <td>185.656061</td>\n",
       "      <td>4.062004e+03</td>\n",
       "      <td>18.431993</td>\n",
       "      <td>8.787114</td>\n",
       "      <td>200.902560</td>\n",
       "      <td>461.490894</td>\n",
       "      <td>13.992448</td>\n",
       "    </tr>\n",
       "    <tr>\n",
       "      <th>min</th>\n",
       "      <td>1.089001e+06</td>\n",
       "      <td>1.000000</td>\n",
       "      <td>2.020010e+07</td>\n",
       "      <td>7.000000</td>\n",
       "      <td>28.000000</td>\n",
       "      <td>0.000000</td>\n",
       "      <td>0.000000</td>\n",
       "      <td>23.000000</td>\n",
       "    </tr>\n",
       "    <tr>\n",
       "      <th>25%</th>\n",
       "      <td>2.013950e+07</td>\n",
       "      <td>70.000000</td>\n",
       "      <td>2.020043e+07</td>\n",
       "      <td>38.000000</td>\n",
       "      <td>89.000000</td>\n",
       "      <td>0.000000</td>\n",
       "      <td>325.000000</td>\n",
       "      <td>64.000000</td>\n",
       "    </tr>\n",
       "    <tr>\n",
       "      <th>50%</th>\n",
       "      <td>4.354100e+07</td>\n",
       "      <td>138.500000</td>\n",
       "      <td>2.020083e+07</td>\n",
       "      <td>52.000000</td>\n",
       "      <td>95.000000</td>\n",
       "      <td>0.000000</td>\n",
       "      <td>668.000000</td>\n",
       "      <td>76.000000</td>\n",
       "    </tr>\n",
       "    <tr>\n",
       "      <th>75%</th>\n",
       "      <td>6.909650e+07</td>\n",
       "      <td>235.000000</td>\n",
       "      <td>2.020122e+07</td>\n",
       "      <td>67.000000</td>\n",
       "      <td>98.000000</td>\n",
       "      <td>37.000000</td>\n",
       "      <td>1060.000000</td>\n",
       "      <td>85.000000</td>\n",
       "    </tr>\n",
       "    <tr>\n",
       "      <th>max</th>\n",
       "      <td>9.552700e+07</td>\n",
       "      <td>932.000000</td>\n",
       "      <td>2.021042e+07</td>\n",
       "      <td>100.000000</td>\n",
       "      <td>100.000000</td>\n",
       "      <td>1440.000000</td>\n",
       "      <td>1440.000000</td>\n",
       "      <td>100.000000</td>\n",
       "    </tr>\n",
       "  </tbody>\n",
       "</table>\n",
       "</div>"
      ],
      "text/plain": [
       "              POSTE           ALT          DATE            UN            UX  \\\n",
       "count  5.342400e+04  53424.000000  5.342400e+04  53395.000000  53391.000000   \n",
       "mean   4.548673e+07    189.089286  2.020290e+07     52.812735     91.760596   \n",
       "std    2.716715e+07    185.656061  4.062004e+03     18.431993      8.787114   \n",
       "min    1.089001e+06      1.000000  2.020010e+07      7.000000     28.000000   \n",
       "25%    2.013950e+07     70.000000  2.020043e+07     38.000000     89.000000   \n",
       "50%    4.354100e+07    138.500000  2.020083e+07     52.000000     95.000000   \n",
       "75%    6.909650e+07    235.000000  2.020122e+07     67.000000     98.000000   \n",
       "max    9.552700e+07    932.000000  2.021042e+07    100.000000    100.000000   \n",
       "\n",
       "            DHUMI40       DHUMI80            UM  \n",
       "count  53209.000000  53176.000000  53318.000000  \n",
       "mean      97.157661    691.450842     74.190817  \n",
       "std      200.902560    461.490894     13.992448  \n",
       "min        0.000000      0.000000     23.000000  \n",
       "25%        0.000000    325.000000     64.000000  \n",
       "50%        0.000000    668.000000     76.000000  \n",
       "75%       37.000000   1060.000000     85.000000  \n",
       "max     1440.000000   1440.000000    100.000000  "
      ]
     },
     "execution_count": 24,
     "metadata": {},
     "output_type": "execute_result"
    }
   ],
   "source": [
    "# pour obtenir quelques statistiques sur les variables numériques\n",
    "df_meteo.describe() # ne va prendre en compte que les colonnes dont dtype est int ou float "
   ]
  },
  {
   "cell_type": "code",
   "execution_count": 4,
   "id": "f495cfea",
   "metadata": {},
   "outputs": [
    {
     "data": {
      "text/html": [
       "<div>\n",
       "<style scoped>\n",
       "    .dataframe tbody tr th:only-of-type {\n",
       "        vertical-align: middle;\n",
       "    }\n",
       "\n",
       "    .dataframe tbody tr th {\n",
       "        vertical-align: top;\n",
       "    }\n",
       "\n",
       "    .dataframe thead th {\n",
       "        text-align: right;\n",
       "    }\n",
       "</style>\n",
       "<table border=\"1\" class=\"dataframe\">\n",
       "  <thead>\n",
       "    <tr style=\"text-align: right;\">\n",
       "      <th></th>\n",
       "      <th>POSTE</th>\n",
       "      <th>NOM</th>\n",
       "      <th>LON</th>\n",
       "      <th>LAT</th>\n",
       "      <th>ALT</th>\n",
       "      <th>DATE</th>\n",
       "      <th>RR</th>\n",
       "      <th>QRR</th>\n",
       "      <th>TN</th>\n",
       "      <th>QTN</th>\n",
       "      <th>...</th>\n",
       "      <th>UN</th>\n",
       "      <th>QUN</th>\n",
       "      <th>UX</th>\n",
       "      <th>QUX</th>\n",
       "      <th>DHUMI40</th>\n",
       "      <th>QDHUMI40</th>\n",
       "      <th>DHUMI80</th>\n",
       "      <th>QDHUMI80</th>\n",
       "      <th>UM</th>\n",
       "      <th>QUM</th>\n",
       "    </tr>\n",
       "  </thead>\n",
       "  <tbody>\n",
       "    <tr>\n",
       "      <th>0</th>\n",
       "      <td>1089001</td>\n",
       "      <td>AMBERIEU</td>\n",
       "      <td>5°19'45\"E</td>\n",
       "      <td>45°58'35\"N</td>\n",
       "      <td>250</td>\n",
       "      <td>20200101</td>\n",
       "      <td>0,0</td>\n",
       "      <td>v</td>\n",
       "      <td>-2,2</td>\n",
       "      <td>v</td>\n",
       "      <td>...</td>\n",
       "      <td>97.0</td>\n",
       "      <td>v</td>\n",
       "      <td>98.0</td>\n",
       "      <td>v</td>\n",
       "      <td>0.0</td>\n",
       "      <td>t</td>\n",
       "      <td>1440.0</td>\n",
       "      <td>t</td>\n",
       "      <td>97.0</td>\n",
       "      <td>v</td>\n",
       "    </tr>\n",
       "    <tr>\n",
       "      <th>1</th>\n",
       "      <td>1089001</td>\n",
       "      <td>AMBERIEU</td>\n",
       "      <td>5°19'45\"E</td>\n",
       "      <td>45°58'35\"N</td>\n",
       "      <td>250</td>\n",
       "      <td>20200102</td>\n",
       "      <td>0,0</td>\n",
       "      <td>v</td>\n",
       "      <td>-1,8</td>\n",
       "      <td>v</td>\n",
       "      <td>...</td>\n",
       "      <td>69.0</td>\n",
       "      <td>v</td>\n",
       "      <td>99.0</td>\n",
       "      <td>v</td>\n",
       "      <td>0.0</td>\n",
       "      <td>t</td>\n",
       "      <td>860.0</td>\n",
       "      <td>t</td>\n",
       "      <td>86.0</td>\n",
       "      <td>v</td>\n",
       "    </tr>\n",
       "    <tr>\n",
       "      <th>2</th>\n",
       "      <td>1089001</td>\n",
       "      <td>AMBERIEU</td>\n",
       "      <td>5°19'45\"E</td>\n",
       "      <td>45°58'35\"N</td>\n",
       "      <td>250</td>\n",
       "      <td>20200103</td>\n",
       "      <td>0,4</td>\n",
       "      <td>v</td>\n",
       "      <td>3,3</td>\n",
       "      <td>v</td>\n",
       "      <td>...</td>\n",
       "      <td>71.0</td>\n",
       "      <td>v</td>\n",
       "      <td>95.0</td>\n",
       "      <td>v</td>\n",
       "      <td>0.0</td>\n",
       "      <td>t</td>\n",
       "      <td>620.0</td>\n",
       "      <td>t</td>\n",
       "      <td>81.0</td>\n",
       "      <td>v</td>\n",
       "    </tr>\n",
       "    <tr>\n",
       "      <th>3</th>\n",
       "      <td>1089001</td>\n",
       "      <td>AMBERIEU</td>\n",
       "      <td>5°19'45\"E</td>\n",
       "      <td>45°58'35\"N</td>\n",
       "      <td>250</td>\n",
       "      <td>20200104</td>\n",
       "      <td>0,6</td>\n",
       "      <td>v</td>\n",
       "      <td>3,4</td>\n",
       "      <td>v</td>\n",
       "      <td>...</td>\n",
       "      <td>74.0</td>\n",
       "      <td>v</td>\n",
       "      <td>97.0</td>\n",
       "      <td>v</td>\n",
       "      <td>0.0</td>\n",
       "      <td>t</td>\n",
       "      <td>1168.0</td>\n",
       "      <td>t</td>\n",
       "      <td>89.0</td>\n",
       "      <td>v</td>\n",
       "    </tr>\n",
       "    <tr>\n",
       "      <th>4</th>\n",
       "      <td>1089001</td>\n",
       "      <td>AMBERIEU</td>\n",
       "      <td>5°19'45\"E</td>\n",
       "      <td>45°58'35\"N</td>\n",
       "      <td>250</td>\n",
       "      <td>20200105</td>\n",
       "      <td>0,0</td>\n",
       "      <td>v</td>\n",
       "      <td>-3,4</td>\n",
       "      <td>v</td>\n",
       "      <td>...</td>\n",
       "      <td>77.0</td>\n",
       "      <td>v</td>\n",
       "      <td>97.0</td>\n",
       "      <td>v</td>\n",
       "      <td>0.0</td>\n",
       "      <td>t</td>\n",
       "      <td>1395.0</td>\n",
       "      <td>t</td>\n",
       "      <td>92.0</td>\n",
       "      <td>v</td>\n",
       "    </tr>\n",
       "  </tbody>\n",
       "</table>\n",
       "<p>5 rows × 26 columns</p>\n",
       "</div>"
      ],
      "text/plain": [
       "     POSTE       NOM        LON         LAT  ALT      DATE   RR QRR    TN QTN  \\\n",
       "0  1089001  AMBERIEU  5°19'45\"E  45°58'35\"N  250  20200101  0,0   v  -2,2   v   \n",
       "1  1089001  AMBERIEU  5°19'45\"E  45°58'35\"N  250  20200102  0,0   v  -1,8   v   \n",
       "2  1089001  AMBERIEU  5°19'45\"E  45°58'35\"N  250  20200103  0,4   v   3,3   v   \n",
       "3  1089001  AMBERIEU  5°19'45\"E  45°58'35\"N  250  20200104  0,6   v   3,4   v   \n",
       "4  1089001  AMBERIEU  5°19'45\"E  45°58'35\"N  250  20200105  0,0   v  -3,4   v   \n",
       "\n",
       "   ...    UN QUN    UX QUX DHUMI40 QDHUMI40  DHUMI80 QDHUMI80    UM QUM  \n",
       "0  ...  97.0   v  98.0   v     0.0        t   1440.0        t  97.0   v  \n",
       "1  ...  69.0   v  99.0   v     0.0        t    860.0        t  86.0   v  \n",
       "2  ...  71.0   v  95.0   v     0.0        t    620.0        t  81.0   v  \n",
       "3  ...  74.0   v  97.0   v     0.0        t   1168.0        t  89.0   v  \n",
       "4  ...  77.0   v  97.0   v     0.0        t   1395.0        t  92.0   v  \n",
       "\n",
       "[5 rows x 26 columns]"
      ]
     },
     "execution_count": 4,
     "metadata": {},
     "output_type": "execute_result"
    }
   ],
   "source": [
    "# pour ne visualiser que les 1ère ou dernière lignes\n",
    "df_meteo.head(5)\n",
    "#df_meteo.tail(5)"
   ]
  },
  {
   "cell_type": "code",
   "execution_count": 5,
   "id": "1f45e2ab",
   "metadata": {},
   "outputs": [
    {
     "data": {
      "text/plain": [
       "Index(['POSTE', 'NOM', 'LON', 'LAT', 'ALT', 'DATE', 'RR', 'QRR', 'TN', 'QTN',\n",
       "       'TX', 'QTX', 'TM', 'QTM', 'FFM', 'QFFM', 'UN', 'QUN', 'UX', 'QUX',\n",
       "       'DHUMI40', 'QDHUMI40', 'DHUMI80', 'QDHUMI80', 'UM', 'QUM'],\n",
       "      dtype='object')"
      ]
     },
     "execution_count": 5,
     "metadata": {},
     "output_type": "execute_result"
    }
   ],
   "source": [
    "#pour connaitre le nom de nos colonnes\n",
    "df_meteo.columns"
   ]
  },
  {
   "cell_type": "code",
   "execution_count": 6,
   "id": "4ccb6b49",
   "metadata": {},
   "outputs": [
    {
     "data": {
      "text/plain": [
       "POSTE         int64\n",
       "NOM          object\n",
       "LON          object\n",
       "LAT          object\n",
       "ALT           int64\n",
       "DATE          int64\n",
       "RR           object\n",
       "QRR          object\n",
       "TN           object\n",
       "QTN          object\n",
       "TX           object\n",
       "QTX          object\n",
       "TM           object\n",
       "QTM          object\n",
       "FFM          object\n",
       "QFFM         object\n",
       "UN          float64\n",
       "QUN          object\n",
       "UX          float64\n",
       "QUX          object\n",
       "DHUMI40     float64\n",
       "QDHUMI40     object\n",
       "DHUMI80     float64\n",
       "QDHUMI80     object\n",
       "UM          float64\n",
       "QUM          object\n",
       "dtype: object"
      ]
     },
     "execution_count": 6,
     "metadata": {},
     "output_type": "execute_result"
    }
   ],
   "source": [
    "#pour connaître le type de variables\n",
    "df_meteo.dtypes"
   ]
  },
  {
   "cell_type": "code",
   "execution_count": 7,
   "id": "9f344812",
   "metadata": {},
   "outputs": [
    {
     "data": {
      "text/plain": [
       "(53424, 26)"
      ]
     },
     "execution_count": 7,
     "metadata": {},
     "output_type": "execute_result"
    }
   ],
   "source": [
    "# pour connaître la dimension d'un dataset\n",
    "df_meteo.shape"
   ]
  },
  {
   "cell_type": "code",
   "execution_count": 25,
   "id": "42d067b0",
   "metadata": {},
   "outputs": [
    {
     "data": {
      "text/plain": [
       "array(['AMBERIEU', 'ST QUENTIN', 'VICHY-CHARMEIL', 'MONTLUCON AERO',\n",
       "       'DIGNE LES BAINS', 'EMBRUN', 'GAP', 'NICE', 'LANAS SYN',\n",
       "       'CHARLEVILLE-MEZ', 'COS', 'TROYES-BARBEREY', 'CARCASSONNE',\n",
       "       'NARBONNE', 'RODEZ-AVEYRON', 'MARIGNANE', 'MARSEILLE',\n",
       "       'CAEN-CARPIQUET', 'AURILLAC', 'ANGOULEME - BRIE - CHAMPNIERS',\n",
       "       'COGNAC', 'LA ROCHELLE-ILE DE RE', 'BOURGES', 'AVORD', 'BRIVE',\n",
       "       'BRIVE-SOUILLAC', 'AJACCIO', 'FIGARI', 'BASTIA', 'DIJON-LONGVIC',\n",
       "       'ST BRIEUC', 'GUERET-ST LAURENT', 'COULOUNIEIX', 'BESANCON',\n",
       "       'VALENCE-CHABEUI', 'EVREUX-HUEST', 'CHARTRES', 'BREST-GUIPAVAS',\n",
       "       'QUIMPER', 'NIMES-COURBESSAC', 'NIMES-GARONS', 'TOULOUSE-BLAGNAC',\n",
       "       'AUCH', 'BORDEAUX-MERIGNAC', 'CAZAUX', 'MONTPELLIER-AEROPORT',\n",
       "       'DINARD', 'RENNES-ST JACQUES', 'CHATEAUROUX  DEOLS', 'TOURS',\n",
       "       'GRENOBLE-ST GEOIRS', 'TAVAUX SA', 'MONT-DE-MARSAN', 'BLOIS',\n",
       "       'ST ETIENNE-BOUTHEON', 'LE PUY-LOUDES', 'NANTES-BOUGUENAIS',\n",
       "       'ORLEANS', 'LE MONTAT', 'AGEN-LA GARENNE', 'MENDE', 'REIMS-PRUNAY',\n",
       "       'ST-DIZIER', 'LAVAL-ETRONNIER', 'NANCY-OCHEY', 'NANCY-ESSEY',\n",
       "       'COUROUVRE', 'LORIENT-LANN BIHOUE', 'METZ-FRESCATY',\n",
       "       'NEVERS-MARZY', 'DUNKERQUE', 'LILLE-LESQUIN', 'BEAUVAIS-TILLE',\n",
       "       'ALENCON', 'BOULOGNE-SEM', 'CLERMONT-FD', 'BIARRITZ-PAYS-BASQUE',\n",
       "       'PAU-UZEIN', 'TARBES-LOURDES-PYRENEES', 'PERPIGNAN',\n",
       "       'STRASBOURG-ENTZHEIM', 'COLMAR-MEYENHEIM', 'BALE-MULHOUSE',\n",
       "       'LYON-BRON', 'LYON-ST EXUPERY', 'LUXEUIL', 'CHALON-CHAMPFO',\n",
       "       'MACON', 'LE MANS', 'CHAMBERY-AIX', 'MEYTHET', 'PARIS-MONTSOURIS',\n",
       "       'ROUEN-BOOS', 'DIEPPE', 'MELUN', 'TOUSSUS LE NOBLE', 'NIORT',\n",
       "       'AMIENS-GLISY', 'ALBI', 'MONTAUBAN', 'HYERES', 'AVIGNON', 'ORANGE',\n",
       "       'LA ROCHE SUR YON', 'POITIERS-BIARD', 'LIMOGES-BELLEGARDE',\n",
       "       'EPINAL', 'AUXERRE-PERRIGNY', 'DORANS', 'ORLY', 'PONTOISE - AERO',\n",
       "       'ROISSY'], dtype=object)"
      ]
     },
     "execution_count": 25,
     "metadata": {},
     "output_type": "execute_result"
    }
   ],
   "source": [
    "#pour connaitre le nom des valeurs uniques\n",
    "pd.unique(df_meteo['NOM'])\n",
    "df_meteo['NOM'].unique() # alternative 1\n",
    "df_meteo.NOM.unique()   #alternative 2"
   ]
  },
  {
   "cell_type": "code",
   "execution_count": 141,
   "id": "d9244bd3",
   "metadata": {},
   "outputs": [
    {
     "data": {
      "text/plain": [
       "112"
      ]
     },
     "execution_count": 141,
     "metadata": {},
     "output_type": "execute_result"
    }
   ],
   "source": [
    "#pour connaitre le nombre des valeurs uniques\n",
    "len(pd.unique(df_meteo['NOM']))"
   ]
  },
  {
   "cell_type": "markdown",
   "id": "366739cf",
   "metadata": {},
   "source": [
    "**accéder à des éléments**\n",
    "\n",
    "Il existe principalement 2 méthodes pour accéder à des valeurs d'un dataframe:\n",
    "- la méthode iloc[  ]--> principalement basé sur les positions à l'aide d'entiers, lorsque l'on veut extraire des valeurs localisées on utilise l'index [indice_ligne, indice_colonne]\n",
    "- la méthode loc[  ] --> principalement basé sur le label des axes, on utilise le nom des lignes et des colonnes "
   ]
  },
  {
   "cell_type": "code",
   "execution_count": 1,
   "id": "29ca1c0e",
   "metadata": {},
   "outputs": [
    {
     "name": "stdout",
     "output_type": "stream",
     "text": [
      "        Name  Age      City Grade\n",
      "501    Alice   17  New York     A\n",
      "502   Steven   20  Portland    B-\n",
      "503  Neesham   18    Boston    B+\n",
      "504    Chris   21   Seattle    A-\n",
      "505    Alice   15    Austin     A\n"
     ]
    }
   ],
   "source": [
    "#prenons un exemple simple\n",
    "import pandas as pd\n",
    "import numpy as np\n",
    "num_student=[501,502,503,504,505]\n",
    "student_df = pd.DataFrame({\n",
    "    'Name': ['Alice', 'Steven', 'Neesham', 'Chris', 'Alice'],\n",
    "    'Age':  [17, 20, 18, 21, 15],\n",
    "    'City': ['New York', 'Portland', 'Boston', 'Seattle', 'Austin'],\n",
    "    'Grade': ['A', 'B-', 'B+', 'A-', 'A']\n",
    "},index=num_student)\n",
    "\n",
    "print(student_df)"
   ]
  },
  {
   "cell_type": "code",
   "execution_count": 3,
   "id": "599fa491",
   "metadata": {},
   "outputs": [
    {
     "name": "stdout",
     "output_type": "stream",
     "text": [
      "A-\n"
     ]
    }
   ],
   "source": [
    "#approche loc\n",
    "#on veut accéder à la valeur du \"grade\" de l'étudiant ayant le numéro étudiant 504\n",
    "value = student_df.loc[504,'Grade']\n",
    "#value = student_df.iloc[3,3] --> équivalence avec iloc \n",
    "print(value)\n",
    "# on a donc dataframe.loc[nom_index,nom_colonne]\n"
   ]
  },
  {
   "cell_type": "code",
   "execution_count": 8,
   "id": "9061212c",
   "metadata": {},
   "outputs": [
    {
     "name": "stdout",
     "output_type": "stream",
     "text": [
      "        Name  Age\n",
      "501    Alice   17\n",
      "502   Steven   20\n",
      "503  Neesham   18\n",
      "504    Chris   21\n",
      "505    Alice   15\n"
     ]
    }
   ],
   "source": [
    "#si l'on veut filtrer des colonnes \n",
    "value = student_df.loc[:, [\"Name\", \"Age\"]]\n",
    "#différentes alternatives\n",
    "#value = student_df[[\"Name\", \"Age\"]]\n",
    "#value = student_df.iloc[:,0:2]\n",
    "#value = student_df.iloc[:,[0, 1]]\n",
    "print(value)"
   ]
  },
  {
   "cell_type": "code",
   "execution_count": 36,
   "id": "a080cbf2",
   "metadata": {},
   "outputs": [
    {
     "name": "stdout",
     "output_type": "stream",
     "text": [
      "        Name Grade\n",
      "502   Steven    B-\n",
      "503  Neesham    B+\n",
      "504    Chris    A-\n",
      "505    Alice     A\n"
     ]
    }
   ],
   "source": [
    "#si l'on veut filtrer des lignes et des colonnes \n",
    "#exemple: je veux uniquement les colonnes nom et grade pour les étudiants ayant un numéro étudiant supérieur à 502\n",
    "value = student_df.loc[ [502, 503, 504, 505], [\"Name\", \"Grade\"]]\n",
    "#value = student_df.loc[502:, [\"Name\", \"Grade\"]] #variante\n",
    "print(value)"
   ]
  },
  {
   "cell_type": "code",
   "execution_count": 149,
   "id": "2e661047",
   "metadata": {},
   "outputs": [
    {
     "name": "stdout",
     "output_type": "stream",
     "text": [
      "      Name  Age      City Grade\n",
      "501  Alice   17  New York     A\n",
      "505  Alice   15    Austin     A\n"
     ]
    }
   ],
   "source": [
    "#si l'on veut filtrer des lignes en appliquant une condition\n",
    "# par exemple, on veut sélectionner les étudiants ayant eu un grade A\n",
    "#value = student_df['Grade'] == 'A'\n",
    "value = student_df.loc[student_df['Grade'] == 'A']\n",
    "print(value)"
   ]
  },
  {
   "cell_type": "code",
   "execution_count": 46,
   "id": "6e6413b4",
   "metadata": {},
   "outputs": [
    {
     "name": "stdout",
     "output_type": "stream",
     "text": [
      "      Name  Age     City Grade\n",
      "504  Chris   21  Seattle    A-\n",
      "505  Alice   15   Austin     A\n"
     ]
    }
   ],
   "source": [
    "#approche iloc\n",
    "#on souhaite filtrer des lignes ayant un indice particulier\n",
    "value = student_df.iloc[[3,4]] # on met 2 paires de crochets; la première : le tableau, la 2e c'est pour accéder aux lignes \n",
    "print(value)"
   ]
  },
  {
   "cell_type": "code",
   "execution_count": 154,
   "id": "cce40d0c",
   "metadata": {},
   "outputs": [
    {
     "name": "stdout",
     "output_type": "stream",
     "text": [
      "     Age     City\n",
      "504   21  Seattle\n",
      "505   15   Austin\n"
     ]
    }
   ],
   "source": [
    "# ou filtrer en fonction d'indice de lignes et de colonnes\n",
    "value = student_df.iloc[[3,4], [1,2]]\n",
    "print(value)\n",
    "#on peut également filtrer une plage de valeur avec les :"
   ]
  },
  {
   "cell_type": "markdown",
   "id": "57381cc9",
   "metadata": {},
   "source": [
    "**faire des boucles dans un dataframe**\n"
   ]
  },
  {
   "cell_type": "code",
   "execution_count": 47,
   "id": "087804b3",
   "metadata": {},
   "outputs": [
    {
     "data": {
      "text/html": [
       "<div>\n",
       "<style scoped>\n",
       "    .dataframe tbody tr th:only-of-type {\n",
       "        vertical-align: middle;\n",
       "    }\n",
       "\n",
       "    .dataframe tbody tr th {\n",
       "        vertical-align: top;\n",
       "    }\n",
       "\n",
       "    .dataframe thead th {\n",
       "        text-align: right;\n",
       "    }\n",
       "</style>\n",
       "<table border=\"1\" class=\"dataframe\">\n",
       "  <thead>\n",
       "    <tr style=\"text-align: right;\">\n",
       "      <th></th>\n",
       "      <th>NOM</th>\n",
       "      <th>DATE</th>\n",
       "      <th>TN</th>\n",
       "    </tr>\n",
       "  </thead>\n",
       "  <tbody>\n",
       "    <tr>\n",
       "      <th>0</th>\n",
       "      <td>AMBERIEU</td>\n",
       "      <td>20200101</td>\n",
       "      <td>-2,2</td>\n",
       "    </tr>\n",
       "    <tr>\n",
       "      <th>1</th>\n",
       "      <td>AMBERIEU</td>\n",
       "      <td>20200102</td>\n",
       "      <td>-1,8</td>\n",
       "    </tr>\n",
       "    <tr>\n",
       "      <th>2</th>\n",
       "      <td>AMBERIEU</td>\n",
       "      <td>20200103</td>\n",
       "      <td>3,3</td>\n",
       "    </tr>\n",
       "    <tr>\n",
       "      <th>3</th>\n",
       "      <td>AMBERIEU</td>\n",
       "      <td>20200104</td>\n",
       "      <td>3,4</td>\n",
       "    </tr>\n",
       "    <tr>\n",
       "      <th>4</th>\n",
       "      <td>AMBERIEU</td>\n",
       "      <td>20200105</td>\n",
       "      <td>-3,4</td>\n",
       "    </tr>\n",
       "    <tr>\n",
       "      <th>5</th>\n",
       "      <td>AMBERIEU</td>\n",
       "      <td>20200106</td>\n",
       "      <td>-4,6</td>\n",
       "    </tr>\n",
       "    <tr>\n",
       "      <th>6</th>\n",
       "      <td>AMBERIEU</td>\n",
       "      <td>20200107</td>\n",
       "      <td>-0,8</td>\n",
       "    </tr>\n",
       "    <tr>\n",
       "      <th>7</th>\n",
       "      <td>AMBERIEU</td>\n",
       "      <td>20200108</td>\n",
       "      <td>-1,2</td>\n",
       "    </tr>\n",
       "    <tr>\n",
       "      <th>8</th>\n",
       "      <td>AMBERIEU</td>\n",
       "      <td>20200109</td>\n",
       "      <td>0,3</td>\n",
       "    </tr>\n",
       "    <tr>\n",
       "      <th>9</th>\n",
       "      <td>AMBERIEU</td>\n",
       "      <td>20200110</td>\n",
       "      <td>5,9</td>\n",
       "    </tr>\n",
       "  </tbody>\n",
       "</table>\n",
       "</div>"
      ],
      "text/plain": [
       "        NOM      DATE    TN\n",
       "0  AMBERIEU  20200101  -2,2\n",
       "1  AMBERIEU  20200102  -1,8\n",
       "2  AMBERIEU  20200103   3,3\n",
       "3  AMBERIEU  20200104   3,4\n",
       "4  AMBERIEU  20200105  -3,4\n",
       "5  AMBERIEU  20200106  -4,6\n",
       "6  AMBERIEU  20200107  -0,8\n",
       "7  AMBERIEU  20200108  -1,2\n",
       "8  AMBERIEU  20200109   0,3\n",
       "9  AMBERIEU  20200110   5,9"
      ]
     },
     "execution_count": 47,
     "metadata": {},
     "output_type": "execute_result"
    }
   ],
   "source": [
    "#reprenons notre data_frame de données météo et affichons les 10 premières lignes seulement des colonnes NOM DATE et TN\n",
    "df_meteo[['NOM','DATE','TN']].head(10)"
   ]
  },
  {
   "cell_type": "code",
   "execution_count": 49,
   "id": "c44f1837",
   "metadata": {},
   "outputs": [],
   "source": [
    "#pour plus de commodité on l'appellera :\n",
    "df1_meteo = df_meteo[['NOM','DATE','TN']].head(10)"
   ]
  },
  {
   "cell_type": "code",
   "execution_count": 51,
   "id": "c9ab1138",
   "metadata": {},
   "outputs": [
    {
     "name": "stdout",
     "output_type": "stream",
     "text": [
      "affichage de ma ligne :  (0, NOM     AMBERIEU\n",
      "DATE    20200101\n",
      "TN          -2,2\n",
      "Name: 0, dtype: object)\n",
      "affichage de ma ligne :  (1, NOM     AMBERIEU\n",
      "DATE    20200102\n",
      "TN          -1,8\n",
      "Name: 1, dtype: object)\n",
      "affichage de ma ligne :  (2, NOM     AMBERIEU\n",
      "DATE    20200103\n",
      "TN           3,3\n",
      "Name: 2, dtype: object)\n",
      "affichage de ma ligne :  (3, NOM     AMBERIEU\n",
      "DATE    20200104\n",
      "TN           3,4\n",
      "Name: 3, dtype: object)\n",
      "affichage de ma ligne :  (4, NOM     AMBERIEU\n",
      "DATE    20200105\n",
      "TN          -3,4\n",
      "Name: 4, dtype: object)\n",
      "affichage de ma ligne :  (5, NOM     AMBERIEU\n",
      "DATE    20200106\n",
      "TN          -4,6\n",
      "Name: 5, dtype: object)\n",
      "affichage de ma ligne :  (6, NOM     AMBERIEU\n",
      "DATE    20200107\n",
      "TN          -0,8\n",
      "Name: 6, dtype: object)\n",
      "affichage de ma ligne :  (7, NOM     AMBERIEU\n",
      "DATE    20200108\n",
      "TN          -1,2\n",
      "Name: 7, dtype: object)\n",
      "affichage de ma ligne :  (8, NOM     AMBERIEU\n",
      "DATE    20200109\n",
      "TN           0,3\n",
      "Name: 8, dtype: object)\n",
      "affichage de ma ligne :  (9, NOM     AMBERIEU\n",
      "DATE    20200110\n",
      "TN           5,9\n",
      "Name: 9, dtype: object)\n"
     ]
    }
   ],
   "source": [
    "#pour boucler sur chaque ligne\n",
    "for i in df1_meteo.iterrows():\n",
    "    print('affichage de ma ligne : ', i)\n",
    "    "
   ]
  },
  {
   "cell_type": "code",
   "execution_count": 53,
   "id": "76d70300",
   "metadata": {},
   "outputs": [
    {
     "name": "stdout",
     "output_type": "stream",
     "text": [
      "NOM\n",
      "0    AMBERIEU\n",
      "1    AMBERIEU\n",
      "2    AMBERIEU\n",
      "3    AMBERIEU\n",
      "4    AMBERIEU\n",
      "5    AMBERIEU\n",
      "6    AMBERIEU\n",
      "7    AMBERIEU\n",
      "8    AMBERIEU\n",
      "9    AMBERIEU\n",
      "Name: NOM, dtype: object\n",
      "DATE\n",
      "0    20200101\n",
      "1    20200102\n",
      "2    20200103\n",
      "3    20200104\n",
      "4    20200105\n",
      "5    20200106\n",
      "6    20200107\n",
      "7    20200108\n",
      "8    20200109\n",
      "9    20200110\n",
      "Name: DATE, dtype: int64\n",
      "TN\n",
      "0    -2,2\n",
      "1    -1,8\n",
      "2     3,3\n",
      "3     3,4\n",
      "4    -3,4\n",
      "5    -4,6\n",
      "6    -0,8\n",
      "7    -1,2\n",
      "8     0,3\n",
      "9     5,9\n",
      "Name: TN, dtype: object\n"
     ]
    }
   ],
   "source": [
    "#pour boucler sur chaque colonne \n",
    "for key,value in df1_meteo.items():\n",
    "    print(key)\n",
    "    print(value)"
   ]
  },
  {
   "cell_type": "markdown",
   "id": "46d2f6c1",
   "metadata": {},
   "source": [
    "> ## nettoyage d'un dataframe <a class=\"anchor\" id=\"datacleaning\"></a>"
   ]
  },
  {
   "cell_type": "markdown",
   "id": "33b352dd",
   "metadata": {},
   "source": [
    "Une fois que l'on a exploré grossièrement le contenu de notre dataset, vient l'étape de nettoyage. Cette étape est généralement la plus fastidieuse et longue car elle necessite de bien repérer toutes les erreurs possibles qui se seraient glissées dans nos données. Pour ce faire , nous disposons de nombreuses méthodes et fonctions proposées par pandas.  \n",
    "Généralement le nettoyage consiste à: \n",
    "- repérer des valeurs manquantes ou/et erronées\n",
    "- remplacer des valeurs\n",
    "- supprimer des lignes / colonnes\n",
    "- ajouter des lignes  / colonnes\n",
    "- modifier le nom colonne et/ou la valeur des indexs pour plus de compréhension \n",
    "- grouper des données en fonction de certains critères pour créer de nouvelles variables  \n",
    "Dans ce qui suit nous allons voir des exemples simples de chacune de ces problématiques.Et nous verrons certains un peu plus complexes en exercice."
   ]
  },
  {
   "cell_type": "markdown",
   "id": "1eca2373",
   "metadata": {},
   "source": [
    "**repérer des valeurs manquantes**"
   ]
  },
  {
   "cell_type": "code",
   "execution_count": 108,
   "id": "ae7557a9",
   "metadata": {},
   "outputs": [
    {
     "data": {
      "text/plain": [
       "POSTE         0\n",
       "NOM           0\n",
       "LON           0\n",
       "LAT           0\n",
       "ALT           0\n",
       "DATE          0\n",
       "RR            0\n",
       "QRR           0\n",
       "TN            0\n",
       "QTN           0\n",
       "TX            0\n",
       "QTX           0\n",
       "TM           99\n",
       "QTM          98\n",
       "FFM         295\n",
       "QFFM        240\n",
       "UN           29\n",
       "QUN          26\n",
       "UX           33\n",
       "QUX          28\n",
       "DHUMI40     215\n",
       "QDHUMI40    210\n",
       "DHUMI80     248\n",
       "QDHUMI80    240\n",
       "UM          106\n",
       "QUM         101\n",
       "dtype: int64"
      ]
     },
     "execution_count": 108,
     "metadata": {},
     "output_type": "execute_result"
    }
   ],
   "source": [
    "#pour savoir s'il y a des valeurs nulles de type NaN \n",
    "#on imbrique 2 méthodes \n",
    "df_meteo.isnull().sum()\n",
    "# on remarquera que la colonne FFM est celle qui a le plus de valeurs manquantes"
   ]
  },
  {
   "cell_type": "code",
   "execution_count": 167,
   "id": "43f7368b",
   "metadata": {},
   "outputs": [
    {
     "data": {
      "text/plain": [
       "1968"
      ]
     },
     "execution_count": 167,
     "metadata": {},
     "output_type": "execute_result"
    }
   ],
   "source": [
    "#si l'on veut savoir le nombre de valeurs manquantes totales on devra sommer les valeurs manquantes par ligne et par colonne\n",
    "df_meteo.isnull().sum().sum()"
   ]
  },
  {
   "cell_type": "code",
   "execution_count": 117,
   "id": "7881d13c",
   "metadata": {},
   "outputs": [
    {
     "data": {
      "text/plain": [
       "1968"
      ]
     },
     "execution_count": 117,
     "metadata": {},
     "output_type": "execute_result"
    }
   ],
   "source": [
    "#on peut également vérifier la presence de valeurs manquantes avec la méthode isna\n",
    "df_meteo.isna().sum().sum()"
   ]
  },
  {
   "cell_type": "markdown",
   "id": "305dc04f",
   "metadata": {},
   "source": [
    "**remplacer des valeurs**"
   ]
  },
  {
   "cell_type": "code",
   "execution_count": 110,
   "id": "2be104c4",
   "metadata": {},
   "outputs": [
    {
     "data": {
      "text/html": [
       "<div>\n",
       "<style scoped>\n",
       "    .dataframe tbody tr th:only-of-type {\n",
       "        vertical-align: middle;\n",
       "    }\n",
       "\n",
       "    .dataframe tbody tr th {\n",
       "        vertical-align: top;\n",
       "    }\n",
       "\n",
       "    .dataframe thead th {\n",
       "        text-align: right;\n",
       "    }\n",
       "</style>\n",
       "<table border=\"1\" class=\"dataframe\">\n",
       "  <thead>\n",
       "    <tr style=\"text-align: right;\">\n",
       "      <th></th>\n",
       "      <th>POSTE</th>\n",
       "      <th>NOM</th>\n",
       "      <th>LON</th>\n",
       "      <th>LAT</th>\n",
       "      <th>ALT</th>\n",
       "      <th>DATE</th>\n",
       "      <th>RR</th>\n",
       "      <th>QRR</th>\n",
       "      <th>TN</th>\n",
       "      <th>QTN</th>\n",
       "      <th>...</th>\n",
       "      <th>UN</th>\n",
       "      <th>QUN</th>\n",
       "      <th>UX</th>\n",
       "      <th>QUX</th>\n",
       "      <th>DHUMI40</th>\n",
       "      <th>QDHUMI40</th>\n",
       "      <th>DHUMI80</th>\n",
       "      <th>QDHUMI80</th>\n",
       "      <th>UM</th>\n",
       "      <th>QUM</th>\n",
       "    </tr>\n",
       "  </thead>\n",
       "  <tbody>\n",
       "    <tr>\n",
       "      <th>0</th>\n",
       "      <td>1089001</td>\n",
       "      <td>AMBERIEU</td>\n",
       "      <td>5°19'45\"E</td>\n",
       "      <td>45°58'35\"N</td>\n",
       "      <td>250</td>\n",
       "      <td>20200101</td>\n",
       "      <td>0,0</td>\n",
       "      <td>v</td>\n",
       "      <td>-2,2</td>\n",
       "      <td>v</td>\n",
       "      <td>...</td>\n",
       "      <td>97.0</td>\n",
       "      <td>v</td>\n",
       "      <td>98.0</td>\n",
       "      <td>v</td>\n",
       "      <td>0.0</td>\n",
       "      <td>t</td>\n",
       "      <td>1440.0</td>\n",
       "      <td>t</td>\n",
       "      <td>97.0</td>\n",
       "      <td>v</td>\n",
       "    </tr>\n",
       "    <tr>\n",
       "      <th>1</th>\n",
       "      <td>1089001</td>\n",
       "      <td>AMBERIEU</td>\n",
       "      <td>5°19'45\"E</td>\n",
       "      <td>45°58'35\"N</td>\n",
       "      <td>250</td>\n",
       "      <td>20200102</td>\n",
       "      <td>0,0</td>\n",
       "      <td>v</td>\n",
       "      <td>-1,8</td>\n",
       "      <td>v</td>\n",
       "      <td>...</td>\n",
       "      <td>69.0</td>\n",
       "      <td>v</td>\n",
       "      <td>99.0</td>\n",
       "      <td>v</td>\n",
       "      <td>0.0</td>\n",
       "      <td>t</td>\n",
       "      <td>860.0</td>\n",
       "      <td>t</td>\n",
       "      <td>86.0</td>\n",
       "      <td>v</td>\n",
       "    </tr>\n",
       "    <tr>\n",
       "      <th>2</th>\n",
       "      <td>1089001</td>\n",
       "      <td>AMBERIEU</td>\n",
       "      <td>5°19'45\"E</td>\n",
       "      <td>45°58'35\"N</td>\n",
       "      <td>250</td>\n",
       "      <td>20200103</td>\n",
       "      <td>0,4</td>\n",
       "      <td>v</td>\n",
       "      <td>3,3</td>\n",
       "      <td>v</td>\n",
       "      <td>...</td>\n",
       "      <td>71.0</td>\n",
       "      <td>v</td>\n",
       "      <td>95.0</td>\n",
       "      <td>v</td>\n",
       "      <td>0.0</td>\n",
       "      <td>t</td>\n",
       "      <td>620.0</td>\n",
       "      <td>t</td>\n",
       "      <td>81.0</td>\n",
       "      <td>v</td>\n",
       "    </tr>\n",
       "    <tr>\n",
       "      <th>3</th>\n",
       "      <td>1089001</td>\n",
       "      <td>AMBERIEU</td>\n",
       "      <td>5°19'45\"E</td>\n",
       "      <td>45°58'35\"N</td>\n",
       "      <td>250</td>\n",
       "      <td>20200104</td>\n",
       "      <td>0,6</td>\n",
       "      <td>v</td>\n",
       "      <td>3,4</td>\n",
       "      <td>v</td>\n",
       "      <td>...</td>\n",
       "      <td>74.0</td>\n",
       "      <td>v</td>\n",
       "      <td>97.0</td>\n",
       "      <td>v</td>\n",
       "      <td>0.0</td>\n",
       "      <td>t</td>\n",
       "      <td>1168.0</td>\n",
       "      <td>t</td>\n",
       "      <td>89.0</td>\n",
       "      <td>v</td>\n",
       "    </tr>\n",
       "    <tr>\n",
       "      <th>4</th>\n",
       "      <td>1089001</td>\n",
       "      <td>AMBERIEU</td>\n",
       "      <td>5°19'45\"E</td>\n",
       "      <td>45°58'35\"N</td>\n",
       "      <td>250</td>\n",
       "      <td>20200105</td>\n",
       "      <td>0,0</td>\n",
       "      <td>v</td>\n",
       "      <td>-3,4</td>\n",
       "      <td>v</td>\n",
       "      <td>...</td>\n",
       "      <td>77.0</td>\n",
       "      <td>v</td>\n",
       "      <td>97.0</td>\n",
       "      <td>v</td>\n",
       "      <td>0.0</td>\n",
       "      <td>t</td>\n",
       "      <td>1395.0</td>\n",
       "      <td>t</td>\n",
       "      <td>92.0</td>\n",
       "      <td>v</td>\n",
       "    </tr>\n",
       "    <tr>\n",
       "      <th>5</th>\n",
       "      <td>1089001</td>\n",
       "      <td>AMBERIEU</td>\n",
       "      <td>5°19'45\"E</td>\n",
       "      <td>45°58'35\"N</td>\n",
       "      <td>250</td>\n",
       "      <td>20200106</td>\n",
       "      <td>0,0</td>\n",
       "      <td>v</td>\n",
       "      <td>-4,6</td>\n",
       "      <td>v</td>\n",
       "      <td>...</td>\n",
       "      <td>58.0</td>\n",
       "      <td>v</td>\n",
       "      <td>97.0</td>\n",
       "      <td>v</td>\n",
       "      <td>0.0</td>\n",
       "      <td>t</td>\n",
       "      <td>920.0</td>\n",
       "      <td>t</td>\n",
       "      <td>83.0</td>\n",
       "      <td>v</td>\n",
       "    </tr>\n",
       "    <tr>\n",
       "      <th>6</th>\n",
       "      <td>1089001</td>\n",
       "      <td>AMBERIEU</td>\n",
       "      <td>5°19'45\"E</td>\n",
       "      <td>45°58'35\"N</td>\n",
       "      <td>250</td>\n",
       "      <td>20200107</td>\n",
       "      <td>0,0</td>\n",
       "      <td>v</td>\n",
       "      <td>-0,8</td>\n",
       "      <td>v</td>\n",
       "      <td>...</td>\n",
       "      <td>82.0</td>\n",
       "      <td>v</td>\n",
       "      <td>96.0</td>\n",
       "      <td>v</td>\n",
       "      <td>0.0</td>\n",
       "      <td>t</td>\n",
       "      <td>1440.0</td>\n",
       "      <td>t</td>\n",
       "      <td>91.0</td>\n",
       "      <td>v</td>\n",
       "    </tr>\n",
       "    <tr>\n",
       "      <th>7</th>\n",
       "      <td>1089001</td>\n",
       "      <td>AMBERIEU</td>\n",
       "      <td>5°19'45\"E</td>\n",
       "      <td>45°58'35\"N</td>\n",
       "      <td>250</td>\n",
       "      <td>20200108</td>\n",
       "      <td>0,0</td>\n",
       "      <td>v</td>\n",
       "      <td>-1,2</td>\n",
       "      <td>v</td>\n",
       "      <td>...</td>\n",
       "      <td>72.0</td>\n",
       "      <td>v</td>\n",
       "      <td>97.0</td>\n",
       "      <td>v</td>\n",
       "      <td>0.0</td>\n",
       "      <td>t</td>\n",
       "      <td>1085.0</td>\n",
       "      <td>t</td>\n",
       "      <td>87.0</td>\n",
       "      <td>v</td>\n",
       "    </tr>\n",
       "    <tr>\n",
       "      <th>8</th>\n",
       "      <td>1089001</td>\n",
       "      <td>AMBERIEU</td>\n",
       "      <td>5°19'45\"E</td>\n",
       "      <td>45°58'35\"N</td>\n",
       "      <td>250</td>\n",
       "      <td>20200109</td>\n",
       "      <td>3,2</td>\n",
       "      <td>v</td>\n",
       "      <td>0,3</td>\n",
       "      <td>v</td>\n",
       "      <td>...</td>\n",
       "      <td>29.0</td>\n",
       "      <td>v</td>\n",
       "      <td>86.0</td>\n",
       "      <td>v</td>\n",
       "      <td>442.0</td>\n",
       "      <td>t</td>\n",
       "      <td>333.0</td>\n",
       "      <td>t</td>\n",
       "      <td>58.0</td>\n",
       "      <td>v</td>\n",
       "    </tr>\n",
       "    <tr>\n",
       "      <th>9</th>\n",
       "      <td>1089001</td>\n",
       "      <td>AMBERIEU</td>\n",
       "      <td>5°19'45\"E</td>\n",
       "      <td>45°58'35\"N</td>\n",
       "      <td>250</td>\n",
       "      <td>20200110</td>\n",
       "      <td>0,0</td>\n",
       "      <td>v</td>\n",
       "      <td>5,9</td>\n",
       "      <td>v</td>\n",
       "      <td>...</td>\n",
       "      <td>61.0</td>\n",
       "      <td>v</td>\n",
       "      <td>92.0</td>\n",
       "      <td>v</td>\n",
       "      <td>0.0</td>\n",
       "      <td>t</td>\n",
       "      <td>418.0</td>\n",
       "      <td>t</td>\n",
       "      <td>75.0</td>\n",
       "      <td>v</td>\n",
       "    </tr>\n",
       "    <tr>\n",
       "      <th>10</th>\n",
       "      <td>1089001</td>\n",
       "      <td>AMBERIEU</td>\n",
       "      <td>5°19'45\"E</td>\n",
       "      <td>45°58'35\"N</td>\n",
       "      <td>250</td>\n",
       "      <td>20200111</td>\n",
       "      <td>0,0</td>\n",
       "      <td>v</td>\n",
       "      <td>3,7</td>\n",
       "      <td>v</td>\n",
       "      <td>...</td>\n",
       "      <td>76.0</td>\n",
       "      <td>v</td>\n",
       "      <td>95.0</td>\n",
       "      <td>v</td>\n",
       "      <td>0.0</td>\n",
       "      <td>t</td>\n",
       "      <td>1000.0</td>\n",
       "      <td>t</td>\n",
       "      <td>85.0</td>\n",
       "      <td>v</td>\n",
       "    </tr>\n",
       "    <tr>\n",
       "      <th>11</th>\n",
       "      <td>1089001</td>\n",
       "      <td>AMBERIEU</td>\n",
       "      <td>5°19'45\"E</td>\n",
       "      <td>45°58'35\"N</td>\n",
       "      <td>250</td>\n",
       "      <td>20200112</td>\n",
       "      <td>0,0</td>\n",
       "      <td>v</td>\n",
       "      <td>-1,6</td>\n",
       "      <td>v</td>\n",
       "      <td>...</td>\n",
       "      <td>66.0</td>\n",
       "      <td>v</td>\n",
       "      <td>96.0</td>\n",
       "      <td>v</td>\n",
       "      <td>0.0</td>\n",
       "      <td>t</td>\n",
       "      <td>1209.0</td>\n",
       "      <td>t</td>\n",
       "      <td>88.0</td>\n",
       "      <td>v</td>\n",
       "    </tr>\n",
       "    <tr>\n",
       "      <th>12</th>\n",
       "      <td>1089001</td>\n",
       "      <td>AMBERIEU</td>\n",
       "      <td>5°19'45\"E</td>\n",
       "      <td>45°58'35\"N</td>\n",
       "      <td>250</td>\n",
       "      <td>20200113</td>\n",
       "      <td>0,0</td>\n",
       "      <td>v</td>\n",
       "      <td>-3,4</td>\n",
       "      <td>v</td>\n",
       "      <td>...</td>\n",
       "      <td>51.0</td>\n",
       "      <td>v</td>\n",
       "      <td>95.0</td>\n",
       "      <td>v</td>\n",
       "      <td>0.0</td>\n",
       "      <td>t</td>\n",
       "      <td>677.0</td>\n",
       "      <td>t</td>\n",
       "      <td>78.0</td>\n",
       "      <td>v</td>\n",
       "    </tr>\n",
       "    <tr>\n",
       "      <th>13</th>\n",
       "      <td>1089001</td>\n",
       "      <td>AMBERIEU</td>\n",
       "      <td>5°19'45\"E</td>\n",
       "      <td>45°58'35\"N</td>\n",
       "      <td>250</td>\n",
       "      <td>20200114</td>\n",
       "      <td>0,0</td>\n",
       "      <td>v</td>\n",
       "      <td>5,3</td>\n",
       "      <td>v</td>\n",
       "      <td>...</td>\n",
       "      <td>48.0</td>\n",
       "      <td>v</td>\n",
       "      <td>72.0</td>\n",
       "      <td>v</td>\n",
       "      <td>0.0</td>\n",
       "      <td>t</td>\n",
       "      <td>0.0</td>\n",
       "      <td>t</td>\n",
       "      <td>58.0</td>\n",
       "      <td>v</td>\n",
       "    </tr>\n",
       "    <tr>\n",
       "      <th>14</th>\n",
       "      <td>1089001</td>\n",
       "      <td>AMBERIEU</td>\n",
       "      <td>5°19'45\"E</td>\n",
       "      <td>45°58'35\"N</td>\n",
       "      <td>250</td>\n",
       "      <td>20200115</td>\n",
       "      <td>0,0</td>\n",
       "      <td>v</td>\n",
       "      <td>8,3</td>\n",
       "      <td>v</td>\n",
       "      <td>...</td>\n",
       "      <td>47.0</td>\n",
       "      <td>v</td>\n",
       "      <td>69.0</td>\n",
       "      <td>v</td>\n",
       "      <td>0.0</td>\n",
       "      <td>t</td>\n",
       "      <td>0.0</td>\n",
       "      <td>t</td>\n",
       "      <td>59.0</td>\n",
       "      <td>v</td>\n",
       "    </tr>\n",
       "  </tbody>\n",
       "</table>\n",
       "<p>15 rows × 26 columns</p>\n",
       "</div>"
      ],
      "text/plain": [
       "      POSTE       NOM        LON         LAT  ALT      DATE   RR QRR    TN  \\\n",
       "0   1089001  AMBERIEU  5°19'45\"E  45°58'35\"N  250  20200101  0,0   v  -2,2   \n",
       "1   1089001  AMBERIEU  5°19'45\"E  45°58'35\"N  250  20200102  0,0   v  -1,8   \n",
       "2   1089001  AMBERIEU  5°19'45\"E  45°58'35\"N  250  20200103  0,4   v   3,3   \n",
       "3   1089001  AMBERIEU  5°19'45\"E  45°58'35\"N  250  20200104  0,6   v   3,4   \n",
       "4   1089001  AMBERIEU  5°19'45\"E  45°58'35\"N  250  20200105  0,0   v  -3,4   \n",
       "5   1089001  AMBERIEU  5°19'45\"E  45°58'35\"N  250  20200106  0,0   v  -4,6   \n",
       "6   1089001  AMBERIEU  5°19'45\"E  45°58'35\"N  250  20200107  0,0   v  -0,8   \n",
       "7   1089001  AMBERIEU  5°19'45\"E  45°58'35\"N  250  20200108  0,0   v  -1,2   \n",
       "8   1089001  AMBERIEU  5°19'45\"E  45°58'35\"N  250  20200109  3,2   v   0,3   \n",
       "9   1089001  AMBERIEU  5°19'45\"E  45°58'35\"N  250  20200110  0,0   v   5,9   \n",
       "10  1089001  AMBERIEU  5°19'45\"E  45°58'35\"N  250  20200111  0,0   v   3,7   \n",
       "11  1089001  AMBERIEU  5°19'45\"E  45°58'35\"N  250  20200112  0,0   v  -1,6   \n",
       "12  1089001  AMBERIEU  5°19'45\"E  45°58'35\"N  250  20200113  0,0   v  -3,4   \n",
       "13  1089001  AMBERIEU  5°19'45\"E  45°58'35\"N  250  20200114  0,0   v   5,3   \n",
       "14  1089001  AMBERIEU  5°19'45\"E  45°58'35\"N  250  20200115  0,0   v   8,3   \n",
       "\n",
       "   QTN  ...    UN QUN    UX QUX DHUMI40 QDHUMI40  DHUMI80 QDHUMI80    UM QUM  \n",
       "0    v  ...  97.0   v  98.0   v     0.0        t   1440.0        t  97.0   v  \n",
       "1    v  ...  69.0   v  99.0   v     0.0        t    860.0        t  86.0   v  \n",
       "2    v  ...  71.0   v  95.0   v     0.0        t    620.0        t  81.0   v  \n",
       "3    v  ...  74.0   v  97.0   v     0.0        t   1168.0        t  89.0   v  \n",
       "4    v  ...  77.0   v  97.0   v     0.0        t   1395.0        t  92.0   v  \n",
       "5    v  ...  58.0   v  97.0   v     0.0        t    920.0        t  83.0   v  \n",
       "6    v  ...  82.0   v  96.0   v     0.0        t   1440.0        t  91.0   v  \n",
       "7    v  ...  72.0   v  97.0   v     0.0        t   1085.0        t  87.0   v  \n",
       "8    v  ...  29.0   v  86.0   v   442.0        t    333.0        t  58.0   v  \n",
       "9    v  ...  61.0   v  92.0   v     0.0        t    418.0        t  75.0   v  \n",
       "10   v  ...  76.0   v  95.0   v     0.0        t   1000.0        t  85.0   v  \n",
       "11   v  ...  66.0   v  96.0   v     0.0        t   1209.0        t  88.0   v  \n",
       "12   v  ...  51.0   v  95.0   v     0.0        t    677.0        t  78.0   v  \n",
       "13   v  ...  48.0   v  72.0   v     0.0        t      0.0        t  58.0   v  \n",
       "14   v  ...  47.0   v  69.0   v     0.0        t      0.0        t  59.0   v  \n",
       "\n",
       "[15 rows x 26 columns]"
      ]
     },
     "execution_count": 110,
     "metadata": {},
     "output_type": "execute_result"
    }
   ],
   "source": [
    "#avec la methode .replace()\n",
    "df_meteo.head(15)"
   ]
  },
  {
   "cell_type": "code",
   "execution_count": 168,
   "id": "9aebb87a",
   "metadata": {},
   "outputs": [
    {
     "data": {
      "text/html": [
       "<div>\n",
       "<style scoped>\n",
       "    .dataframe tbody tr th:only-of-type {\n",
       "        vertical-align: middle;\n",
       "    }\n",
       "\n",
       "    .dataframe tbody tr th {\n",
       "        vertical-align: top;\n",
       "    }\n",
       "\n",
       "    .dataframe thead th {\n",
       "        text-align: right;\n",
       "    }\n",
       "</style>\n",
       "<table border=\"1\" class=\"dataframe\">\n",
       "  <thead>\n",
       "    <tr style=\"text-align: right;\">\n",
       "      <th></th>\n",
       "      <th>POSTE</th>\n",
       "      <th>NOM</th>\n",
       "      <th>LON</th>\n",
       "      <th>LAT</th>\n",
       "      <th>ALT</th>\n",
       "      <th>DATE</th>\n",
       "      <th>RR</th>\n",
       "      <th>QRR</th>\n",
       "      <th>TN</th>\n",
       "      <th>QTN</th>\n",
       "      <th>...</th>\n",
       "      <th>UN</th>\n",
       "      <th>QUN</th>\n",
       "      <th>UX</th>\n",
       "      <th>QUX</th>\n",
       "      <th>DHUMI40</th>\n",
       "      <th>QDHUMI40</th>\n",
       "      <th>DHUMI80</th>\n",
       "      <th>QDHUMI80</th>\n",
       "      <th>UM</th>\n",
       "      <th>QUM</th>\n",
       "    </tr>\n",
       "  </thead>\n",
       "  <tbody>\n",
       "    <tr>\n",
       "      <th>0</th>\n",
       "      <td>1089001</td>\n",
       "      <td>AMBERIEU-EN-BUGEY</td>\n",
       "      <td>5°19'45\"E</td>\n",
       "      <td>45°58'35\"N</td>\n",
       "      <td>250</td>\n",
       "      <td>20200101</td>\n",
       "      <td>0,0</td>\n",
       "      <td>v</td>\n",
       "      <td>-2,2</td>\n",
       "      <td>v</td>\n",
       "      <td>...</td>\n",
       "      <td>97.0</td>\n",
       "      <td>v</td>\n",
       "      <td>98.0</td>\n",
       "      <td>v</td>\n",
       "      <td>0.0</td>\n",
       "      <td>t</td>\n",
       "      <td>1440.0</td>\n",
       "      <td>t</td>\n",
       "      <td>97.0</td>\n",
       "      <td>v</td>\n",
       "    </tr>\n",
       "    <tr>\n",
       "      <th>1</th>\n",
       "      <td>1089001</td>\n",
       "      <td>AMBERIEU-EN-BUGEY</td>\n",
       "      <td>5°19'45\"E</td>\n",
       "      <td>45°58'35\"N</td>\n",
       "      <td>250</td>\n",
       "      <td>20200102</td>\n",
       "      <td>0,0</td>\n",
       "      <td>v</td>\n",
       "      <td>-1,8</td>\n",
       "      <td>v</td>\n",
       "      <td>...</td>\n",
       "      <td>69.0</td>\n",
       "      <td>v</td>\n",
       "      <td>99.0</td>\n",
       "      <td>v</td>\n",
       "      <td>0.0</td>\n",
       "      <td>t</td>\n",
       "      <td>860.0</td>\n",
       "      <td>t</td>\n",
       "      <td>86.0</td>\n",
       "      <td>v</td>\n",
       "    </tr>\n",
       "    <tr>\n",
       "      <th>2</th>\n",
       "      <td>1089001</td>\n",
       "      <td>AMBERIEU-EN-BUGEY</td>\n",
       "      <td>5°19'45\"E</td>\n",
       "      <td>45°58'35\"N</td>\n",
       "      <td>250</td>\n",
       "      <td>20200103</td>\n",
       "      <td>0,4</td>\n",
       "      <td>v</td>\n",
       "      <td>3,3</td>\n",
       "      <td>v</td>\n",
       "      <td>...</td>\n",
       "      <td>71.0</td>\n",
       "      <td>v</td>\n",
       "      <td>95.0</td>\n",
       "      <td>v</td>\n",
       "      <td>0.0</td>\n",
       "      <td>t</td>\n",
       "      <td>620.0</td>\n",
       "      <td>t</td>\n",
       "      <td>81.0</td>\n",
       "      <td>v</td>\n",
       "    </tr>\n",
       "  </tbody>\n",
       "</table>\n",
       "<p>3 rows × 26 columns</p>\n",
       "</div>"
      ],
      "text/plain": [
       "     POSTE                NOM        LON         LAT  ALT      DATE   RR QRR  \\\n",
       "0  1089001  AMBERIEU-EN-BUGEY  5°19'45\"E  45°58'35\"N  250  20200101  0,0   v   \n",
       "1  1089001  AMBERIEU-EN-BUGEY  5°19'45\"E  45°58'35\"N  250  20200102  0,0   v   \n",
       "2  1089001  AMBERIEU-EN-BUGEY  5°19'45\"E  45°58'35\"N  250  20200103  0,4   v   \n",
       "\n",
       "     TN QTN  ...    UN QUN    UX QUX DHUMI40 QDHUMI40  DHUMI80 QDHUMI80    UM  \\\n",
       "0  -2,2   v  ...  97.0   v  98.0   v     0.0        t   1440.0        t  97.0   \n",
       "1  -1,8   v  ...  69.0   v  99.0   v     0.0        t    860.0        t  86.0   \n",
       "2   3,3   v  ...  71.0   v  95.0   v     0.0        t    620.0        t  81.0   \n",
       "\n",
       "  QUM  \n",
       "0   v  \n",
       "1   v  \n",
       "2   v  \n",
       "\n",
       "[3 rows x 26 columns]"
      ]
     },
     "execution_count": 168,
     "metadata": {},
     "output_type": "execute_result"
    }
   ],
   "source": [
    "#on souhaite remplacer le nom de la commune AMBERIEU par AMBERIEU-EN-BUGEY\n",
    "df_meteo.replace('AMBERIEU', 'AMBERIEU-EN-BUGEY', inplace = True)\n",
    "df_meteo.head(3)"
   ]
  },
  {
   "cell_type": "code",
   "execution_count": 112,
   "id": "e1ff8dcf",
   "metadata": {},
   "outputs": [
    {
     "data": {
      "text/plain": [
       "0        NaN\n",
       "1        NaN\n",
       "2        2,3\n",
       "3        3,8\n",
       "4        1,3\n",
       "        ... \n",
       "53419    5,3\n",
       "53420    3,5\n",
       "53421    2,7\n",
       "53422    2,8\n",
       "53423    5,3\n",
       "Name: FFM, Length: 53424, dtype: object"
      ]
     },
     "execution_count": 112,
     "metadata": {},
     "output_type": "execute_result"
    }
   ],
   "source": [
    "#on peut également remplacer des valeurs manquantes par des 0 avec la méthode fillna()\n",
    "#faisons le uniquement sur la colonne FFM \n",
    "df_meteo['FFM']"
   ]
  },
  {
   "cell_type": "code",
   "execution_count": 113,
   "id": "e5046dfc",
   "metadata": {},
   "outputs": [
    {
     "data": {
      "text/plain": [
       "0          0\n",
       "1          0\n",
       "2        2,3\n",
       "3        3,8\n",
       "4        1,3\n",
       "        ... \n",
       "53419    5,3\n",
       "53420    3,5\n",
       "53421    2,7\n",
       "53422    2,8\n",
       "53423    5,3\n",
       "Name: FFM, Length: 53424, dtype: object"
      ]
     },
     "execution_count": 113,
     "metadata": {},
     "output_type": "execute_result"
    }
   ],
   "source": [
    "df_meteo['FFM'].fillna(0)"
   ]
  },
  {
   "cell_type": "markdown",
   "id": "d256355e",
   "metadata": {},
   "source": [
    "**supprimer des lignes ou des colonnes**"
   ]
  },
  {
   "cell_type": "code",
   "execution_count": 169,
   "id": "4b60a658",
   "metadata": {},
   "outputs": [
    {
     "data": {
      "text/plain": [
       "0          e\n",
       "1        NaN\n",
       "2          v\n",
       "3          v\n",
       "4          v\n",
       "        ... \n",
       "53419      v\n",
       "53420      v\n",
       "53421      v\n",
       "53422      v\n",
       "53423      v\n",
       "Name: QFFM, Length: 53424, dtype: object"
      ]
     },
     "execution_count": 169,
     "metadata": {},
     "output_type": "execute_result"
    }
   ],
   "source": [
    "#on peut supprimer les lignes ou colonnes contenant des valeurs nulles à l'aide de la méthode dropna\n",
    "df_meteo['QFFM']"
   ]
  },
  {
   "cell_type": "code",
   "execution_count": 134,
   "id": "c3f31bd0",
   "metadata": {
    "scrolled": true
   },
   "outputs": [
    {
     "data": {
      "text/plain": [
       "0        e\n",
       "2        v\n",
       "3        v\n",
       "4        v\n",
       "5        v\n",
       "        ..\n",
       "53419    v\n",
       "53420    v\n",
       "53421    v\n",
       "53422    v\n",
       "53423    v\n",
       "Name: QFFM, Length: 53184, dtype: object"
      ]
     },
     "execution_count": 134,
     "metadata": {},
     "output_type": "execute_result"
    }
   ],
   "source": [
    "df_meteo.dropna(axis = 0,subset = ['QFFM'], inplace= True) # supprime selon les index et 1 pour les colonnes\n",
    "#verifions\n",
    "df_meteo['QFFM']"
   ]
  },
  {
   "cell_type": "markdown",
   "id": "0865c886",
   "metadata": {},
   "source": [
    "remarque la methode dropna ne fonctionnera uniquement si vous prenez l'ensemble du dataframe et non une colonne.  \n",
    "Si vous souhaitez supprimer les valeurs manquantes d'une ou de plusieurs colonne spécifiques, il faut utliser le paramètre subset !"
   ]
  },
  {
   "cell_type": "markdown",
   "id": "9dacc8ee",
   "metadata": {},
   "source": [
    "**ajouter ou supprimer des colonnes**"
   ]
  },
  {
   "cell_type": "code",
   "execution_count": 187,
   "id": "5f284911",
   "metadata": {},
   "outputs": [
    {
     "data": {
      "text/plain": [
       "0        -1.0\n",
       "1       -30.0\n",
       "2       -24.0\n",
       "3       -23.0\n",
       "4       -20.0\n",
       "         ... \n",
       "53419   -53.0\n",
       "53420   -45.0\n",
       "53421   -50.0\n",
       "53422   -57.0\n",
       "53423   -48.0\n",
       "Name: ma_nouvelle_colonne, Length: 53424, dtype: float64"
      ]
     },
     "execution_count": 187,
     "metadata": {},
     "output_type": "execute_result"
    }
   ],
   "source": [
    "#pour créer une nouvelle colonne\n",
    "df_meteo['ma_nouvelle_colonne'] = df_meteo['UN']-df_meteo['UX']\n",
    "df_meteo['ma_nouvelle_colonne']"
   ]
  },
  {
   "cell_type": "code",
   "execution_count": 188,
   "id": "f110352f",
   "metadata": {},
   "outputs": [
    {
     "data": {
      "text/plain": [
       "(53424, 28)"
      ]
     },
     "execution_count": 188,
     "metadata": {},
     "output_type": "execute_result"
    }
   ],
   "source": [
    "#verifions que l'ajout a bien été pris en compte\n",
    "df_meteo.shape"
   ]
  },
  {
   "cell_type": "code",
   "execution_count": 189,
   "id": "b3f38c35",
   "metadata": {},
   "outputs": [
    {
     "data": {
      "text/html": [
       "<div>\n",
       "<style scoped>\n",
       "    .dataframe tbody tr th:only-of-type {\n",
       "        vertical-align: middle;\n",
       "    }\n",
       "\n",
       "    .dataframe tbody tr th {\n",
       "        vertical-align: top;\n",
       "    }\n",
       "\n",
       "    .dataframe thead th {\n",
       "        text-align: right;\n",
       "    }\n",
       "</style>\n",
       "<table border=\"1\" class=\"dataframe\">\n",
       "  <thead>\n",
       "    <tr style=\"text-align: right;\">\n",
       "      <th></th>\n",
       "      <th>POSTE</th>\n",
       "      <th>COMMUNE</th>\n",
       "      <th>LON</th>\n",
       "      <th>LAT</th>\n",
       "      <th>ALT</th>\n",
       "      <th>DATE</th>\n",
       "      <th>RR</th>\n",
       "      <th>QRR</th>\n",
       "      <th>TEMPERATURE</th>\n",
       "      <th>QTN</th>\n",
       "      <th>...</th>\n",
       "      <th>QUN</th>\n",
       "      <th>UX</th>\n",
       "      <th>QUX</th>\n",
       "      <th>DHUMI40</th>\n",
       "      <th>QDHUMI40</th>\n",
       "      <th>DHUMI80</th>\n",
       "      <th>QDHUMI80</th>\n",
       "      <th>UM</th>\n",
       "      <th>QUM</th>\n",
       "      <th>ma_2e_nvelle_col</th>\n",
       "    </tr>\n",
       "  </thead>\n",
       "  <tbody>\n",
       "    <tr>\n",
       "      <th>0</th>\n",
       "      <td>1089001</td>\n",
       "      <td>AMBERIEU-EN-BUGEY</td>\n",
       "      <td>5°19'45\"E</td>\n",
       "      <td>45°58'35\"N</td>\n",
       "      <td>250</td>\n",
       "      <td>20200101</td>\n",
       "      <td>0,0</td>\n",
       "      <td>v</td>\n",
       "      <td>-2,2</td>\n",
       "      <td>v</td>\n",
       "      <td>...</td>\n",
       "      <td>v</td>\n",
       "      <td>98.0</td>\n",
       "      <td>v</td>\n",
       "      <td>0.0</td>\n",
       "      <td>t</td>\n",
       "      <td>1440.0</td>\n",
       "      <td>t</td>\n",
       "      <td>97.0</td>\n",
       "      <td>v</td>\n",
       "      <td>10</td>\n",
       "    </tr>\n",
       "    <tr>\n",
       "      <th>1</th>\n",
       "      <td>1089001</td>\n",
       "      <td>AMBERIEU-EN-BUGEY</td>\n",
       "      <td>5°19'45\"E</td>\n",
       "      <td>45°58'35\"N</td>\n",
       "      <td>250</td>\n",
       "      <td>20200102</td>\n",
       "      <td>0,0</td>\n",
       "      <td>v</td>\n",
       "      <td>-1,8</td>\n",
       "      <td>v</td>\n",
       "      <td>...</td>\n",
       "      <td>v</td>\n",
       "      <td>99.0</td>\n",
       "      <td>v</td>\n",
       "      <td>0.0</td>\n",
       "      <td>t</td>\n",
       "      <td>860.0</td>\n",
       "      <td>t</td>\n",
       "      <td>86.0</td>\n",
       "      <td>v</td>\n",
       "      <td>10</td>\n",
       "    </tr>\n",
       "    <tr>\n",
       "      <th>2</th>\n",
       "      <td>1089001</td>\n",
       "      <td>AMBERIEU-EN-BUGEY</td>\n",
       "      <td>5°19'45\"E</td>\n",
       "      <td>45°58'35\"N</td>\n",
       "      <td>250</td>\n",
       "      <td>20200103</td>\n",
       "      <td>0,4</td>\n",
       "      <td>v</td>\n",
       "      <td>3,3</td>\n",
       "      <td>v</td>\n",
       "      <td>...</td>\n",
       "      <td>v</td>\n",
       "      <td>95.0</td>\n",
       "      <td>v</td>\n",
       "      <td>0.0</td>\n",
       "      <td>t</td>\n",
       "      <td>620.0</td>\n",
       "      <td>t</td>\n",
       "      <td>81.0</td>\n",
       "      <td>v</td>\n",
       "      <td>10</td>\n",
       "    </tr>\n",
       "    <tr>\n",
       "      <th>3</th>\n",
       "      <td>1089001</td>\n",
       "      <td>AMBERIEU-EN-BUGEY</td>\n",
       "      <td>5°19'45\"E</td>\n",
       "      <td>45°58'35\"N</td>\n",
       "      <td>250</td>\n",
       "      <td>20200104</td>\n",
       "      <td>0,6</td>\n",
       "      <td>v</td>\n",
       "      <td>3,4</td>\n",
       "      <td>v</td>\n",
       "      <td>...</td>\n",
       "      <td>v</td>\n",
       "      <td>97.0</td>\n",
       "      <td>v</td>\n",
       "      <td>0.0</td>\n",
       "      <td>t</td>\n",
       "      <td>1168.0</td>\n",
       "      <td>t</td>\n",
       "      <td>89.0</td>\n",
       "      <td>v</td>\n",
       "      <td>10</td>\n",
       "    </tr>\n",
       "    <tr>\n",
       "      <th>4</th>\n",
       "      <td>1089001</td>\n",
       "      <td>AMBERIEU-EN-BUGEY</td>\n",
       "      <td>5°19'45\"E</td>\n",
       "      <td>45°58'35\"N</td>\n",
       "      <td>250</td>\n",
       "      <td>20200105</td>\n",
       "      <td>0,0</td>\n",
       "      <td>v</td>\n",
       "      <td>-3,4</td>\n",
       "      <td>v</td>\n",
       "      <td>...</td>\n",
       "      <td>v</td>\n",
       "      <td>97.0</td>\n",
       "      <td>v</td>\n",
       "      <td>0.0</td>\n",
       "      <td>t</td>\n",
       "      <td>1395.0</td>\n",
       "      <td>t</td>\n",
       "      <td>92.0</td>\n",
       "      <td>v</td>\n",
       "      <td>10</td>\n",
       "    </tr>\n",
       "    <tr>\n",
       "      <th>...</th>\n",
       "      <td>...</td>\n",
       "      <td>...</td>\n",
       "      <td>...</td>\n",
       "      <td>...</td>\n",
       "      <td>...</td>\n",
       "      <td>...</td>\n",
       "      <td>...</td>\n",
       "      <td>...</td>\n",
       "      <td>...</td>\n",
       "      <td>...</td>\n",
       "      <td>...</td>\n",
       "      <td>...</td>\n",
       "      <td>...</td>\n",
       "      <td>...</td>\n",
       "      <td>...</td>\n",
       "      <td>...</td>\n",
       "      <td>...</td>\n",
       "      <td>...</td>\n",
       "      <td>...</td>\n",
       "      <td>...</td>\n",
       "      <td>...</td>\n",
       "    </tr>\n",
       "    <tr>\n",
       "      <th>53419</th>\n",
       "      <td>95527001</td>\n",
       "      <td>ROISSY</td>\n",
       "      <td>2°32'03\"E</td>\n",
       "      <td>49°00'54\"N</td>\n",
       "      <td>108</td>\n",
       "      <td>20210417</td>\n",
       "      <td>0,0</td>\n",
       "      <td>v</td>\n",
       "      <td>2,6</td>\n",
       "      <td>v</td>\n",
       "      <td>...</td>\n",
       "      <td>v</td>\n",
       "      <td>89.0</td>\n",
       "      <td>v</td>\n",
       "      <td>239.0</td>\n",
       "      <td>t</td>\n",
       "      <td>357.0</td>\n",
       "      <td>t</td>\n",
       "      <td>62.0</td>\n",
       "      <td>v</td>\n",
       "      <td>10</td>\n",
       "    </tr>\n",
       "    <tr>\n",
       "      <th>53420</th>\n",
       "      <td>95527001</td>\n",
       "      <td>ROISSY</td>\n",
       "      <td>2°32'03\"E</td>\n",
       "      <td>49°00'54\"N</td>\n",
       "      <td>108</td>\n",
       "      <td>20210418</td>\n",
       "      <td>0,0</td>\n",
       "      <td>v</td>\n",
       "      <td>2,0</td>\n",
       "      <td>v</td>\n",
       "      <td>...</td>\n",
       "      <td>v</td>\n",
       "      <td>90.0</td>\n",
       "      <td>v</td>\n",
       "      <td>0.0</td>\n",
       "      <td>t</td>\n",
       "      <td>349.0</td>\n",
       "      <td>t</td>\n",
       "      <td>66.0</td>\n",
       "      <td>v</td>\n",
       "      <td>10</td>\n",
       "    </tr>\n",
       "    <tr>\n",
       "      <th>53421</th>\n",
       "      <td>95527001</td>\n",
       "      <td>ROISSY</td>\n",
       "      <td>2°32'03\"E</td>\n",
       "      <td>49°00'54\"N</td>\n",
       "      <td>108</td>\n",
       "      <td>20210419</td>\n",
       "      <td>0,0</td>\n",
       "      <td>v</td>\n",
       "      <td>3,3</td>\n",
       "      <td>v</td>\n",
       "      <td>...</td>\n",
       "      <td>v</td>\n",
       "      <td>86.0</td>\n",
       "      <td>v</td>\n",
       "      <td>226.0</td>\n",
       "      <td>t</td>\n",
       "      <td>403.0</td>\n",
       "      <td>t</td>\n",
       "      <td>60.0</td>\n",
       "      <td>v</td>\n",
       "      <td>10</td>\n",
       "    </tr>\n",
       "    <tr>\n",
       "      <th>53422</th>\n",
       "      <td>95527001</td>\n",
       "      <td>ROISSY</td>\n",
       "      <td>2°32'03\"E</td>\n",
       "      <td>49°00'54\"N</td>\n",
       "      <td>108</td>\n",
       "      <td>20210420</td>\n",
       "      <td>0,0</td>\n",
       "      <td>v</td>\n",
       "      <td>5,7</td>\n",
       "      <td>v</td>\n",
       "      <td>...</td>\n",
       "      <td>v</td>\n",
       "      <td>85.0</td>\n",
       "      <td>v</td>\n",
       "      <td>358.0</td>\n",
       "      <td>t</td>\n",
       "      <td>215.0</td>\n",
       "      <td>t</td>\n",
       "      <td>56.0</td>\n",
       "      <td>v</td>\n",
       "      <td>10</td>\n",
       "    </tr>\n",
       "    <tr>\n",
       "      <th>53423</th>\n",
       "      <td>95527001</td>\n",
       "      <td>ROISSY</td>\n",
       "      <td>2°32'03\"E</td>\n",
       "      <td>49°00'54\"N</td>\n",
       "      <td>108</td>\n",
       "      <td>20210421</td>\n",
       "      <td>0,0</td>\n",
       "      <td>v</td>\n",
       "      <td>6,5</td>\n",
       "      <td>v</td>\n",
       "      <td>...</td>\n",
       "      <td>v</td>\n",
       "      <td>84.0</td>\n",
       "      <td>v</td>\n",
       "      <td>40.0</td>\n",
       "      <td>t</td>\n",
       "      <td>151.0</td>\n",
       "      <td>t</td>\n",
       "      <td>61.0</td>\n",
       "      <td>v</td>\n",
       "      <td>10</td>\n",
       "    </tr>\n",
       "  </tbody>\n",
       "</table>\n",
       "<p>53424 rows × 27 columns</p>\n",
       "</div>"
      ],
      "text/plain": [
       "          POSTE            COMMUNE        LON         LAT  ALT      DATE   RR  \\\n",
       "0       1089001  AMBERIEU-EN-BUGEY  5°19'45\"E  45°58'35\"N  250  20200101  0,0   \n",
       "1       1089001  AMBERIEU-EN-BUGEY  5°19'45\"E  45°58'35\"N  250  20200102  0,0   \n",
       "2       1089001  AMBERIEU-EN-BUGEY  5°19'45\"E  45°58'35\"N  250  20200103  0,4   \n",
       "3       1089001  AMBERIEU-EN-BUGEY  5°19'45\"E  45°58'35\"N  250  20200104  0,6   \n",
       "4       1089001  AMBERIEU-EN-BUGEY  5°19'45\"E  45°58'35\"N  250  20200105  0,0   \n",
       "...         ...                ...        ...         ...  ...       ...  ...   \n",
       "53419  95527001             ROISSY  2°32'03\"E  49°00'54\"N  108  20210417  0,0   \n",
       "53420  95527001             ROISSY  2°32'03\"E  49°00'54\"N  108  20210418  0,0   \n",
       "53421  95527001             ROISSY  2°32'03\"E  49°00'54\"N  108  20210419  0,0   \n",
       "53422  95527001             ROISSY  2°32'03\"E  49°00'54\"N  108  20210420  0,0   \n",
       "53423  95527001             ROISSY  2°32'03\"E  49°00'54\"N  108  20210421  0,0   \n",
       "\n",
       "      QRR TEMPERATURE QTN  ... QUN    UX QUX DHUMI40 QDHUMI40 DHUMI80  \\\n",
       "0       v        -2,2   v  ...   v  98.0   v     0.0        t  1440.0   \n",
       "1       v        -1,8   v  ...   v  99.0   v     0.0        t   860.0   \n",
       "2       v         3,3   v  ...   v  95.0   v     0.0        t   620.0   \n",
       "3       v         3,4   v  ...   v  97.0   v     0.0        t  1168.0   \n",
       "4       v        -3,4   v  ...   v  97.0   v     0.0        t  1395.0   \n",
       "...    ..         ...  ..  ...  ..   ...  ..     ...      ...     ...   \n",
       "53419   v         2,6   v  ...   v  89.0   v   239.0        t   357.0   \n",
       "53420   v         2,0   v  ...   v  90.0   v     0.0        t   349.0   \n",
       "53421   v         3,3   v  ...   v  86.0   v   226.0        t   403.0   \n",
       "53422   v         5,7   v  ...   v  85.0   v   358.0        t   215.0   \n",
       "53423   v         6,5   v  ...   v  84.0   v    40.0        t   151.0   \n",
       "\n",
       "       QDHUMI80    UM  QUM ma_2e_nvelle_col  \n",
       "0             t  97.0    v               10  \n",
       "1             t  86.0    v               10  \n",
       "2             t  81.0    v               10  \n",
       "3             t  89.0    v               10  \n",
       "4             t  92.0    v               10  \n",
       "...         ...   ...  ...              ...  \n",
       "53419         t  62.0    v               10  \n",
       "53420         t  66.0    v               10  \n",
       "53421         t  60.0    v               10  \n",
       "53422         t  56.0    v               10  \n",
       "53423         t  61.0    v               10  \n",
       "\n",
       "[53424 rows x 27 columns]"
      ]
     },
     "execution_count": 189,
     "metadata": {},
     "output_type": "execute_result"
    }
   ],
   "source": [
    "#et maintenant supprimons là à l'aide de la méthode drop \n",
    "df_meteo.drop(['ma_nouvelle_colonne'], axis=1, inplace = True)\n",
    "df_meteo"
   ]
  },
  {
   "cell_type": "markdown",
   "id": "b06c1145",
   "metadata": {},
   "source": [
    "**renommer des colonnes**"
   ]
  },
  {
   "cell_type": "code",
   "execution_count": 190,
   "id": "4086e9e3",
   "metadata": {},
   "outputs": [
    {
     "data": {
      "text/html": [
       "<div>\n",
       "<style scoped>\n",
       "    .dataframe tbody tr th:only-of-type {\n",
       "        vertical-align: middle;\n",
       "    }\n",
       "\n",
       "    .dataframe tbody tr th {\n",
       "        vertical-align: top;\n",
       "    }\n",
       "\n",
       "    .dataframe thead th {\n",
       "        text-align: right;\n",
       "    }\n",
       "</style>\n",
       "<table border=\"1\" class=\"dataframe\">\n",
       "  <thead>\n",
       "    <tr style=\"text-align: right;\">\n",
       "      <th></th>\n",
       "      <th>POSTE</th>\n",
       "      <th>COMMUNE</th>\n",
       "      <th>LON</th>\n",
       "      <th>LAT</th>\n",
       "      <th>ALT</th>\n",
       "      <th>DATE</th>\n",
       "      <th>RR</th>\n",
       "      <th>QRR</th>\n",
       "      <th>TEMPERATURE</th>\n",
       "      <th>QTN</th>\n",
       "      <th>...</th>\n",
       "      <th>QUN</th>\n",
       "      <th>UX</th>\n",
       "      <th>QUX</th>\n",
       "      <th>DHUMI40</th>\n",
       "      <th>QDHUMI40</th>\n",
       "      <th>DHUMI80</th>\n",
       "      <th>QDHUMI80</th>\n",
       "      <th>UM</th>\n",
       "      <th>QUM</th>\n",
       "      <th>ma_2e_nvelle_col</th>\n",
       "    </tr>\n",
       "  </thead>\n",
       "  <tbody>\n",
       "    <tr>\n",
       "      <th>0</th>\n",
       "      <td>1089001</td>\n",
       "      <td>AMBERIEU-EN-BUGEY</td>\n",
       "      <td>5°19'45\"E</td>\n",
       "      <td>45°58'35\"N</td>\n",
       "      <td>250</td>\n",
       "      <td>20200101</td>\n",
       "      <td>0,0</td>\n",
       "      <td>v</td>\n",
       "      <td>-2,2</td>\n",
       "      <td>v</td>\n",
       "      <td>...</td>\n",
       "      <td>v</td>\n",
       "      <td>98.0</td>\n",
       "      <td>v</td>\n",
       "      <td>0.0</td>\n",
       "      <td>t</td>\n",
       "      <td>1440.0</td>\n",
       "      <td>t</td>\n",
       "      <td>97.0</td>\n",
       "      <td>v</td>\n",
       "      <td>10</td>\n",
       "    </tr>\n",
       "    <tr>\n",
       "      <th>1</th>\n",
       "      <td>1089001</td>\n",
       "      <td>AMBERIEU-EN-BUGEY</td>\n",
       "      <td>5°19'45\"E</td>\n",
       "      <td>45°58'35\"N</td>\n",
       "      <td>250</td>\n",
       "      <td>20200102</td>\n",
       "      <td>0,0</td>\n",
       "      <td>v</td>\n",
       "      <td>-1,8</td>\n",
       "      <td>v</td>\n",
       "      <td>...</td>\n",
       "      <td>v</td>\n",
       "      <td>99.0</td>\n",
       "      <td>v</td>\n",
       "      <td>0.0</td>\n",
       "      <td>t</td>\n",
       "      <td>860.0</td>\n",
       "      <td>t</td>\n",
       "      <td>86.0</td>\n",
       "      <td>v</td>\n",
       "      <td>10</td>\n",
       "    </tr>\n",
       "    <tr>\n",
       "      <th>2</th>\n",
       "      <td>1089001</td>\n",
       "      <td>AMBERIEU-EN-BUGEY</td>\n",
       "      <td>5°19'45\"E</td>\n",
       "      <td>45°58'35\"N</td>\n",
       "      <td>250</td>\n",
       "      <td>20200103</td>\n",
       "      <td>0,4</td>\n",
       "      <td>v</td>\n",
       "      <td>3,3</td>\n",
       "      <td>v</td>\n",
       "      <td>...</td>\n",
       "      <td>v</td>\n",
       "      <td>95.0</td>\n",
       "      <td>v</td>\n",
       "      <td>0.0</td>\n",
       "      <td>t</td>\n",
       "      <td>620.0</td>\n",
       "      <td>t</td>\n",
       "      <td>81.0</td>\n",
       "      <td>v</td>\n",
       "      <td>10</td>\n",
       "    </tr>\n",
       "    <tr>\n",
       "      <th>3</th>\n",
       "      <td>1089001</td>\n",
       "      <td>AMBERIEU-EN-BUGEY</td>\n",
       "      <td>5°19'45\"E</td>\n",
       "      <td>45°58'35\"N</td>\n",
       "      <td>250</td>\n",
       "      <td>20200104</td>\n",
       "      <td>0,6</td>\n",
       "      <td>v</td>\n",
       "      <td>3,4</td>\n",
       "      <td>v</td>\n",
       "      <td>...</td>\n",
       "      <td>v</td>\n",
       "      <td>97.0</td>\n",
       "      <td>v</td>\n",
       "      <td>0.0</td>\n",
       "      <td>t</td>\n",
       "      <td>1168.0</td>\n",
       "      <td>t</td>\n",
       "      <td>89.0</td>\n",
       "      <td>v</td>\n",
       "      <td>10</td>\n",
       "    </tr>\n",
       "    <tr>\n",
       "      <th>4</th>\n",
       "      <td>1089001</td>\n",
       "      <td>AMBERIEU-EN-BUGEY</td>\n",
       "      <td>5°19'45\"E</td>\n",
       "      <td>45°58'35\"N</td>\n",
       "      <td>250</td>\n",
       "      <td>20200105</td>\n",
       "      <td>0,0</td>\n",
       "      <td>v</td>\n",
       "      <td>-3,4</td>\n",
       "      <td>v</td>\n",
       "      <td>...</td>\n",
       "      <td>v</td>\n",
       "      <td>97.0</td>\n",
       "      <td>v</td>\n",
       "      <td>0.0</td>\n",
       "      <td>t</td>\n",
       "      <td>1395.0</td>\n",
       "      <td>t</td>\n",
       "      <td>92.0</td>\n",
       "      <td>v</td>\n",
       "      <td>10</td>\n",
       "    </tr>\n",
       "    <tr>\n",
       "      <th>...</th>\n",
       "      <td>...</td>\n",
       "      <td>...</td>\n",
       "      <td>...</td>\n",
       "      <td>...</td>\n",
       "      <td>...</td>\n",
       "      <td>...</td>\n",
       "      <td>...</td>\n",
       "      <td>...</td>\n",
       "      <td>...</td>\n",
       "      <td>...</td>\n",
       "      <td>...</td>\n",
       "      <td>...</td>\n",
       "      <td>...</td>\n",
       "      <td>...</td>\n",
       "      <td>...</td>\n",
       "      <td>...</td>\n",
       "      <td>...</td>\n",
       "      <td>...</td>\n",
       "      <td>...</td>\n",
       "      <td>...</td>\n",
       "      <td>...</td>\n",
       "    </tr>\n",
       "    <tr>\n",
       "      <th>53419</th>\n",
       "      <td>95527001</td>\n",
       "      <td>ROISSY</td>\n",
       "      <td>2°32'03\"E</td>\n",
       "      <td>49°00'54\"N</td>\n",
       "      <td>108</td>\n",
       "      <td>20210417</td>\n",
       "      <td>0,0</td>\n",
       "      <td>v</td>\n",
       "      <td>2,6</td>\n",
       "      <td>v</td>\n",
       "      <td>...</td>\n",
       "      <td>v</td>\n",
       "      <td>89.0</td>\n",
       "      <td>v</td>\n",
       "      <td>239.0</td>\n",
       "      <td>t</td>\n",
       "      <td>357.0</td>\n",
       "      <td>t</td>\n",
       "      <td>62.0</td>\n",
       "      <td>v</td>\n",
       "      <td>10</td>\n",
       "    </tr>\n",
       "    <tr>\n",
       "      <th>53420</th>\n",
       "      <td>95527001</td>\n",
       "      <td>ROISSY</td>\n",
       "      <td>2°32'03\"E</td>\n",
       "      <td>49°00'54\"N</td>\n",
       "      <td>108</td>\n",
       "      <td>20210418</td>\n",
       "      <td>0,0</td>\n",
       "      <td>v</td>\n",
       "      <td>2,0</td>\n",
       "      <td>v</td>\n",
       "      <td>...</td>\n",
       "      <td>v</td>\n",
       "      <td>90.0</td>\n",
       "      <td>v</td>\n",
       "      <td>0.0</td>\n",
       "      <td>t</td>\n",
       "      <td>349.0</td>\n",
       "      <td>t</td>\n",
       "      <td>66.0</td>\n",
       "      <td>v</td>\n",
       "      <td>10</td>\n",
       "    </tr>\n",
       "    <tr>\n",
       "      <th>53421</th>\n",
       "      <td>95527001</td>\n",
       "      <td>ROISSY</td>\n",
       "      <td>2°32'03\"E</td>\n",
       "      <td>49°00'54\"N</td>\n",
       "      <td>108</td>\n",
       "      <td>20210419</td>\n",
       "      <td>0,0</td>\n",
       "      <td>v</td>\n",
       "      <td>3,3</td>\n",
       "      <td>v</td>\n",
       "      <td>...</td>\n",
       "      <td>v</td>\n",
       "      <td>86.0</td>\n",
       "      <td>v</td>\n",
       "      <td>226.0</td>\n",
       "      <td>t</td>\n",
       "      <td>403.0</td>\n",
       "      <td>t</td>\n",
       "      <td>60.0</td>\n",
       "      <td>v</td>\n",
       "      <td>10</td>\n",
       "    </tr>\n",
       "    <tr>\n",
       "      <th>53422</th>\n",
       "      <td>95527001</td>\n",
       "      <td>ROISSY</td>\n",
       "      <td>2°32'03\"E</td>\n",
       "      <td>49°00'54\"N</td>\n",
       "      <td>108</td>\n",
       "      <td>20210420</td>\n",
       "      <td>0,0</td>\n",
       "      <td>v</td>\n",
       "      <td>5,7</td>\n",
       "      <td>v</td>\n",
       "      <td>...</td>\n",
       "      <td>v</td>\n",
       "      <td>85.0</td>\n",
       "      <td>v</td>\n",
       "      <td>358.0</td>\n",
       "      <td>t</td>\n",
       "      <td>215.0</td>\n",
       "      <td>t</td>\n",
       "      <td>56.0</td>\n",
       "      <td>v</td>\n",
       "      <td>10</td>\n",
       "    </tr>\n",
       "    <tr>\n",
       "      <th>53423</th>\n",
       "      <td>95527001</td>\n",
       "      <td>ROISSY</td>\n",
       "      <td>2°32'03\"E</td>\n",
       "      <td>49°00'54\"N</td>\n",
       "      <td>108</td>\n",
       "      <td>20210421</td>\n",
       "      <td>0,0</td>\n",
       "      <td>v</td>\n",
       "      <td>6,5</td>\n",
       "      <td>v</td>\n",
       "      <td>...</td>\n",
       "      <td>v</td>\n",
       "      <td>84.0</td>\n",
       "      <td>v</td>\n",
       "      <td>40.0</td>\n",
       "      <td>t</td>\n",
       "      <td>151.0</td>\n",
       "      <td>t</td>\n",
       "      <td>61.0</td>\n",
       "      <td>v</td>\n",
       "      <td>10</td>\n",
       "    </tr>\n",
       "  </tbody>\n",
       "</table>\n",
       "<p>53424 rows × 27 columns</p>\n",
       "</div>"
      ],
      "text/plain": [
       "          POSTE            COMMUNE        LON         LAT  ALT      DATE   RR  \\\n",
       "0       1089001  AMBERIEU-EN-BUGEY  5°19'45\"E  45°58'35\"N  250  20200101  0,0   \n",
       "1       1089001  AMBERIEU-EN-BUGEY  5°19'45\"E  45°58'35\"N  250  20200102  0,0   \n",
       "2       1089001  AMBERIEU-EN-BUGEY  5°19'45\"E  45°58'35\"N  250  20200103  0,4   \n",
       "3       1089001  AMBERIEU-EN-BUGEY  5°19'45\"E  45°58'35\"N  250  20200104  0,6   \n",
       "4       1089001  AMBERIEU-EN-BUGEY  5°19'45\"E  45°58'35\"N  250  20200105  0,0   \n",
       "...         ...                ...        ...         ...  ...       ...  ...   \n",
       "53419  95527001             ROISSY  2°32'03\"E  49°00'54\"N  108  20210417  0,0   \n",
       "53420  95527001             ROISSY  2°32'03\"E  49°00'54\"N  108  20210418  0,0   \n",
       "53421  95527001             ROISSY  2°32'03\"E  49°00'54\"N  108  20210419  0,0   \n",
       "53422  95527001             ROISSY  2°32'03\"E  49°00'54\"N  108  20210420  0,0   \n",
       "53423  95527001             ROISSY  2°32'03\"E  49°00'54\"N  108  20210421  0,0   \n",
       "\n",
       "      QRR TEMPERATURE QTN  ... QUN    UX QUX DHUMI40 QDHUMI40 DHUMI80  \\\n",
       "0       v        -2,2   v  ...   v  98.0   v     0.0        t  1440.0   \n",
       "1       v        -1,8   v  ...   v  99.0   v     0.0        t   860.0   \n",
       "2       v         3,3   v  ...   v  95.0   v     0.0        t   620.0   \n",
       "3       v         3,4   v  ...   v  97.0   v     0.0        t  1168.0   \n",
       "4       v        -3,4   v  ...   v  97.0   v     0.0        t  1395.0   \n",
       "...    ..         ...  ..  ...  ..   ...  ..     ...      ...     ...   \n",
       "53419   v         2,6   v  ...   v  89.0   v   239.0        t   357.0   \n",
       "53420   v         2,0   v  ...   v  90.0   v     0.0        t   349.0   \n",
       "53421   v         3,3   v  ...   v  86.0   v   226.0        t   403.0   \n",
       "53422   v         5,7   v  ...   v  85.0   v   358.0        t   215.0   \n",
       "53423   v         6,5   v  ...   v  84.0   v    40.0        t   151.0   \n",
       "\n",
       "       QDHUMI80    UM  QUM ma_2e_nvelle_col  \n",
       "0             t  97.0    v               10  \n",
       "1             t  86.0    v               10  \n",
       "2             t  81.0    v               10  \n",
       "3             t  89.0    v               10  \n",
       "4             t  92.0    v               10  \n",
       "...         ...   ...  ...              ...  \n",
       "53419         t  62.0    v               10  \n",
       "53420         t  66.0    v               10  \n",
       "53421         t  60.0    v               10  \n",
       "53422         t  56.0    v               10  \n",
       "53423         t  61.0    v               10  \n",
       "\n",
       "[53424 rows x 27 columns]"
      ]
     },
     "execution_count": 190,
     "metadata": {},
     "output_type": "execute_result"
    }
   ],
   "source": [
    "# on souhaite modifier le nom des colonnes NOM en commune et TN en temperature\n",
    "#pd.options.mode.chained_assignment = None\n",
    "df_meteo.rename(index=str, columns={\"NOM\": \"COMMUNE\",\"TN\": \"TEMPERATURE\"}, inplace=True)\n",
    "df_meteo"
   ]
  },
  {
   "cell_type": "markdown",
   "id": "3cf4855c",
   "metadata": {},
   "source": [
    "**trier**"
   ]
  },
  {
   "cell_type": "code",
   "execution_count": 140,
   "id": "78c0f772",
   "metadata": {},
   "outputs": [
    {
     "data": {
      "text/plain": [
       "1837     -0,1\n",
       "37576    -0,1\n",
       "18557    -0,1\n",
       "18497    -0,1\n",
       "37565    -0,1\n",
       "         ... \n",
       "30267     9,9\n",
       "5993      9,9\n",
       "46546     9,9\n",
       "5528      9,9\n",
       "29763     9,9\n",
       "Name: TEMPERATURE, Length: 53184, dtype: object"
      ]
     },
     "execution_count": 140,
     "metadata": {},
     "output_type": "execute_result"
    }
   ],
   "source": [
    "#trions la colonne température\n",
    "df_meteo['TEMPERATURE'].sort_values()"
   ]
  },
  {
   "cell_type": "code",
   "execution_count": 141,
   "id": "5924da5a",
   "metadata": {},
   "outputs": [
    {
     "data": {
      "text/html": [
       "<div>\n",
       "<style scoped>\n",
       "    .dataframe tbody tr th:only-of-type {\n",
       "        vertical-align: middle;\n",
       "    }\n",
       "\n",
       "    .dataframe tbody tr th {\n",
       "        vertical-align: top;\n",
       "    }\n",
       "\n",
       "    .dataframe thead th {\n",
       "        text-align: right;\n",
       "    }\n",
       "</style>\n",
       "<table border=\"1\" class=\"dataframe\">\n",
       "  <thead>\n",
       "    <tr style=\"text-align: right;\">\n",
       "      <th></th>\n",
       "      <th>POSTE</th>\n",
       "      <th>COMMUNE</th>\n",
       "      <th>LON</th>\n",
       "      <th>LAT</th>\n",
       "      <th>ALT</th>\n",
       "      <th>DATE</th>\n",
       "      <th>RR</th>\n",
       "      <th>QRR</th>\n",
       "      <th>TEMPERATURE</th>\n",
       "      <th>QTN</th>\n",
       "      <th>...</th>\n",
       "      <th>QUN</th>\n",
       "      <th>UX</th>\n",
       "      <th>QUX</th>\n",
       "      <th>DHUMI40</th>\n",
       "      <th>QDHUMI40</th>\n",
       "      <th>DHUMI80</th>\n",
       "      <th>QDHUMI80</th>\n",
       "      <th>UM</th>\n",
       "      <th>QUM</th>\n",
       "      <th>ma_nouvelle_colonne</th>\n",
       "    </tr>\n",
       "  </thead>\n",
       "  <tbody>\n",
       "    <tr>\n",
       "      <th>0</th>\n",
       "      <td>1089001</td>\n",
       "      <td>AMBERIEU</td>\n",
       "      <td>5°19'45\"E</td>\n",
       "      <td>45°58'35\"N</td>\n",
       "      <td>250</td>\n",
       "      <td>20200101</td>\n",
       "      <td>0,0</td>\n",
       "      <td>v</td>\n",
       "      <td>-2,2</td>\n",
       "      <td>v</td>\n",
       "      <td>...</td>\n",
       "      <td>v</td>\n",
       "      <td>98.0</td>\n",
       "      <td>v</td>\n",
       "      <td>0.0</td>\n",
       "      <td>t</td>\n",
       "      <td>1440.0</td>\n",
       "      <td>t</td>\n",
       "      <td>97.0</td>\n",
       "      <td>v</td>\n",
       "      <td>-1.0</td>\n",
       "    </tr>\n",
       "    <tr>\n",
       "      <th>2</th>\n",
       "      <td>1089001</td>\n",
       "      <td>AMBERIEU</td>\n",
       "      <td>5°19'45\"E</td>\n",
       "      <td>45°58'35\"N</td>\n",
       "      <td>250</td>\n",
       "      <td>20200103</td>\n",
       "      <td>0,4</td>\n",
       "      <td>v</td>\n",
       "      <td>3,3</td>\n",
       "      <td>v</td>\n",
       "      <td>...</td>\n",
       "      <td>v</td>\n",
       "      <td>95.0</td>\n",
       "      <td>v</td>\n",
       "      <td>0.0</td>\n",
       "      <td>t</td>\n",
       "      <td>620.0</td>\n",
       "      <td>t</td>\n",
       "      <td>81.0</td>\n",
       "      <td>v</td>\n",
       "      <td>-24.0</td>\n",
       "    </tr>\n",
       "    <tr>\n",
       "      <th>3</th>\n",
       "      <td>1089001</td>\n",
       "      <td>AMBERIEU</td>\n",
       "      <td>5°19'45\"E</td>\n",
       "      <td>45°58'35\"N</td>\n",
       "      <td>250</td>\n",
       "      <td>20200104</td>\n",
       "      <td>0,6</td>\n",
       "      <td>v</td>\n",
       "      <td>3,4</td>\n",
       "      <td>v</td>\n",
       "      <td>...</td>\n",
       "      <td>v</td>\n",
       "      <td>97.0</td>\n",
       "      <td>v</td>\n",
       "      <td>0.0</td>\n",
       "      <td>t</td>\n",
       "      <td>1168.0</td>\n",
       "      <td>t</td>\n",
       "      <td>89.0</td>\n",
       "      <td>v</td>\n",
       "      <td>-23.0</td>\n",
       "    </tr>\n",
       "    <tr>\n",
       "      <th>4</th>\n",
       "      <td>1089001</td>\n",
       "      <td>AMBERIEU</td>\n",
       "      <td>5°19'45\"E</td>\n",
       "      <td>45°58'35\"N</td>\n",
       "      <td>250</td>\n",
       "      <td>20200105</td>\n",
       "      <td>0,0</td>\n",
       "      <td>v</td>\n",
       "      <td>-3,4</td>\n",
       "      <td>v</td>\n",
       "      <td>...</td>\n",
       "      <td>v</td>\n",
       "      <td>97.0</td>\n",
       "      <td>v</td>\n",
       "      <td>0.0</td>\n",
       "      <td>t</td>\n",
       "      <td>1395.0</td>\n",
       "      <td>t</td>\n",
       "      <td>92.0</td>\n",
       "      <td>v</td>\n",
       "      <td>-20.0</td>\n",
       "    </tr>\n",
       "    <tr>\n",
       "      <th>5</th>\n",
       "      <td>1089001</td>\n",
       "      <td>AMBERIEU</td>\n",
       "      <td>5°19'45\"E</td>\n",
       "      <td>45°58'35\"N</td>\n",
       "      <td>250</td>\n",
       "      <td>20200106</td>\n",
       "      <td>0,0</td>\n",
       "      <td>v</td>\n",
       "      <td>-4,6</td>\n",
       "      <td>v</td>\n",
       "      <td>...</td>\n",
       "      <td>v</td>\n",
       "      <td>97.0</td>\n",
       "      <td>v</td>\n",
       "      <td>0.0</td>\n",
       "      <td>t</td>\n",
       "      <td>920.0</td>\n",
       "      <td>t</td>\n",
       "      <td>83.0</td>\n",
       "      <td>v</td>\n",
       "      <td>-39.0</td>\n",
       "    </tr>\n",
       "    <tr>\n",
       "      <th>...</th>\n",
       "      <td>...</td>\n",
       "      <td>...</td>\n",
       "      <td>...</td>\n",
       "      <td>...</td>\n",
       "      <td>...</td>\n",
       "      <td>...</td>\n",
       "      <td>...</td>\n",
       "      <td>...</td>\n",
       "      <td>...</td>\n",
       "      <td>...</td>\n",
       "      <td>...</td>\n",
       "      <td>...</td>\n",
       "      <td>...</td>\n",
       "      <td>...</td>\n",
       "      <td>...</td>\n",
       "      <td>...</td>\n",
       "      <td>...</td>\n",
       "      <td>...</td>\n",
       "      <td>...</td>\n",
       "      <td>...</td>\n",
       "      <td>...</td>\n",
       "    </tr>\n",
       "    <tr>\n",
       "      <th>53419</th>\n",
       "      <td>95527001</td>\n",
       "      <td>ROISSY</td>\n",
       "      <td>2°32'03\"E</td>\n",
       "      <td>49°00'54\"N</td>\n",
       "      <td>108</td>\n",
       "      <td>20210417</td>\n",
       "      <td>0,0</td>\n",
       "      <td>v</td>\n",
       "      <td>2,6</td>\n",
       "      <td>v</td>\n",
       "      <td>...</td>\n",
       "      <td>v</td>\n",
       "      <td>89.0</td>\n",
       "      <td>v</td>\n",
       "      <td>239.0</td>\n",
       "      <td>t</td>\n",
       "      <td>357.0</td>\n",
       "      <td>t</td>\n",
       "      <td>62.0</td>\n",
       "      <td>v</td>\n",
       "      <td>-53.0</td>\n",
       "    </tr>\n",
       "    <tr>\n",
       "      <th>53420</th>\n",
       "      <td>95527001</td>\n",
       "      <td>ROISSY</td>\n",
       "      <td>2°32'03\"E</td>\n",
       "      <td>49°00'54\"N</td>\n",
       "      <td>108</td>\n",
       "      <td>20210418</td>\n",
       "      <td>0,0</td>\n",
       "      <td>v</td>\n",
       "      <td>2,0</td>\n",
       "      <td>v</td>\n",
       "      <td>...</td>\n",
       "      <td>v</td>\n",
       "      <td>90.0</td>\n",
       "      <td>v</td>\n",
       "      <td>0.0</td>\n",
       "      <td>t</td>\n",
       "      <td>349.0</td>\n",
       "      <td>t</td>\n",
       "      <td>66.0</td>\n",
       "      <td>v</td>\n",
       "      <td>-45.0</td>\n",
       "    </tr>\n",
       "    <tr>\n",
       "      <th>53421</th>\n",
       "      <td>95527001</td>\n",
       "      <td>ROISSY</td>\n",
       "      <td>2°32'03\"E</td>\n",
       "      <td>49°00'54\"N</td>\n",
       "      <td>108</td>\n",
       "      <td>20210419</td>\n",
       "      <td>0,0</td>\n",
       "      <td>v</td>\n",
       "      <td>3,3</td>\n",
       "      <td>v</td>\n",
       "      <td>...</td>\n",
       "      <td>v</td>\n",
       "      <td>86.0</td>\n",
       "      <td>v</td>\n",
       "      <td>226.0</td>\n",
       "      <td>t</td>\n",
       "      <td>403.0</td>\n",
       "      <td>t</td>\n",
       "      <td>60.0</td>\n",
       "      <td>v</td>\n",
       "      <td>-50.0</td>\n",
       "    </tr>\n",
       "    <tr>\n",
       "      <th>53422</th>\n",
       "      <td>95527001</td>\n",
       "      <td>ROISSY</td>\n",
       "      <td>2°32'03\"E</td>\n",
       "      <td>49°00'54\"N</td>\n",
       "      <td>108</td>\n",
       "      <td>20210420</td>\n",
       "      <td>0,0</td>\n",
       "      <td>v</td>\n",
       "      <td>5,7</td>\n",
       "      <td>v</td>\n",
       "      <td>...</td>\n",
       "      <td>v</td>\n",
       "      <td>85.0</td>\n",
       "      <td>v</td>\n",
       "      <td>358.0</td>\n",
       "      <td>t</td>\n",
       "      <td>215.0</td>\n",
       "      <td>t</td>\n",
       "      <td>56.0</td>\n",
       "      <td>v</td>\n",
       "      <td>-57.0</td>\n",
       "    </tr>\n",
       "    <tr>\n",
       "      <th>53423</th>\n",
       "      <td>95527001</td>\n",
       "      <td>ROISSY</td>\n",
       "      <td>2°32'03\"E</td>\n",
       "      <td>49°00'54\"N</td>\n",
       "      <td>108</td>\n",
       "      <td>20210421</td>\n",
       "      <td>0,0</td>\n",
       "      <td>v</td>\n",
       "      <td>6,5</td>\n",
       "      <td>v</td>\n",
       "      <td>...</td>\n",
       "      <td>v</td>\n",
       "      <td>84.0</td>\n",
       "      <td>v</td>\n",
       "      <td>40.0</td>\n",
       "      <td>t</td>\n",
       "      <td>151.0</td>\n",
       "      <td>t</td>\n",
       "      <td>61.0</td>\n",
       "      <td>v</td>\n",
       "      <td>-48.0</td>\n",
       "    </tr>\n",
       "  </tbody>\n",
       "</table>\n",
       "<p>53184 rows × 27 columns</p>\n",
       "</div>"
      ],
      "text/plain": [
       "          POSTE   COMMUNE        LON         LAT  ALT      DATE   RR QRR  \\\n",
       "0       1089001  AMBERIEU  5°19'45\"E  45°58'35\"N  250  20200101  0,0   v   \n",
       "2       1089001  AMBERIEU  5°19'45\"E  45°58'35\"N  250  20200103  0,4   v   \n",
       "3       1089001  AMBERIEU  5°19'45\"E  45°58'35\"N  250  20200104  0,6   v   \n",
       "4       1089001  AMBERIEU  5°19'45\"E  45°58'35\"N  250  20200105  0,0   v   \n",
       "5       1089001  AMBERIEU  5°19'45\"E  45°58'35\"N  250  20200106  0,0   v   \n",
       "...         ...       ...        ...         ...  ...       ...  ...  ..   \n",
       "53419  95527001    ROISSY  2°32'03\"E  49°00'54\"N  108  20210417  0,0   v   \n",
       "53420  95527001    ROISSY  2°32'03\"E  49°00'54\"N  108  20210418  0,0   v   \n",
       "53421  95527001    ROISSY  2°32'03\"E  49°00'54\"N  108  20210419  0,0   v   \n",
       "53422  95527001    ROISSY  2°32'03\"E  49°00'54\"N  108  20210420  0,0   v   \n",
       "53423  95527001    ROISSY  2°32'03\"E  49°00'54\"N  108  20210421  0,0   v   \n",
       "\n",
       "      TEMPERATURE QTN  ... QUN    UX QUX DHUMI40 QDHUMI40 DHUMI80  QDHUMI80  \\\n",
       "0            -2,2   v  ...   v  98.0   v     0.0        t  1440.0         t   \n",
       "2             3,3   v  ...   v  95.0   v     0.0        t   620.0         t   \n",
       "3             3,4   v  ...   v  97.0   v     0.0        t  1168.0         t   \n",
       "4            -3,4   v  ...   v  97.0   v     0.0        t  1395.0         t   \n",
       "5            -4,6   v  ...   v  97.0   v     0.0        t   920.0         t   \n",
       "...           ...  ..  ...  ..   ...  ..     ...      ...     ...       ...   \n",
       "53419         2,6   v  ...   v  89.0   v   239.0        t   357.0         t   \n",
       "53420         2,0   v  ...   v  90.0   v     0.0        t   349.0         t   \n",
       "53421         3,3   v  ...   v  86.0   v   226.0        t   403.0         t   \n",
       "53422         5,7   v  ...   v  85.0   v   358.0        t   215.0         t   \n",
       "53423         6,5   v  ...   v  84.0   v    40.0        t   151.0         t   \n",
       "\n",
       "         UM  QUM ma_nouvelle_colonne  \n",
       "0      97.0    v                -1.0  \n",
       "2      81.0    v               -24.0  \n",
       "3      89.0    v               -23.0  \n",
       "4      92.0    v               -20.0  \n",
       "5      83.0    v               -39.0  \n",
       "...     ...  ...                 ...  \n",
       "53419  62.0    v               -53.0  \n",
       "53420  66.0    v               -45.0  \n",
       "53421  60.0    v               -50.0  \n",
       "53422  56.0    v               -57.0  \n",
       "53423  61.0    v               -48.0  \n",
       "\n",
       "[53184 rows x 27 columns]"
      ]
     },
     "execution_count": 141,
     "metadata": {},
     "output_type": "execute_result"
    }
   ],
   "source": [
    "#remarquez que ca ne modifie pas le dataframe !\n",
    "df_meteo"
   ]
  },
  {
   "cell_type": "code",
   "execution_count": 142,
   "id": "f30d5e98",
   "metadata": {},
   "outputs": [
    {
     "data": {
      "text/html": [
       "<div>\n",
       "<style scoped>\n",
       "    .dataframe tbody tr th:only-of-type {\n",
       "        vertical-align: middle;\n",
       "    }\n",
       "\n",
       "    .dataframe tbody tr th {\n",
       "        vertical-align: top;\n",
       "    }\n",
       "\n",
       "    .dataframe thead th {\n",
       "        text-align: right;\n",
       "    }\n",
       "</style>\n",
       "<table border=\"1\" class=\"dataframe\">\n",
       "  <thead>\n",
       "    <tr style=\"text-align: right;\">\n",
       "      <th></th>\n",
       "      <th>POSTE</th>\n",
       "      <th>COMMUNE</th>\n",
       "      <th>LON</th>\n",
       "      <th>LAT</th>\n",
       "      <th>ALT</th>\n",
       "      <th>DATE</th>\n",
       "      <th>RR</th>\n",
       "      <th>QRR</th>\n",
       "      <th>TEMPERATURE</th>\n",
       "      <th>QTN</th>\n",
       "      <th>...</th>\n",
       "      <th>QUN</th>\n",
       "      <th>UX</th>\n",
       "      <th>QUX</th>\n",
       "      <th>DHUMI40</th>\n",
       "      <th>QDHUMI40</th>\n",
       "      <th>DHUMI80</th>\n",
       "      <th>QDHUMI80</th>\n",
       "      <th>UM</th>\n",
       "      <th>QUM</th>\n",
       "      <th>ma_nouvelle_colonne</th>\n",
       "    </tr>\n",
       "  </thead>\n",
       "  <tbody>\n",
       "    <tr>\n",
       "      <th>52947</th>\n",
       "      <td>95527001</td>\n",
       "      <td>ROISSY</td>\n",
       "      <td>2°32'03\"E</td>\n",
       "      <td>49°00'54\"N</td>\n",
       "      <td>108</td>\n",
       "      <td>20200101</td>\n",
       "      <td>0,2</td>\n",
       "      <td>v</td>\n",
       "      <td>-0,9</td>\n",
       "      <td>v</td>\n",
       "      <td>...</td>\n",
       "      <td>v</td>\n",
       "      <td>98.0</td>\n",
       "      <td>v</td>\n",
       "      <td>0.0</td>\n",
       "      <td>t</td>\n",
       "      <td>1440.0</td>\n",
       "      <td>t</td>\n",
       "      <td>97.0</td>\n",
       "      <td>v</td>\n",
       "      <td>-10.0</td>\n",
       "    </tr>\n",
       "    <tr>\n",
       "      <th>52948</th>\n",
       "      <td>95527001</td>\n",
       "      <td>ROISSY</td>\n",
       "      <td>2°32'03\"E</td>\n",
       "      <td>49°00'54\"N</td>\n",
       "      <td>108</td>\n",
       "      <td>20200102</td>\n",
       "      <td>1,2</td>\n",
       "      <td>v</td>\n",
       "      <td>2,8</td>\n",
       "      <td>v</td>\n",
       "      <td>...</td>\n",
       "      <td>v</td>\n",
       "      <td>98.0</td>\n",
       "      <td>v</td>\n",
       "      <td>0.0</td>\n",
       "      <td>t</td>\n",
       "      <td>1440.0</td>\n",
       "      <td>t</td>\n",
       "      <td>94.0</td>\n",
       "      <td>v</td>\n",
       "      <td>-14.0</td>\n",
       "    </tr>\n",
       "    <tr>\n",
       "      <th>52949</th>\n",
       "      <td>95527001</td>\n",
       "      <td>ROISSY</td>\n",
       "      <td>2°32'03\"E</td>\n",
       "      <td>49°00'54\"N</td>\n",
       "      <td>108</td>\n",
       "      <td>20200103</td>\n",
       "      <td>0,8</td>\n",
       "      <td>v</td>\n",
       "      <td>8,2</td>\n",
       "      <td>v</td>\n",
       "      <td>...</td>\n",
       "      <td>v</td>\n",
       "      <td>94.0</td>\n",
       "      <td>v</td>\n",
       "      <td>0.0</td>\n",
       "      <td>t</td>\n",
       "      <td>1255.0</td>\n",
       "      <td>t</td>\n",
       "      <td>87.0</td>\n",
       "      <td>v</td>\n",
       "      <td>-20.0</td>\n",
       "    </tr>\n",
       "    <tr>\n",
       "      <th>52950</th>\n",
       "      <td>95527001</td>\n",
       "      <td>ROISSY</td>\n",
       "      <td>2°32'03\"E</td>\n",
       "      <td>49°00'54\"N</td>\n",
       "      <td>108</td>\n",
       "      <td>20200104</td>\n",
       "      <td>0,0</td>\n",
       "      <td>v</td>\n",
       "      <td>2,8</td>\n",
       "      <td>v</td>\n",
       "      <td>...</td>\n",
       "      <td>v</td>\n",
       "      <td>92.0</td>\n",
       "      <td>v</td>\n",
       "      <td>0.0</td>\n",
       "      <td>t</td>\n",
       "      <td>788.0</td>\n",
       "      <td>t</td>\n",
       "      <td>83.0</td>\n",
       "      <td>v</td>\n",
       "      <td>-19.0</td>\n",
       "    </tr>\n",
       "    <tr>\n",
       "      <th>52951</th>\n",
       "      <td>95527001</td>\n",
       "      <td>ROISSY</td>\n",
       "      <td>2°32'03\"E</td>\n",
       "      <td>49°00'54\"N</td>\n",
       "      <td>108</td>\n",
       "      <td>20200105</td>\n",
       "      <td>0,0</td>\n",
       "      <td>v</td>\n",
       "      <td>5,9</td>\n",
       "      <td>v</td>\n",
       "      <td>...</td>\n",
       "      <td>v</td>\n",
       "      <td>91.0</td>\n",
       "      <td>v</td>\n",
       "      <td>0.0</td>\n",
       "      <td>t</td>\n",
       "      <td>832.0</td>\n",
       "      <td>t</td>\n",
       "      <td>79.0</td>\n",
       "      <td>v</td>\n",
       "      <td>-31.0</td>\n",
       "    </tr>\n",
       "    <tr>\n",
       "      <th>...</th>\n",
       "      <td>...</td>\n",
       "      <td>...</td>\n",
       "      <td>...</td>\n",
       "      <td>...</td>\n",
       "      <td>...</td>\n",
       "      <td>...</td>\n",
       "      <td>...</td>\n",
       "      <td>...</td>\n",
       "      <td>...</td>\n",
       "      <td>...</td>\n",
       "      <td>...</td>\n",
       "      <td>...</td>\n",
       "      <td>...</td>\n",
       "      <td>...</td>\n",
       "      <td>...</td>\n",
       "      <td>...</td>\n",
       "      <td>...</td>\n",
       "      <td>...</td>\n",
       "      <td>...</td>\n",
       "      <td>...</td>\n",
       "      <td>...</td>\n",
       "    </tr>\n",
       "    <tr>\n",
       "      <th>53419</th>\n",
       "      <td>95527001</td>\n",
       "      <td>ROISSY</td>\n",
       "      <td>2°32'03\"E</td>\n",
       "      <td>49°00'54\"N</td>\n",
       "      <td>108</td>\n",
       "      <td>20210417</td>\n",
       "      <td>0,0</td>\n",
       "      <td>v</td>\n",
       "      <td>2,6</td>\n",
       "      <td>v</td>\n",
       "      <td>...</td>\n",
       "      <td>v</td>\n",
       "      <td>89.0</td>\n",
       "      <td>v</td>\n",
       "      <td>239.0</td>\n",
       "      <td>t</td>\n",
       "      <td>357.0</td>\n",
       "      <td>t</td>\n",
       "      <td>62.0</td>\n",
       "      <td>v</td>\n",
       "      <td>-53.0</td>\n",
       "    </tr>\n",
       "    <tr>\n",
       "      <th>53420</th>\n",
       "      <td>95527001</td>\n",
       "      <td>ROISSY</td>\n",
       "      <td>2°32'03\"E</td>\n",
       "      <td>49°00'54\"N</td>\n",
       "      <td>108</td>\n",
       "      <td>20210418</td>\n",
       "      <td>0,0</td>\n",
       "      <td>v</td>\n",
       "      <td>2,0</td>\n",
       "      <td>v</td>\n",
       "      <td>...</td>\n",
       "      <td>v</td>\n",
       "      <td>90.0</td>\n",
       "      <td>v</td>\n",
       "      <td>0.0</td>\n",
       "      <td>t</td>\n",
       "      <td>349.0</td>\n",
       "      <td>t</td>\n",
       "      <td>66.0</td>\n",
       "      <td>v</td>\n",
       "      <td>-45.0</td>\n",
       "    </tr>\n",
       "    <tr>\n",
       "      <th>53421</th>\n",
       "      <td>95527001</td>\n",
       "      <td>ROISSY</td>\n",
       "      <td>2°32'03\"E</td>\n",
       "      <td>49°00'54\"N</td>\n",
       "      <td>108</td>\n",
       "      <td>20210419</td>\n",
       "      <td>0,0</td>\n",
       "      <td>v</td>\n",
       "      <td>3,3</td>\n",
       "      <td>v</td>\n",
       "      <td>...</td>\n",
       "      <td>v</td>\n",
       "      <td>86.0</td>\n",
       "      <td>v</td>\n",
       "      <td>226.0</td>\n",
       "      <td>t</td>\n",
       "      <td>403.0</td>\n",
       "      <td>t</td>\n",
       "      <td>60.0</td>\n",
       "      <td>v</td>\n",
       "      <td>-50.0</td>\n",
       "    </tr>\n",
       "    <tr>\n",
       "      <th>53422</th>\n",
       "      <td>95527001</td>\n",
       "      <td>ROISSY</td>\n",
       "      <td>2°32'03\"E</td>\n",
       "      <td>49°00'54\"N</td>\n",
       "      <td>108</td>\n",
       "      <td>20210420</td>\n",
       "      <td>0,0</td>\n",
       "      <td>v</td>\n",
       "      <td>5,7</td>\n",
       "      <td>v</td>\n",
       "      <td>...</td>\n",
       "      <td>v</td>\n",
       "      <td>85.0</td>\n",
       "      <td>v</td>\n",
       "      <td>358.0</td>\n",
       "      <td>t</td>\n",
       "      <td>215.0</td>\n",
       "      <td>t</td>\n",
       "      <td>56.0</td>\n",
       "      <td>v</td>\n",
       "      <td>-57.0</td>\n",
       "    </tr>\n",
       "    <tr>\n",
       "      <th>53423</th>\n",
       "      <td>95527001</td>\n",
       "      <td>ROISSY</td>\n",
       "      <td>2°32'03\"E</td>\n",
       "      <td>49°00'54\"N</td>\n",
       "      <td>108</td>\n",
       "      <td>20210421</td>\n",
       "      <td>0,0</td>\n",
       "      <td>v</td>\n",
       "      <td>6,5</td>\n",
       "      <td>v</td>\n",
       "      <td>...</td>\n",
       "      <td>v</td>\n",
       "      <td>84.0</td>\n",
       "      <td>v</td>\n",
       "      <td>40.0</td>\n",
       "      <td>t</td>\n",
       "      <td>151.0</td>\n",
       "      <td>t</td>\n",
       "      <td>61.0</td>\n",
       "      <td>v</td>\n",
       "      <td>-48.0</td>\n",
       "    </tr>\n",
       "  </tbody>\n",
       "</table>\n",
       "<p>477 rows × 27 columns</p>\n",
       "</div>"
      ],
      "text/plain": [
       "          POSTE COMMUNE        LON         LAT  ALT      DATE   RR QRR  \\\n",
       "52947  95527001  ROISSY  2°32'03\"E  49°00'54\"N  108  20200101  0,2   v   \n",
       "52948  95527001  ROISSY  2°32'03\"E  49°00'54\"N  108  20200102  1,2   v   \n",
       "52949  95527001  ROISSY  2°32'03\"E  49°00'54\"N  108  20200103  0,8   v   \n",
       "52950  95527001  ROISSY  2°32'03\"E  49°00'54\"N  108  20200104  0,0   v   \n",
       "52951  95527001  ROISSY  2°32'03\"E  49°00'54\"N  108  20200105  0,0   v   \n",
       "...         ...     ...        ...         ...  ...       ...  ...  ..   \n",
       "53419  95527001  ROISSY  2°32'03\"E  49°00'54\"N  108  20210417  0,0   v   \n",
       "53420  95527001  ROISSY  2°32'03\"E  49°00'54\"N  108  20210418  0,0   v   \n",
       "53421  95527001  ROISSY  2°32'03\"E  49°00'54\"N  108  20210419  0,0   v   \n",
       "53422  95527001  ROISSY  2°32'03\"E  49°00'54\"N  108  20210420  0,0   v   \n",
       "53423  95527001  ROISSY  2°32'03\"E  49°00'54\"N  108  20210421  0,0   v   \n",
       "\n",
       "      TEMPERATURE QTN  ... QUN    UX QUX DHUMI40 QDHUMI40 DHUMI80  QDHUMI80  \\\n",
       "52947        -0,9   v  ...   v  98.0   v     0.0        t  1440.0         t   \n",
       "52948         2,8   v  ...   v  98.0   v     0.0        t  1440.0         t   \n",
       "52949         8,2   v  ...   v  94.0   v     0.0        t  1255.0         t   \n",
       "52950         2,8   v  ...   v  92.0   v     0.0        t   788.0         t   \n",
       "52951         5,9   v  ...   v  91.0   v     0.0        t   832.0         t   \n",
       "...           ...  ..  ...  ..   ...  ..     ...      ...     ...       ...   \n",
       "53419         2,6   v  ...   v  89.0   v   239.0        t   357.0         t   \n",
       "53420         2,0   v  ...   v  90.0   v     0.0        t   349.0         t   \n",
       "53421         3,3   v  ...   v  86.0   v   226.0        t   403.0         t   \n",
       "53422         5,7   v  ...   v  85.0   v   358.0        t   215.0         t   \n",
       "53423         6,5   v  ...   v  84.0   v    40.0        t   151.0         t   \n",
       "\n",
       "         UM  QUM ma_nouvelle_colonne  \n",
       "52947  97.0    v               -10.0  \n",
       "52948  94.0    v               -14.0  \n",
       "52949  87.0    v               -20.0  \n",
       "52950  83.0    v               -19.0  \n",
       "52951  79.0    v               -31.0  \n",
       "...     ...  ...                 ...  \n",
       "53419  62.0    v               -53.0  \n",
       "53420  66.0    v               -45.0  \n",
       "53421  60.0    v               -50.0  \n",
       "53422  56.0    v               -57.0  \n",
       "53423  61.0    v               -48.0  \n",
       "\n",
       "[477 rows x 27 columns]"
      ]
     },
     "execution_count": 142,
     "metadata": {},
     "output_type": "execute_result"
    }
   ],
   "source": [
    "#si l'on cherche à filtrer les données uniquement sur une commune, il suffit de rajouter un masque \n",
    "df_meteo.loc[df_meteo['COMMUNE']=='ROISSY',:]"
   ]
  },
  {
   "cell_type": "markdown",
   "id": "9677f316",
   "metadata": {},
   "source": [
    "**grouper**"
   ]
  },
  {
   "cell_type": "code",
   "execution_count": 145,
   "id": "3aa3c069",
   "metadata": {},
   "outputs": [
    {
     "data": {
      "text/plain": [
       "{'AGEN-LA GARENNE': ['28143', '28144', '28145', '28146', '28147', '28148', '28149', '28150', '28151', '28152', '28153', '28154', '28155', '28156', '28157', '28158', '28159', '28160', '28161', '28162', '28163', '28164', '28165', '28166', '28167', '28168', '28169', '28170', '28171', '28172', '28173', '28174', '28175', '28176', '28177', '28178', '28179', '28180', '28181', '28182', '28183', '28184', '28185', '28186', '28187', '28188', '28189', '28190', '28191', '28192', '28193', '28194', '28195', '28196', '28197', '28198', '28199', '28200', '28201', '28202', '28203', '28204', '28205', '28206', '28207', '28208', '28209', '28210', '28211', '28212', '28213', '28214', '28215', '28216', '28217', '28218', '28219', '28220', '28221', '28222', '28223', '28224', '28225', '28226', '28227', '28228', '28229', '28230', '28231', '28232', '28233', '28234', '28235', '28236', '28237', '28238', '28239', '28240', '28241', '28242', ...], 'AJACCIO': ['12402', '12403', '12404', '12405', '12406', '12407', '12408', '12409', '12410', '12411', '12412', '12413', '12414', '12415', '12416', '12417', '12418', '12419', '12420', '12421', '12422', '12423', '12424', '12425', '12426', '12427', '12428', '12429', '12430', '12431', '12432', '12433', '12434', '12435', '12436', '12437', '12438', '12439', '12440', '12441', '12442', '12443', '12444', '12445', '12446', '12447', '12448', '12449', '12450', '12451', '12452', '12453', '12454', '12455', '12456', '12457', '12458', '12459', '12460', '12461', '12462', '12463', '12464', '12465', '12466', '12467', '12468', '12469', '12470', '12471', '12472', '12473', '12474', '12475', '12476', '12477', '12478', '12479', '12480', '12481', '12482', '12483', '12484', '12485', '12486', '12487', '12488', '12489', '12490', '12491', '12492', '12493', '12494', '12495', '12496', '12497', '12498', '12499', '12500', '12501', ...], 'ALBI': ['46746', '46747', '46748', '46749', '46750', '46751', '46752', '46753', '46754', '46755', '46756', '46757', '46758', '46759', '46760', '46761', '46762', '46763', '46764', '46765', '46766', '46767', '46768', '46769', '46770', '46771', '46772', '46773', '46774', '46775', '46776', '46777', '46778', '46779', '46780', '46781', '46782', '46783', '46784', '46785', '46786', '46787', '46788', '46789', '46790', '46791', '46792', '46793', '46794', '46795', '46796', '46797', '46798', '46799', '46800', '46801', '46802', '46803', '46804', '46805', '46806', '46807', '46808', '46809', '46810', '46811', '46812', '46813', '46814', '46815', '46816', '46817', '46818', '46819', '46820', '46821', '46822', '46823', '46824', '46825', '46826', '46827', '46828', '46829', '46830', '46831', '46832', '46833', '46834', '46835', '46836', '46837', '46838', '46839', '46840', '46841', '46842', '46843', '46844', '46845', ...], 'ALENCON': ['34821', '34822', '34823', '34824', '34825', '34826', '34827', '34828', '34829', '34830', '34831', '34832', '34833', '34834', '34835', '34836', '34837', '34838', '34839', '34840', '34841', '34842', '34843', '34844', '34845', '34846', '34847', '34848', '34849', '34850', '34851', '34852', '34853', '34854', '34855', '34856', '34857', '34858', '34859', '34860', '34861', '34862', '34863', '34864', '34865', '34866', '34867', '34868', '34869', '34870', '34871', '34872', '34873', '34874', '34875', '34876', '34877', '34878', '34879', '34880', '34881', '34882', '34883', '34884', '34885', '34886', '34887', '34888', '34889', '34890', '34891', '34892', '34893', '34894', '34895', '34896', '34897', '34898', '34899', '34900', '34901', '34902', '34903', '34904', '34905', '34906', '34907', '34908', '34909', '34910', '34911', '34912', '34913', '34914', '34915', '34916', '34917', '34918', '34919', '34920', ...], 'AMBERIEU': ['0', '2', '3', '4', '5', '6', '7', '8', '9', '10', '11', '12', '13', '14', '15', '16', '17', '18', '19', '20', '21', '22', '23', '24', '25', '27', '28', '29', '30', '31', '32', '33', '34', '35', '36', '37', '38', '39', '40', '41', '42', '43', '44', '45', '46', '47', '48', '49', '50', '51', '52', '53', '54', '55', '56', '57', '58', '59', '60', '61', '62', '63', '64', '65', '66', '67', '68', '69', '70', '71', '72', '73', '74', '75', '76', '77', '78', '79', '80', '81', '82', '83', '84', '85', '86', '87', '88', '89', '90', '91', '92', '93', '94', '95', '96', '97', '98', '99', '100', '101', ...], 'AMIENS-GLISY': ['46269', '46270', '46271', '46272', '46273', '46274', '46275', '46276', '46277', '46278', '46279', '46280', '46281', '46282', '46283', '46284', '46285', '46286', '46287', '46288', '46289', '46290', '46291', '46292', '46293', '46294', '46295', '46296', '46297', '46298', '46299', '46300', '46301', '46302', '46303', '46304', '46305', '46306', '46307', '46308', '46309', '46310', '46311', '46312', '46313', '46314', '46315', '46316', '46317', '46318', '46319', '46320', '46321', '46322', '46323', '46324', '46325', '46326', '46327', '46328', '46329', '46330', '46331', '46332', '46333', '46334', '46335', '46336', '46337', '46338', '46339', '46340', '46341', '46342', '46343', '46344', '46345', '46346', '46347', '46348', '46349', '46350', '46351', '46352', '46353', '46354', '46355', '46356', '46357', '46358', '46359', '46360', '46361', '46362', '46363', '46364', '46365', '46366', '46367', '46368', ...], 'ANGOULEME - BRIE - CHAMPNIERS': ['9063', '9064', '9065', '9066', '9067', '9068', '9069', '9070', '9071', '9072', '9073', '9074', '9075', '9076', '9077', '9078', '9079', '9080', '9081', '9082', '9083', '9084', '9085', '9086', '9087', '9088', '9089', '9090', '9091', '9092', '9093', '9094', '9095', '9096', '9097', '9098', '9099', '9100', '9101', '9102', '9103', '9104', '9105', '9106', '9107', '9108', '9109', '9110', '9111', '9112', '9113', '9114', '9115', '9116', '9117', '9118', '9119', '9120', '9121', '9122', '9123', '9124', '9125', '9126', '9127', '9128', '9129', '9130', '9131', '9132', '9133', '9134', '9135', '9136', '9137', '9138', '9139', '9140', '9141', '9142', '9143', '9144', '9145', '9146', '9147', '9148', '9149', '9150', '9151', '9152', '9153', '9154', '9155', '9156', '9157', '9158', '9159', '9160', '9161', '9162', ...], 'AUCH': ['20034', '20035', '20036', '20037', '20038', '20039', '20040', '20041', '20042', '20043', '20044', '20045', '20046', '20047', '20048', '20049', '20050', '20051', '20052', '20053', '20054', '20055', '20056', '20057', '20058', '20059', '20060', '20061', '20062', '20063', '20064', '20065', '20066', '20067', '20068', '20069', '20070', '20071', '20072', '20073', '20074', '20075', '20076', '20077', '20078', '20079', '20080', '20081', '20082', '20083', '20084', '20085', '20086', '20087', '20088', '20089', '20090', '20091', '20092', '20093', '20094', '20095', '20096', '20097', '20098', '20099', '20100', '20101', '20102', '20103', '20104', '20105', '20106', '20107', '20108', '20109', '20110', '20111', '20112', '20113', '20114', '20115', '20116', '20117', '20118', '20119', '20120', '20121', '20122', '20123', '20124', '20125', '20126', '20127', '20128', '20129', '20130', '20131', '20132', '20133', ...], 'AURILLAC': ['8586', '8587', '8588', '8589', '8590', '8591', '8592', '8593', '8594', '8595', '8596', '8597', '8598', '8599', '8600', '8601', '8602', '8603', '8604', '8605', '8606', '8607', '8608', '8609', '8610', '8611', '8612', '8613', '8614', '8615', '8619', '8620', '8621', '8622', '8623', '8624', '8625', '8626', '8627', '8628', '8629', '8630', '8631', '8632', '8633', '8634', '8635', '8636', '8637', '8638', '8639', '8640', '8641', '8642', '8643', '8644', '8645', '8646', '8647', '8648', '8649', '8650', '8651', '8652', '8653', '8654', '8655', '8656', '8657', '8658', '8659', '8660', '8661', '8662', '8663', '8664', '8665', '8666', '8667', '8668', '8669', '8670', '8671', '8672', '8673', '8674', '8675', '8676', '8677', '8678', '8679', '8680', '8681', '8682', '8683', '8684', '8685', '8686', '8687', '8688', ...], 'AUXERRE-PERRIGNY': ['51039', '51040', '51041', '51042', '51043', '51044', '51045', '51046', '51047', '51048', '51049', '51050', '51051', '51052', '51053', '51054', '51055', '51056', '51057', '51058', '51059', '51060', '51061', '51062', '51063', '51064', '51065', '51066', '51067', '51068', '51069', '51070', '51071', '51072', '51073', '51074', '51075', '51076', '51077', '51078', '51079', '51080', '51081', '51082', '51083', '51084', '51085', '51086', '51087', '51088', '51089', '51090', '51091', '51092', '51093', '51094', '51095', '51096', '51097', '51098', '51099', '51100', '51101', '51102', '51103', '51104', '51105', '51106', '51107', '51108', '51109', '51110', '51111', '51112', '51113', '51114', '51115', '51116', '51117', '51118', '51119', '51120', '51121', '51122', '51123', '51124', '51125', '51126', '51127', '51128', '51129', '51130', '51131', '51132', '51133', '51134', '51135', '51136', '51137', '51138', ...], 'AVIGNON': ['48177', '48178', '48179', '48180', '48181', '48182', '48183', '48184', '48185', '48186', '48187', '48188', '48189', '48190', '48191', '48192', '48193', '48194', '48195', '48196', '48197', '48198', '48199', '48200', '48201', '48202', '48203', '48204', '48205', '48206', '48207', '48208', '48209', '48210', '48211', '48212', '48213', '48214', '48215', '48216', '48217', '48218', '48219', '48220', '48221', '48222', '48223', '48224', '48225', '48226', '48227', '48228', '48229', '48230', '48231', '48232', '48233', '48234', '48235', '48236', '48237', '48238', '48239', '48240', '48241', '48242', '48243', '48244', '48245', '48246', '48247', '48248', '48249', '48250', '48251', '48252', '48253', '48254', '48255', '48256', '48257', '48258', '48259', '48260', '48261', '48262', '48263', '48264', '48265', '48266', '48267', '48268', '48269', '48270', '48271', '48272', '48273', '48274', '48275', '48276', ...], 'AVORD': ['10971', '10972', '10973', '10974', '10975', '10976', '10977', '10978', '10979', '10980', '10981', '10982', '10983', '10984', '10985', '10986', '10987', '10988', '10989', '10990', '10991', '10992', '10993', '10994', '10995', '10996', '10997', '10998', '10999', '11000', '11001', '11002', '11003', '11004', '11005', '11006', '11007', '11008', '11009', '11010', '11011', '11012', '11013', '11014', '11015', '11016', '11017', '11018', '11019', '11020', '11021', '11022', '11023', '11024', '11025', '11026', '11027', '11028', '11029', '11030', '11031', '11032', '11033', '11034', '11035', '11036', '11037', '11038', '11039', '11040', '11041', '11042', '11043', '11044', '11045', '11046', '11047', '11048', '11049', '11050', '11051', '11052', '11053', '11054', '11055', '11056', '11057', '11058', '11059', '11060', '11061', '11062', '11063', '11064', '11065', '11066', '11067', '11068', '11069', '11070', ...], 'BALE-MULHOUSE': ['39114', '39115', '39116', '39117', '39118', '39119', '39120', '39121', '39122', '39123', '39124', '39125', '39126', '39127', '39128', '39129', '39130', '39131', '39132', '39133', '39134', '39135', '39136', '39137', '39138', '39139', '39140', '39141', '39142', '39143', '39144', '39145', '39146', '39147', '39148', '39149', '39150', '39151', '39152', '39153', '39154', '39155', '39156', '39157', '39158', '39159', '39160', '39161', '39162', '39163', '39164', '39165', '39166', '39167', '39168', '39169', '39170', '39171', '39172', '39173', '39174', '39175', '39176', '39177', '39178', '39179', '39180', '39181', '39182', '39183', '39184', '39185', '39186', '39187', '39188', '39189', '39190', '39191', '39192', '39193', '39194', '39195', '39196', '39197', '39198', '39199', '39200', '39201', '39202', '39203', '39204', '39205', '39206', '39207', '39208', '39209', '39210', '39211', '39212', '39213', ...], 'BASTIA': ['13356', '13357', '13358', '13359', '13360', '13361', '13362', '13363', '13364', '13365', '13366', '13367', '13368', '13369', '13370', '13371', '13372', '13373', '13374', '13375', '13376', '13377', '13378', '13379', '13380', '13381', '13382', '13383', '13384', '13385', '13386', '13387', '13388', '13389', '13390', '13391', '13392', '13393', '13394', '13395', '13396', '13397', '13398', '13399', '13400', '13401', '13402', '13403', '13404', '13405', '13406', '13407', '13408', '13409', '13410', '13411', '13412', '13413', '13414', '13415', '13416', '13417', '13418', '13419', '13420', '13421', '13422', '13423', '13424', '13425', '13426', '13427', '13428', '13429', '13430', '13431', '13432', '13433', '13434', '13435', '13436', '13437', '13438', '13439', '13440', '13441', '13442', '13443', '13444', '13445', '13446', '13447', '13448', '13449', '13450', '13451', '13452', '13453', '13454', '13455', ...], 'BEAUVAIS-TILLE': ['34344', '34345', '34346', '34347', '34348', '34349', '34350', '34351', '34352', '34353', '34354', '34355', '34356', '34357', '34358', '34359', '34360', '34361', '34362', '34363', '34364', '34365', '34366', '34367', '34368', '34369', '34370', '34371', '34372', '34373', '34374', '34375', '34376', '34377', '34378', '34379', '34380', '34381', '34382', '34383', '34384', '34385', '34386', '34387', '34388', '34389', '34390', '34391', '34392', '34393', '34394', '34395', '34396', '34397', '34398', '34399', '34400', '34401', '34402', '34403', '34404', '34405', '34406', '34407', '34408', '34409', '34410', '34411', '34412', '34413', '34414', '34415', '34416', '34417', '34418', '34419', '34420', '34421', '34422', '34423', '34424', '34425', '34426', '34427', '34428', '34429', '34430', '34431', '34432', '34433', '34434', '34435', '34436', '34437', '34438', '34439', '34440', '34441', '34442', '34443', ...], 'BESANCON': ['15741', '15742', '15743', '15744', '15745', '15746', '15747', '15748', '15749', '15750', '15751', '15752', '15753', '15754', '15755', '15756', '15757', '15758', '15759', '15760', '15761', '15762', '15763', '15764', '15765', '15766', '15767', '15768', '15769', '15770', '15771', '15772', '15773', '15774', '15775', '15776', '15777', '15778', '15779', '15780', '15781', '15782', '15783', '15784', '15785', '15786', '15787', '15788', '15789', '15790', '15791', '15792', '15793', '15794', '15795', '15796', '15797', '15798', '15799', '15800', '15801', '15802', '15803', '15804', '15805', '15806', '15807', '15808', '15809', '15810', '15811', '15812', '15813', '15814', '15815', '15816', '15817', '15818', '15819', '15820', '15821', '15822', '15823', '15824', '15825', '15826', '15827', '15828', '15829', '15830', '15831', '15832', '15833', '15834', '15835', '15836', '15837', '15838', '15839', '15840', ...], 'BIARRITZ-PAYS-BASQUE': ['36252', '36253', '36254', '36255', '36256', '36257', '36258', '36259', '36260', '36261', '36262', '36263', '36264', '36265', '36266', '36267', '36268', '36269', '36270', '36271', '36272', '36273', '36274', '36275', '36276', '36277', '36278', '36279', '36280', '36281', '36282', '36283', '36284', '36285', '36286', '36287', '36288', '36289', '36290', '36291', '36292', '36293', '36294', '36295', '36296', '36297', '36298', '36299', '36300', '36301', '36302', '36303', '36304', '36305', '36306', '36307', '36308', '36309', '36310', '36311', '36312', '36313', '36314', '36315', '36316', '36317', '36318', '36319', '36320', '36321', '36322', '36323', '36324', '36325', '36326', '36327', '36328', '36329', '36330', '36331', '36332', '36333', '36334', '36335', '36336', '36337', '36338', '36339', '36340', '36341', '36342', '36343', '36344', '36345', '36346', '36347', '36348', '36349', '36350', '36351', ...], 'BLOIS': ['25281', '25282', '25283', '25284', '25285', '25286', '25287', '25288', '25289', '25290', '25291', '25292', '25293', '25294', '25295', '25296', '25297', '25298', '25299', '25300', '25301', '25302', '25303', '25304', '25305', '25306', '25307', '25308', '25309', '25310', '25311', '25312', '25313', '25314', '25315', '25316', '25317', '25318', '25319', '25320', '25321', '25322', '25323', '25324', '25325', '25326', '25327', '25328', '25329', '25330', '25331', '25332', '25333', '25334', '25335', '25336', '25337', '25338', '25339', '25340', '25341', '25342', '25343', '25344', '25345', '25346', '25347', '25348', '25349', '25350', '25351', '25352', '25353', '25354', '25355', '25356', '25357', '25358', '25359', '25360', '25361', '25362', '25363', '25364', '25365', '25366', '25367', '25368', '25369', '25370', '25371', '25372', '25373', '25374', '25375', '25376', '25377', '25378', '25379', '25380', ...], 'BORDEAUX-MERIGNAC': ['20511', '20512', '20513', '20514', '20515', '20516', '20517', '20518', '20519', '20520', '20521', '20522', '20523', '20524', '20525', '20526', '20527', '20528', '20529', '20530', '20531', '20532', '20533', '20534', '20535', '20536', '20537', '20538', '20539', '20540', '20541', '20542', '20543', '20544', '20545', '20546', '20547', '20548', '20549', '20550', '20551', '20552', '20553', '20554', '20555', '20556', '20557', '20558', '20559', '20560', '20561', '20562', '20563', '20564', '20565', '20566', '20567', '20568', '20569', '20570', '20571', '20572', '20573', '20574', '20575', '20576', '20577', '20578', '20579', '20580', '20581', '20582', '20583', '20584', '20585', '20586', '20587', '20588', '20589', '20590', '20591', '20592', '20593', '20594', '20595', '20596', '20597', '20598', '20599', '20600', '20601', '20602', '20603', '20604', '20605', '20606', '20607', '20608', '20609', '20610', ...], 'BOULOGNE-SEM': ['35298', '35299', '35300', '35301', '35302', '35303', '35304', '35305', '35306', '35307', '35308', '35309', '35310', '35311', '35312', '35313', '35314', '35315', '35316', '35317', '35318', '35319', '35320', '35321', '35322', '35323', '35324', '35325', '35326', '35327', '35328', '35329', '35330', '35331', '35333', '35334', '35335', '35336', '35337', '35338', '35339', '35340', '35341', '35342', '35343', '35344', '35345', '35346', '35347', '35348', '35349', '35350', '35351', '35352', '35353', '35354', '35355', '35356', '35357', '35358', '35359', '35360', '35361', '35362', '35363', '35364', '35365', '35366', '35367', '35368', '35369', '35370', '35371', '35372', '35373', '35374', '35375', '35376', '35377', '35378', '35379', '35380', '35381', '35382', '35383', '35384', '35385', '35386', '35387', '35388', '35389', '35390', '35391', '35392', '35393', '35394', '35395', '35396', '35397', '35398', ...], 'BOURGES': ['10494', '10495', '10496', '10497', '10498', '10499', '10500', '10501', '10502', '10503', '10504', '10505', '10506', '10507', '10508', '10509', '10510', '10511', '10512', '10513', '10514', '10515', '10516', '10517', '10518', '10519', '10520', '10521', '10522', '10523', '10524', '10525', '10526', '10527', '10528', '10529', '10530', '10531', '10532', '10533', '10534', '10535', '10536', '10537', '10538', '10539', '10540', '10541', '10542', '10543', '10544', '10545', '10546', '10547', '10548', '10549', '10550', '10551', '10552', '10553', '10554', '10555', '10556', '10557', '10558', '10559', '10560', '10561', '10562', '10563', '10564', '10565', '10566', '10567', '10568', '10569', '10570', '10571', '10572', '10573', '10574', '10575', '10576', '10577', '10578', '10579', '10580', '10581', '10582', '10583', '10584', '10585', '10586', '10587', '10588', '10589', '10590', '10591', '10592', '10593', ...], 'BREST-GUIPAVAS': ['17649', '17650', '17651', '17652', '17653', '17654', '17655', '17656', '17657', '17658', '17659', '17660', '17661', '17662', '17663', '17664', '17665', '17666', '17667', '17668', '17669', '17670', '17671', '17672', '17673', '17674', '17675', '17676', '17677', '17678', '17679', '17680', '17681', '17682', '17683', '17684', '17685', '17686', '17687', '17688', '17689', '17690', '17691', '17692', '17693', '17694', '17695', '17696', '17697', '17698', '17699', '17700', '17701', '17702', '17703', '17704', '17705', '17706', '17707', '17708', '17709', '17710', '17711', '17712', '17713', '17714', '17715', '17716', '17717', '17718', '17719', '17720', '17721', '17722', '17723', '17724', '17725', '17726', '17727', '17728', '17729', '17730', '17731', '17732', '17733', '17734', '17735', '17736', '17737', '17738', '17739', '17740', '17741', '17742', '17743', '17744', '17745', '17746', '17747', '17748', ...], 'BRIVE': ['11448', '11449', '11450', '11451', '11452', '11453', '11454', '11455', '11456', '11457', '11458', '11459', '11460', '11461', '11462', '11463', '11464', '11465', '11466', '11467', '11468', '11469', '11470', '11471', '11472', '11473', '11474', '11475', '11476', '11477', '11478', '11479', '11480', '11481', '11482', '11483', '11484', '11485', '11486', '11487', '11488', '11489', '11490', '11491', '11492', '11493', '11494', '11495', '11496', '11497', '11498', '11499', '11500', '11501', '11502', '11503', '11504', '11505', '11506', '11507', '11508', '11509', '11510', '11511', '11512', '11513', '11514', '11515', '11516', '11517', '11518', '11519', '11520', '11521', '11522', '11523', '11524', '11525', '11526', '11527', '11528', '11529', '11530', '11531', '11532', '11533', '11534', '11535', '11536', '11537', '11538', '11539', '11540', '11541', '11542', '11543', '11544', '11545', '11546', '11547', ...], 'BRIVE-SOUILLAC': ['11925', '11926', '11927', '11928', '11929', '11930', '11931', '11932', '11933', '11934', '11935', '11936', '11937', '11938', '11939', '11940', '11941', '11942', '11943', '11944', '11945', '11946', '11947', '11948', '11949', '11950', '11951', '11952', '11953', '11954', '11955', '11956', '11957', '11958', '11959', '11960', '11961', '11962', '11963', '11964', '11965', '11966', '11967', '11968', '11969', '11970', '11971', '11972', '11973', '11974', '11975', '11976', '11977', '11978', '11979', '11980', '11981', '11982', '11983', '11984', '11985', '11986', '11987', '11988', '11989', '11990', '11991', '11992', '11993', '11994', '11995', '11996', '11997', '11998', '11999', '12000', '12001', '12002', '12003', '12004', '12005', '12006', '12007', '12008', '12009', '12010', '12011', '12012', '12013', '12014', '12015', '12016', '12017', '12018', '12019', '12020', '12021', '12022', '12023', '12024', ...], 'CAEN-CARPIQUET': ['8109', '8110', '8111', '8112', '8113', '8114', '8115', '8116', '8117', '8118', '8119', '8120', '8121', '8122', '8123', '8124', '8125', '8126', '8127', '8128', '8129', '8130', '8131', '8132', '8133', '8134', '8135', '8136', '8137', '8138', '8139', '8140', '8141', '8142', '8143', '8144', '8145', '8146', '8147', '8148', '8149', '8150', '8151', '8152', '8153', '8154', '8155', '8156', '8157', '8158', '8159', '8160', '8161', '8162', '8163', '8164', '8165', '8166', '8167', '8168', '8169', '8170', '8171', '8172', '8173', '8174', '8175', '8176', '8177', '8178', '8179', '8180', '8181', '8182', '8183', '8184', '8185', '8186', '8187', '8188', '8189', '8190', '8191', '8192', '8193', '8194', '8195', '8196', '8197', '8198', '8199', '8200', '8201', '8202', '8203', '8205', '8206', '8207', '8208', '8209', ...], 'CARCASSONNE': ['5724', '5725', '5726', '5727', '5728', '5729', '5730', '5731', '5732', '5733', '5734', '5735', '5736', '5737', '5738', '5739', '5740', '5741', '5742', '5743', '5744', '5745', '5746', '5747', '5748', '5749', '5750', '5751', '5752', '5753', '5754', '5755', '5756', '5757', '5758', '5759', '5760', '5761', '5762', '5763', '5764', '5765', '5766', '5767', '5768', '5769', '5770', '5771', '5772', '5773', '5774', '5775', '5776', '5777', '5778', '5779', '5780', '5781', '5782', '5783', '5784', '5785', '5786', '5787', '5788', '5789', '5790', '5791', '5792', '5793', '5794', '5795', '5796', '5797', '5798', '5799', '5800', '5801', '5802', '5803', '5804', '5805', '5806', '5807', '5808', '5809', '5810', '5811', '5812', '5813', '5814', '5815', '5816', '5817', '5818', '5819', '5820', '5821', '5822', '5823', ...], 'CAZAUX': ['20988', '20989', '20990', '20991', '20992', '20993', '20994', '20995', '20996', '20997', '20998', '20999', '21000', '21001', '21002', '21003', '21004', '21005', '21006', '21007', '21008', '21009', '21010', '21011', '21012', '21013', '21014', '21015', '21016', '21017', '21018', '21019', '21020', '21021', '21022', '21023', '21024', '21025', '21026', '21027', '21028', '21029', '21030', '21031', '21032', '21033', '21034', '21035', '21036', '21037', '21038', '21039', '21040', '21041', '21042', '21043', '21044', '21045', '21046', '21047', '21048', '21049', '21050', '21051', '21052', '21053', '21054', '21055', '21056', '21057', '21058', '21059', '21060', '21061', '21062', '21063', '21064', '21065', '21066', '21067', '21068', '21069', '21070', '21071', '21072', '21073', '21074', '21075', '21076', '21077', '21078', '21079', '21080', '21081', '21082', '21083', '21084', '21085', '21086', '21087', ...], 'CHALON-CHAMPFO': ['41022', '41023', '41024', '41025', '41026', '41027', '41028', '41029', '41030', '41031', '41032', '41033', '41034', '41035', '41036', '41037', '41038', '41039', '41040', '41041', '41042', '41043', '41044', '41045', '41046', '41047', '41048', '41049', '41050', '41051', '41052', '41053', '41054', '41055', '41056', '41057', '41058', '41059', '41060', '41061', '41062', '41063', '41064', '41065', '41066', '41067', '41068', '41069', '41070', '41071', '41072', '41073', '41074', '41075', '41076', '41077', '41078', '41079', '41080', '41081', '41082', '41083', '41084', '41085', '41086', '41087', '41088', '41089', '41090', '41091', '41092', '41093', '41094', '41095', '41096', '41097', '41098', '41099', '41100', '41101', '41102', '41103', '41104', '41105', '41106', '41107', '41108', '41109', '41110', '41111', '41112', '41113', '41114', '41115', '41116', '41117', '41118', '41119', '41120', '41121', ...], 'CHAMBERY-AIX': ['42453', '42454', '42455', '42456', '42457', '42458', '42459', '42460', '42461', '42462', '42463', '42464', '42465', '42466', '42467', '42468', '42469', '42470', '42471', '42472', '42473', '42474', '42475', '42476', '42477', '42478', '42479', '42480', '42481', '42482', '42483', '42484', '42485', '42486', '42487', '42488', '42489', '42490', '42491', '42492', '42493', '42494', '42495', '42496', '42497', '42498', '42499', '42500', '42501', '42502', '42503', '42504', '42505', '42506', '42507', '42508', '42509', '42510', '42511', '42512', '42513', '42514', '42515', '42516', '42517', '42518', '42519', '42520', '42521', '42522', '42523', '42524', '42525', '42526', '42527', '42528', '42529', '42530', '42531', '42532', '42533', '42534', '42535', '42536', '42537', '42538', '42539', '42540', '42541', '42542', '42543', '42544', '42545', '42546', '42547', '42548', '42549', '42550', '42551', '42552', ...], 'CHARLEVILLE-MEZ': ['4293', '4294', '4295', '4296', '4297', '4298', '4299', '4300', '4301', '4302', '4303', '4304', '4305', '4306', '4307', '4308', '4309', '4310', '4311', '4312', '4313', '4314', '4315', '4316', '4317', '4318', '4319', '4320', '4321', '4322', '4323', '4324', '4325', '4326', '4327', '4328', '4329', '4330', '4331', '4332', '4333', '4334', '4335', '4336', '4337', '4338', '4339', '4340', '4341', '4342', '4343', '4344', '4345', '4346', '4347', '4348', '4349', '4350', '4351', '4352', '4353', '4354', '4355', '4356', '4357', '4358', '4359', '4360', '4361', '4362', '4363', '4364', '4365', '4366', '4367', '4368', '4369', '4370', '4371', '4372', '4373', '4374', '4375', '4376', '4377', '4378', '4379', '4380', '4381', '4382', '4383', '4384', '4385', '4386', '4387', '4388', '4389', '4390', '4391', '4392', ...], 'CHARTRES': ['17172', '17173', '17174', '17175', '17176', '17177', '17178', '17179', '17180', '17181', '17182', '17183', '17184', '17185', '17186', '17187', '17188', '17189', '17190', '17191', '17192', '17193', '17194', '17195', '17196', '17197', '17198', '17199', '17200', '17201', '17202', '17203', '17204', '17205', '17206', '17207', '17208', '17209', '17210', '17211', '17212', '17213', '17214', '17215', '17216', '17217', '17218', '17219', '17220', '17221', '17222', '17223', '17224', '17225', '17226', '17227', '17228', '17229', '17230', '17231', '17232', '17233', '17234', '17235', '17236', '17237', '17238', '17239', '17240', '17241', '17242', '17243', '17244', '17245', '17246', '17247', '17248', '17249', '17250', '17251', '17252', '17253', '17254', '17255', '17256', '17257', '17258', '17259', '17260', '17261', '17262', '17263', '17264', '17265', '17266', '17267', '17268', '17269', '17270', '17271', ...], 'CHATEAUROUX  DEOLS': ['22896', '22897', '22898', '22899', '22900', '22901', '22902', '22903', '22904', '22905', '22906', '22907', '22908', '22909', '22910', '22911', '22912', '22913', '22914', '22915', '22916', '22917', '22918', '22919', '22920', '22921', '22922', '22923', '22924', '22925', '22926', '22927', '22928', '22929', '22930', '22931', '22932', '22933', '22934', '22935', '22936', '22937', '22938', '22939', '22940', '22941', '22942', '22943', '22944', '22945', '22946', '22947', '22948', '22949', '22950', '22951', '22952', '22953', '22954', '22955', '22956', '22957', '22958', '22959', '22960', '22961', '22962', '22963', '22964', '22965', '22966', '22967', '22968', '22969', '22970', '22971', '22972', '22973', '22974', '22975', '22976', '22977', '22978', '22979', '22980', '22981', '22982', '22983', '22984', '22985', '22986', '22987', '22988', '22989', '22990', '22991', '22992', '22993', '22994', '22995', ...], 'CLERMONT-FD': ['35775', '35776', '35777', '35778', '35779', '35780', '35781', '35782', '35783', '35784', '35785', '35786', '35787', '35788', '35789', '35790', '35791', '35792', '35793', '35794', '35795', '35796', '35797', '35798', '35799', '35800', '35801', '35802', '35803', '35804', '35805', '35806', '35807', '35808', '35809', '35810', '35811', '35812', '35813', '35814', '35815', '35816', '35817', '35818', '35819', '35820', '35821', '35822', '35823', '35824', '35825', '35826', '35827', '35828', '35829', '35830', '35831', '35832', '35833', '35834', '35835', '35836', '35837', '35838', '35839', '35840', '35841', '35842', '35843', '35844', '35845', '35846', '35847', '35848', '35849', '35850', '35851', '35852', '35853', '35854', '35855', '35856', '35857', '35858', '35859', '35860', '35861', '35862', '35863', '35864', '35865', '35866', '35867', '35868', '35869', '35870', '35871', '35872', '35873', '35874', ...], 'COGNAC': ['9540', '9541', '9542', '9543', '9544', '9545', '9546', '9547', '9548', '9549', '9550', '9551', '9552', '9553', '9554', '9555', '9556', '9557', '9558', '9559', '9560', '9561', '9562', '9563', '9564', '9565', '9566', '9567', '9568', '9569', '9570', '9571', '9572', '9573', '9574', '9575', '9576', '9577', '9578', '9579', '9580', '9581', '9582', '9583', '9584', '9585', '9586', '9587', '9588', '9589', '9590', '9591', '9592', '9593', '9594', '9595', '9596', '9597', '9598', '9599', '9600', '9601', '9602', '9603', '9604', '9605', '9606', '9607', '9608', '9609', '9610', '9611', '9612', '9613', '9614', '9615', '9616', '9617', '9618', '9619', '9620', '9621', '9622', '9623', '9624', '9625', '9626', '9627', '9628', '9629', '9630', '9631', '9632', '9633', '9634', '9635', '9636', '9637', '9638', '9639', ...], 'COLMAR-MEYENHEIM': ['38637', '38638', '38639', '38640', '38641', '38642', '38643', '38644', '38645', '38646', '38647', '38648', '38649', '38650', '38651', '38652', '38653', '38654', '38655', '38656', '38657', '38658', '38659', '38660', '38661', '38662', '38663', '38664', '38665', '38666', '38667', '38668', '38669', '38670', '38671', '38672', '38673', '38674', '38675', '38676', '38677', '38678', '38679', '38680', '38681', '38682', '38683', '38684', '38685', '38686', '38687', '38688', '38689', '38690', '38691', '38692', '38693', '38694', '38695', '38696', '38697', '38698', '38699', '38700', '38701', '38702', '38703', '38704', '38705', '38706', '38707', '38708', '38709', '38710', '38711', '38712', '38713', '38714', '38715', '38716', '38717', '38718', '38719', '38720', '38721', '38722', '38723', '38724', '38725', '38726', '38727', '38728', '38729', '38730', '38731', '38732', '38733', '38734', '38735', '38736', ...], 'COS': ['4770', '4771', '4772', '4773', '4774', '4775', '4776', '4777', '4778', '4779', '4780', '4781', '4782', '4783', '4784', '4785', '4786', '4787', '4788', '4789', '4790', '4791', '4792', '4793', '4794', '4795', '4796', '4797', '4798', '4799', '4800', '4801', '4802', '4803', '4804', '4805', '4806', '4807', '4808', '4809', '4810', '4811', '4812', '4813', '4814', '4815', '4816', '4817', '4818', '4819', '4820', '4821', '4822', '4823', '4824', '4825', '4826', '4827', '4828', '4829', '4830', '4831', '4832', '4833', '4834', '4835', '4836', '4837', '4838', '4839', '4840', '4841', '4842', '4843', '4844', '4845', '4846', '4847', '4848', '4849', '4850', '4851', '4852', '4853', '4854', '4855', '4856', '4857', '4858', '4859', '4860', '4861', '4862', '4863', '4864', '4865', '4866', '4867', '4868', '4869', ...], 'COULOUNIEIX': ['15264', '15265', '15266', '15267', '15268', '15269', '15270', '15271', '15272', '15273', '15274', '15275', '15276', '15277', '15278', '15279', '15280', '15281', '15282', '15283', '15284', '15285', '15286', '15287', '15288', '15289', '15290', '15291', '15292', '15293', '15294', '15295', '15296', '15297', '15298', '15299', '15300', '15301', '15302', '15303', '15304', '15305', '15306', '15307', '15308', '15309', '15310', '15311', '15312', '15313', '15314', '15315', '15316', '15317', '15318', '15319', '15320', '15321', '15322', '15323', '15324', '15325', '15326', '15327', '15328', '15329', '15330', '15331', '15332', '15333', '15334', '15335', '15336', '15337', '15338', '15339', '15340', '15341', '15342', '15343', '15344', '15345', '15346', '15347', '15348', '15349', '15350', '15351', '15352', '15353', '15354', '15355', '15356', '15357', '15358', '15359', '15360', '15361', '15362', '15363', ...], 'COUROUVRE': ['31482', '31483', '31484', '31485', '31486', '31487', '31488', '31489', '31490', '31491', '31492', '31493', '31494', '31495', '31496', '31497', '31498', '31499', '31500', '31501', '31502', '31503', '31504', '31505', '31506', '31507', '31508', '31509', '31510', '31511', '31512', '31513', '31514', '31515', '31516', '31517', '31518', '31519', '31520', '31521', '31522', '31523', '31524', '31525', '31526', '31527', '31528', '31529', '31530', '31531', '31532', '31533', '31534', '31535', '31536', '31537', '31538', '31539', '31540', '31541', '31542', '31543', '31544', '31545', '31546', '31547', '31548', '31549', '31550', '31551', '31552', '31553', '31554', '31555', '31556', '31557', '31558', '31559', '31560', '31561', '31562', '31563', '31564', '31565', '31566', '31567', '31568', '31569', '31570', '31571', '31572', '31573', '31574', '31575', '31576', '31577', '31578', '31579', '31580', '31581', ...], 'DIEPPE': ['44361', '44362', '44363', '44364', '44365', '44366', '44367', '44368', '44369', '44370', '44371', '44372', '44373', '44374', '44375', '44376', '44377', '44378', '44379', '44380', '44381', '44382', '44383', '44384', '44385', '44386', '44387', '44388', '44389', '44390', '44391', '44392', '44393', '44394', '44395', '44396', '44397', '44398', '44399', '44400', '44401', '44402', '44403', '44404', '44405', '44406', '44407', '44408', '44409', '44410', '44411', '44412', '44413', '44417', '44421', '44422', '44423', '44424', '44425', '44426', '44427', '44428', '44429', '44430', '44431', '44432', '44433', '44434', '44435', '44436', '44437', '44438', '44439', '44440', '44441', '44442', '44443', '44444', '44445', '44446', '44447', '44448', '44449', '44450', '44451', '44452', '44453', '44454', '44455', '44456', '44457', '44458', '44459', '44460', '44461', '44462', '44463', '44464', '44465', '44466', ...], 'DIGNE LES BAINS': ['1908', '1909', '1910', '1911', '1912', '1913', '1914', '1915', '1916', '1917', '1918', '1919', '1920', '1921', '1922', '1923', '1924', '1925', '1926', '1927', '1928', '1929', '1930', '1931', '1932', '1933', '1934', '1935', '1936', '1937', '1938', '1939', '1940', '1941', '1942', '1943', '1944', '1945', '1946', '1947', '1948', '1949', '1950', '1951', '1952', '1953', '1954', '1955', '1956', '1957', '1958', '1959', '1960', '1961', '1962', '1963', '1964', '1965', '1966', '1967', '1968', '1969', '1970', '1971', '1972', '1973', '1974', '1975', '1976', '1977', '1978', '1979', '1980', '1981', '1982', '1983', '1984', '1985', '1986', '1987', '1988', '1989', '1990', '1991', '1992', '1993', '1994', '1995', '1996', '1997', '1998', '1999', '2000', '2001', '2002', '2003', '2004', '2005', '2006', '2007', ...], 'DIJON-LONGVIC': ['13833', '13834', '13835', '13836', '13837', '13838', '13839', '13840', '13841', '13842', '13843', '13844', '13847', '13848', '13849', '13850', '13851', '13852', '13853', '13854', '13855', '13856', '13857', '13858', '13859', '13860', '13861', '13862', '13863', '13864', '13865', '13866', '13867', '13868', '13869', '13870', '13871', '13872', '13873', '13874', '13875', '13876', '13877', '13878', '13879', '13880', '13881', '13882', '13883', '13884', '13885', '13886', '13887', '13888', '13889', '13890', '13891', '13892', '13893', '13894', '13895', '13896', '13897', '13898', '13899', '13900', '13901', '13902', '13903', '13904', '13905', '13906', '13907', '13908', '13909', '13910', '13911', '13912', '13913', '13914', '13915', '13916', '13917', '13918', '13919', '13920', '13921', '13922', '13923', '13924', '13925', '13926', '13927', '13928', '13929', '13930', '13931', '13932', '13933', '13934', ...], 'DINARD': ['21942', '21943', '21944', '21945', '21946', '21947', '21948', '21949', '21950', '21951', '21952', '21953', '21954', '21955', '21956', '21957', '21958', '21959', '21960', '21961', '21962', '21963', '21964', '21965', '21966', '21967', '21968', '21969', '21970', '21971', '21972', '21973', '21974', '21975', '21976', '21977', '21978', '21979', '21980', '21981', '21982', '21983', '21984', '21985', '21986', '21987', '21988', '21989', '21990', '21991', '21992', '21993', '21994', '21995', '21996', '21997', '21998', '21999', '22000', '22001', '22002', '22003', '22004', '22005', '22006', '22007', '22008', '22009', '22010', '22011', '22012', '22013', '22014', '22015', '22016', '22017', '22018', '22019', '22020', '22021', '22022', '22023', '22024', '22025', '22026', '22027', '22028', '22029', '22030', '22031', '22032', '22033', '22034', '22035', '22036', '22037', '22038', '22039', '22040', '22041', ...], 'DORANS': ['51516', '51517', '51518', '51519', '51520', '51521', '51522', '51523', '51524', '51525', '51526', '51527', '51528', '51529', '51530', '51531', '51532', '51533', '51534', '51535', '51536', '51537', '51538', '51539', '51540', '51541', '51542', '51543', '51544', '51545', '51546', '51547', '51548', '51549', '51550', '51551', '51552', '51553', '51554', '51555', '51556', '51557', '51558', '51559', '51560', '51561', '51562', '51563', '51564', '51565', '51566', '51567', '51568', '51569', '51570', '51571', '51572', '51573', '51574', '51575', '51576', '51577', '51578', '51579', '51580', '51581', '51582', '51583', '51584', '51585', '51586', '51587', '51588', '51589', '51590', '51591', '51592', '51593', '51594', '51595', '51596', '51597', '51598', '51599', '51600', '51601', '51602', '51603', '51604', '51605', '51606', '51607', '51608', '51609', '51610', '51611', '51612', '51613', '51614', '51615', ...], 'DUNKERQUE': ['33390', '33391', '33392', '33393', '33394', '33395', '33396', '33397', '33398', '33399', '33400', '33401', '33402', '33403', '33404', '33405', '33406', '33407', '33408', '33409', '33410', '33411', '33412', '33413', '33414', '33415', '33416', '33417', '33418', '33419', '33424', '33425', '33426', '33427', '33428', '33429', '33430', '33431', '33432', '33433', '33434', '33435', '33436', '33437', '33438', '33439', '33440', '33441', '33442', '33443', '33444', '33445', '33446', '33447', '33448', '33449', '33450', '33451', '33452', '33453', '33454', '33455', '33456', '33457', '33458', '33459', '33460', '33461', '33462', '33463', '33464', '33465', '33466', '33467', '33468', '33469', '33470', '33471', '33472', '33473', '33474', '33475', '33476', '33477', '33478', '33479', '33480', '33481', '33482', '33483', '33484', '33485', '33486', '33487', '33488', '33489', '33490', '33491', '33492', '33493', ...], 'EMBRUN': ['2385', '2386', '2387', '2388', '2389', '2390', '2391', '2392', '2393', '2394', '2395', '2396', '2397', '2398', '2399', '2400', '2401', '2402', '2403', '2404', '2405', '2406', '2407', '2408', '2409', '2410', '2411', '2412', '2413', '2414', '2415', '2416', '2417', '2418', '2419', '2420', '2421', '2422', '2423', '2424', '2425', '2426', '2427', '2428', '2429', '2430', '2431', '2432', '2433', '2434', '2435', '2436', '2437', '2438', '2439', '2440', '2441', '2442', '2443', '2444', '2445', '2446', '2447', '2448', '2449', '2450', '2451', '2452', '2453', '2454', '2455', '2456', '2457', '2458', '2459', '2460', '2461', '2462', '2463', '2464', '2465', '2466', '2467', '2468', '2469', '2470', '2471', '2472', '2473', '2474', '2475', '2476', '2477', '2478', '2479', '2480', '2481', '2482', '2483', '2484', ...], 'EPINAL': ['50562', '50563', '50564', '50565', '50566', '50567', '50568', '50569', '50570', '50571', '50572', '50573', '50574', '50575', '50576', '50577', '50578', '50579', '50580', '50581', '50582', '50583', '50584', '50585', '50588', '50589', '50590', '50591', '50592', '50593', '50594', '50595', '50596', '50597', '50598', '50599', '50600', '50601', '50602', '50603', '50604', '50605', '50606', '50607', '50608', '50609', '50610', '50611', '50612', '50613', '50614', '50615', '50616', '50617', '50618', '50619', '50620', '50621', '50622', '50623', '50624', '50625', '50626', '50627', '50628', '50629', '50630', '50631', '50632', '50633', '50634', '50635', '50636', '50637', '50638', '50639', '50640', '50641', '50642', '50643', '50644', '50645', '50646', '50647', '50648', '50649', '50650', '50651', '50652', '50653', '50654', '50655', '50656', '50657', '50658', '50659', '50660', '50661', '50662', '50663', ...], 'EVREUX-HUEST': ['16695', '16696', '16697', '16698', '16699', '16700', '16701', '16702', '16703', '16704', '16705', '16706', '16707', '16708', '16709', '16710', '16711', '16712', '16713', '16714', '16715', '16716', '16717', '16718', '16719', '16720', '16721', '16722', '16723', '16724', '16725', '16726', '16727', '16728', '16729', '16730', '16731', '16732', '16733', '16734', '16735', '16736', '16737', '16738', '16739', '16740', '16741', '16742', '16743', '16744', '16745', '16746', '16747', '16748', '16749', '16750', '16751', '16752', '16753', '16754', '16755', '16756', '16757', '16758', '16759', '16760', '16761', '16762', '16763', '16764', '16765', '16766', '16767', '16768', '16769', '16770', '16771', '16772', '16773', '16774', '16775', '16776', '16777', '16778', '16779', '16780', '16781', '16782', '16783', '16784', '16785', '16786', '16787', '16788', '16789', '16790', '16791', '16792', '16793', '16794', ...], 'FIGARI': ['12879', '12880', '12881', '12882', '12883', '12884', '12885', '12886', '12887', '12888', '12889', '12890', '12891', '12892', '12893', '12894', '12895', '12896', '12897', '12898', '12899', '12900', '12901', '12902', '12903', '12904', '12905', '12906', '12907', '12908', '12909', '12910', '12911', '12912', '12913', '12914', '12915', '12916', '12917', '12918', '12919', '12920', '12921', '12922', '12923', '12924', '12925', '12926', '12927', '12928', '12929', '12930', '12931', '12932', '12933', '12934', '12935', '12936', '12937', '12938', '12939', '12940', '12941', '12942', '12943', '12944', '12945', '12946', '12947', '12948', '12949', '12950', '12951', '12952', '12953', '12954', '12955', '12956', '12957', '12958', '12959', '12960', '12961', '12962', '12963', '12964', '12965', '12966', '12967', '12968', '12969', '12970', '12971', '12972', '12973', '12974', '12975', '12976', '12977', '12978', ...], 'GAP': ['2862', '2863', '2864', '2865', '2866', '2867', '2868', '2869', '2870', '2871', '2872', '2873', '2874', '2875', '2876', '2877', '2878', '2879', '2880', '2881', '2882', '2883', '2884', '2885', '2886', '2887', '2888', '2889', '2890', '2891', '2892', '2893', '2894', '2895', '2896', '2897', '2898', '2899', '2900', '2901', '2902', '2903', '2904', '2905', '2906', '2907', '2908', '2909', '2910', '2911', '2912', '2913', '2914', '2915', '2916', '2917', '2918', '2919', '2920', '2921', '2922', '2923', '2924', '2925', '2926', '2927', '2928', '2929', '2930', '2931', '2932', '2933', '2934', '2935', '2936', '2937', '2938', '2939', '2940', '2941', '2942', '2943', '2944', '2945', '2946', '2947', '2948', '2949', '2950', '2951', '2952', '2953', '2954', '2955', '2956', '2957', '2958', '2959', '2960', '2961', ...], 'GRENOBLE-ST GEOIRS': ['23850', '23851', '23852', '23853', '23854', '23855', '23856', '23857', '23858', '23859', '23860', '23861', '23862', '23863', '23864', '23865', '23866', '23867', '23868', '23869', '23870', '23871', '23872', '23873', '23874', '23875', '23876', '23877', '23878', '23879', '23880', '23881', '23882', '23883', '23884', '23885', '23886', '23887', '23888', '23889', '23890', '23891', '23892', '23893', '23894', '23895', '23896', '23897', '23898', '23899', '23900', '23901', '23902', '23903', '23904', '23905', '23906', '23907', '23908', '23909', '23910', '23911', '23912', '23913', '23914', '23915', '23916', '23917', '23918', '23919', '23920', '23921', '23922', '23923', '23924', '23925', '23926', '23927', '23928', '23929', '23930', '23931', '23932', '23933', '23934', '23935', '23936', '23937', '23938', '23939', '23940', '23941', '23942', '23943', '23944', '23945', '23946', '23947', '23948', '23949', ...], 'GUERET-ST LAURENT': ['14787', '14788', '14789', '14790', '14791', '14792', '14793', '14794', '14795', '14796', '14797', '14798', '14799', '14800', '14801', '14802', '14803', '14804', '14805', '14806', '14807', '14808', '14809', '14810', '14811', '14812', '14813', '14814', '14815', '14816', '14817', '14818', '14819', '14820', '14821', '14822', '14823', '14824', '14825', '14826', '14827', '14828', '14829', '14830', '14831', '14832', '14833', '14834', '14835', '14836', '14837', '14838', '14839', '14840', '14841', '14842', '14843', '14844', '14845', '14846', '14847', '14848', '14849', '14850', '14851', '14852', '14853', '14854', '14855', '14856', '14857', '14858', '14859', '14860', '14861', '14862', '14863', '14864', '14865', '14866', '14867', '14868', '14869', '14870', '14871', '14872', '14873', '14874', '14875', '14876', '14877', '14878', '14879', '14880', '14881', '14882', '14883', '14884', '14885', '14886', ...], 'HYERES': ['47700', '47701', '47702', '47703', '47704', '47705', '47706', '47707', '47708', '47709', '47710', '47711', '47712', '47713', '47714', '47715', '47716', '47717', '47718', '47719', '47720', '47721', '47722', '47723', '47724', '47725', '47726', '47727', '47728', '47729', '47730', '47731', '47732', '47733', '47734', '47735', '47736', '47737', '47738', '47739', '47740', '47741', '47742', '47743', '47744', '47745', '47746', '47747', '47748', '47749', '47750', '47751', '47752', '47753', '47754', '47755', '47756', '47757', '47758', '47759', '47760', '47761', '47762', '47763', '47764', '47765', '47766', '47767', '47768', '47769', '47770', '47771', '47772', '47773', '47774', '47775', '47776', '47777', '47778', '47779', '47780', '47781', '47782', '47783', '47784', '47785', '47786', '47787', '47788', '47789', '47790', '47791', '47792', '47793', '47794', '47795', '47796', '47797', '47798', '47799', ...], 'LA ROCHE SUR YON': ['49131', '49132', '49133', '49134', '49135', '49136', '49137', '49138', '49139', '49140', '49141', '49142', '49143', '49144', '49145', '49146', '49147', '49148', '49149', '49150', '49151', '49152', '49153', '49154', '49155', '49156', '49157', '49158', '49159', '49160', '49161', '49162', '49163', '49164', '49165', '49166', '49167', '49168', '49169', '49170', '49171', '49172', '49173', '49174', '49175', '49176', '49177', '49178', '49179', '49180', '49181', '49182', '49183', '49184', '49185', '49186', '49187', '49188', '49189', '49190', '49191', '49192', '49193', '49194', '49195', '49196', '49197', '49198', '49199', '49200', '49201', '49202', '49203', '49204', '49205', '49206', '49207', '49208', '49209', '49210', '49211', '49212', '49213', '49214', '49215', '49216', '49217', '49218', '49219', '49220', '49221', '49222', '49223', '49224', '49225', '49226', '49227', '49228', '49229', '49230', ...], 'LA ROCHELLE-ILE DE RE': ['10017', '10018', '10019', '10020', '10021', '10022', '10023', '10024', '10025', '10026', '10027', '10028', '10029', '10030', '10031', '10032', '10033', '10034', '10035', '10036', '10037', '10038', '10039', '10040', '10041', '10042', '10043', '10044', '10045', '10046', '10047', '10048', '10049', '10050', '10051', '10052', '10053', '10054', '10055', '10056', '10057', '10058', '10059', '10060', '10061', '10062', '10063', '10064', '10065', '10066', '10067', '10068', '10069', '10070', '10071', '10072', '10073', '10074', '10075', '10076', '10077', '10078', '10079', '10080', '10081', '10082', '10083', '10084', '10085', '10086', '10087', '10088', '10089', '10090', '10091', '10092', '10093', '10094', '10095', '10096', '10097', '10098', '10099', '10100', '10101', '10102', '10103', '10104', '10105', '10106', '10107', '10108', '10109', '10110', '10111', '10112', '10113', '10114', '10115', '10116', ...], 'LANAS SYN': ['3816', '3817', '3818', '3819', '3820', '3821', '3822', '3823', '3824', '3825', '3826', '3827', '3828', '3829', '3830', '3831', '3832', '3833', '3834', '3835', '3836', '3837', '3838', '3839', '3840', '3841', '3842', '3843', '3844', '3845', '3846', '3847', '3848', '3849', '3850', '3851', '3852', '3853', '3854', '3855', '3856', '3857', '3858', '3859', '3860', '3861', '3862', '3863', '3864', '3865', '3866', '3867', '3868', '3869', '3870', '3871', '3872', '3873', '3874', '3875', '3876', '3877', '3878', '3879', '3880', '3881', '3882', '3883', '3884', '3885', '3886', '3887', '3888', '3889', '3890', '3891', '3892', '3893', '3894', '3895', '3896', '3897', '3898', '3899', '3900', '3901', '3902', '3903', '3904', '3905', '3906', '3907', '3908', '3909', '3910', '3911', '3912', '3913', '3914', '3915', ...], 'LAVAL-ETRONNIER': ['30051', '30052', '30053', '30054', '30055', '30056', '30057', '30058', '30059', '30060', '30061', '30062', '30063', '30064', '30065', '30066', '30067', '30068', '30069', '30070', '30071', '30072', '30073', '30074', '30075', '30076', '30077', '30078', '30079', '30080', '30081', '30082', '30083', '30084', '30085', '30086', '30087', '30088', '30089', '30090', '30091', '30092', '30093', '30094', '30095', '30096', '30097', '30098', '30099', '30100', '30101', '30102', '30103', '30104', '30105', '30106', '30107', '30108', '30109', '30110', '30111', '30112', '30113', '30114', '30115', '30116', '30117', '30118', '30119', '30120', '30121', '30122', '30123', '30124', '30125', '30126', '30127', '30128', '30129', '30130', '30131', '30132', '30133', '30134', '30135', '30136', '30137', '30138', '30139', '30140', '30141', '30142', '30143', '30144', '30145', '30146', '30147', '30148', '30149', '30150', ...], 'LE MANS': ['41976', '41977', '41978', '41979', '41980', '41981', '41982', '41983', '41984', '41985', '41986', '41987', '41988', '41989', '41990', '41991', '41992', '41993', '41994', '41995', '41996', '41997', '41998', '41999', '42000', '42001', '42002', '42003', '42004', '42005', '42006', '42007', '42008', '42009', '42010', '42011', '42012', '42013', '42014', '42015', '42016', '42017', '42018', '42019', '42020', '42021', '42022', '42023', '42024', '42025', '42026', '42027', '42028', '42029', '42030', '42031', '42032', '42033', '42034', '42035', '42036', '42037', '42038', '42039', '42040', '42041', '42042', '42043', '42044', '42045', '42046', '42047', '42048', '42049', '42050', '42051', '42052', '42053', '42054', '42055', '42056', '42057', '42058', '42059', '42060', '42061', '42062', '42063', '42064', '42065', '42066', '42067', '42068', '42069', '42070', '42071', '42072', '42073', '42074', '42075', ...], 'LE MONTAT': ['27666', '27667', '27668', '27669', '27670', '27671', '27672', '27673', '27674', '27675', '27676', '27677', '27678', '27679', '27680', '27681', '27682', '27683', '27684', '27685', '27686', '27687', '27688', '27689', '27690', '27691', '27692', '27693', '27694', '27695', '27696', '27697', '27698', '27699', '27700', '27701', '27702', '27703', '27704', '27705', '27706', '27707', '27708', '27709', '27710', '27711', '27712', '27713', '27714', '27715', '27716', '27717', '27718', '27719', '27720', '27721', '27722', '27723', '27724', '27725', '27726', '27727', '27728', '27729', '27730', '27731', '27732', '27733', '27734', '27735', '27736', '27737', '27738', '27739', '27740', '27741', '27742', '27743', '27744', '27745', '27746', '27747', '27748', '27749', '27750', '27751', '27752', '27753', '27754', '27755', '27756', '27757', '27758', '27759', '27760', '27761', '27762', '27763', '27764', '27765', ...], 'LE PUY-LOUDES': ['26235', '26236', '26237', '26238', '26239', '26240', '26241', '26242', '26243', '26244', '26245', '26246', '26247', '26248', '26249', '26250', '26251', '26252', '26253', '26254', '26255', '26256', '26257', '26258', '26259', '26260', '26261', '26262', '26263', '26264', '26265', '26266', '26267', '26268', '26269', '26270', '26271', '26272', '26273', '26274', '26275', '26276', '26277', '26278', '26279', '26280', '26281', '26282', '26283', '26284', '26285', '26286', '26287', '26288', '26289', '26290', '26291', '26292', '26293', '26294', '26295', '26296', '26297', '26298', '26299', '26300', '26301', '26302', '26303', '26304', '26305', '26306', '26307', '26308', '26309', '26310', '26311', '26312', '26313', '26314', '26315', '26316', '26317', '26318', '26319', '26320', '26321', '26322', '26323', '26324', '26325', '26326', '26327', '26328', '26329', '26330', '26331', '26332', '26333', '26334', ...], 'LILLE-LESQUIN': ['33867', '33868', '33869', '33870', '33871', '33872', '33873', '33874', '33875', '33876', '33877', '33878', '33879', '33880', '33881', '33882', '33883', '33884', '33885', '33886', '33887', '33888', '33889', '33890', '33891', '33892', '33893', '33894', '33895', '33896', '33897', '33898', '33899', '33900', '33901', '33902', '33903', '33904', '33905', '33906', '33907', '33908', '33909', '33910', '33911', '33912', '33913', '33914', '33915', '33916', '33917', '33918', '33919', '33920', '33921', '33922', '33923', '33924', '33925', '33926', '33927', '33928', '33929', '33930', '33931', '33932', '33933', '33934', '33935', '33936', '33937', '33938', '33939', '33940', '33941', '33942', '33943', '33944', '33945', '33946', '33947', '33948', '33949', '33950', '33951', '33952', '33953', '33954', '33955', '33956', '33957', '33958', '33959', '33960', '33961', '33962', '33963', '33964', '33965', '33966', ...], 'LIMOGES-BELLEGARDE': ['50085', '50086', '50087', '50088', '50089', '50090', '50091', '50092', '50093', '50094', '50095', '50096', '50097', '50098', '50099', '50100', '50101', '50102', '50103', '50104', '50105', '50106', '50107', '50108', '50109', '50110', '50111', '50112', '50113', '50114', '50115', '50116', '50117', '50118', '50119', '50120', '50121', '50122', '50123', '50124', '50125', '50126', '50127', '50128', '50129', '50130', '50131', '50132', '50133', '50134', '50135', '50136', '50137', '50138', '50139', '50140', '50141', '50142', '50143', '50144', '50145', '50146', '50147', '50148', '50149', '50150', '50151', '50152', '50153', '50154', '50157', '50158', '50159', '50160', '50161', '50162', '50163', '50164', '50165', '50166', '50167', '50168', '50169', '50170', '50171', '50172', '50173', '50174', '50175', '50176', '50177', '50178', '50179', '50180', '50181', '50182', '50183', '50184', '50185', '50186', ...], 'LORIENT-LANN BIHOUE': ['31959', '31960', '31961', '31962', '31963', '31964', '31965', '31966', '31967', '31968', '31969', '31970', '31971', '31972', '31973', '31974', '31975', '31976', '31977', '31978', '31979', '31980', '31981', '31982', '31983', '31984', '31985', '31986', '31987', '31988', '31989', '31990', '31991', '31992', '31993', '31994', '31995', '31996', '31997', '31998', '31999', '32000', '32001', '32002', '32003', '32004', '32005', '32006', '32007', '32008', '32009', '32010', '32011', '32012', '32013', '32014', '32015', '32016', '32017', '32018', '32019', '32020', '32021', '32022', '32023', '32024', '32025', '32026', '32027', '32028', '32029', '32030', '32031', '32032', '32033', '32034', '32035', '32036', '32037', '32038', '32039', '32040', '32041', '32042', '32043', '32044', '32045', '32046', '32047', '32048', '32049', '32050', '32051', '32052', '32053', '32054', '32055', '32056', '32057', '32058', ...], 'LUXEUIL': ['40545', '40546', '40547', '40548', '40549', '40550', '40551', '40552', '40553', '40554', '40555', '40556', '40557', '40558', '40559', '40560', '40561', '40562', '40563', '40564', '40565', '40566', '40567', '40568', '40569', '40570', '40571', '40572', '40573', '40574', '40575', '40576', '40577', '40578', '40579', '40580', '40581', '40582', '40583', '40584', '40585', '40586', '40587', '40588', '40589', '40590', '40591', '40592', '40593', '40594', '40595', '40596', '40597', '40598', '40599', '40600', '40601', '40602', '40603', '40604', '40605', '40606', '40607', '40608', '40609', '40610', '40611', '40612', '40613', '40614', '40615', '40616', '40617', '40618', '40619', '40620', '40621', '40622', '40623', '40624', '40625', '40626', '40627', '40628', '40629', '40630', '40631', '40632', '40633', '40634', '40635', '40636', '40637', '40638', '40639', '40640', '40641', '40642', '40643', '40644', ...], 'LYON-BRON': ['39591', '39592', '39593', '39594', '39595', '39596', '39597', '39598', '39599', '39600', '39601', '39602', '39603', '39604', '39605', '39606', '39607', '39608', '39609', '39610', '39611', '39612', '39613', '39614', '39615', '39616', '39617', '39618', '39619', '39620', '39621', '39622', '39623', '39624', '39625', '39626', '39627', '39628', '39629', '39630', '39631', '39632', '39633', '39634', '39635', '39636', '39637', '39638', '39639', '39640', '39641', '39642', '39643', '39644', '39645', '39646', '39647', '39648', '39649', '39650', '39651', '39652', '39653', '39654', '39655', '39656', '39657', '39658', '39659', '39660', '39661', '39662', '39663', '39664', '39665', '39666', '39667', '39668', '39669', '39670', '39671', '39672', '39673', '39674', '39675', '39676', '39677', '39678', '39679', '39680', '39681', '39682', '39683', '39684', '39685', '39686', '39687', '39688', '39689', '39690', ...], 'LYON-ST EXUPERY': ['40068', '40069', '40070', '40071', '40072', '40073', '40074', '40075', '40076', '40077', '40078', '40079', '40080', '40081', '40082', '40083', '40084', '40085', '40086', '40087', '40088', '40089', '40090', '40091', '40092', '40093', '40094', '40095', '40096', '40097', '40098', '40099', '40100', '40101', '40102', '40103', '40104', '40105', '40106', '40107', '40108', '40109', '40110', '40111', '40112', '40113', '40114', '40115', '40116', '40117', '40118', '40119', '40120', '40121', '40122', '40123', '40124', '40125', '40126', '40127', '40128', '40129', '40130', '40131', '40132', '40133', '40134', '40135', '40136', '40137', '40138', '40139', '40140', '40141', '40142', '40143', '40144', '40145', '40146', '40147', '40148', '40149', '40150', '40151', '40152', '40153', '40154', '40155', '40156', '40157', '40158', '40159', '40160', '40161', '40162', '40163', '40164', '40165', '40166', '40167', ...], 'MACON': ['41499', '41500', '41501', '41502', '41503', '41504', '41505', '41506', '41507', '41508', '41509', '41510', '41511', '41512', '41513', '41514', '41515', '41516', '41517', '41518', '41519', '41520', '41521', '41522', '41523', '41524', '41525', '41526', '41527', '41528', '41529', '41530', '41531', '41532', '41533', '41534', '41535', '41536', '41537', '41538', '41539', '41540', '41541', '41542', '41543', '41544', '41545', '41546', '41547', '41548', '41549', '41550', '41551', '41552', '41553', '41554', '41555', '41556', '41557', '41558', '41559', '41560', '41561', '41562', '41563', '41564', '41565', '41566', '41567', '41568', '41569', '41570', '41571', '41572', '41573', '41574', '41575', '41576', '41577', '41578', '41579', '41580', '41581', '41582', '41583', '41584', '41585', '41586', '41587', '41588', '41589', '41590', '41591', '41592', '41593', '41594', '41595', '41596', '41597', '41598', ...], 'MARIGNANE': ['7155', '7156', '7157', '7158', '7159', '7160', '7161', '7162', '7163', '7164', '7165', '7166', '7167', '7168', '7169', '7170', '7171', '7172', '7173', '7174', '7175', '7176', '7177', '7178', '7179', '7180', '7181', '7182', '7183', '7184', '7185', '7186', '7187', '7188', '7189', '7190', '7191', '7192', '7193', '7194', '7195', '7196', '7197', '7198', '7199', '7200', '7201', '7202', '7203', '7204', '7205', '7206', '7207', '7208', '7209', '7210', '7211', '7212', '7213', '7214', '7215', '7216', '7217', '7218', '7219', '7220', '7221', '7222', '7223', '7224', '7225', '7226', '7227', '7228', '7229', '7230', '7231', '7232', '7233', '7234', '7235', '7236', '7237', '7238', '7239', '7240', '7241', '7242', '7243', '7244', '7245', '7246', '7247', '7248', '7249', '7250', '7251', '7252', '7253', '7254', ...], 'MARSEILLE': ['7632', '7633', '7634', '7635', '7636', '7637', '7638', '7639', '7640', '7641', '7642', '7643', '7644', '7645', '7646', '7647', '7648', '7649', '7650', '7651', '7652', '7653', '7654', '7655', '7656', '7657', '7658', '7659', '7660', '7661', '7662', '7663', '7664', '7665', '7666', '7667', '7668', '7669', '7670', '7671', '7672', '7673', '7674', '7675', '7676', '7677', '7678', '7679', '7680', '7681', '7682', '7683', '7684', '7685', '7686', '7687', '7688', '7689', '7690', '7691', '7692', '7693', '7694', '7695', '7696', '7697', '7698', '7699', '7700', '7701', '7702', '7703', '7704', '7705', '7706', '7707', '7708', '7709', '7710', '7711', '7712', '7713', '7714', '7715', '7716', '7717', '7718', '7719', '7720', '7721', '7722', '7723', '7724', '7725', '7726', '7727', '7728', '7729', '7730', '7731', ...], 'MELUN': ['44838', '44839', '44840', '44841', '44842', '44843', '44844', '44845', '44846', '44847', '44848', '44849', '44850', '44851', '44852', '44853', '44854', '44855', '44856', '44857', '44858', '44859', '44860', '44861', '44862', '44863', '44864', '44865', '44866', '44867', '44868', '44869', '44870', '44871', '44872', '44873', '44874', '44875', '44876', '44877', '44878', '44879', '44880', '44881', '44882', '44883', '44884', '44885', '44886', '44887', '44888', '44889', '44890', '44891', '44892', '44893', '44894', '44895', '44896', '44897', '44898', '44899', '44901', '44903', '44904', '44905', '44906', '44907', '44908', '44909', '44910', '44911', '44912', '44913', '44914', '44915', '44916', '44917', '44918', '44919', '44920', '44921', '44922', '44923', '44924', '44925', '44926', '44927', '44928', '44929', '44930', '44931', '44932', '44933', '44934', '44935', '44936', '44937', '44938', '44939', ...], 'MENDE': ['28620', '28621', '28622', '28623', '28624', '28625', '28626', '28627', '28628', '28629', '28630', '28631', '28632', '28633', '28634', '28635', '28636', '28637', '28638', '28639', '28640', '28641', '28642', '28643', '28644', '28645', '28646', '28647', '28648', '28649', '28650', '28651', '28652', '28653', '28654', '28655', '28656', '28657', '28658', '28659', '28660', '28661', '28662', '28663', '28664', '28665', '28666', '28667', '28668', '28669', '28670', '28671', '28672', '28673', '28674', '28675', '28676', '28677', '28678', '28679', '28680', '28681', '28682', '28683', '28684', '28685', '28686', '28687', '28688', '28689', '28690', '28691', '28692', '28693', '28694', '28695', '28696', '28697', '28698', '28699', '28700', '28701', '28702', '28703', '28704', '28705', '28706', '28707', '28708', '28709', '28710', '28711', '28712', '28713', '28714', '28715', '28716', '28717', '28718', '28719', ...], 'METZ-FRESCATY': ['32436', '32437', '32438', '32439', '32440', '32441', '32442', '32443', '32444', '32445', '32446', '32447', '32448', '32449', '32450', '32451', '32452', '32453', '32454', '32455', '32456', '32457', '32458', '32459', '32460', '32461', '32462', '32463', '32464', '32465', '32466', '32467', '32468', '32469', '32470', '32471', '32472', '32473', '32474', '32475', '32476', '32477', '32478', '32479', '32480', '32481', '32482', '32483', '32484', '32485', '32486', '32487', '32488', '32489', '32490', '32491', '32492', '32493', '32494', '32495', '32496', '32497', '32498', '32499', '32500', '32501', '32502', '32503', '32504', '32505', '32506', '32507', '32508', '32509', '32510', '32511', '32512', '32513', '32514', '32515', '32516', '32517', '32518', '32519', '32520', '32521', '32522', '32523', '32524', '32525', '32526', '32527', '32528', '32529', '32530', '32531', '32532', '32533', '32534', '32535', ...], 'MEYTHET': ['42930', '42931', '42932', '42933', '42934', '42935', '42936', '42937', '42938', '42939', '42940', '42941', '42942', '42943', '42944', '42945', '42946', '42947', '42948', '42949', '42950', '42951', '42952', '42953', '42954', '42955', '42956', '42957', '42958', '42959', '42960', '42961', '42962', '42963', '42964', '42965', '42966', '42967', '42968', '42969', '42970', '42971', '42972', '42973', '42974', '42975', '42976', '42977', '42978', '42979', '42980', '42981', '42982', '42983', '42984', '42985', '42986', '42987', '42988', '42989', '42990', '42991', '42992', '42993', '42994', '42995', '42996', '42997', '42998', '42999', '43000', '43001', '43002', '43003', '43004', '43005', '43006', '43007', '43008', '43009', '43010', '43011', '43012', '43013', '43014', '43015', '43016', '43017', '43018', '43019', '43020', '43021', '43022', '43023', '43024', '43025', '43026', '43027', '43028', '43029', ...], 'MONT-DE-MARSAN': ['24804', '24805', '24806', '24807', '24808', '24809', '24810', '24811', '24812', '24813', '24814', '24815', '24816', '24817', '24818', '24819', '24820', '24821', '24822', '24823', '24824', '24825', '24826', '24827', '24828', '24829', '24830', '24831', '24832', '24833', '24834', '24835', '24836', '24837', '24838', '24839', '24840', '24841', '24842', '24843', '24844', '24845', '24846', '24847', '24848', '24849', '24850', '24851', '24852', '24853', '24854', '24855', '24856', '24857', '24858', '24859', '24860', '24861', '24862', '24863', '24864', '24865', '24866', '24867', '24868', '24869', '24870', '24871', '24872', '24873', '24874', '24875', '24876', '24877', '24878', '24879', '24880', '24881', '24882', '24883', '24884', '24885', '24886', '24887', '24888', '24889', '24890', '24891', '24892', '24893', '24894', '24895', '24896', '24897', '24898', '24899', '24900', '24901', '24902', '24903', ...], 'MONTAUBAN': ['47223', '47224', '47225', '47226', '47227', '47228', '47229', '47230', '47231', '47232', '47233', '47234', '47235', '47236', '47237', '47238', '47239', '47240', '47241', '47242', '47243', '47244', '47245', '47246', '47247', '47248', '47249', '47250', '47251', '47252', '47253', '47254', '47255', '47256', '47257', '47258', '47259', '47260', '47261', '47262', '47263', '47264', '47265', '47266', '47267', '47268', '47269', '47270', '47271', '47272', '47273', '47274', '47275', '47276', '47277', '47278', '47279', '47280', '47281', '47282', '47283', '47284', '47285', '47286', '47287', '47288', '47289', '47290', '47291', '47292', '47293', '47294', '47295', '47296', '47297', '47298', '47299', '47300', '47301', '47302', '47303', '47304', '47305', '47306', '47307', '47308', '47309', '47310', '47311', '47312', '47313', '47314', '47315', '47316', '47317', '47318', '47319', '47320', '47321', '47322', ...], 'MONTLUCON AERO': ['1431', '1432', '1433', '1434', '1435', '1436', '1437', '1438', '1439', '1440', '1441', '1442', '1443', '1444', '1445', '1446', '1447', '1448', '1449', '1450', '1451', '1452', '1453', '1454', '1455', '1456', '1457', '1458', '1459', '1460', '1461', '1462', '1463', '1464', '1465', '1466', '1467', '1468', '1469', '1470', '1471', '1472', '1473', '1474', '1475', '1476', '1477', '1478', '1479', '1480', '1481', '1482', '1483', '1484', '1485', '1486', '1487', '1488', '1489', '1490', '1491', '1492', '1493', '1494', '1495', '1496', '1497', '1498', '1499', '1500', '1501', '1502', '1503', '1504', '1505', '1506', '1507', '1508', '1509', '1510', '1511', '1512', '1513', '1514', '1515', '1516', '1517', '1518', '1519', '1520', '1521', '1522', '1523', '1524', '1525', '1526', '1527', '1528', '1529', '1530', ...], 'MONTPELLIER-AEROPORT': ['21465', '21466', '21467', '21468', '21469', '21470', '21471', '21472', '21473', '21474', '21475', '21476', '21477', '21478', '21479', '21480', '21481', '21482', '21483', '21484', '21485', '21486', '21487', '21488', '21489', '21490', '21491', '21492', '21493', '21494', '21495', '21496', '21497', '21498', '21499', '21500', '21501', '21502', '21503', '21504', '21505', '21506', '21507', '21508', '21509', '21510', '21511', '21512', '21513', '21514', '21515', '21516', '21517', '21518', '21519', '21520', '21521', '21522', '21523', '21524', '21525', '21526', '21527', '21528', '21529', '21530', '21531', '21532', '21533', '21534', '21535', '21536', '21537', '21538', '21539', '21540', '21541', '21542', '21543', '21544', '21545', '21546', '21547', '21548', '21549', '21550', '21551', '21552', '21553', '21554', '21555', '21556', '21557', '21558', '21559', '21560', '21561', '21562', '21563', '21564', ...], 'NANCY-ESSEY': ['31005', '31006', '31007', '31008', '31009', '31010', '31011', '31012', '31013', '31014', '31015', '31016', '31017', '31018', '31019', '31020', '31021', '31022', '31023', '31024', '31025', '31026', '31027', '31028', '31029', '31030', '31031', '31032', '31033', '31034', '31035', '31036', '31037', '31038', '31039', '31040', '31041', '31042', '31043', '31044', '31045', '31046', '31047', '31048', '31049', '31050', '31051', '31052', '31053', '31054', '31055', '31056', '31057', '31058', '31059', '31060', '31061', '31062', '31063', '31064', '31065', '31066', '31067', '31068', '31069', '31070', '31071', '31072', '31073', '31074', '31075', '31076', '31077', '31078', '31079', '31080', '31081', '31082', '31083', '31084', '31085', '31086', '31087', '31088', '31089', '31090', '31091', '31092', '31093', '31094', '31095', '31096', '31097', '31098', '31099', '31100', '31101', '31102', '31103', '31104', ...], 'NANCY-OCHEY': ['30528', '30529', '30530', '30531', '30532', '30533', '30534', '30535', '30536', '30537', '30538', '30539', '30540', '30541', '30542', '30543', '30544', '30545', '30546', '30547', '30548', '30549', '30550', '30551', '30552', '30553', '30554', '30555', '30556', '30557', '30558', '30559', '30560', '30561', '30562', '30563', '30564', '30565', '30566', '30567', '30568', '30569', '30570', '30571', '30572', '30573', '30574', '30575', '30576', '30577', '30578', '30579', '30580', '30581', '30582', '30583', '30584', '30585', '30586', '30587', '30588', '30589', '30590', '30591', '30592', '30593', '30594', '30595', '30596', '30597', '30598', '30599', '30600', '30601', '30602', '30603', '30604', '30605', '30606', '30607', '30608', '30609', '30610', '30611', '30612', '30613', '30614', '30615', '30616', '30617', '30618', '30619', '30620', '30621', '30622', '30623', '30624', '30625', '30626', '30627', ...], 'NANTES-BOUGUENAIS': ['26712', '26713', '26714', '26715', '26716', '26717', '26718', '26719', '26720', '26721', '26722', '26723', '26724', '26725', '26726', '26727', '26728', '26729', '26730', '26731', '26732', '26733', '26734', '26735', '26736', '26737', '26738', '26739', '26740', '26741', '26742', '26743', '26744', '26745', '26746', '26747', '26748', '26749', '26750', '26751', '26752', '26753', '26754', '26755', '26756', '26757', '26758', '26759', '26760', '26761', '26762', '26763', '26764', '26765', '26766', '26767', '26768', '26769', '26770', '26771', '26772', '26773', '26774', '26775', '26776', '26777', '26778', '26779', '26780', '26781', '26782', '26783', '26784', '26785', '26786', '26787', '26788', '26789', '26790', '26791', '26792', '26793', '26794', '26795', '26796', '26797', '26798', '26799', '26800', '26801', '26802', '26803', '26804', '26805', '26806', '26807', '26808', '26809', '26810', '26811', ...], 'NARBONNE': ['6201', '6202', '6203', '6204', '6205', '6206', '6207', '6208', '6209', '6210', '6211', '6212', '6213', '6214', '6215', '6216', '6217', '6218', '6219', '6220', '6221', '6222', '6223', '6229', '6230', '6231', '6232', '6233', '6234', '6235', '6236', '6237', '6238', '6239', '6240', '6241', '6242', '6243', '6244', '6245', '6246', '6247', '6248', '6249', '6250', '6251', '6252', '6253', '6254', '6255', '6256', '6257', '6258', '6259', '6260', '6261', '6262', '6263', '6264', '6265', '6266', '6267', '6268', '6269', '6270', '6271', '6272', '6273', '6274', '6275', '6276', '6277', '6278', '6279', '6280', '6281', '6282', '6283', '6284', '6285', '6286', '6287', '6288', '6289', '6290', '6291', '6292', '6293', '6294', '6295', '6296', '6297', '6298', '6299', '6300', '6301', '6302', '6303', '6304', '6305', ...], 'NEVERS-MARZY': ['32913', '32914', '32915', '32916', '32917', '32918', '32919', '32920', '32921', '32922', '32923', '32924', '32925', '32926', '32927', '32928', '32929', '32930', '32931', '32932', '32933', '32934', '32935', '32936', '32937', '32938', '32939', '32940', '32941', '32942', '32943', '32944', '32945', '32946', '32947', '32948', '32949', '32950', '32951', '32952', '32953', '32954', '32955', '32956', '32957', '32958', '32959', '32960', '32961', '32962', '32963', '32964', '32965', '32966', '32967', '32968', '32969', '32970', '32971', '32972', '32973', '32974', '32975', '32976', '32977', '32978', '32979', '32980', '32981', '32982', '32983', '32984', '32985', '32986', '32987', '32988', '32989', '32990', '32991', '32992', '32993', '32994', '32995', '32996', '32997', '32998', '32999', '33000', '33001', '33002', '33003', '33004', '33005', '33006', '33007', '33008', '33009', '33010', '33011', '33012', ...], 'NICE': ['3339', '3340', '3341', '3342', '3343', '3344', '3345', '3346', '3347', '3348', '3349', '3350', '3351', '3352', '3353', '3354', '3355', '3356', '3357', '3358', '3359', '3360', '3361', '3362', '3363', '3364', '3365', '3366', '3367', '3368', '3369', '3370', '3371', '3372', '3373', '3374', '3375', '3376', '3377', '3378', '3379', '3380', '3381', '3382', '3383', '3384', '3385', '3386', '3387', '3388', '3389', '3390', '3391', '3392', '3393', '3394', '3395', '3396', '3397', '3398', '3399', '3400', '3401', '3402', '3403', '3404', '3405', '3406', '3407', '3408', '3409', '3410', '3411', '3412', '3413', '3414', '3415', '3416', '3417', '3418', '3419', '3420', '3421', '3422', '3423', '3424', '3425', '3426', '3427', '3428', '3429', '3430', '3431', '3432', '3433', '3434', '3435', '3436', '3437', '3438', ...], 'NIMES-COURBESSAC': ['18603', '18604', '18605', '18606', '18607', '18608', '18609', '18610', '18611', '18612', '18613', '18614', '18615', '18616', '18617', '18618', '18619', '18620', '18621', '18622', '18623', '18624', '18625', '18626', '18627', '18628', '18629', '18630', '18631', '18632', '18633', '18634', '18635', '18636', '18637', '18638', '18639', '18640', '18641', '18642', '18643', '18644', '18645', '18646', '18647', '18648', '18649', '18650', '18651', '18652', '18653', '18654', '18655', '18656', '18657', '18658', '18659', '18660', '18661', '18662', '18663', '18664', '18665', '18666', '18667', '18668', '18669', '18670', '18671', '18672', '18673', '18674', '18675', '18676', '18677', '18678', '18679', '18680', '18681', '18682', '18683', '18684', '18685', '18686', '18687', '18688', '18689', '18690', '18691', '18692', '18693', '18694', '18695', '18696', '18697', '18698', '18699', '18700', '18701', '18702', ...], 'NIMES-GARONS': ['19080', '19081', '19082', '19083', '19084', '19085', '19086', '19087', '19088', '19089', '19090', '19091', '19092', '19093', '19094', '19095', '19096', '19097', '19098', '19099', '19100', '19101', '19102', '19103', '19104', '19105', '19106', '19107', '19108', '19109', '19110', '19111', '19112', '19113', '19114', '19115', '19116', '19117', '19118', '19119', '19120', '19121', '19122', '19123', '19124', '19125', '19126', '19127', '19128', '19129', '19130', '19131', '19132', '19133', '19134', '19135', '19136', '19137', '19138', '19139', '19140', '19141', '19142', '19143', '19144', '19145', '19146', '19147', '19148', '19149', '19150', '19151', '19152', '19153', '19154', '19155', '19156', '19157', '19158', '19159', '19160', '19161', '19162', '19163', '19164', '19165', '19166', '19167', '19168', '19169', '19170', '19171', '19172', '19173', '19174', '19175', '19176', '19177', '19178', '19179', ...], 'NIORT': ['45792', '45793', '45794', '45795', '45796', '45797', '45798', '45799', '45800', '45801', '45802', '45803', '45804', '45805', '45806', '45807', '45808', '45809', '45810', '45811', '45812', '45813', '45814', '45815', '45816', '45817', '45818', '45819', '45820', '45821', '45822', '45823', '45824', '45825', '45826', '45827', '45828', '45829', '45830', '45831', '45832', '45833', '45834', '45835', '45836', '45837', '45838', '45839', '45840', '45841', '45842', '45843', '45844', '45845', '45846', '45847', '45848', '45849', '45850', '45851', '45852', '45853', '45854', '45855', '45856', '45857', '45858', '45859', '45860', '45861', '45862', '45863', '45864', '45865', '45866', '45867', '45868', '45869', '45870', '45871', '45872', '45873', '45874', '45875', '45876', '45877', '45878', '45879', '45880', '45881', '45882', '45883', '45884', '45885', '45886', '45887', '45888', '45889', '45890', '45891', ...], 'ORANGE': ['48654', '48655', '48656', '48657', '48658', '48659', '48660', '48661', '48662', '48663', '48664', '48665', '48666', '48667', '48668', '48669', '48670', '48671', '48672', '48673', '48674', '48675', '48676', '48677', '48678', '48679', '48680', '48681', '48682', '48683', '48684', '48685', '48686', '48687', '48688', '48689', '48690', '48691', '48692', '48693', '48694', '48695', '48696', '48697', '48698', '48699', '48700', '48701', '48702', '48703', '48704', '48705', '48706', '48707', '48708', '48709', '48710', '48711', '48712', '48713', '48714', '48715', '48716', '48717', '48718', '48719', '48720', '48721', '48722', '48723', '48724', '48725', '48726', '48727', '48728', '48729', '48730', '48731', '48732', '48733', '48734', '48735', '48736', '48737', '48738', '48739', '48740', '48741', '48742', '48743', '48744', '48745', '48746', '48747', '48748', '48749', '48750', '48751', '48752', '48753', ...], 'ORLEANS': ['27189', '27190', '27191', '27192', '27193', '27194', '27195', '27196', '27197', '27198', '27199', '27200', '27201', '27202', '27203', '27204', '27205', '27206', '27207', '27208', '27209', '27210', '27211', '27212', '27213', '27214', '27215', '27216', '27217', '27218', '27219', '27220', '27221', '27222', '27223', '27224', '27225', '27226', '27227', '27228', '27229', '27230', '27231', '27232', '27233', '27234', '27235', '27236', '27237', '27238', '27239', '27240', '27241', '27242', '27243', '27244', '27245', '27246', '27247', '27248', '27249', '27250', '27251', '27252', '27253', '27254', '27255', '27256', '27257', '27258', '27259', '27260', '27261', '27262', '27263', '27264', '27265', '27266', '27267', '27268', '27269', '27270', '27271', '27272', '27273', '27274', '27275', '27276', '27277', '27278', '27279', '27280', '27281', '27282', '27283', '27284', '27285', '27286', '27287', '27288', ...], 'ORLY': ['51993', '51994', '51995', '51996', '51997', '51998', '51999', '52000', '52001', '52002', '52003', '52004', '52005', '52006', '52007', '52008', '52009', '52010', '52011', '52012', '52013', '52014', '52015', '52016', '52017', '52018', '52019', '52020', '52021', '52022', '52023', '52024', '52025', '52026', '52027', '52028', '52029', '52030', '52031', '52032', '52033', '52034', '52035', '52036', '52037', '52038', '52039', '52040', '52041', '52042', '52043', '52044', '52045', '52046', '52047', '52048', '52049', '52050', '52051', '52052', '52053', '52054', '52055', '52056', '52057', '52058', '52059', '52060', '52061', '52062', '52063', '52064', '52065', '52066', '52067', '52068', '52069', '52070', '52071', '52072', '52073', '52074', '52075', '52076', '52077', '52078', '52079', '52080', '52081', '52082', '52083', '52084', '52085', '52086', '52087', '52088', '52089', '52090', '52091', '52092', ...], 'PARIS-MONTSOURIS': ['43407', '43408', '43409', '43410', '43411', '43412', '43413', '43414', '43415', '43416', '43417', '43418', '43419', '43420', '43421', '43422', '43423', '43424', '43425', '43426', '43427', '43428', '43429', '43430', '43431', '43432', '43433', '43434', '43435', '43436', '43437', '43438', '43439', '43440', '43441', '43442', '43443', '43444', '43445', '43446', '43447', '43448', '43449', '43450', '43451', '43452', '43453', '43454', '43455', '43456', '43457', '43458', '43459', '43460', '43461', '43462', '43463', '43464', '43465', '43466', '43467', '43468', '43469', '43470', '43471', '43472', '43473', '43474', '43475', '43476', '43477', '43478', '43479', '43480', '43481', '43482', '43483', '43484', '43485', '43486', '43487', '43488', '43489', '43490', '43491', '43492', '43493', '43494', '43495', '43496', '43497', '43498', '43499', '43500', '43501', '43502', '43503', '43504', '43505', '43506', ...], 'PAU-UZEIN': ['36729', '36730', '36731', '36732', '36733', '36734', '36735', '36736', '36737', '36738', '36739', '36740', '36741', '36742', '36743', '36744', '36745', '36746', '36747', '36748', '36749', '36750', '36751', '36752', '36753', '36754', '36755', '36756', '36757', '36758', '36759', '36760', '36761', '36762', '36763', '36764', '36765', '36766', '36767', '36768', '36769', '36770', '36771', '36772', '36773', '36774', '36775', '36776', '36777', '36778', '36779', '36780', '36781', '36782', '36783', '36784', '36785', '36786', '36787', '36788', '36789', '36790', '36791', '36792', '36793', '36794', '36795', '36796', '36797', '36798', '36799', '36800', '36801', '36802', '36803', '36804', '36805', '36806', '36807', '36808', '36809', '36810', '36811', '36812', '36813', '36814', '36815', '36816', '36817', '36818', '36819', '36820', '36821', '36822', '36823', '36824', '36825', '36826', '36827', '36828', ...], 'PERPIGNAN': ['37683', '37684', '37685', '37686', '37687', '37688', '37689', '37690', '37691', '37692', '37693', '37694', '37695', '37696', '37697', '37698', '37699', '37700', '37701', '37702', '37703', '37704', '37705', '37706', '37707', '37708', '37709', '37710', '37711', '37712', '37713', '37714', '37715', '37716', '37717', '37718', '37719', '37720', '37721', '37722', '37723', '37724', '37725', '37726', '37727', '37728', '37729', '37730', '37731', '37732', '37733', '37734', '37735', '37736', '37737', '37738', '37739', '37740', '37741', '37742', '37743', '37744', '37745', '37746', '37747', '37748', '37749', '37750', '37751', '37752', '37753', '37754', '37755', '37756', '37757', '37758', '37759', '37760', '37761', '37762', '37763', '37764', '37765', '37766', '37767', '37768', '37769', '37770', '37771', '37772', '37773', '37774', '37775', '37776', '37777', '37778', '37779', '37780', '37781', '37782', ...], 'POITIERS-BIARD': ['49608', '49609', '49610', '49611', '49612', '49613', '49614', '49615', '49616', '49617', '49618', '49619', '49620', '49621', '49622', '49623', '49624', '49625', '49626', '49627', '49628', '49629', '49630', '49631', '49632', '49633', '49634', '49635', '49636', '49637', '49638', '49639', '49640', '49641', '49642', '49643', '49644', '49645', '49646', '49647', '49648', '49649', '49650', '49651', '49652', '49653', '49654', '49655', '49656', '49657', '49658', '49659', '49660', '49661', '49662', '49663', '49664', '49665', '49666', '49667', '49668', '49669', '49670', '49671', '49672', '49673', '49674', '49675', '49676', '49677', '49678', '49679', '49680', '49681', '49682', '49683', '49684', '49685', '49686', '49687', '49688', '49689', '49690', '49691', '49692', '49693', '49694', '49695', '49696', '49697', '49698', '49699', '49700', '49701', '49702', '49703', '49704', '49705', '49706', '49707', ...], 'PONTOISE - AERO': ['52470', '52471', '52472', '52473', '52474', '52475', '52476', '52477', '52478', '52479', '52480', '52481', '52482', '52483', '52484', '52485', '52486', '52487', '52488', '52489', '52490', '52491', '52492', '52493', '52494', '52495', '52496', '52497', '52498', '52499', '52500', '52501', '52502', '52503', '52504', '52505', '52506', '52507', '52508', '52509', '52510', '52511', '52512', '52513', '52514', '52515', '52516', '52517', '52518', '52519', '52520', '52521', '52522', '52523', '52524', '52525', '52526', '52527', '52528', '52529', '52530', '52531', '52532', '52533', '52534', '52535', '52536', '52537', '52538', '52539', '52540', '52541', '52542', '52543', '52544', '52545', '52546', '52547', '52548', '52549', '52550', '52551', '52552', '52553', '52554', '52555', '52556', '52557', '52558', '52559', '52560', '52561', '52562', '52563', '52564', '52565', '52566', '52567', '52568', '52569', ...], 'QUIMPER': ['18126', '18127', '18128', '18129', '18130', '18131', '18132', '18133', '18134', '18135', '18136', '18137', '18138', '18139', '18140', '18141', '18142', '18143', '18144', '18145', '18146', '18147', '18148', '18149', '18150', '18151', '18152', '18153', '18154', '18155', '18156', '18157', '18158', '18159', '18160', '18161', '18162', '18163', '18164', '18165', '18166', '18167', '18168', '18169', '18170', '18171', '18172', '18173', '18174', '18175', '18176', '18177', '18178', '18179', '18180', '18181', '18182', '18183', '18184', '18185', '18186', '18187', '18188', '18189', '18190', '18191', '18192', '18193', '18194', '18195', '18196', '18197', '18198', '18199', '18200', '18201', '18202', '18203', '18204', '18205', '18206', '18207', '18208', '18209', '18210', '18211', '18212', '18213', '18214', '18215', '18216', '18217', '18218', '18219', '18220', '18221', '18222', '18223', '18224', '18225', ...], 'REIMS-PRUNAY': ['29097', '29098', '29099', '29100', '29101', '29102', '29103', '29104', '29105', '29106', '29107', '29108', '29109', '29110', '29111', '29112', '29113', '29114', '29115', '29116', '29117', '29118', '29119', '29120', '29121', '29122', '29123', '29124', '29125', '29126', '29127', '29128', '29129', '29130', '29131', '29132', '29133', '29134', '29135', '29136', '29137', '29138', '29139', '29140', '29141', '29142', '29143', '29144', '29145', '29146', '29147', '29148', '29149', '29150', '29151', '29152', '29153', '29154', '29155', '29156', '29157', '29158', '29159', '29160', '29161', '29162', '29163', '29164', '29165', '29166', '29167', '29168', '29169', '29170', '29171', '29172', '29173', '29174', '29175', '29176', '29177', '29178', '29179', '29180', '29181', '29182', '29183', '29184', '29185', '29186', '29187', '29188', '29189', '29190', '29191', '29192', '29193', '29194', '29195', '29196', ...], 'RENNES-ST JACQUES': ['22419', '22420', '22421', '22422', '22423', '22424', '22425', '22426', '22427', '22428', '22429', '22430', '22431', '22432', '22433', '22434', '22435', '22436', '22437', '22438', '22439', '22440', '22441', '22442', '22443', '22444', '22445', '22446', '22447', '22448', '22449', '22450', '22451', '22452', '22453', '22454', '22455', '22456', '22457', '22458', '22459', '22460', '22461', '22462', '22463', '22464', '22465', '22466', '22467', '22468', '22469', '22470', '22471', '22472', '22473', '22474', '22475', '22476', '22477', '22478', '22479', '22480', '22481', '22482', '22483', '22484', '22485', '22486', '22487', '22488', '22489', '22490', '22491', '22492', '22493', '22494', '22495', '22496', '22497', '22498', '22499', '22500', '22501', '22502', '22503', '22504', '22505', '22506', '22507', '22508', '22509', '22510', '22511', '22512', '22513', '22514', '22515', '22516', '22517', '22518', ...], 'RODEZ-AVEYRON': ['6678', '6679', '6680', '6681', '6682', '6683', '6684', '6685', '6686', '6687', '6688', '6689', '6690', '6691', '6692', '6693', '6694', '6695', '6696', '6697', '6698', '6699', '6700', '6701', '6702', '6703', '6704', '6705', '6706', '6707', '6708', '6709', '6710', '6711', '6712', '6713', '6714', '6715', '6716', '6717', '6718', '6719', '6720', '6721', '6722', '6723', '6724', '6725', '6726', '6727', '6728', '6729', '6730', '6731', '6732', '6733', '6734', '6735', '6736', '6737', '6738', '6739', '6740', '6741', '6742', '6743', '6744', '6745', '6746', '6747', '6748', '6749', '6750', '6751', '6752', '6753', '6754', '6755', '6756', '6757', '6758', '6759', '6760', '6761', '6762', '6763', '6764', '6765', '6766', '6767', '6768', '6769', '6770', '6771', '6772', '6773', '6774', '6775', '6776', '6777', ...], 'ROISSY': ['52947', '52948', '52949', '52950', '52951', '52952', '52953', '52954', '52955', '52956', '52957', '52958', '52959', '52960', '52961', '52962', '52963', '52964', '52965', '52966', '52967', '52968', '52969', '52970', '52971', '52972', '52973', '52974', '52975', '52976', '52977', '52978', '52979', '52980', '52981', '52982', '52983', '52984', '52985', '52986', '52987', '52988', '52989', '52990', '52991', '52992', '52993', '52994', '52995', '52996', '52997', '52998', '52999', '53000', '53001', '53002', '53003', '53004', '53005', '53006', '53007', '53008', '53009', '53010', '53011', '53012', '53013', '53014', '53015', '53016', '53017', '53018', '53019', '53020', '53021', '53022', '53023', '53024', '53025', '53026', '53027', '53028', '53029', '53030', '53031', '53032', '53033', '53034', '53035', '53036', '53037', '53038', '53039', '53040', '53041', '53042', '53043', '53044', '53045', '53046', ...], 'ROUEN-BOOS': ['43884', '43885', '43886', '43887', '43888', '43889', '43890', '43891', '43892', '43893', '43894', '43895', '43896', '43897', '43898', '43899', '43900', '43901', '43902', '43903', '43904', '43905', '43906', '43907', '43908', '43909', '43910', '43911', '43912', '43913', '43914', '43915', '43916', '43917', '43918', '43919', '43920', '43921', '43922', '43923', '43924', '43925', '43926', '43927', '43928', '43929', '43930', '43931', '43932', '43933', '43934', '43935', '43936', '43937', '43938', '43939', '43940', '43941', '43942', '43943', '43944', '43945', '43947', '43948', '43949', '43950', '43951', '43952', '43953', '43954', '43955', '43956', '43957', '43958', '43959', '43960', '43961', '43962', '43963', '43964', '43965', '43966', '43967', '43968', '43969', '43970', '43971', '43972', '43973', '43974', '43975', '43976', '43977', '43978', '43979', '43980', '43981', '43982', '43983', '43984', ...], 'ST BRIEUC': ['14310', '14311', '14312', '14313', '14314', '14315', '14316', '14317', '14318', '14319', '14320', '14321', '14322', '14323', '14324', '14325', '14326', '14327', '14328', '14329', '14330', '14331', '14332', '14333', '14334', '14335', '14336', '14337', '14338', '14339', '14340', '14341', '14342', '14343', '14344', '14345', '14346', '14347', '14348', '14349', '14350', '14351', '14352', '14353', '14354', '14355', '14356', '14357', '14358', '14359', '14360', '14361', '14362', '14363', '14364', '14365', '14366', '14367', '14368', '14369', '14370', '14371', '14372', '14373', '14374', '14375', '14376', '14377', '14378', '14379', '14380', '14381', '14382', '14383', '14384', '14385', '14386', '14387', '14388', '14389', '14390', '14391', '14392', '14393', '14394', '14395', '14396', '14397', '14398', '14399', '14400', '14401', '14402', '14403', '14404', '14405', '14406', '14407', '14408', '14409', ...], ...}"
      ]
     },
     "execution_count": 145,
     "metadata": {},
     "output_type": "execute_result"
    }
   ],
   "source": [
    "#en fractionnant le dataframe par groupe de commune\n",
    "df_meteo_commune = df_meteo.groupby('COMMUNE')\n",
    "df_meteo_commune.groups"
   ]
  },
  {
   "cell_type": "code",
   "execution_count": 146,
   "id": "35a24910",
   "metadata": {},
   "outputs": [
    {
     "data": {
      "text/html": [
       "<div>\n",
       "<style scoped>\n",
       "    .dataframe tbody tr th:only-of-type {\n",
       "        vertical-align: middle;\n",
       "    }\n",
       "\n",
       "    .dataframe tbody tr th {\n",
       "        vertical-align: top;\n",
       "    }\n",
       "\n",
       "    .dataframe thead th {\n",
       "        text-align: right;\n",
       "    }\n",
       "</style>\n",
       "<table border=\"1\" class=\"dataframe\">\n",
       "  <thead>\n",
       "    <tr style=\"text-align: right;\">\n",
       "      <th></th>\n",
       "      <th>POSTE</th>\n",
       "      <th>COMMUNE</th>\n",
       "      <th>LON</th>\n",
       "      <th>LAT</th>\n",
       "      <th>ALT</th>\n",
       "      <th>DATE</th>\n",
       "      <th>RR</th>\n",
       "      <th>QRR</th>\n",
       "      <th>TEMPERATURE</th>\n",
       "      <th>QTN</th>\n",
       "      <th>...</th>\n",
       "      <th>QUN</th>\n",
       "      <th>UX</th>\n",
       "      <th>QUX</th>\n",
       "      <th>DHUMI40</th>\n",
       "      <th>QDHUMI40</th>\n",
       "      <th>DHUMI80</th>\n",
       "      <th>QDHUMI80</th>\n",
       "      <th>UM</th>\n",
       "      <th>QUM</th>\n",
       "      <th>ma_nouvelle_colonne</th>\n",
       "    </tr>\n",
       "  </thead>\n",
       "  <tbody>\n",
       "    <tr>\n",
       "      <th>52947</th>\n",
       "      <td>95527001</td>\n",
       "      <td>ROISSY</td>\n",
       "      <td>2°32'03\"E</td>\n",
       "      <td>49°00'54\"N</td>\n",
       "      <td>108</td>\n",
       "      <td>20200101</td>\n",
       "      <td>0,2</td>\n",
       "      <td>v</td>\n",
       "      <td>-0,9</td>\n",
       "      <td>v</td>\n",
       "      <td>...</td>\n",
       "      <td>v</td>\n",
       "      <td>98.0</td>\n",
       "      <td>v</td>\n",
       "      <td>0.0</td>\n",
       "      <td>t</td>\n",
       "      <td>1440.0</td>\n",
       "      <td>t</td>\n",
       "      <td>97.0</td>\n",
       "      <td>v</td>\n",
       "      <td>-10.0</td>\n",
       "    </tr>\n",
       "    <tr>\n",
       "      <th>52948</th>\n",
       "      <td>95527001</td>\n",
       "      <td>ROISSY</td>\n",
       "      <td>2°32'03\"E</td>\n",
       "      <td>49°00'54\"N</td>\n",
       "      <td>108</td>\n",
       "      <td>20200102</td>\n",
       "      <td>1,2</td>\n",
       "      <td>v</td>\n",
       "      <td>2,8</td>\n",
       "      <td>v</td>\n",
       "      <td>...</td>\n",
       "      <td>v</td>\n",
       "      <td>98.0</td>\n",
       "      <td>v</td>\n",
       "      <td>0.0</td>\n",
       "      <td>t</td>\n",
       "      <td>1440.0</td>\n",
       "      <td>t</td>\n",
       "      <td>94.0</td>\n",
       "      <td>v</td>\n",
       "      <td>-14.0</td>\n",
       "    </tr>\n",
       "    <tr>\n",
       "      <th>52949</th>\n",
       "      <td>95527001</td>\n",
       "      <td>ROISSY</td>\n",
       "      <td>2°32'03\"E</td>\n",
       "      <td>49°00'54\"N</td>\n",
       "      <td>108</td>\n",
       "      <td>20200103</td>\n",
       "      <td>0,8</td>\n",
       "      <td>v</td>\n",
       "      <td>8,2</td>\n",
       "      <td>v</td>\n",
       "      <td>...</td>\n",
       "      <td>v</td>\n",
       "      <td>94.0</td>\n",
       "      <td>v</td>\n",
       "      <td>0.0</td>\n",
       "      <td>t</td>\n",
       "      <td>1255.0</td>\n",
       "      <td>t</td>\n",
       "      <td>87.0</td>\n",
       "      <td>v</td>\n",
       "      <td>-20.0</td>\n",
       "    </tr>\n",
       "    <tr>\n",
       "      <th>52950</th>\n",
       "      <td>95527001</td>\n",
       "      <td>ROISSY</td>\n",
       "      <td>2°32'03\"E</td>\n",
       "      <td>49°00'54\"N</td>\n",
       "      <td>108</td>\n",
       "      <td>20200104</td>\n",
       "      <td>0,0</td>\n",
       "      <td>v</td>\n",
       "      <td>2,8</td>\n",
       "      <td>v</td>\n",
       "      <td>...</td>\n",
       "      <td>v</td>\n",
       "      <td>92.0</td>\n",
       "      <td>v</td>\n",
       "      <td>0.0</td>\n",
       "      <td>t</td>\n",
       "      <td>788.0</td>\n",
       "      <td>t</td>\n",
       "      <td>83.0</td>\n",
       "      <td>v</td>\n",
       "      <td>-19.0</td>\n",
       "    </tr>\n",
       "    <tr>\n",
       "      <th>52951</th>\n",
       "      <td>95527001</td>\n",
       "      <td>ROISSY</td>\n",
       "      <td>2°32'03\"E</td>\n",
       "      <td>49°00'54\"N</td>\n",
       "      <td>108</td>\n",
       "      <td>20200105</td>\n",
       "      <td>0,0</td>\n",
       "      <td>v</td>\n",
       "      <td>5,9</td>\n",
       "      <td>v</td>\n",
       "      <td>...</td>\n",
       "      <td>v</td>\n",
       "      <td>91.0</td>\n",
       "      <td>v</td>\n",
       "      <td>0.0</td>\n",
       "      <td>t</td>\n",
       "      <td>832.0</td>\n",
       "      <td>t</td>\n",
       "      <td>79.0</td>\n",
       "      <td>v</td>\n",
       "      <td>-31.0</td>\n",
       "    </tr>\n",
       "  </tbody>\n",
       "</table>\n",
       "<p>5 rows × 27 columns</p>\n",
       "</div>"
      ],
      "text/plain": [
       "          POSTE COMMUNE        LON         LAT  ALT      DATE   RR QRR  \\\n",
       "52947  95527001  ROISSY  2°32'03\"E  49°00'54\"N  108  20200101  0,2   v   \n",
       "52948  95527001  ROISSY  2°32'03\"E  49°00'54\"N  108  20200102  1,2   v   \n",
       "52949  95527001  ROISSY  2°32'03\"E  49°00'54\"N  108  20200103  0,8   v   \n",
       "52950  95527001  ROISSY  2°32'03\"E  49°00'54\"N  108  20200104  0,0   v   \n",
       "52951  95527001  ROISSY  2°32'03\"E  49°00'54\"N  108  20200105  0,0   v   \n",
       "\n",
       "      TEMPERATURE QTN  ... QUN    UX QUX DHUMI40 QDHUMI40 DHUMI80  QDHUMI80  \\\n",
       "52947        -0,9   v  ...   v  98.0   v     0.0        t  1440.0         t   \n",
       "52948         2,8   v  ...   v  98.0   v     0.0        t  1440.0         t   \n",
       "52949         8,2   v  ...   v  94.0   v     0.0        t  1255.0         t   \n",
       "52950         2,8   v  ...   v  92.0   v     0.0        t   788.0         t   \n",
       "52951         5,9   v  ...   v  91.0   v     0.0        t   832.0         t   \n",
       "\n",
       "         UM  QUM ma_nouvelle_colonne  \n",
       "52947  97.0    v               -10.0  \n",
       "52948  94.0    v               -14.0  \n",
       "52949  87.0    v               -20.0  \n",
       "52950  83.0    v               -19.0  \n",
       "52951  79.0    v               -31.0  \n",
       "\n",
       "[5 rows x 27 columns]"
      ]
     },
     "execution_count": 146,
     "metadata": {},
     "output_type": "execute_result"
    }
   ],
   "source": [
    "#si l'on veut selectionner seulement un groupe\n",
    "df_meteo_commune.get_group('ROISSY').head()"
   ]
  },
  {
   "cell_type": "code",
   "execution_count": 148,
   "id": "b6bef05a",
   "metadata": {},
   "outputs": [
    {
     "data": {
      "text/plain": [
       "COMMUNE\n",
       "AGEN-LA GARENNE     807.523109\n",
       "AJACCIO             615.642857\n",
       "ALBI                672.264706\n",
       "ALENCON             813.865828\n",
       "AMBERIEU            591.125541\n",
       "                       ...    \n",
       "TOURS               722.534591\n",
       "TOUSSUS LE NOBLE    699.029598\n",
       "TROYES-BARBEREY     728.278826\n",
       "VALENCE-CHABEUI     586.849057\n",
       "VICHY-CHARMEIL      679.485294\n",
       "Name: DHUMI80, Length: 112, dtype: float64"
      ]
     },
     "execution_count": 148,
     "metadata": {},
     "output_type": "execute_result"
    }
   ],
   "source": [
    "#fonction d'aggrégation\n",
    "#elle s'utilise lorsque l'on veut avoir une seule valeur renvoyée par groupe.\n",
    "#Par exemple le degré d'humididité moyen (DHUMI80) par commune\n",
    "df_meteo_commune['DHUMI80'].agg(np.mean) # nouvelle version mettre sous le format \"mean\""
   ]
  },
  {
   "cell_type": "code",
   "execution_count": 150,
   "id": "2353033b",
   "metadata": {},
   "outputs": [
    {
     "data": {
      "text/html": [
       "<div>\n",
       "<style scoped>\n",
       "    .dataframe tbody tr th:only-of-type {\n",
       "        vertical-align: middle;\n",
       "    }\n",
       "\n",
       "    .dataframe tbody tr th {\n",
       "        vertical-align: top;\n",
       "    }\n",
       "\n",
       "    .dataframe thead th {\n",
       "        text-align: right;\n",
       "    }\n",
       "</style>\n",
       "<table border=\"1\" class=\"dataframe\">\n",
       "  <thead>\n",
       "    <tr style=\"text-align: right;\">\n",
       "      <th></th>\n",
       "      <th>mean</th>\n",
       "      <th>amin</th>\n",
       "      <th>amax</th>\n",
       "    </tr>\n",
       "    <tr>\n",
       "      <th>COMMUNE</th>\n",
       "      <th></th>\n",
       "      <th></th>\n",
       "      <th></th>\n",
       "    </tr>\n",
       "  </thead>\n",
       "  <tbody>\n",
       "    <tr>\n",
       "      <th>AGEN-LA GARENNE</th>\n",
       "      <td>807.523109</td>\n",
       "      <td>0.0</td>\n",
       "      <td>1440.0</td>\n",
       "    </tr>\n",
       "    <tr>\n",
       "      <th>AJACCIO</th>\n",
       "      <td>615.642857</td>\n",
       "      <td>0.0</td>\n",
       "      <td>1440.0</td>\n",
       "    </tr>\n",
       "    <tr>\n",
       "      <th>ALBI</th>\n",
       "      <td>672.264706</td>\n",
       "      <td>0.0</td>\n",
       "      <td>1440.0</td>\n",
       "    </tr>\n",
       "    <tr>\n",
       "      <th>ALENCON</th>\n",
       "      <td>813.865828</td>\n",
       "      <td>0.0</td>\n",
       "      <td>1440.0</td>\n",
       "    </tr>\n",
       "    <tr>\n",
       "      <th>AMBERIEU</th>\n",
       "      <td>591.125541</td>\n",
       "      <td>0.0</td>\n",
       "      <td>1440.0</td>\n",
       "    </tr>\n",
       "    <tr>\n",
       "      <th>...</th>\n",
       "      <td>...</td>\n",
       "      <td>...</td>\n",
       "      <td>...</td>\n",
       "    </tr>\n",
       "    <tr>\n",
       "      <th>TOURS</th>\n",
       "      <td>722.534591</td>\n",
       "      <td>0.0</td>\n",
       "      <td>1440.0</td>\n",
       "    </tr>\n",
       "    <tr>\n",
       "      <th>TOUSSUS LE NOBLE</th>\n",
       "      <td>699.029598</td>\n",
       "      <td>0.0</td>\n",
       "      <td>1440.0</td>\n",
       "    </tr>\n",
       "    <tr>\n",
       "      <th>TROYES-BARBEREY</th>\n",
       "      <td>728.278826</td>\n",
       "      <td>0.0</td>\n",
       "      <td>1440.0</td>\n",
       "    </tr>\n",
       "    <tr>\n",
       "      <th>VALENCE-CHABEUI</th>\n",
       "      <td>586.849057</td>\n",
       "      <td>0.0</td>\n",
       "      <td>1440.0</td>\n",
       "    </tr>\n",
       "    <tr>\n",
       "      <th>VICHY-CHARMEIL</th>\n",
       "      <td>679.485294</td>\n",
       "      <td>0.0</td>\n",
       "      <td>1440.0</td>\n",
       "    </tr>\n",
       "  </tbody>\n",
       "</table>\n",
       "<p>112 rows × 3 columns</p>\n",
       "</div>"
      ],
      "text/plain": [
       "                        mean  amin    amax\n",
       "COMMUNE                                   \n",
       "AGEN-LA GARENNE   807.523109   0.0  1440.0\n",
       "AJACCIO           615.642857   0.0  1440.0\n",
       "ALBI              672.264706   0.0  1440.0\n",
       "ALENCON           813.865828   0.0  1440.0\n",
       "AMBERIEU          591.125541   0.0  1440.0\n",
       "...                      ...   ...     ...\n",
       "TOURS             722.534591   0.0  1440.0\n",
       "TOUSSUS LE NOBLE  699.029598   0.0  1440.0\n",
       "TROYES-BARBEREY   728.278826   0.0  1440.0\n",
       "VALENCE-CHABEUI   586.849057   0.0  1440.0\n",
       "VICHY-CHARMEIL    679.485294   0.0  1440.0\n",
       "\n",
       "[112 rows x 3 columns]"
      ]
     },
     "execution_count": 150,
     "metadata": {},
     "output_type": "execute_result"
    }
   ],
   "source": [
    "#On peut appliquer bien entendu plusieurs fonctions\n",
    "df_meteo_commune['DHUMI80'].agg([np.mean, np.min, np.max])"
   ]
  },
  {
   "cell_type": "markdown",
   "id": "5464b70d",
   "metadata": {},
   "source": [
    "> ## rassembler plusieurs dataframes <a class=\"anchor\" id=\"rassemble\"></a>"
   ]
  },
  {
   "attachments": {
    "jointure.png": {
     "image/png": "[encoded data removed]"
    }
   },
   "cell_type": "markdown",
   "id": "fa9c4c36",
   "metadata": {},
   "source": [
    "Il s’agit de réaliser une jointure de deux tables partageant la même clef ou encore de concaténer horizontalement les lignes en faisant correspondre les valeurs d’une variable clef qui peuvent ne pas être uniques.\n",
    "![jointure.png](attachment:jointure.png)"
   ]
  },
  {
   "cell_type": "markdown",
   "id": "11498de0",
   "metadata": {},
   "source": [
    "**jointure**"
   ]
  },
  {
   "cell_type": "code",
   "execution_count": 161,
   "id": "780c1746",
   "metadata": {},
   "outputs": [
    {
     "data": {
      "text/html": [
       "<div>\n",
       "<style scoped>\n",
       "    .dataframe tbody tr th:only-of-type {\n",
       "        vertical-align: middle;\n",
       "    }\n",
       "\n",
       "    .dataframe tbody tr th {\n",
       "        vertical-align: top;\n",
       "    }\n",
       "\n",
       "    .dataframe thead th {\n",
       "        text-align: right;\n",
       "    }\n",
       "</style>\n",
       "<table border=\"1\" class=\"dataframe\">\n",
       "  <thead>\n",
       "    <tr style=\"text-align: right;\">\n",
       "      <th></th>\n",
       "      <th>id</th>\n",
       "      <th>Nom de station</th>\n",
       "      <th>variable</th>\n",
       "    </tr>\n",
       "  </thead>\n",
       "  <tbody>\n",
       "    <tr>\n",
       "      <th>0</th>\n",
       "      <td>1</td>\n",
       "      <td>PARIS</td>\n",
       "      <td>var1</td>\n",
       "    </tr>\n",
       "    <tr>\n",
       "      <th>1</th>\n",
       "      <td>2</td>\n",
       "      <td>LEVALLOIS</td>\n",
       "      <td>var2</td>\n",
       "    </tr>\n",
       "    <tr>\n",
       "      <th>2</th>\n",
       "      <td>3</td>\n",
       "      <td>VERSAILLES</td>\n",
       "      <td>var6</td>\n",
       "    </tr>\n",
       "    <tr>\n",
       "      <th>3</th>\n",
       "      <td>4</td>\n",
       "      <td>MONTREUIL</td>\n",
       "      <td>var5</td>\n",
       "    </tr>\n",
       "  </tbody>\n",
       "</table>\n",
       "</div>"
      ],
      "text/plain": [
       "   id Nom de station variable\n",
       "0   1          PARIS     var1\n",
       "1   2      LEVALLOIS     var2\n",
       "2   3     VERSAILLES     var6\n",
       "3   4      MONTREUIL     var5"
      ]
     },
     "execution_count": 161,
     "metadata": {},
     "output_type": "execute_result"
    }
   ],
   "source": [
    "#définissons deux dataframe suivants\n",
    "left_dataframe = pd.DataFrame({\n",
    "   'id':[1,2,3,4],\n",
    "   'Nom de station': ['PARIS', 'LEVALLOIS', 'VERSAILLES','MONTREUIL'],\n",
    "   'variable':['var1','var2','var6','var5']})\n",
    "left_dataframe"
   ]
  },
  {
   "cell_type": "code",
   "execution_count": 14,
   "id": "70e359e5",
   "metadata": {},
   "outputs": [
    {
     "data": {
      "text/html": [
       "<div>\n",
       "<style scoped>\n",
       "    .dataframe tbody tr th:only-of-type {\n",
       "        vertical-align: middle;\n",
       "    }\n",
       "\n",
       "    .dataframe tbody tr th {\n",
       "        vertical-align: top;\n",
       "    }\n",
       "\n",
       "    .dataframe thead th {\n",
       "        text-align: right;\n",
       "    }\n",
       "</style>\n",
       "<table border=\"1\" class=\"dataframe\">\n",
       "  <thead>\n",
       "    <tr style=\"text-align: right;\">\n",
       "      <th></th>\n",
       "      <th>id</th>\n",
       "      <th>Nom de station</th>\n",
       "      <th>variable</th>\n",
       "    </tr>\n",
       "  </thead>\n",
       "  <tbody>\n",
       "    <tr>\n",
       "      <th>0</th>\n",
       "      <td>1</td>\n",
       "      <td>EVRY</td>\n",
       "      <td>var3</td>\n",
       "    </tr>\n",
       "    <tr>\n",
       "      <th>1</th>\n",
       "      <td>2</td>\n",
       "      <td>MELIN</td>\n",
       "      <td>var1</td>\n",
       "    </tr>\n",
       "    <tr>\n",
       "      <th>2</th>\n",
       "      <td>3</td>\n",
       "      <td>PONTOISE</td>\n",
       "      <td>var6</td>\n",
       "    </tr>\n",
       "    <tr>\n",
       "      <th>3</th>\n",
       "      <td>4</td>\n",
       "      <td>MEAUX</td>\n",
       "      <td>var5</td>\n",
       "    </tr>\n",
       "  </tbody>\n",
       "</table>\n",
       "</div>"
      ],
      "text/plain": [
       "   id Nom de station variable\n",
       "0   1           EVRY     var3\n",
       "1   2          MELIN     var1\n",
       "2   3       PONTOISE     var6\n",
       "3   4          MEAUX     var5"
      ]
     },
     "execution_count": 14,
     "metadata": {},
     "output_type": "execute_result"
    }
   ],
   "source": [
    "right_dataframe = pd.DataFrame(\n",
    "   {'id':[1,2,3,4],\n",
    "   'Nom de station': ['EVRY', 'MELIN', 'PONTOISE','MEAUX'],\n",
    "   'variable':['var3','var1','var6','var5']})\n",
    "right_dataframe"
   ]
  },
  {
   "cell_type": "code",
   "execution_count": 153,
   "id": "1a1f0d4d",
   "metadata": {},
   "outputs": [
    {
     "data": {
      "text/html": [
       "<div>\n",
       "<style scoped>\n",
       "    .dataframe tbody tr th:only-of-type {\n",
       "        vertical-align: middle;\n",
       "    }\n",
       "\n",
       "    .dataframe tbody tr th {\n",
       "        vertical-align: top;\n",
       "    }\n",
       "\n",
       "    .dataframe thead th {\n",
       "        text-align: right;\n",
       "    }\n",
       "</style>\n",
       "<table border=\"1\" class=\"dataframe\">\n",
       "  <thead>\n",
       "    <tr style=\"text-align: right;\">\n",
       "      <th></th>\n",
       "      <th>id</th>\n",
       "      <th>Nom de station_x</th>\n",
       "      <th>variable_x</th>\n",
       "      <th>Nom de station_y</th>\n",
       "      <th>variable_y</th>\n",
       "    </tr>\n",
       "  </thead>\n",
       "  <tbody>\n",
       "    <tr>\n",
       "      <th>0</th>\n",
       "      <td>1</td>\n",
       "      <td>PARIS</td>\n",
       "      <td>var1</td>\n",
       "      <td>EVRY</td>\n",
       "      <td>var3</td>\n",
       "    </tr>\n",
       "    <tr>\n",
       "      <th>1</th>\n",
       "      <td>2</td>\n",
       "      <td>LEVALLOIS</td>\n",
       "      <td>var2</td>\n",
       "      <td>MELIN</td>\n",
       "      <td>var1</td>\n",
       "    </tr>\n",
       "    <tr>\n",
       "      <th>2</th>\n",
       "      <td>3</td>\n",
       "      <td>VERSAILLES</td>\n",
       "      <td>var6</td>\n",
       "      <td>PONTOISE</td>\n",
       "      <td>var6</td>\n",
       "    </tr>\n",
       "    <tr>\n",
       "      <th>3</th>\n",
       "      <td>4</td>\n",
       "      <td>MONTREUIL</td>\n",
       "      <td>var5</td>\n",
       "      <td>MEAUX</td>\n",
       "      <td>var5</td>\n",
       "    </tr>\n",
       "  </tbody>\n",
       "</table>\n",
       "</div>"
      ],
      "text/plain": [
       "   id Nom de station_x variable_x Nom de station_y variable_y\n",
       "0   1            PARIS       var1             EVRY       var3\n",
       "1   2        LEVALLOIS       var2            MELIN       var1\n",
       "2   3       VERSAILLES       var6         PONTOISE       var6\n",
       "3   4        MONTREUIL       var5            MEAUX       var5"
      ]
     },
     "execution_count": 153,
     "metadata": {},
     "output_type": "execute_result"
    }
   ],
   "source": [
    "# si l'on souhaite assembler deux dataframe sur une clé, on utilisera la méthode merge\n",
    "data = pd.merge(left_dataframe,right_dataframe,on='id')\n",
    "data"
   ]
  },
  {
   "cell_type": "code",
   "execution_count": 155,
   "id": "0c3b1bcc",
   "metadata": {},
   "outputs": [
    {
     "data": {
      "text/html": [
       "<div>\n",
       "<style scoped>\n",
       "    .dataframe tbody tr th:only-of-type {\n",
       "        vertical-align: middle;\n",
       "    }\n",
       "\n",
       "    .dataframe tbody tr th {\n",
       "        vertical-align: top;\n",
       "    }\n",
       "\n",
       "    .dataframe thead th {\n",
       "        text-align: right;\n",
       "    }\n",
       "</style>\n",
       "<table border=\"1\" class=\"dataframe\">\n",
       "  <thead>\n",
       "    <tr style=\"text-align: right;\">\n",
       "      <th></th>\n",
       "      <th>id</th>\n",
       "      <th>Nom de station_x</th>\n",
       "      <th>variable</th>\n",
       "      <th>Nom de station_y</th>\n",
       "    </tr>\n",
       "  </thead>\n",
       "  <tbody>\n",
       "    <tr>\n",
       "      <th>0</th>\n",
       "      <td>3</td>\n",
       "      <td>VERSAILLES</td>\n",
       "      <td>var6</td>\n",
       "      <td>PONTOISE</td>\n",
       "    </tr>\n",
       "    <tr>\n",
       "      <th>1</th>\n",
       "      <td>4</td>\n",
       "      <td>MONTREUIL</td>\n",
       "      <td>var5</td>\n",
       "      <td>MEAUX</td>\n",
       "    </tr>\n",
       "  </tbody>\n",
       "</table>\n",
       "</div>"
      ],
      "text/plain": [
       "   id Nom de station_x variable Nom de station_y\n",
       "0   3       VERSAILLES     var6         PONTOISE\n",
       "1   4        MONTREUIL     var5            MEAUX"
      ]
     },
     "execution_count": 155,
     "metadata": {},
     "output_type": "execute_result"
    }
   ],
   "source": [
    "# si l'on souhaite assembler deux dataframe sur plusieurs clés\n",
    "data = pd.merge(left_dataframe,right_dataframe,on=['id', 'variable'])\n",
    "data"
   ]
  },
  {
   "cell_type": "code",
   "execution_count": 157,
   "id": "49390d0a",
   "metadata": {},
   "outputs": [
    {
     "data": {
      "text/html": [
       "<div>\n",
       "<style scoped>\n",
       "    .dataframe tbody tr th:only-of-type {\n",
       "        vertical-align: middle;\n",
       "    }\n",
       "\n",
       "    .dataframe tbody tr th {\n",
       "        vertical-align: top;\n",
       "    }\n",
       "\n",
       "    .dataframe thead th {\n",
       "        text-align: right;\n",
       "    }\n",
       "</style>\n",
       "<table border=\"1\" class=\"dataframe\">\n",
       "  <thead>\n",
       "    <tr style=\"text-align: right;\">\n",
       "      <th></th>\n",
       "      <th>id_x</th>\n",
       "      <th>Nom de station_x</th>\n",
       "      <th>variable</th>\n",
       "      <th>id_y</th>\n",
       "      <th>Nom de station_y</th>\n",
       "    </tr>\n",
       "  </thead>\n",
       "  <tbody>\n",
       "    <tr>\n",
       "      <th>0</th>\n",
       "      <td>1</td>\n",
       "      <td>PARIS</td>\n",
       "      <td>var1</td>\n",
       "      <td>2.0</td>\n",
       "      <td>MELIN</td>\n",
       "    </tr>\n",
       "    <tr>\n",
       "      <th>1</th>\n",
       "      <td>2</td>\n",
       "      <td>LEVALLOIS</td>\n",
       "      <td>var2</td>\n",
       "      <td>NaN</td>\n",
       "      <td>NaN</td>\n",
       "    </tr>\n",
       "    <tr>\n",
       "      <th>2</th>\n",
       "      <td>3</td>\n",
       "      <td>VERSAILLES</td>\n",
       "      <td>var6</td>\n",
       "      <td>3.0</td>\n",
       "      <td>PONTOISE</td>\n",
       "    </tr>\n",
       "    <tr>\n",
       "      <th>3</th>\n",
       "      <td>4</td>\n",
       "      <td>MONTREUIL</td>\n",
       "      <td>var5</td>\n",
       "      <td>4.0</td>\n",
       "      <td>MEAUX</td>\n",
       "    </tr>\n",
       "  </tbody>\n",
       "</table>\n",
       "</div>"
      ],
      "text/plain": [
       "   id_x Nom de station_x variable  id_y Nom de station_y\n",
       "0     1            PARIS     var1   2.0            MELIN\n",
       "1     2        LEVALLOIS     var2   NaN              NaN\n",
       "2     3       VERSAILLES     var6   3.0         PONTOISE\n",
       "3     4        MONTREUIL     var5   4.0            MEAUX"
      ]
     },
     "execution_count": 157,
     "metadata": {},
     "output_type": "execute_result"
    }
   ],
   "source": [
    "#pour réaliser des jointures par la gauche ou par la droite on utilisera le paramètre how\n",
    "#left join \n",
    "data=pd.merge(left_dataframe, right_dataframe, on='variable', how='left')\n",
    "data"
   ]
  },
  {
   "cell_type": "code",
   "execution_count": 156,
   "id": "80b553c4",
   "metadata": {},
   "outputs": [
    {
     "data": {
      "text/html": [
       "<div>\n",
       "<style scoped>\n",
       "    .dataframe tbody tr th:only-of-type {\n",
       "        vertical-align: middle;\n",
       "    }\n",
       "\n",
       "    .dataframe tbody tr th {\n",
       "        vertical-align: top;\n",
       "    }\n",
       "\n",
       "    .dataframe thead th {\n",
       "        text-align: right;\n",
       "    }\n",
       "</style>\n",
       "<table border=\"1\" class=\"dataframe\">\n",
       "  <thead>\n",
       "    <tr style=\"text-align: right;\">\n",
       "      <th></th>\n",
       "      <th>id_x</th>\n",
       "      <th>Nom de station_x</th>\n",
       "      <th>variable</th>\n",
       "      <th>id_y</th>\n",
       "      <th>Nom de station_y</th>\n",
       "    </tr>\n",
       "  </thead>\n",
       "  <tbody>\n",
       "    <tr>\n",
       "      <th>0</th>\n",
       "      <td>NaN</td>\n",
       "      <td>NaN</td>\n",
       "      <td>var3</td>\n",
       "      <td>1</td>\n",
       "      <td>EVRY</td>\n",
       "    </tr>\n",
       "    <tr>\n",
       "      <th>1</th>\n",
       "      <td>1.0</td>\n",
       "      <td>PARIS</td>\n",
       "      <td>var1</td>\n",
       "      <td>2</td>\n",
       "      <td>MELIN</td>\n",
       "    </tr>\n",
       "    <tr>\n",
       "      <th>2</th>\n",
       "      <td>3.0</td>\n",
       "      <td>VERSAILLES</td>\n",
       "      <td>var6</td>\n",
       "      <td>3</td>\n",
       "      <td>PONTOISE</td>\n",
       "    </tr>\n",
       "    <tr>\n",
       "      <th>3</th>\n",
       "      <td>4.0</td>\n",
       "      <td>MONTREUIL</td>\n",
       "      <td>var5</td>\n",
       "      <td>4</td>\n",
       "      <td>MEAUX</td>\n",
       "    </tr>\n",
       "  </tbody>\n",
       "</table>\n",
       "</div>"
      ],
      "text/plain": [
       "   id_x Nom de station_x variable  id_y Nom de station_y\n",
       "0   NaN              NaN     var3     1             EVRY\n",
       "1   1.0            PARIS     var1     2            MELIN\n",
       "2   3.0       VERSAILLES     var6     3         PONTOISE\n",
       "3   4.0        MONTREUIL     var5     4            MEAUX"
      ]
     },
     "execution_count": 156,
     "metadata": {},
     "output_type": "execute_result"
    }
   ],
   "source": [
    "#right join \n",
    "data=pd.merge(left_dataframe, right_dataframe, on='variable', how='right')\n",
    "data"
   ]
  },
  {
   "cell_type": "code",
   "execution_count": 158,
   "id": "1a3a4a48",
   "metadata": {},
   "outputs": [
    {
     "data": {
      "text/html": [
       "<div>\n",
       "<style scoped>\n",
       "    .dataframe tbody tr th:only-of-type {\n",
       "        vertical-align: middle;\n",
       "    }\n",
       "\n",
       "    .dataframe tbody tr th {\n",
       "        vertical-align: top;\n",
       "    }\n",
       "\n",
       "    .dataframe thead th {\n",
       "        text-align: right;\n",
       "    }\n",
       "</style>\n",
       "<table border=\"1\" class=\"dataframe\">\n",
       "  <thead>\n",
       "    <tr style=\"text-align: right;\">\n",
       "      <th></th>\n",
       "      <th>id_x</th>\n",
       "      <th>Nom de station_x</th>\n",
       "      <th>variable</th>\n",
       "      <th>id_y</th>\n",
       "      <th>Nom de station_y</th>\n",
       "    </tr>\n",
       "  </thead>\n",
       "  <tbody>\n",
       "    <tr>\n",
       "      <th>0</th>\n",
       "      <td>1</td>\n",
       "      <td>PARIS</td>\n",
       "      <td>var1</td>\n",
       "      <td>2</td>\n",
       "      <td>MELIN</td>\n",
       "    </tr>\n",
       "    <tr>\n",
       "      <th>1</th>\n",
       "      <td>3</td>\n",
       "      <td>VERSAILLES</td>\n",
       "      <td>var6</td>\n",
       "      <td>3</td>\n",
       "      <td>PONTOISE</td>\n",
       "    </tr>\n",
       "    <tr>\n",
       "      <th>2</th>\n",
       "      <td>4</td>\n",
       "      <td>MONTREUIL</td>\n",
       "      <td>var5</td>\n",
       "      <td>4</td>\n",
       "      <td>MEAUX</td>\n",
       "    </tr>\n",
       "  </tbody>\n",
       "</table>\n",
       "</div>"
      ],
      "text/plain": [
       "   id_x Nom de station_x variable  id_y Nom de station_y\n",
       "0     1            PARIS     var1     2            MELIN\n",
       "1     3       VERSAILLES     var6     3         PONTOISE\n",
       "2     4        MONTREUIL     var5     4            MEAUX"
      ]
     },
     "execution_count": 158,
     "metadata": {},
     "output_type": "execute_result"
    }
   ],
   "source": [
    "#inner join \n",
    "data=pd.merge(left_dataframe, right_dataframe, on='variable', how='inner')\n",
    "data"
   ]
  },
  {
   "cell_type": "code",
   "execution_count": 159,
   "id": "9e2748cc",
   "metadata": {},
   "outputs": [
    {
     "data": {
      "text/html": [
       "<div>\n",
       "<style scoped>\n",
       "    .dataframe tbody tr th:only-of-type {\n",
       "        vertical-align: middle;\n",
       "    }\n",
       "\n",
       "    .dataframe tbody tr th {\n",
       "        vertical-align: top;\n",
       "    }\n",
       "\n",
       "    .dataframe thead th {\n",
       "        text-align: right;\n",
       "    }\n",
       "</style>\n",
       "<table border=\"1\" class=\"dataframe\">\n",
       "  <thead>\n",
       "    <tr style=\"text-align: right;\">\n",
       "      <th></th>\n",
       "      <th>id_x</th>\n",
       "      <th>Nom de station_x</th>\n",
       "      <th>variable</th>\n",
       "      <th>id_y</th>\n",
       "      <th>Nom de station_y</th>\n",
       "    </tr>\n",
       "  </thead>\n",
       "  <tbody>\n",
       "    <tr>\n",
       "      <th>0</th>\n",
       "      <td>1.0</td>\n",
       "      <td>PARIS</td>\n",
       "      <td>var1</td>\n",
       "      <td>2.0</td>\n",
       "      <td>MELIN</td>\n",
       "    </tr>\n",
       "    <tr>\n",
       "      <th>1</th>\n",
       "      <td>2.0</td>\n",
       "      <td>LEVALLOIS</td>\n",
       "      <td>var2</td>\n",
       "      <td>NaN</td>\n",
       "      <td>NaN</td>\n",
       "    </tr>\n",
       "    <tr>\n",
       "      <th>2</th>\n",
       "      <td>3.0</td>\n",
       "      <td>VERSAILLES</td>\n",
       "      <td>var6</td>\n",
       "      <td>3.0</td>\n",
       "      <td>PONTOISE</td>\n",
       "    </tr>\n",
       "    <tr>\n",
       "      <th>3</th>\n",
       "      <td>4.0</td>\n",
       "      <td>MONTREUIL</td>\n",
       "      <td>var5</td>\n",
       "      <td>4.0</td>\n",
       "      <td>MEAUX</td>\n",
       "    </tr>\n",
       "    <tr>\n",
       "      <th>4</th>\n",
       "      <td>NaN</td>\n",
       "      <td>NaN</td>\n",
       "      <td>var3</td>\n",
       "      <td>1.0</td>\n",
       "      <td>EVRY</td>\n",
       "    </tr>\n",
       "  </tbody>\n",
       "</table>\n",
       "</div>"
      ],
      "text/plain": [
       "   id_x Nom de station_x variable  id_y Nom de station_y\n",
       "0   1.0            PARIS     var1   2.0            MELIN\n",
       "1   2.0        LEVALLOIS     var2   NaN              NaN\n",
       "2   3.0       VERSAILLES     var6   3.0         PONTOISE\n",
       "3   4.0        MONTREUIL     var5   4.0            MEAUX\n",
       "4   NaN              NaN     var3   1.0             EVRY"
      ]
     },
     "execution_count": 159,
     "metadata": {},
     "output_type": "execute_result"
    }
   ],
   "source": [
    "#outer join \n",
    "data=pd.merge(left_dataframe, right_dataframe, on='variable', how='outer')\n",
    "data"
   ]
  },
  {
   "cell_type": "markdown",
   "id": "6ecc567d",
   "metadata": {},
   "source": [
    "**concaténation**"
   ]
  },
  {
   "cell_type": "code",
   "execution_count": 15,
   "id": "2fd79d22",
   "metadata": {},
   "outputs": [
    {
     "data": {
      "text/html": [
       "<div>\n",
       "<style scoped>\n",
       "    .dataframe tbody tr th:only-of-type {\n",
       "        vertical-align: middle;\n",
       "    }\n",
       "\n",
       "    .dataframe tbody tr th {\n",
       "        vertical-align: top;\n",
       "    }\n",
       "\n",
       "    .dataframe thead th {\n",
       "        text-align: right;\n",
       "    }\n",
       "</style>\n",
       "<table border=\"1\" class=\"dataframe\">\n",
       "  <thead>\n",
       "    <tr style=\"text-align: right;\">\n",
       "      <th></th>\n",
       "      <th>id</th>\n",
       "      <th>Nom de station</th>\n",
       "      <th>variable</th>\n",
       "    </tr>\n",
       "  </thead>\n",
       "  <tbody>\n",
       "    <tr>\n",
       "      <th>0</th>\n",
       "      <td>1</td>\n",
       "      <td>PARIS</td>\n",
       "      <td>var1</td>\n",
       "    </tr>\n",
       "    <tr>\n",
       "      <th>1</th>\n",
       "      <td>2</td>\n",
       "      <td>LEVALLOIS</td>\n",
       "      <td>var2</td>\n",
       "    </tr>\n",
       "    <tr>\n",
       "      <th>2</th>\n",
       "      <td>3</td>\n",
       "      <td>VERSAILLES</td>\n",
       "      <td>var6</td>\n",
       "    </tr>\n",
       "    <tr>\n",
       "      <th>3</th>\n",
       "      <td>4</td>\n",
       "      <td>MONTREUIL</td>\n",
       "      <td>var5</td>\n",
       "    </tr>\n",
       "    <tr>\n",
       "      <th>0</th>\n",
       "      <td>1</td>\n",
       "      <td>EVRY</td>\n",
       "      <td>var3</td>\n",
       "    </tr>\n",
       "    <tr>\n",
       "      <th>1</th>\n",
       "      <td>2</td>\n",
       "      <td>MELIN</td>\n",
       "      <td>var1</td>\n",
       "    </tr>\n",
       "    <tr>\n",
       "      <th>2</th>\n",
       "      <td>3</td>\n",
       "      <td>PONTOISE</td>\n",
       "      <td>var6</td>\n",
       "    </tr>\n",
       "    <tr>\n",
       "      <th>3</th>\n",
       "      <td>4</td>\n",
       "      <td>MEAUX</td>\n",
       "      <td>var5</td>\n",
       "    </tr>\n",
       "  </tbody>\n",
       "</table>\n",
       "</div>"
      ],
      "text/plain": [
       "   id Nom de station variable\n",
       "0   1          PARIS     var1\n",
       "1   2      LEVALLOIS     var2\n",
       "2   3     VERSAILLES     var6\n",
       "3   4      MONTREUIL     var5\n",
       "0   1           EVRY     var3\n",
       "1   2          MELIN     var1\n",
       "2   3       PONTOISE     var6\n",
       "3   4          MEAUX     var5"
      ]
     },
     "execution_count": 15,
     "metadata": {},
     "output_type": "execute_result"
    }
   ],
   "source": [
    "#on utilisera la méthode concat\n",
    "data=pd.concat([left_dataframe,right_dataframe])\n",
    "data"
   ]
  },
  {
   "cell_type": "code",
   "execution_count": 16,
   "id": "b7492f06",
   "metadata": {},
   "outputs": [
    {
     "data": {
      "text/html": [
       "<div>\n",
       "<style scoped>\n",
       "    .dataframe tbody tr th:only-of-type {\n",
       "        vertical-align: middle;\n",
       "    }\n",
       "\n",
       "    .dataframe tbody tr th {\n",
       "        vertical-align: top;\n",
       "    }\n",
       "\n",
       "    .dataframe thead th {\n",
       "        text-align: right;\n",
       "    }\n",
       "</style>\n",
       "<table border=\"1\" class=\"dataframe\">\n",
       "  <thead>\n",
       "    <tr style=\"text-align: right;\">\n",
       "      <th></th>\n",
       "      <th></th>\n",
       "      <th>id</th>\n",
       "      <th>Nom de station</th>\n",
       "      <th>variable</th>\n",
       "    </tr>\n",
       "  </thead>\n",
       "  <tbody>\n",
       "    <tr>\n",
       "      <th rowspan=\"4\" valign=\"top\">LEFT</th>\n",
       "      <th>0</th>\n",
       "      <td>1</td>\n",
       "      <td>PARIS</td>\n",
       "      <td>var1</td>\n",
       "    </tr>\n",
       "    <tr>\n",
       "      <th>1</th>\n",
       "      <td>2</td>\n",
       "      <td>LEVALLOIS</td>\n",
       "      <td>var2</td>\n",
       "    </tr>\n",
       "    <tr>\n",
       "      <th>2</th>\n",
       "      <td>3</td>\n",
       "      <td>VERSAILLES</td>\n",
       "      <td>var6</td>\n",
       "    </tr>\n",
       "    <tr>\n",
       "      <th>3</th>\n",
       "      <td>4</td>\n",
       "      <td>MONTREUIL</td>\n",
       "      <td>var5</td>\n",
       "    </tr>\n",
       "    <tr>\n",
       "      <th rowspan=\"4\" valign=\"top\">RIGHT</th>\n",
       "      <th>0</th>\n",
       "      <td>1</td>\n",
       "      <td>EVRY</td>\n",
       "      <td>var3</td>\n",
       "    </tr>\n",
       "    <tr>\n",
       "      <th>1</th>\n",
       "      <td>2</td>\n",
       "      <td>MELIN</td>\n",
       "      <td>var1</td>\n",
       "    </tr>\n",
       "    <tr>\n",
       "      <th>2</th>\n",
       "      <td>3</td>\n",
       "      <td>PONTOISE</td>\n",
       "      <td>var6</td>\n",
       "    </tr>\n",
       "    <tr>\n",
       "      <th>3</th>\n",
       "      <td>4</td>\n",
       "      <td>MEAUX</td>\n",
       "      <td>var5</td>\n",
       "    </tr>\n",
       "  </tbody>\n",
       "</table>\n",
       "</div>"
      ],
      "text/plain": [
       "         id Nom de station variable\n",
       "LEFT  0   1          PARIS     var1\n",
       "      1   2      LEVALLOIS     var2\n",
       "      2   3     VERSAILLES     var6\n",
       "      3   4      MONTREUIL     var5\n",
       "RIGHT 0   1           EVRY     var3\n",
       "      1   2          MELIN     var1\n",
       "      2   3       PONTOISE     var6\n",
       "      3   4          MEAUX     var5"
      ]
     },
     "execution_count": 16,
     "metadata": {},
     "output_type": "execute_result"
    }
   ],
   "source": [
    "#si l'on veut conserver un index propre à chaque dataframe\n",
    "data=pd.concat([left_dataframe,right_dataframe], keys=['LEFT','RIGHT'])\n",
    "data\n"
   ]
  },
  {
   "cell_type": "code",
   "execution_count": 167,
   "id": "c44b8e47",
   "metadata": {},
   "outputs": [
    {
     "data": {
      "text/html": [
       "<div>\n",
       "<style scoped>\n",
       "    .dataframe tbody tr th:only-of-type {\n",
       "        vertical-align: middle;\n",
       "    }\n",
       "\n",
       "    .dataframe tbody tr th {\n",
       "        vertical-align: top;\n",
       "    }\n",
       "\n",
       "    .dataframe thead tr th {\n",
       "        text-align: left;\n",
       "    }\n",
       "</style>\n",
       "<table border=\"1\" class=\"dataframe\">\n",
       "  <thead>\n",
       "    <tr>\n",
       "      <th></th>\n",
       "      <th colspan=\"3\" halign=\"left\">LEFT</th>\n",
       "      <th colspan=\"3\" halign=\"left\">RIGHT</th>\n",
       "    </tr>\n",
       "    <tr>\n",
       "      <th></th>\n",
       "      <th>id</th>\n",
       "      <th>Nom de station</th>\n",
       "      <th>variable</th>\n",
       "      <th>id</th>\n",
       "      <th>Nom de station</th>\n",
       "      <th>variable</th>\n",
       "    </tr>\n",
       "  </thead>\n",
       "  <tbody>\n",
       "    <tr>\n",
       "      <th>0</th>\n",
       "      <td>1</td>\n",
       "      <td>PARIS</td>\n",
       "      <td>var1</td>\n",
       "      <td>1</td>\n",
       "      <td>EVRY</td>\n",
       "      <td>var3</td>\n",
       "    </tr>\n",
       "    <tr>\n",
       "      <th>1</th>\n",
       "      <td>2</td>\n",
       "      <td>LEVALLOIS</td>\n",
       "      <td>var2</td>\n",
       "      <td>2</td>\n",
       "      <td>MELIN</td>\n",
       "      <td>var1</td>\n",
       "    </tr>\n",
       "    <tr>\n",
       "      <th>2</th>\n",
       "      <td>3</td>\n",
       "      <td>VERSAILLES</td>\n",
       "      <td>var6</td>\n",
       "      <td>3</td>\n",
       "      <td>PONTOISE</td>\n",
       "      <td>var6</td>\n",
       "    </tr>\n",
       "    <tr>\n",
       "      <th>3</th>\n",
       "      <td>4</td>\n",
       "      <td>MONTREUIL</td>\n",
       "      <td>var5</td>\n",
       "      <td>4</td>\n",
       "      <td>MEAUX</td>\n",
       "      <td>var5</td>\n",
       "    </tr>\n",
       "  </tbody>\n",
       "</table>\n",
       "</div>"
      ],
      "text/plain": [
       "  LEFT                         RIGHT                        \n",
       "    id Nom de station variable    id Nom de station variable\n",
       "0    1          PARIS     var1     1           EVRY     var3\n",
       "1    2      LEVALLOIS     var2     2          MELIN     var1\n",
       "2    3     VERSAILLES     var6     3       PONTOISE     var6\n",
       "3    4      MONTREUIL     var5     4          MEAUX     var5"
      ]
     },
     "execution_count": 167,
     "metadata": {},
     "output_type": "execute_result"
    }
   ],
   "source": [
    "#si on prefère les concaténer par colonne plutôt que par ligne on jouera sur le paramètre axis\n",
    "data=pd.concat([left_dataframe,right_dataframe], keys=['LEFT','RIGHT'], axis = 1)\n",
    "data"
   ]
  },
  {
   "cell_type": "markdown",
   "id": "d88c5b84",
   "metadata": {},
   "source": [
    "> ## sauvegarder un dataframe <a class=\"anchor\" id=\"sauvegarde\"></a>"
   ]
  },
  {
   "cell_type": "markdown",
   "id": "7c0e3084",
   "metadata": {},
   "source": [
    "Pour finir et sauvegarder notre dataframe on utilise les fonctions to_csv ou to_table avec les options similaires que read_csv()  \n",
    "``` \n",
    "    mon_dataframe.to_csv(\"./chemin\", index = , header = , sep= ) \n",
    "````"
   ]
  },
  {
   "cell_type": "markdown",
   "id": "eb2f07f3-032f-445b-a702-f5aac5a2d566",
   "metadata": {},
   "source": [
    "# Import export de données <a class=\"anchor\" id=\"import_export\"></a>"
   ]
  },
  {
   "cell_type": "markdown",
   "id": "d13f8dda-2e4f-419d-a521-95da0de041eb",
   "metadata": {},
   "source": [
    "Lorsque l'on souhaite manipuler des données par traitement informatique, les données sont généralement structurées selon des spécificités particulières pour faciliter le traitement et l'analyse. C'est ce qu'on appelle le formatage des données. Ce processus permet de garantir la cohérence et la qualité des données.\r\n",
    "Il existe différents types de formats : le format csv, txt, json XML ect...\r\n",
    "Nous allons voir ceux que vous rencontrerez le plus fréquement :"
   ]
  },
  {
   "cell_type": "markdown",
   "id": "a2be5076-f17f-43d5-9e50-f12b197a4bc0",
   "metadata": {},
   "source": [
    "> ## Importation et exportation des fichiers CSV <a class=\"anchor\" id=\"CSV\"></a>"
   ]
  },
  {
   "cell_type": "markdown",
   "id": "f4490958-c152-430d-a1e0-4abd12623de2",
   "metadata": {},
   "source": [
    "Le format CSV ou Comma separated value est un format texte simple qui utilise des virgules pour séparer les valeurs. Il a une structure tabulaire (lignes et colonnes). Il permet le partage de données entre applications (par exemple, entre Excel et des bases de données), l'exportation de données pour des analyses simples et a l'avantage de pouvoir importer de grandes quantités de données dans des systèmes."
   ]
  },
  {
   "cell_type": "markdown",
   "id": "9f5c59be-3859-4a72-8eec-81d908e093bb",
   "metadata": {},
   "source": [
    "Nous nous appuierons sur les fichiers de données de santé disponible sous différents formats à l'adresse suivante :\r\n",
    "https://www.data.gouv.fr/fr/datasets/pathologies-effectif-de-patients-par-pathologie-sexe-classe-dage-et-territoire-departement-region/#/resources"
   ]
  },
  {
   "cell_type": "code",
   "execution_count": null,
   "id": "85962e6d-a6b5-428c-9d11-4d7f50097795",
   "metadata": {},
   "outputs": [],
   "source": [
    "# importer votre fichier données santé au format csv :\n",
    "csv_file = # mettez l'adresse où se trouve votre fichier \n",
    "df_csv = pd.read_csv(csv_file)"
   ]
  },
  {
   "cell_type": "code",
   "execution_count": null,
   "id": "0416141e-00ba-4b0d-beca-6d2274b27696",
   "metadata": {},
   "outputs": [],
   "source": [
    "#affichez les 5 premières lignes : \n",
    "print(df_csv.head())"
   ]
  },
  {
   "cell_type": "code",
   "execution_count": null,
   "id": "7addac62-408c-438a-b6d2-cc69998285f0",
   "metadata": {},
   "outputs": [],
   "source": [
    "# Exporter un DataFrame en CSV\n",
    "df_csv.to_csv(\"mesdonnees_csv_exportees.csv\", index=False)"
   ]
  },
  {
   "cell_type": "markdown",
   "id": "6bd5aa8a-5087-4592-86f0-536fd479f254",
   "metadata": {},
   "source": [
    "> ## Importation et exportation des fichiers JSON <a class=\"anchor\" id=\"JSON\"></a>"
   ]
  },
  {
   "cell_type": "markdown",
   "id": "f563c51d-be59-4bac-b1d8-147af8e1c2f4",
   "metadata": {},
   "source": [
    "JSON (JavaScript Object Notation) est un format d'échange de données léger, souvent utilisé pour les API et les services web. Il permet de stocker des structures de données plus complexes (tableaux imbriqués, objets). Cependant, il peut être plus lourd qu'un CSV,et plus complexe à traiter qu'un CSV pour certaines opérations simples"
   ]
  },
  {
   "cell_type": "code",
   "execution_count": null,
   "id": "267080ef-946c-4935-a55b-8fb142a29ec7",
   "metadata": {},
   "outputs": [],
   "source": [
    "#import de la librairie json\n",
    "import json"
   ]
  },
  {
   "cell_type": "code",
   "execution_count": null,
   "id": "ca6a6dc0-85e1-4568-977c-a6df0d8d4754",
   "metadata": {},
   "outputs": [],
   "source": [
    "# importer votre fichier données santé au format json  :\n",
    "json_file = # mettez l'adresse où se trouve votre fichier \n",
    "df_json = pd.read_json(json_file)"
   ]
  },
  {
   "cell_type": "code",
   "execution_count": null,
   "id": "8cca3b5e-973b-4ea8-a7e8-04c515250e6d",
   "metadata": {},
   "outputs": [],
   "source": [
    "#affichez les 5 premières lignes : \n",
    "print(df_json.head())"
   ]
  },
  {
   "cell_type": "code",
   "execution_count": null,
   "id": "f29ff0cf-edec-4825-a914-5e08d0cbfe5c",
   "metadata": {},
   "outputs": [],
   "source": [
    "# Exporter le DataFrame en json\n",
    "df_json.to_json(\"mesdonnees_json_exportees.json\", orient=\"records\") # A quoi sert le paramètre orient ? "
   ]
  },
  {
   "cell_type": "markdown",
   "id": "d10ce321-cf02-450c-b7e2-dcc394cbb319",
   "metadata": {},
   "source": [
    "> ## Importation et exportation à partir d'une URL <a class=\"anchor\" id=\"URL\"></a>"
   ]
  },
  {
   "cell_type": "markdown",
   "id": "1d540e98-054c-4787-be16-e53fe182894c",
   "metadata": {},
   "source": [
    "Il est fréquent que les données soient disponibles en ligne via des fichiers distants ou des APIs. L'importation depuis une URL permet d'obtenir des données à jour sans avoir à les stocker localement. Cela permet d'avoir des données mises à jour en temps réel et ainsi d'automatiser les récupérations de données.  \n",
    "La librairie urllib est une bibliothèque standard de Python pour travailler avec les URLs. Elle permet de télécharger des données directement depuis une URL et offre un contrôle plus fin sur le processus de récupération des données."
   ]
  },
  {
   "cell_type": "code",
   "execution_count": null,
   "id": "fff71fd7-2d06-45f5-82b7-e665153224cf",
   "metadata": {},
   "outputs": [],
   "source": [
    "#import des librairies\n",
    "import urllib\n",
    "from urllib.request import urlopen"
   ]
  },
  {
   "cell_type": "code",
   "execution_count": null,
   "id": "0895efb0-6f72-4f67-ae29-26faeb31f8b4",
   "metadata": {},
   "outputs": [],
   "source": [
    "url = \"https://raw.githubusercontent.com/vega/vega-datasets/master/data/movies.json\"\n",
    "response = urllib.request.urlopen(url)\n",
    "data = json.loads(response.read())"
   ]
  },
  {
   "cell_type": "code",
   "execution_count": null,
   "id": "47ddd444-ac81-4880-b905-e041ac820a35",
   "metadata": {},
   "outputs": [],
   "source": [
    "#import des données et affichage des premières lignes :\n",
    "df_movies = pd.json_normalize(data)\n"
   ]
  },
  {
   "cell_type": "markdown",
   "id": "0a36a6ca-880b-49ef-bd79-0274adda4d9c",
   "metadata": {},
   "source": [
    "> ## Importation et exportation à partir d'une base de données SQL<a class=\"anchor\" id=\"SQL\"></a>"
   ]
  },
  {
   "cell_type": "markdown",
   "id": "ab5632c0-fd47-4cb5-b583-e12089fdff8b",
   "metadata": {},
   "source": [
    "La librairie `sqlite3` permet de manipuler une base de données SQLite directement, offrant plus de contrôle sur les opérations SQL.Elle permet  le contrôle total sur les requêtes SQL et il n'est pas necessaire d'utiliser la librairies pandas. Nous en reparlerons lorsque nous apprendrons le language SQL.  \n",
    "Pour en savoir plus sur le fonctionnement de Sqlite3 : https://docs.python.org/fr/3.5/library/sqlite3.html"
   ]
  },
  {
   "cell_type": "code",
   "execution_count": null,
   "id": "5a4fd3e7-f5e5-48bd-b796-34f297086159",
   "metadata": {},
   "outputs": [],
   "source": []
  },
  {
   "cell_type": "code",
   "execution_count": null,
   "id": "bee1d9d5-c12d-4340-86e4-d6fdee19c66f",
   "metadata": {},
   "outputs": [],
   "source": []
  }
 ],
 "metadata": {
  "kernelspec": {
   "display_name": "Python 3 (ipykernel)",
   "language": "python",
   "name": "python3"
  },
  "language_info": {
   "codemirror_mode": {
    "name": "ipython",
    "version": 3
   },
   "file_extension": ".py",
   "mimetype": "text/x-python",
   "name": "python",
   "nbconvert_exporter": "python",
   "pygments_lexer": "ipython3",
   "version": "3.12.4"
  }
 },
 "nbformat": 4,
 "nbformat_minor": 5
}
